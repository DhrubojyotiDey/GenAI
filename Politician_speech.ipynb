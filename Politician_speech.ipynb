{
  "nbformat": 4,
  "nbformat_minor": 0,
  "metadata": {
    "colab": {
      "provenance": [],
      "authorship_tag": "ABX9TyMhJnoDyscNOfhXf0E8Xrra",
      "include_colab_link": true
    },
    "kernelspec": {
      "name": "python3",
      "display_name": "Python 3"
    },
    "language_info": {
      "name": "python"
    }
  },
  "cells": [
    {
      "cell_type": "markdown",
      "metadata": {
        "id": "view-in-github",
        "colab_type": "text"
      },
      "source": [
        "<a href=\"https://colab.research.google.com/github/DhrubojyotiDey/GenAI/blob/main/Politician_speech.ipynb\" target=\"_parent\"><img src=\"https://colab.research.google.com/assets/colab-badge.svg\" alt=\"Open In Colab\"/></a>"
      ]
    },
    {
      "cell_type": "code",
      "source": [
        "from googlesearch import search\n",
        "\n",
        "# Define search query and parameters\n",
        "query = \"recent crimes in West Bengal\"\n",
        "num_results = 10  # Number of results you want to retrieve\n",
        "lst_of_urls=[]\n",
        "\n",
        "# Perform the Google search\n",
        "for result in search(query, 20):\n",
        "    print(result)\n",
        "    lst_of_urls.append(result)\n",
        "print(lst_of_urls)"
      ],
      "metadata": {
        "colab": {
          "base_uri": "https://localhost:8080/"
        },
        "id": "qbbxp8TJHyyZ",
        "outputId": "6f75045a-ec56-4ade-ca52-2818d959e816"
      },
      "execution_count": null,
      "outputs": [
        {
          "output_type": "stream",
          "name": "stdout",
          "text": [
            "https://www.newindianexpress.com/topic/west-bengal-crime\n",
            "https://www.ndtv.com/topic/west-bengal-crime\n",
            "https://www.ndtv.com/topic/west-bengal-murder\n",
            "https://www.thehindu.com/news/national/west-bengal/girls-body-found-in-bengals-south-24-parganas-locals-torch-police-outpost-vandalise-vehicles/article68720951.ece\n",
            "https://www.reuters.com/world/india/indian-doctors-call-off-protest-hunger-strike-over-medics-murder-2024-10-22/\n",
            "https://indianexpress.com/article/cities/kolkata/9-year-old-rape-murder-bengal-villagers-fire-police-outpost-9604913/\n",
            "https://news.abplive.com/topic/west-bengal-crime\n",
            "https://www.thehindu.com/news/national/west-bengal/kolkata-court-gives-death-penalty-to-man-for-rape-and-murder-of-minor-under-the-pocso-act/article68686993.ece\n",
            "https://en.wikipedia.org/wiki/Category:Crime_in_West_Bengal\n",
            "https://www.hindustantimes.com/topic/west-bengal-police\n",
            "https://www.aljazeera.com/news/2024/9/15/kolkata-rape-case-ex-head-of-india-college-held-over-evidence-tampering\n",
            "https://abcnews.go.com/International/west-bengal-assembly-india-passes-bill-mandating-life/story?id=113344652\n",
            "https://timesofindia.indiatimes.com/city/kolkata/kolkata-doctor-rape-murder-case-news-live-rg-kar-hospital-sanjay-roy-sandip-ghosh-tmc-supreme-court-doctor-protests-west-bengal-mamata-banerje-cbi-investigation/liveblog/112773791.cms\n",
            "https://www.amnesty.org/en/latest/news/2024/09/india-death-penalty-never-the-solution-to-crime-and-violence-against-women/\n",
            "https://www.indiatoday.in/india/story/kolkata-doctor-rape-murder-sandeshkhali-west-bengal-mamata-banerjee-2590893-2024-08-30\n",
            "https://www.cbsnews.com/news/india-rape-case-doctor-kolkata-protests-clashes-with-police/\n",
            "https://www.scmp.com/news/asia/south-asia/article/3277073/indian-state-passes-law-seeking-death-penalty-rape-after-doctors-murder-sparks-protests\n",
            "https://www.hindustantimes.com/india-news/kolkata-rape-murder-case-live-updates-resident-doctors-to-continue-symbolic-protests-demanding-justice-101725152614663.html\n",
            "https://www.bbc.com/news/articles/cvge9r0vwvdo\n",
            "https://www.livemint.com/news/india/kolkata-doctor-rape-murder-case-cbi-probe-so-far-reveals-no-gangrape-crime-scene-altered-11724322673815.html\n",
            "['https://www.newindianexpress.com/topic/west-bengal-crime', 'https://www.ndtv.com/topic/west-bengal-crime', 'https://www.ndtv.com/topic/west-bengal-murder', 'https://www.thehindu.com/news/national/west-bengal/girls-body-found-in-bengals-south-24-parganas-locals-torch-police-outpost-vandalise-vehicles/article68720951.ece', 'https://www.reuters.com/world/india/indian-doctors-call-off-protest-hunger-strike-over-medics-murder-2024-10-22/', 'https://indianexpress.com/article/cities/kolkata/9-year-old-rape-murder-bengal-villagers-fire-police-outpost-9604913/', 'https://news.abplive.com/topic/west-bengal-crime', 'https://www.thehindu.com/news/national/west-bengal/kolkata-court-gives-death-penalty-to-man-for-rape-and-murder-of-minor-under-the-pocso-act/article68686993.ece', 'https://en.wikipedia.org/wiki/Category:Crime_in_West_Bengal', 'https://www.hindustantimes.com/topic/west-bengal-police', 'https://www.aljazeera.com/news/2024/9/15/kolkata-rape-case-ex-head-of-india-college-held-over-evidence-tampering', 'https://abcnews.go.com/International/west-bengal-assembly-india-passes-bill-mandating-life/story?id=113344652', 'https://timesofindia.indiatimes.com/city/kolkata/kolkata-doctor-rape-murder-case-news-live-rg-kar-hospital-sanjay-roy-sandip-ghosh-tmc-supreme-court-doctor-protests-west-bengal-mamata-banerje-cbi-investigation/liveblog/112773791.cms', 'https://www.amnesty.org/en/latest/news/2024/09/india-death-penalty-never-the-solution-to-crime-and-violence-against-women/', 'https://www.indiatoday.in/india/story/kolkata-doctor-rape-murder-sandeshkhali-west-bengal-mamata-banerjee-2590893-2024-08-30', 'https://www.cbsnews.com/news/india-rape-case-doctor-kolkata-protests-clashes-with-police/', 'https://www.scmp.com/news/asia/south-asia/article/3277073/indian-state-passes-law-seeking-death-penalty-rape-after-doctors-murder-sparks-protests', 'https://www.hindustantimes.com/india-news/kolkata-rape-murder-case-live-updates-resident-doctors-to-continue-symbolic-protests-demanding-justice-101725152614663.html', 'https://www.bbc.com/news/articles/cvge9r0vwvdo', 'https://www.livemint.com/news/india/kolkata-doctor-rape-murder-case-cbi-probe-so-far-reveals-no-gangrape-crime-scene-altered-11724322673815.html']\n"
          ]
        }
      ]
    },
    {
      "cell_type": "code",
      "source": [
        "!pip install googlesearch-python # Install the googlesearch-python package\n",
        "!pip install requests-html -q\n",
        "!pip install playwright -q\n",
        "!playwright install chromium\n",
        "!pip install crawl4ai -q\n",
        "!pip install nest-asyncio -q\n",
        "!pip install playwright\n",
        "!playwright install\n",
        "!pip install lxml_html_clean\n",
        "!pip install langchain -q\n",
        "!pip install -U langchain-community -q # Install the required package\n",
        "!pip install langchain-google-genai -q\n",
        "!pip install google-labs-html-chunker\n",
        "!pip install faiss-cpu -q\n",
        "\n"
      ],
      "metadata": {
        "id": "l6WFFChxiG5O"
      },
      "execution_count": null,
      "outputs": []
    },
    {
      "cell_type": "code",
      "source": [
        "from googlesearch import search\n",
        "import requests\n",
        "from bs4 import BeautifulSoup\n",
        "import requests\n",
        "import bs4\n",
        "import numpy as np\n",
        "import torch\n",
        "from transformers import AutoTokenizer, AutoModel\n",
        "import asyncio\n",
        "import nest_asyncio\n",
        "from crawl4ai import AsyncWebCrawler\n",
        "from crawl4ai.extraction_strategy import JsonCssExtractionStrategy, LLMExtractionStrategy\n",
        "import json\n",
        "import time\n",
        "from pydantic import BaseModel, Field\n",
        "from google.colab import userdata\n",
        "import os\n",
        "from litellm import completion\n",
        "import google.generativeai as genai\n",
        "from google.generativeai.types import HarmCategory, HarmBlockThreshold\n",
        "from requests_html import AsyncHTMLSession\n",
        "import json\n",
        "from crawl4ai import AsyncWebCrawler\n",
        "from crawl4ai.extraction_strategy import LLMExtractionStrategy\n",
        "from litellm import completion\n",
        "import re\n",
        "from langchain.vectorstores import FAISS # Import the FAISS class\n",
        "from langchain_google_genai import GoogleGenerativeAIEmbeddings\n",
        "from google_labs_html_chunker.html_chunker import HtmlChunker\n",
        "from urllib.request import urlopen\n",
        "from langchain.text_splitter import RecursiveCharacterTextSplitter\n",
        "from langchain_google_genai import GoogleGenerativeAIEmbeddings\n",
        "from langchain_google_genai import ChatGoogleGenerativeAI\n",
        "from langchain.prompts import PromptTemplate\n",
        "from langchain.chains.question_answering import load_qa_chain\n",
        "import shutil\n",
        "import itertools\n",
        "\n",
        "\n",
        "nest_asyncio.apply()"
      ],
      "metadata": {
        "id": "Sil5XMO1Gu9V",
        "colab": {
          "base_uri": "https://localhost:8080/"
        },
        "outputId": "4e5bcdfe-7448-4e8e-a940-7636dd6216c9"
      },
      "execution_count": null,
      "outputs": [
        {
          "output_type": "stream",
          "name": "stdout",
          "text": [
            "Warning: Synchronous WebCrawler is not available. Install crawl4ai[sync] for synchronous support. However, please note that the synchronous version will be deprecated soon.\n"
          ]
        }
      ]
    },
    {
      "cell_type": "code",
      "source": [
        "news_topic = \"rg kar rape case\"\n",
        "prompt=f'''write me a prompt to search google about: {news_topic}. The prompt should find strictly news reports blogs and articles, criminal proceedings and court cases if exists. only give the result delimited by ``` and do not add anyhing from your side.'''"
      ],
      "metadata": {
        "id": "jG_O6xfHio4_"
      },
      "execution_count": null,
      "outputs": []
    },
    {
      "cell_type": "code",
      "source": [
        "model = genai.GenerativeModel('gemini-1.0-pro')\n",
        "response = model.generate_content([prompt])\n",
        "print(response.text)"
      ],
      "metadata": {
        "colab": {
          "base_uri": "https://localhost:8080/",
          "height": 69
        },
        "id": "zdQor_mOiLCg",
        "outputId": "65c5baa3-476a-4351-b60e-d4be27bfcf3b"
      },
      "execution_count": null,
      "outputs": [
        {
          "output_type": "stream",
          "name": "stdout",
          "text": [
            "```\n",
            "rg kar rape case news reports blogs criminal proceedings court cases\n",
            "```\n"
          ]
        }
      ]
    },
    {
      "cell_type": "code",
      "source": [
        "match = re.search(r\"```(.*)```\", response.text, flags=re.DOTALL)\n",
        "if match:\n",
        "    code_block = match.group(1)\n",
        "    print(code_block)\n",
        "else:\n",
        "    print(\"Code block not found.\")"
      ],
      "metadata": {
        "colab": {
          "base_uri": "https://localhost:8080/"
        },
        "id": "lmGWtLqnjYBV",
        "outputId": "213ddd79-d937-47e4-edd6-df1c360e96be"
      },
      "execution_count": null,
      "outputs": [
        {
          "output_type": "stream",
          "name": "stdout",
          "text": [
            "\n",
            "rg kar rape case news reports blogs criminal proceedings court cases\n",
            "\n"
          ]
        }
      ]
    },
    {
      "cell_type": "code",
      "source": [],
      "metadata": {
        "id": "CCVgiVyr6Y7d"
      },
      "execution_count": null,
      "outputs": []
    },
    {
      "cell_type": "code",
      "source": [
        "genai.configure(api_key=userdata.get('Gapi'))\n",
        "models = genai.list_models()\n",
        "for model in models:\n",
        "  print(model.name)"
      ],
      "metadata": {
        "colab": {
          "base_uri": "https://localhost:8080/",
          "height": 520
        },
        "id": "KHHCgPRq9Ue2",
        "outputId": "7c0e2b9a-b4d5-4f48-b471-4fa11c8d9d3f"
      },
      "execution_count": null,
      "outputs": [
        {
          "output_type": "stream",
          "name": "stdout",
          "text": [
            "models/chat-bison-001\n",
            "models/text-bison-001\n",
            "models/embedding-gecko-001\n",
            "models/gemini-1.0-pro-latest\n",
            "models/gemini-1.0-pro\n",
            "models/gemini-pro\n",
            "models/gemini-1.0-pro-001\n",
            "models/gemini-1.0-pro-vision-latest\n",
            "models/gemini-pro-vision\n",
            "models/gemini-1.5-pro-latest\n",
            "models/gemini-1.5-pro-001\n",
            "models/gemini-1.5-pro-002\n",
            "models/gemini-1.5-pro\n",
            "models/gemini-1.5-pro-exp-0801\n",
            "models/gemini-1.5-pro-exp-0827\n",
            "models/gemini-1.5-flash-latest\n",
            "models/gemini-1.5-flash-001\n",
            "models/gemini-1.5-flash-001-tuning\n",
            "models/gemini-1.5-flash\n",
            "models/gemini-1.5-flash-exp-0827\n",
            "models/gemini-1.5-flash-002\n",
            "models/gemini-1.5-flash-8b\n",
            "models/gemini-1.5-flash-8b-001\n",
            "models/gemini-1.5-flash-8b-latest\n",
            "models/gemini-1.5-flash-8b-exp-0827\n",
            "models/gemini-1.5-flash-8b-exp-0924\n",
            "models/embedding-001\n",
            "models/text-embedding-004\n",
            "models/aqa\n"
          ]
        }
      ]
    },
    {
      "cell_type": "markdown",
      "source": [
        "This stuff is using LLM"
      ],
      "metadata": {
        "id": "NhqeTLZasIPK"
      }
    },
    {
      "cell_type": "code",
      "source": [
        "news_topics = [\"recent crimes in West Bengal\", \"rg kar rape case\", \"Inflation in west bengal\", \"bangladesh border tension in west bengal\", \"sandeshkhali news\"]\n",
        "num_results = 10  # Number of results you want to retrieve per query\n",
        "lst_of_urls = []\n",
        "\n",
        "# Perform the Google search for each query\n",
        "for news in news_topics:\n",
        "    for result in search(news, num_results):  # Search for each term\n",
        "        print(result)\n",
        "        lst_of_urls.append(result)\n",
        "\n",
        "print(lst_of_urls)  # Print the combined list of URLs"
      ],
      "metadata": {
        "colab": {
          "base_uri": "https://localhost:8080/"
        },
        "collapsed": true,
        "id": "5CN5uA188faR",
        "outputId": "938a82f8-d0eb-4472-96d6-ae5530e77b6a"
      },
      "execution_count": null,
      "outputs": [
        {
          "output_type": "stream",
          "name": "stdout",
          "text": [
            "https://www.newindianexpress.com/topic/west-bengal-crime\n",
            "https://www.ndtv.com/topic/west-bengal-crime\n",
            "https://www.ndtv.com/topic/west-bengal-murder\n",
            "https://www.thehindu.com/news/national/west-bengal/girls-body-found-in-bengals-south-24-parganas-locals-torch-police-outpost-vandalise-vehicles/article68720951.ece\n",
            "https://www.reuters.com/world/india/indian-doctors-call-off-protest-hunger-strike-over-medics-murder-2024-10-22/\n",
            "https://indianexpress.com/article/cities/kolkata/9-year-old-rape-murder-bengal-villagers-fire-police-outpost-9604913/\n",
            "https://news.abplive.com/topic/west-bengal-crime\n",
            "https://www.thehindu.com/news/national/west-bengal/kolkata-court-gives-death-penalty-to-man-for-rape-and-murder-of-minor-under-the-pocso-act/article68686993.ece\n",
            "https://timesofindia.indiatimes.com/city/kolkata/kolkata-doctor-rape-murder-case-news-live-rg-kar-hospital-sanjay-roy-sandip-ghosh-tmc-supreme-court-doctor-protests-west-bengal-mamata-banerje-cbi-investigation/liveblog/112773791.cms\n",
            "https://www.hindustantimes.com/topic/west-bengal-police\n",
            "https://en.wikipedia.org/wiki/2024_Kolkata_rape_and_murder\n",
            "https://www.thehindu.com/news/national/kolkata-rape-murder-case-supreme-court-hearing-live-updates-october-15/article68755106.ece\n",
            "https://www.ndtv.com/india-news/rg-kar-case-kolkata-rape-murder-cbi-chargesheet-details-how-rg-kar-rape-murder-accused-was-nailed-6748844\n",
            "https://www.indiatoday.in/india/story/rg-kar-rape-murder-west-bengal-kolkata-doctor-hospitalised-cbi-mamata-banerjee-2616351-2024-10-14\n",
            "https://indianexpress.com/article/political-pulse/rg-kar-rape-and-murder-case-as-bengal-doctors-threaten-to-go-on-strike-again-why-some-in-tmc-are-not-worried-9627587/\n",
            "https://www.reuters.com/world/india/ex-head-indias-rg-kar-college-charged-alleged-evidence-tampering-rape-case-2024-09-15/\n",
            "https://www.thehindu.com/news/cities/kolkata/accused-in-rg-kar-rape-and-murder-claims-innocence-cbi-list-11-evidences-against-him/article68733017.ece\n",
            "https://timesofindia.indiatimes.com/india/kolkata-doctor-rape-murder-case-supreme-court-hearing-live-updates-suo-moto-rg-kar-hospital-junior-doctor-protest-torch-rally-sagore-dutta-hospital/liveblog/113801397.cms\n",
            "https://www.hindustantimes.com/india-news/kolkata-court-pulls-up-cbi-over-rg-kar-medical-college-rape-murder-case-doctors-protest-101727750062624.html\n",
            "https://www.livemint.com/news/kolkata-doctor-rape-murder-case-timeline-of-what-followed-rg-kar-incident-from-protests-to-cbi-report-on-sept-17-11726360885863.html\n",
            "https://www.mospi.gov.in/dataviz-cpi-map\n",
            "https://www.businesstoday.in/india/story/inflation-is-higher-in-west-bengal-than-tamil-nadu-chidambaram-takes-a-jab-at-rs340-airport-tea-445924-2024-09-14\n",
            "https://www.indiastat.com/west-bengal-state/data/economy/inflation\n",
            "https://www.financialexpress.com/policy/economy-inflation-worries-chidambaram-raises-concern-points-out-inflation-in-west-bengal-higher-than-tamil-nadu-3611021/\n",
            "https://www.mospi.gov.in/sites/default/files/press_release/CPI_PR_14oct24.pdf\n",
            "https://www.moneycontrol.com/news/trends/inflation-is-higher-in-west-bengal-than-in-tamil-nadu-p-chidambaram-on-tea-for-rs-340-at-kolkata-airport-12821825.html\n",
            "https://pib.gov.in/PressReleasePage.aspx?PRID=1995548\n",
            "https://indianexpress.com/article/business/economy/steady-growth-in-west-south-states-decline-in-bengal-eac-pm-report-9573216/\n",
            "https://en.wikipedia.org/wiki/Economy_of_West_Bengal\n",
            "https://www.thehindu.com/business/Economy/west-bengal-economy-performs-poorly-over-several-decades-eac-pm-paper/article68654721.ece\n",
            "https://www.hindustantimes.com/india-news/how-bsf-thwarted-infiltration-bid-by-1-000-bangladeshis-in-west-bengal-amid-unrest-video-101723250444149.html\n",
            "https://www.thehindu.com/news/national/tension-builds-up-at-india-bangladesh-border-as-people-remain-unsure-of-the-future/article68497289.ece\n",
            "https://thediplomat.com/2024/09/bangladeshs-new-border-stance-signals-a-shift-in-its-approach-to-india/\n",
            "https://www.aljazeera.com/news/2024/10/1/fishy-diplomacy-what-a-hilsa-ban-reveals-about-india-bangladesh-tensions\n",
            "https://www.deccanherald.com/india/bsf-lodges-strong-protest-with-bgb-after-jawan-abducted-by-miscreants-3204986\n",
            "https://indianexpress.com/article/political-pulse/west-bengal-parties-bangladesh-refugees-influx-9509989/\n",
            "https://www.onmanorama.com/news/india/2024/08/05/bangladesh-crisis-india-border-alert.html\n",
            "https://www.firstpost.com/world/tension-flares-up-at-india-bangladesh-border-over-cattle-fencing-by-bsf-13807892.html\n",
            "https://www.livemint.com/news/india/bangladesh-protest-shelter-us-in-india-or-kill-us-refugee-crisis-deepens-on-north-dinajpur-bengal-border-11723012113748.html\n",
            "https://www.thehindu.com/news/national/bsf-sends-back-1000-men-mostly-hindus-at-india-bangladesh-border-in-cooch-behar-district/article68508490.ece\n",
            "https://www.thehindu.com/news/national/west-bengal/sandeshkhali-woman-lodges-police-complaint-alleges-abduction/article68181998.ece\n",
            "https://indianexpress.com/article/cities/kolkata/threats-women-sandeshkhali-vote-9366273/\n",
            "https://www.ndtv.com/india-news/worried-about-situation-in-sandeshkhali-west-bengal-governor-c-v-ananda-bose-on-post-poll-violence-5801875\n",
            "https://www.bbc.com/news/world-asia-india-68411434\n",
            "https://www.ndtv.com/india-news/sandeshkhali-row-lok-sabha-election-2024-trinamool-vs-bjp-after-sandeshkhali-woman-alleges-fake-rape-complaint-5623449\n",
            "https://indianexpress.com/article/cities/kolkata/opp-welcomes-supreme-courts-sandeshkhali-order-slams-govt-9441356/\n",
            "https://www.livemint.com/news/india/sandeshkhali-sting-video-followed-suvendu-da-s-instruction-says-bjp-member-gangadhar-koyal-11714882154260.html\n",
            "https://www.youtube.com/playlist?list=PLAQGzpyU01aEbUhKbh2j7LrgZas_vZWso\n",
            "https://economictimes.indiatimes.com/topic/sandeshkhali\n",
            "https://www.indiatoday.in/magazine/nation/story/20240318-a-storm-in-sandeshkhaliawest-bengal-a-storm-in-sandeshkhali-2512230-2024-03-09\n",
            "['https://www.newindianexpress.com/topic/west-bengal-crime', 'https://www.ndtv.com/topic/west-bengal-crime', 'https://www.ndtv.com/topic/west-bengal-murder', 'https://www.thehindu.com/news/national/west-bengal/girls-body-found-in-bengals-south-24-parganas-locals-torch-police-outpost-vandalise-vehicles/article68720951.ece', 'https://www.reuters.com/world/india/indian-doctors-call-off-protest-hunger-strike-over-medics-murder-2024-10-22/', 'https://indianexpress.com/article/cities/kolkata/9-year-old-rape-murder-bengal-villagers-fire-police-outpost-9604913/', 'https://news.abplive.com/topic/west-bengal-crime', 'https://www.thehindu.com/news/national/west-bengal/kolkata-court-gives-death-penalty-to-man-for-rape-and-murder-of-minor-under-the-pocso-act/article68686993.ece', 'https://timesofindia.indiatimes.com/city/kolkata/kolkata-doctor-rape-murder-case-news-live-rg-kar-hospital-sanjay-roy-sandip-ghosh-tmc-supreme-court-doctor-protests-west-bengal-mamata-banerje-cbi-investigation/liveblog/112773791.cms', 'https://www.hindustantimes.com/topic/west-bengal-police', 'https://en.wikipedia.org/wiki/2024_Kolkata_rape_and_murder', 'https://www.thehindu.com/news/national/kolkata-rape-murder-case-supreme-court-hearing-live-updates-october-15/article68755106.ece', 'https://www.ndtv.com/india-news/rg-kar-case-kolkata-rape-murder-cbi-chargesheet-details-how-rg-kar-rape-murder-accused-was-nailed-6748844', 'https://www.indiatoday.in/india/story/rg-kar-rape-murder-west-bengal-kolkata-doctor-hospitalised-cbi-mamata-banerjee-2616351-2024-10-14', 'https://indianexpress.com/article/political-pulse/rg-kar-rape-and-murder-case-as-bengal-doctors-threaten-to-go-on-strike-again-why-some-in-tmc-are-not-worried-9627587/', 'https://www.reuters.com/world/india/ex-head-indias-rg-kar-college-charged-alleged-evidence-tampering-rape-case-2024-09-15/', 'https://www.thehindu.com/news/cities/kolkata/accused-in-rg-kar-rape-and-murder-claims-innocence-cbi-list-11-evidences-against-him/article68733017.ece', 'https://timesofindia.indiatimes.com/india/kolkata-doctor-rape-murder-case-supreme-court-hearing-live-updates-suo-moto-rg-kar-hospital-junior-doctor-protest-torch-rally-sagore-dutta-hospital/liveblog/113801397.cms', 'https://www.hindustantimes.com/india-news/kolkata-court-pulls-up-cbi-over-rg-kar-medical-college-rape-murder-case-doctors-protest-101727750062624.html', 'https://www.livemint.com/news/kolkata-doctor-rape-murder-case-timeline-of-what-followed-rg-kar-incident-from-protests-to-cbi-report-on-sept-17-11726360885863.html', 'https://www.mospi.gov.in/dataviz-cpi-map', 'https://www.businesstoday.in/india/story/inflation-is-higher-in-west-bengal-than-tamil-nadu-chidambaram-takes-a-jab-at-rs340-airport-tea-445924-2024-09-14', 'https://www.indiastat.com/west-bengal-state/data/economy/inflation', 'https://www.financialexpress.com/policy/economy-inflation-worries-chidambaram-raises-concern-points-out-inflation-in-west-bengal-higher-than-tamil-nadu-3611021/', 'https://www.mospi.gov.in/sites/default/files/press_release/CPI_PR_14oct24.pdf', 'https://www.moneycontrol.com/news/trends/inflation-is-higher-in-west-bengal-than-in-tamil-nadu-p-chidambaram-on-tea-for-rs-340-at-kolkata-airport-12821825.html', 'https://pib.gov.in/PressReleasePage.aspx?PRID=1995548', 'https://indianexpress.com/article/business/economy/steady-growth-in-west-south-states-decline-in-bengal-eac-pm-report-9573216/', 'https://en.wikipedia.org/wiki/Economy_of_West_Bengal', 'https://www.thehindu.com/business/Economy/west-bengal-economy-performs-poorly-over-several-decades-eac-pm-paper/article68654721.ece', 'https://www.hindustantimes.com/india-news/how-bsf-thwarted-infiltration-bid-by-1-000-bangladeshis-in-west-bengal-amid-unrest-video-101723250444149.html', 'https://www.thehindu.com/news/national/tension-builds-up-at-india-bangladesh-border-as-people-remain-unsure-of-the-future/article68497289.ece', 'https://thediplomat.com/2024/09/bangladeshs-new-border-stance-signals-a-shift-in-its-approach-to-india/', 'https://www.aljazeera.com/news/2024/10/1/fishy-diplomacy-what-a-hilsa-ban-reveals-about-india-bangladesh-tensions', 'https://www.deccanherald.com/india/bsf-lodges-strong-protest-with-bgb-after-jawan-abducted-by-miscreants-3204986', 'https://indianexpress.com/article/political-pulse/west-bengal-parties-bangladesh-refugees-influx-9509989/', 'https://www.onmanorama.com/news/india/2024/08/05/bangladesh-crisis-india-border-alert.html', 'https://www.firstpost.com/world/tension-flares-up-at-india-bangladesh-border-over-cattle-fencing-by-bsf-13807892.html', 'https://www.livemint.com/news/india/bangladesh-protest-shelter-us-in-india-or-kill-us-refugee-crisis-deepens-on-north-dinajpur-bengal-border-11723012113748.html', 'https://www.thehindu.com/news/national/bsf-sends-back-1000-men-mostly-hindus-at-india-bangladesh-border-in-cooch-behar-district/article68508490.ece', 'https://www.thehindu.com/news/national/west-bengal/sandeshkhali-woman-lodges-police-complaint-alleges-abduction/article68181998.ece', 'https://indianexpress.com/article/cities/kolkata/threats-women-sandeshkhali-vote-9366273/', 'https://www.ndtv.com/india-news/worried-about-situation-in-sandeshkhali-west-bengal-governor-c-v-ananda-bose-on-post-poll-violence-5801875', 'https://www.bbc.com/news/world-asia-india-68411434', 'https://www.ndtv.com/india-news/sandeshkhali-row-lok-sabha-election-2024-trinamool-vs-bjp-after-sandeshkhali-woman-alleges-fake-rape-complaint-5623449', 'https://indianexpress.com/article/cities/kolkata/opp-welcomes-supreme-courts-sandeshkhali-order-slams-govt-9441356/', 'https://www.livemint.com/news/india/sandeshkhali-sting-video-followed-suvendu-da-s-instruction-says-bjp-member-gangadhar-koyal-11714882154260.html', 'https://www.youtube.com/playlist?list=PLAQGzpyU01aEbUhKbh2j7LrgZas_vZWso', 'https://economictimes.indiatimes.com/topic/sandeshkhali', 'https://www.indiatoday.in/magazine/nation/story/20240318-a-storm-in-sandeshkhaliawest-bengal-a-storm-in-sandeshkhali-2512230-2024-03-09']\n"
          ]
        }
      ]
    },
    {
      "cell_type": "code",
      "source": [
        "# Define a list of URLs for news articles\n",
        "\n",
        "urls = lst_of_urls\n",
        "\n",
        "related_content = []\n",
        "os.environ['GEMINI_API_KEY'] = userdata.get('Gapi')\n",
        "\n",
        "my_embedding= GoogleGenerativeAIEmbeddings(model = \"models/embedding-001\", google_api_key=userdata.get('Gapi'))\n",
        "\n",
        "async def process_urls():\n",
        "    async with AsyncWebCrawler(verbose=True) as crawler:\n",
        "        for url in urls:\n",
        "            # Perform extraction for each URL\n",
        "            result = await crawler.arun(\n",
        "                url=url,\n",
        "                extraction_strategy=LLMExtractionStrategy(\n",
        "                    provider=\"gemini/gemini-pro\",\n",
        "                    bypass_cache=True,\n",
        "                    api_token=os.environ['GEMINI_API_KEY'],\n",
        "                    instruction=\"Extract every news text you can find withing the sites, everything related to news including date and time of that particular topic\"\n",
        "                ),\n",
        "            )\n",
        "\n",
        "            if result.extracted_content is not None:\n",
        "                try:\n",
        "                    extracted_data = json.loads(result.extracted_content)\n",
        "                    related_content.extend(extracted_data)  # Append extracted data for each URL\n",
        "                except json.JSONDecodeError as e:\n",
        "                    print(f\"Error decoding JSON for {url}: {e}\")\n",
        "                    print(f\"Raw extracted content: {result.extracted_content}\")  # Debug raw content\n",
        "            else:\n",
        "                print(f\"No content extracted by the LLM for {url}\")\n",
        "\n",
        "# Execute the asynchronous function\n",
        "asyncio.run(process_urls())\n",
        "\n",
        "print(f\"Number of related items extracted: {len(related_content)}\")\n",
        "\n",
        "# # Print extracted content (adjust based on your API response format)\n",
        "# for item in related_content:\n",
        "#     print(f\"URL: {item.get('website_link')}\\nContent: {item.get('content')}\\n\")  # Assuming 'website_link' and 'content' keys\n",
        "\n",
        "# Access combined content if applicable (modify based on your API response format)\n",
        "combined_data = [item.get('content') for item in related_content]\n",
        "print(combined_data)"
      ],
      "metadata": {
        "id": "3x2tKGOWsZDA",
        "colab": {
          "base_uri": "https://localhost:8080/"
        },
        "outputId": "7d6489f5-b539-4dbd-d5e9-d1e1fc6b25a9",
        "collapsed": true
      },
      "execution_count": null,
      "outputs": [
        {
          "output_type": "stream",
          "name": "stdout",
          "text": [
            "[LOG] 🌤️  Warming up the AsyncWebCrawler\n",
            "[LOG] 🌞 AsyncWebCrawler is ready to crawl\n",
            "[LOG] 🚀 Content extracted for https://www.newindianexpress.com/topic/west-bengal-crime, success: True, time taken: 0.28 seconds\n",
            "[LOG] 🚀 Extraction done for https://www.newindianexpress.com/topic/west-bengal-crime, time taken: 0.28 seconds.\n",
            "[LOG] 🚀 Content extracted for https://www.ndtv.com/topic/west-bengal-crime, success: True, time taken: 0.39 seconds\n",
            "[LOG] 🚀 Extraction done for https://www.ndtv.com/topic/west-bengal-crime, time taken: 0.40 seconds.\n",
            "[LOG] 🚀 Content extracted for https://www.ndtv.com/topic/west-bengal-murder, success: True, time taken: 0.38 seconds\n",
            "[LOG] 🚀 Extraction done for https://www.ndtv.com/topic/west-bengal-murder, time taken: 0.38 seconds.\n",
            "[LOG] 🚀 Content extracted for https://www.thehindu.com/news/national/west-bengal/girls-body-found-in-bengals-south-24-parganas-locals-torch-police-outpost-vandalise-vehicles/article68720951.ece, success: True, time taken: 0.17 seconds\n",
            "[LOG] 🚀 Extraction done for https://www.thehindu.com/news/national/west-bengal/girls-body-found-in-bengals-south-24-parganas-locals-torch-police-outpost-vandalise-vehicles/article68720951.ece, time taken: 0.17 seconds.\n",
            "[LOG] 😧 Error: After processing the crawled HTML and removing irrelevant tags, nothing was left in the page. Check the markdown for further details.\n",
            "[LOG] 🚀 Content extracted for https://www.reuters.com/world/india/indian-doctors-call-off-protest-hunger-strike-over-medics-murder-2024-10-22/, success: True, time taken: 0.00 seconds\n",
            "[LOG] 🚀 Extraction done for https://www.reuters.com/world/india/indian-doctors-call-off-protest-hunger-strike-over-medics-murder-2024-10-22/, time taken: 0.00 seconds.\n",
            "[LOG] 🚀 Content extracted for https://indianexpress.com/article/cities/kolkata/9-year-old-rape-murder-bengal-villagers-fire-police-outpost-9604913/, success: True, time taken: 0.36 seconds\n",
            "[LOG] 🚀 Extraction done for https://indianexpress.com/article/cities/kolkata/9-year-old-rape-murder-bengal-villagers-fire-police-outpost-9604913/, time taken: 0.36 seconds.\n",
            "[LOG] 🚀 Content extracted for https://news.abplive.com/topic/west-bengal-crime, success: True, time taken: 0.52 seconds\n",
            "[LOG] 🚀 Extraction done for https://news.abplive.com/topic/west-bengal-crime, time taken: 0.53 seconds.\n",
            "[LOG] 🕸️ Crawling https://www.thehindu.com/news/national/west-bengal/kolkata-court-gives-death-penalty-to-man-for-rape-and-murder-of-minor-under-the-pocso-act/article68686993.ece using AsyncPlaywrightCrawlerStrategy...\n",
            "[ERROR] 🚫 arun(): Failed to crawl https://www.thehindu.com/news/national/west-bengal/kolkata-court-gives-death-penalty-to-man-for-rape-and-murder-of-minor-under-the-pocso-act/article68686993.ece, error: [ERROR] 🚫 crawl(): Failed to crawl https://www.thehindu.com/news/national/west-bengal/kolkata-court-gives-death-penalty-to-man-for-rape-and-murder-of-minor-under-the-pocso-act/article68686993.ece: Page.evaluate: Execution context was destroyed, most likely because of a navigation\n",
            "No content extracted by the LLM for https://www.thehindu.com/news/national/west-bengal/kolkata-court-gives-death-penalty-to-man-for-rape-and-murder-of-minor-under-the-pocso-act/article68686993.ece\n",
            "[LOG] 🕸️ Crawling https://en.wikipedia.org/wiki/Category:Crime_in_West_Bengal using AsyncPlaywrightCrawlerStrategy...\n",
            "[LOG] ✅ Crawled https://en.wikipedia.org/wiki/Category:Crime_in_West_Bengal successfully!\n",
            "[LOG] 🚀 Crawling done for https://en.wikipedia.org/wiki/Category:Crime_in_West_Bengal, success: True, time taken: 6.47 seconds\n",
            "[LOG] 🚀 Content extracted for https://en.wikipedia.org/wiki/Category:Crime_in_West_Bengal, success: True, time taken: 1.22 seconds\n",
            "[LOG] 🔥 Extracting semantic blocks for https://en.wikipedia.org/wiki/Category:Crime_in_West_Bengal, Strategy: AsyncWebCrawler\n",
            "[LOG] Call LLM for https://en.wikipedia.org/wiki/Category:Crime_in_West_Bengal - block index: 0\n",
            "[LOG] Extracted 0 blocks from URL: https://en.wikipedia.org/wiki/Category:Crime_in_West_Bengal block index: 0\n",
            "[LOG] 🚀 Extraction done for https://en.wikipedia.org/wiki/Category:Crime_in_West_Bengal, time taken: 3.55 seconds.\n",
            "[LOG] 🚀 Content extracted for https://www.hindustantimes.com/topic/west-bengal-police, success: True, time taken: 8.44 seconds\n",
            "[LOG] 🚀 Extraction done for https://www.hindustantimes.com/topic/west-bengal-police, time taken: 8.44 seconds.\n",
            "[LOG] 🚀 Content extracted for https://www.aljazeera.com/news/2024/9/15/kolkata-rape-case-ex-head-of-india-college-held-over-evidence-tampering, success: True, time taken: 0.41 seconds\n",
            "[LOG] 🚀 Extraction done for https://www.aljazeera.com/news/2024/9/15/kolkata-rape-case-ex-head-of-india-college-held-over-evidence-tampering, time taken: 0.41 seconds.\n",
            "[LOG] 🕸️ Crawling https://abcnews.go.com/International/west-bengal-assembly-india-passes-bill-mandating-life/story?id=113344652 using AsyncPlaywrightCrawlerStrategy...\n",
            "[LOG] ✅ Crawled https://abcnews.go.com/International/west-bengal-assembly-india-passes-bill-mandating-life/story?id=113344652 successfully!\n",
            "[LOG] 🚀 Crawling done for https://abcnews.go.com/International/west-bengal-assembly-india-passes-bill-mandating-life/story?id=113344652, success: True, time taken: 9.86 seconds\n",
            "[LOG] 🚀 Content extracted for https://abcnews.go.com/International/west-bengal-assembly-india-passes-bill-mandating-life/story?id=113344652, success: True, time taken: 1.08 seconds\n",
            "[LOG] 🔥 Extracting semantic blocks for https://abcnews.go.com/International/west-bengal-assembly-india-passes-bill-mandating-life/story?id=113344652, Strategy: AsyncWebCrawler\n",
            "[LOG] Call LLM for https://abcnews.go.com/International/west-bengal-assembly-india-passes-bill-mandating-life/story?id=113344652 - block index: 0\n",
            "[LOG] Extracted 19 blocks from URL: https://abcnews.go.com/International/west-bengal-assembly-india-passes-bill-mandating-life/story?id=113344652 block index: 0\n",
            "[LOG] 🚀 Extraction done for https://abcnews.go.com/International/west-bengal-assembly-india-passes-bill-mandating-life/story?id=113344652, time taken: 15.58 seconds.\n",
            "Error extracting metadata: 'content'\n",
            "[LOG] 🚀 Content extracted for https://timesofindia.indiatimes.com/city/kolkata/kolkata-doctor-rape-murder-case-news-live-rg-kar-hospital-sanjay-roy-sandip-ghosh-tmc-supreme-court-doctor-protests-west-bengal-mamata-banerje-cbi-investigation/liveblog/112773791.cms, success: True, time taken: 0.97 seconds\n",
            "[LOG] 🚀 Extraction done for https://timesofindia.indiatimes.com/city/kolkata/kolkata-doctor-rape-murder-case-news-live-rg-kar-hospital-sanjay-roy-sandip-ghosh-tmc-supreme-court-doctor-protests-west-bengal-mamata-banerje-cbi-investigation/liveblog/112773791.cms, time taken: 0.98 seconds.\n",
            "[LOG] 🕸️ Crawling https://www.amnesty.org/en/latest/news/2024/09/india-death-penalty-never-the-solution-to-crime-and-violence-against-women/ using AsyncPlaywrightCrawlerStrategy...\n",
            "[LOG] ✅ Crawled https://www.amnesty.org/en/latest/news/2024/09/india-death-penalty-never-the-solution-to-crime-and-violence-against-women/ successfully!\n",
            "[LOG] 🚀 Crawling done for https://www.amnesty.org/en/latest/news/2024/09/india-death-penalty-never-the-solution-to-crime-and-violence-against-women/, success: True, time taken: 10.86 seconds\n",
            "[LOG] 🚀 Content extracted for https://www.amnesty.org/en/latest/news/2024/09/india-death-penalty-never-the-solution-to-crime-and-violence-against-women/, success: True, time taken: 0.59 seconds\n",
            "[LOG] 🔥 Extracting semantic blocks for https://www.amnesty.org/en/latest/news/2024/09/india-death-penalty-never-the-solution-to-crime-and-violence-against-women/, Strategy: AsyncWebCrawler\n",
            "[LOG] Call LLM for https://www.amnesty.org/en/latest/news/2024/09/india-death-penalty-never-the-solution-to-crime-and-violence-against-women/ - block index: 0\n",
            "[LOG] Extracted 10 blocks from URL: https://www.amnesty.org/en/latest/news/2024/09/india-death-penalty-never-the-solution-to-crime-and-violence-against-women/ block index: 0\n",
            "[LOG] 🚀 Extraction done for https://www.amnesty.org/en/latest/news/2024/09/india-death-penalty-never-the-solution-to-crime-and-violence-against-women/, time taken: 14.07 seconds.\n",
            "[LOG] 🕸️ Crawling https://www.indiatoday.in/india/story/kolkata-doctor-rape-murder-sandeshkhali-west-bengal-mamata-banerjee-2590893-2024-08-30 using AsyncPlaywrightCrawlerStrategy...\n",
            "[LOG] ✅ Crawled https://www.indiatoday.in/india/story/kolkata-doctor-rape-murder-sandeshkhali-west-bengal-mamata-banerjee-2590893-2024-08-30 successfully!\n",
            "[LOG] 🚀 Crawling done for https://www.indiatoday.in/india/story/kolkata-doctor-rape-murder-sandeshkhali-west-bengal-mamata-banerjee-2590893-2024-08-30, success: True, time taken: 4.80 seconds\n",
            "[LOG] 🚀 Content extracted for https://www.indiatoday.in/india/story/kolkata-doctor-rape-murder-sandeshkhali-west-bengal-mamata-banerjee-2590893-2024-08-30, success: True, time taken: 1.67 seconds\n",
            "[LOG] 🔥 Extracting semantic blocks for https://www.indiatoday.in/india/story/kolkata-doctor-rape-murder-sandeshkhali-west-bengal-mamata-banerjee-2590893-2024-08-30, Strategy: AsyncWebCrawler\n",
            "[LOG] Call LLM for https://www.indiatoday.in/india/story/kolkata-doctor-rape-murder-sandeshkhali-west-bengal-mamata-banerjee-2590893-2024-08-30 - block index: 0\n",
            "[LOG] Call LLM for https://www.indiatoday.in/india/story/kolkata-doctor-rape-murder-sandeshkhali-west-bengal-mamata-banerjee-2590893-2024-08-30 - block index: 1\n",
            "[LOG] Extracted 5 blocks from URL: https://www.indiatoday.in/india/story/kolkata-doctor-rape-murder-sandeshkhali-west-bengal-mamata-banerjee-2590893-2024-08-30 block index: 1\n",
            "[LOG] Extracted 13 blocks from URL: https://www.indiatoday.in/india/story/kolkata-doctor-rape-murder-sandeshkhali-west-bengal-mamata-banerjee-2590893-2024-08-30 block index: 0\n",
            "[LOG] 🚀 Extraction done for https://www.indiatoday.in/india/story/kolkata-doctor-rape-murder-sandeshkhali-west-bengal-mamata-banerjee-2590893-2024-08-30, time taken: 30.02 seconds.\n",
            "[LOG] 🚀 Content extracted for https://www.cbsnews.com/news/india-rape-case-doctor-kolkata-protests-clashes-with-police/, success: True, time taken: 1.91 seconds\n",
            "[LOG] 🚀 Extraction done for https://www.cbsnews.com/news/india-rape-case-doctor-kolkata-protests-clashes-with-police/, time taken: 1.92 seconds.\n",
            "[LOG] 🕸️ Crawling https://www.scmp.com/news/asia/south-asia/article/3277073/indian-state-passes-law-seeking-death-penalty-rape-after-doctors-murder-sparks-protests using AsyncPlaywrightCrawlerStrategy...\n",
            "[LOG] ✅ Crawled https://www.scmp.com/news/asia/south-asia/article/3277073/indian-state-passes-law-seeking-death-penalty-rape-after-doctors-murder-sparks-protests successfully!\n",
            "[LOG] 🚀 Crawling done for https://www.scmp.com/news/asia/south-asia/article/3277073/indian-state-passes-law-seeking-death-penalty-rape-after-doctors-murder-sparks-protests, success: True, time taken: 20.86 seconds\n",
            "[LOG] 🚀 Content extracted for https://www.scmp.com/news/asia/south-asia/article/3277073/indian-state-passes-law-seeking-death-penalty-rape-after-doctors-murder-sparks-protests, success: True, time taken: 1.95 seconds\n",
            "[LOG] 🔥 Extracting semantic blocks for https://www.scmp.com/news/asia/south-asia/article/3277073/indian-state-passes-law-seeking-death-penalty-rape-after-doctors-murder-sparks-protests, Strategy: AsyncWebCrawler\n",
            "[LOG] Call LLM for https://www.scmp.com/news/asia/south-asia/article/3277073/indian-state-passes-law-seeking-death-penalty-rape-after-doctors-murder-sparks-protests - block index: 0\n",
            "[LOG] Extracted 7 blocks from URL: https://www.scmp.com/news/asia/south-asia/article/3277073/indian-state-passes-law-seeking-death-penalty-rape-after-doctors-murder-sparks-protests block index: 0\n",
            "[LOG] 🚀 Extraction done for https://www.scmp.com/news/asia/south-asia/article/3277073/indian-state-passes-law-seeking-death-penalty-rape-after-doctors-murder-sparks-protests, time taken: 9.22 seconds.\n",
            "[LOG] 🕸️ Crawling https://www.hindustantimes.com/india-news/kolkata-rape-murder-case-live-updates-resident-doctors-to-continue-symbolic-protests-demanding-justice-101725152614663.html using AsyncPlaywrightCrawlerStrategy...\n",
            "[LOG] ✅ Crawled https://www.hindustantimes.com/india-news/kolkata-rape-murder-case-live-updates-resident-doctors-to-continue-symbolic-protests-demanding-justice-101725152614663.html successfully!\n",
            "[LOG] 🚀 Crawling done for https://www.hindustantimes.com/india-news/kolkata-rape-murder-case-live-updates-resident-doctors-to-continue-symbolic-protests-demanding-justice-101725152614663.html, success: True, time taken: 14.36 seconds\n",
            "[LOG] 🚀 Content extracted for https://www.hindustantimes.com/india-news/kolkata-rape-murder-case-live-updates-resident-doctors-to-continue-symbolic-protests-demanding-justice-101725152614663.html, success: True, time taken: 3.78 seconds\n",
            "[LOG] 🔥 Extracting semantic blocks for https://www.hindustantimes.com/india-news/kolkata-rape-murder-case-live-updates-resident-doctors-to-continue-symbolic-protests-demanding-justice-101725152614663.html, Strategy: AsyncWebCrawler\n",
            "[LOG] Call LLM for https://www.hindustantimes.com/india-news/kolkata-rape-murder-case-live-updates-resident-doctors-to-continue-symbolic-protests-demanding-justice-101725152614663.html - block index: 0\n",
            "[LOG] Call LLM for https://www.hindustantimes.com/india-news/kolkata-rape-murder-case-live-updates-resident-doctors-to-continue-symbolic-protests-demanding-justice-101725152614663.html - block index: 1\n",
            "[LOG] Call LLM for https://www.hindustantimes.com/india-news/kolkata-rape-murder-case-live-updates-resident-doctors-to-continue-symbolic-protests-demanding-justice-101725152614663.html - block index: 2\n",
            "[LOG] Extracted 7 blocks from URL: https://www.hindustantimes.com/india-news/kolkata-rape-murder-case-live-updates-resident-doctors-to-continue-symbolic-protests-demanding-justice-101725152614663.html block index: 0\n",
            "[LOG] Extracted 16 blocks from URL: https://www.hindustantimes.com/india-news/kolkata-rape-murder-case-live-updates-resident-doctors-to-continue-symbolic-protests-demanding-justice-101725152614663.html block index: 1\n",
            "[LOG] Extracted 29 blocks from URL: https://www.hindustantimes.com/india-news/kolkata-rape-murder-case-live-updates-resident-doctors-to-continue-symbolic-protests-demanding-justice-101725152614663.html block index: 2\n",
            "[LOG] 🚀 Extraction done for https://www.hindustantimes.com/india-news/kolkata-rape-murder-case-live-updates-resident-doctors-to-continue-symbolic-protests-demanding-justice-101725152614663.html, time taken: 34.44 seconds.\n",
            "[LOG] 🕸️ Crawling https://www.bbc.com/news/articles/cvge9r0vwvdo using AsyncPlaywrightCrawlerStrategy...\n",
            "[LOG] ✅ Crawled https://www.bbc.com/news/articles/cvge9r0vwvdo successfully!\n",
            "[LOG] 🚀 Crawling done for https://www.bbc.com/news/articles/cvge9r0vwvdo, success: True, time taken: 38.49 seconds\n",
            "[LOG] 🚀 Content extracted for https://www.bbc.com/news/articles/cvge9r0vwvdo, success: True, time taken: 1.84 seconds\n",
            "[LOG] 🔥 Extracting semantic blocks for https://www.bbc.com/news/articles/cvge9r0vwvdo, Strategy: AsyncWebCrawler\n",
            "[LOG] Call LLM for https://www.bbc.com/news/articles/cvge9r0vwvdo - block index: 0\n",
            "[LOG] Extracted 27 blocks from URL: https://www.bbc.com/news/articles/cvge9r0vwvdo block index: 0\n",
            "[LOG] 🚀 Extraction done for https://www.bbc.com/news/articles/cvge9r0vwvdo, time taken: 24.99 seconds.\n",
            "[LOG] 🕸️ Crawling https://www.livemint.com/news/india/kolkata-doctor-rape-murder-case-cbi-probe-so-far-reveals-no-gangrape-crime-scene-altered-11724322673815.html using AsyncPlaywrightCrawlerStrategy...\n",
            "[LOG] ✅ Crawled https://www.livemint.com/news/india/kolkata-doctor-rape-murder-case-cbi-probe-so-far-reveals-no-gangrape-crime-scene-altered-11724322673815.html successfully!\n",
            "[LOG] 🚀 Crawling done for https://www.livemint.com/news/india/kolkata-doctor-rape-murder-case-cbi-probe-so-far-reveals-no-gangrape-crime-scene-altered-11724322673815.html, success: True, time taken: 18.72 seconds\n",
            "[LOG] 🚀 Content extracted for https://www.livemint.com/news/india/kolkata-doctor-rape-murder-case-cbi-probe-so-far-reveals-no-gangrape-crime-scene-altered-11724322673815.html, success: True, time taken: 4.32 seconds\n",
            "[LOG] 🔥 Extracting semantic blocks for https://www.livemint.com/news/india/kolkata-doctor-rape-murder-case-cbi-probe-so-far-reveals-no-gangrape-crime-scene-altered-11724322673815.html, Strategy: AsyncWebCrawler\n",
            "[LOG] Call LLM for https://www.livemint.com/news/india/kolkata-doctor-rape-murder-case-cbi-probe-so-far-reveals-no-gangrape-crime-scene-altered-11724322673815.html - block index: 0\n",
            "[LOG] Extracted 3 blocks from URL: https://www.livemint.com/news/india/kolkata-doctor-rape-murder-case-cbi-probe-so-far-reveals-no-gangrape-crime-scene-altered-11724322673815.html block index: 0\n",
            "[LOG] 🚀 Extraction done for https://www.livemint.com/news/india/kolkata-doctor-rape-murder-case-cbi-probe-so-far-reveals-no-gangrape-crime-scene-altered-11724322673815.html, time taken: 34.37 seconds.\n",
            "Number of related items extracted: 321\n",
            "[['A woman from West Bengal\\\\\\'s Darjeeling was allegedly raped in Delhi for a week by her friend who also thrashed and tortured her by \\\\\"pouring hot dal\\\\\", police said on Tuesday.'], ['A purported video of three monks being attacked by a mob in West Bengal\\\\\\'s Purulia over suspicion that they were \\\\\"kidnappers in disguise\\\\\" has triggered a political row, with opposition BJP alleging collapse of law and order in the state.'], ['An accused in the murder of ex-model Divya Pahuja was arrested from West Bengal yesterday, the police said.'], ['The National Commission for Women (NCW) registered 28,811 complaints of crime against women last year and about 55 per cent were from Uttar Pradesh.'], ['Two men were arrested in connection with the smuggling of counterfeit banknotes of Rs 500 denomination from West Bengal to Delhi, police said on Wednesday.'], [\"A Lieutenant Colonel in the Army posted at Uttarakhand\\\\'s Dehradun has admitted to murdering a Nepali woman whom he had spotted at a dance bar in West Bengal\\\\'s Siliguri and brought along to the hill state.\"], ['CCTV Footage Shows Man On Bicycle Before He Killed Bengal Schoolgirl', \"The man who has been accused of kidnapping and murder of a schoolgirl in West Bengal\\\\'s South 24 Parganas district was seen inside a shop before he committed the crime on Friday, CCTV footage showed.\"], ['\\\\\"To Cover Up Delays...\\\\\": Centre On Mamata Banerjee\\\\\\'s Letter On Rape Cases', \"The Union Women and Child Development Minister has responded to West Bengal Chief Minister Mamata Banerjee\\\\'s second letter, seeking a stringent law and exemplary punishment on heinous crimes such as rape and murder.\"], ['\\\\\"Not Sincere Efforts\\\\\": BJP\\\\\\'s Swipe At Bengal Government Over Murder Probe', 'Taking a swipe at West Bengal Chief Minister Mamata Banerjee, Defence Minister Rajnath Singh said that many states are not sincere about tackling the rising crimes against women.'], ['151 MPs, MLAs Face Cases Of Crimes Against Women, 16 With Rape', 'As many as 151 sitting MPs and MLAs have declared cases related to crimes against women in their election affidavits, with West Bengal having the highest number of lawmakers facing such cases, according to a recent report by a poll rights body.'], ['Kerala Court Gives Madhya Pradesh Man 33-Year Jail Term For Raping Girl', 'A Kerala court on Friday convicted and sentenced a man from Madhya Pradesh to a cumulative 33 years of imprisonment for raping a 15-year-old girl who hailed from West Bengal, at Poopara in this hilly district of the state.'], ['Bengal Student Arrested Over Alleged Links With Bangladesh Terror Outfit', 'The Special Task Force (STF) of West Bengal Police has arrested a college student and detained five others from Panagarh area in Paschim Bardhaman district for their alleged links with a Bangladesh-based terror outfit, a senior officer said on Sunday'], ['CBI Gets Around 50 Complaints On Email In Sandeshkhali Case On First Day', \"The CBI has received around 50 complaints related to alleged land grab, atrocities on women and other crimes on the first day of launching a dedicated email ID for people to report such offences in West Bengal\\\\'s Sandeshkhali village, officials on Fri\"], ['CBI Announces Dedicated Email For Sandeshkhali Victims To Report Crimes', 'The CBI announced a dedicated email address for registration of complaints regarding crimes against women and land grabbing in Sandeshkhali in West Bengal.'], ['\\\\\"First Step Towards Justice\\\\\": Smriti Irani On CBI Probe In Sandeshkhali Case', \"BJP leader and Union minister Smriti Irani on Wednesday welcomed the Calcutta High Court\\\\'s order for a CBI probe into allegations of crimes against women and land grabbing in West Bengal\\\\'s Sandeshkhali and said it was the first step towards providing\"], ['CBI Announces Dedicated Email For Sandeshkhali Victims To Report Crimes', 'The CBI announced a dedicated email address for registration of complaints regarding crimes against women and land grabbing in Sandeshkhali in West Bengal.'], ['\\\\\"First Step Towards Justice\\\\\": Smriti Irani On CBI Probe In Sandeshkhali Case', \"BJP leader and Union minister Smriti Irani on Wednesday welcomed the Calcutta High Court\\\\'s order for a CBI probe into allegations of crimes against women and land grabbing in West Bengal\\\\'s Sandeshkhali and said it was the first step towards providing\"], ['CCTV Footage Shows Man On Bicycle Before He Killed Bengal Schoolgirl', \"The man who has been accused of kidnapping and murder of a schoolgirl in West Bengal\\\\'s South 24 Parganas district was seen inside a shop before he committed the crime on Friday, CCTV footage showed.\"], ['\\\\\"To Cover Up Delays...\\\\\": Centre On Mamata Banerjee\\\\\\'s Letter On Rape Cases', \"The Union Women and Child Development Minister has responded to West Bengal Chief Minister Mamata Banerjee\\\\'s second letter, seeking a stringent law and exemplary punishment on heinous crimes such as rape and murder.\"], ['\\\\\"Not Sincere Efforts\\\\\": BJP\\\\\\'s Swipe At Bengal Government Over Murder Probe', 'Taking a swipe at West Bengal Chief Minister Mamata Banerjee, Defence Minister Rajnath Singh said that many states are not sincere about tackling the rising crimes against women.'], ['151 MPs, MLAs Face Cases Of Crimes Against Women, 16 With Rape', 'As many as 151 sitting MPs and MLAs have declared cases related to crimes against women in their election affidavits, with West Bengal having the highest number of lawmakers facing such cases, according to a recent report by a poll rights body.'], ['Kerala Court Gives Madhya Pradesh Man 33-Year Jail Term For Raping Girl', 'A Kerala court on Friday convicted and sentenced a man from Madhya Pradesh to a cumulative 33 years of imprisonment for raping a 15-year-old girl who hailed from West Bengal, at Poopara in this hilly district of the state.'], ['Bengal Student Arrested Over Alleged Links With Bangladesh Terror Outfit', 'The Special Task Force (STF) of West Bengal Police has arrested a college student and detained five others from Panagarh area in Paschim Bardhaman district for their alleged links with a Bangladesh-based terror outfit, a senior officer said on Sunday'], ['CBI Gets Around 50 Complaints On Email In Sandeshkhali Case On First Day', \"The CBI has received around 50 complaints related to alleged land grab, atrocities on women and other crimes on the first day of launching a dedicated email ID for people to report such offences in West Bengal\\\\'s Sandeshkhali village, officials on Fri\"], ['CBI Announces Dedicated Email For Sandeshkhali Victims To Report Crimes', 'The CBI announced a dedicated email address for registration of complaints regarding crimes against women and land grabbing in Sandeshkhali in West Bengal.'], ['\\\\\"First Step Towards Justice\\\\\": Smriti Irani On CBI Probe In Sandeshkhali Case', \"BJP leader and Union minister Smriti Irani on Wednesday welcomed the Calcutta High Court\\\\'s order for a CBI probe into allegations of crimes against women and land grabbing in West Bengal\\\\'s Sandeshkhali and said it was the first step towards providing\"], [\"Delhi Man Rapes, Tortures Woman For 7 Days; Used To Pour \\\\'Hot Dal\\\\' On Her\", 'A woman from West Bengal\\\\\\'s Darjeeling was allegedly raped in Delhi for a week by her friend who also thrashed and tortured her by \\\\\"pouring hot dal\\\\\", police said on Tuesday.'], ['\\\\\"Facts Misrepresented\\\\\": Bengal Police As Video Of Attack On Sadhus Viral', 'A purported video of three monks being attacked by a mob in West Bengal\\\\\\'s Purulia over suspicion that they were \\\\\"kidnappers in disguise\\\\\" has triggered a political row, with opposition BJP alleging collapse of law and order in the state.'], [\"Man Who Allegedly Dumped Ex Model Divya Pahuja\\\\'s Body In River Arrested\", 'An accused in the murder of ex-model Divya Pahuja was arrested from West Bengal yesterday, the police said.'], [\"Women\\\\'s Panel Received 28,811 Complaints Of Crime Against Women In 2023\", 'The National Commission for Women (NCW) registered 28,811 complaints of crime against women last year and about 55 per cent were from Uttar Pradesh.'], ['2 Arrested For Smuggling Fake 500 Notes From Bengal To Delhi: Cops', 'Two men were arrested in connection with the smuggling of counterfeit banknotes of Rs 500 denomination from West Bengal to Delhi, police said on Wednesday.'], [\"Nepali Woman\\\\'s Affair With Married Army Officer Ends In A Dehradun Murder\", \"A Lieutenant Colonel in the Army posted at Uttarakhand\\\\'s Dehradun has admitted to murdering a Nepali woman whom he had spotted at a dance bar in West Bengal\\\\'s Siliguri and brought along to the hill state.\"], [\"A girl who had left home to attend a coaching class has allegedly been kidnapped and murdered in West Bengal\\\\'s South 24 Parganas district, sparking anger and protests.\", 'A police camp has also been vandalised and set on fire.'], ['Wife Of Murdered Bengal Congress Leader Died Of Poisoning: Autopsy Report', \"Purnima Kandu, the wife of Tapan Kandu, was elected a municipal councillor in Bengal\\\\'s Jhalda after he was murdered in March 2022.\"], ['\\\\\"Call Off Hunger Strike\\\\\": Mamata Banerjee Speaks To Doctors After Ultimatum', 'Taking steps to resolve the impasse with protesting doctors, West Bengal Chief Minister Mamata Banerjee spoke to them over the phone on Saturday and urged them to withdraw their fast-unto-death, saying most of their demands had been met.'], ['Man Arrested Over Rape, Murder Of Women In West Bengal', 'Nadia district police in West Bengal, on Wednesday afternoon, arrested a youth in connection with the alleged rape and murder of a woman in her early twenties, whose half-charred and semi-nude body was recovered earlier this morning.'], [\"Key Doctors\\\\' Body Pauses Strike As Bengal Calls Meet To Discuss Demands\", 'Junior doctors in West Bengal have been on fast-unto-death since October 5 demanding justice for the 31-year-old woman medic, who was raped and murdered in Kolkata in August.'], ['Medical Body IMA To Hold 24-Hour Hunger Strike To Support Bengal Doctors', 'The Indian Medical Association (IMA) announced a 24-hour nationwide hunger strike on October 15 to support doctors in West Bengal, seeking justice for the young doctor who was raped and murdered at R.G. Kar Medical College and Hospital in Kolkata.'], ['Bengal Doctors Protest On RG Kar Issue For Public Interest: Medical Body Chief', 'The continuing protests by the junior doctors of West Bengal against the rape and murder of a junior woman doctor of R.G. Kar Medical College & Hospital are not in self-interest but in the larger public interest, R.V. Asokan said.'], ['CCTV Footage Shows Man On Bicycle Before He Killed Bengal Schoolgirl', \"The man who has been accused of kidnapping and murder of a schoolgirl in West Bengal\\\\'s South 24 Parganas district was seen inside a shop before he committed the crime on Friday, CCTV footage showed.\"], ['RG Kar Horror: Bengal Doctors Begin \\\\\"Fast Unto Death\\\\\" In Kolkata', 'The junior doctors, protesting over the rape and murder of their colleague at the RG Kar hospital, went on fast unto death on Saturday evening, claiming that their demands were not fulfilled by the West Bengal government.'], ['Minor Kidnapped And Murdered In Bengal, BJP Claims She Was Raped', \"The BJP has alleged that a minor girl who was found dead in West Bengal\\\\'s South 24 Parganas district was raped before being murdered.\"], ['Wife Of Murdered Bengal Congress Leader Died Of Poisoning: Autopsy Report', 'The wife of a murdered Congress councillor in West Bengal died due to poisoning, according to the autopsy report.', \"Purnima Kandu, the wife of Tapan Kandu, was elected a municipal councillor in Bengal\\\\'s Jhalda after he was murdered in March 2022.\"], ['“Call Off Hunger Strike”: Mamata Banerjee Speaks To Doctors After Ultimatum', 'Taking steps to resolve the impasse with protesting doctors, West Bengal Chief Minister Mamata Banerjee spoke to them over the phone on Saturday and urged them to withdraw their fast-unto-death, saying most of their demands had been met.'], ['Man Arrested Over Rape, Murder Of Women In West Bengal', 'Nadia district police in West Bengal, on Wednesday afternoon, arrested a youth in connection with the alleged rape and murder of a woman in her early twenties, whose half-charred and semi-nude body was recovered earlier this morning.'], ['Key Doctors’ Body Pauses Strike As Bengal Calls Meet To Discuss Demands', 'Junior doctors in West Bengal have been on fast-unto-death since October 5 demanding justice for the 31-year-old woman medic, who was raped and murdered in Kolkata in August.'], ['Medical Body IMA To Hold 24-Hour Hunger Strike To Support Bengal Doctors', 'The Indian Medical Association (IMA) announced a 24-hour nationwide hunger strike on October 15 to support doctors in West Bengal, seeking justice for the young doctor who was raped and murdered at R.G. Kar Medical College and Hospital in Kolkata.'], ['Bengal Doctors Protest On RG Kar Issue For Public Interest: Medical Body Chief', 'The continuing protests by the junior doctors of West Bengal against the rape and murder of a junior woman doctor of R.G. Kar Medical College & Hospital are not in self-interest but in the larger public interest, R.V. Asokan said.'], ['CCTV Footage Shows Man On Bicycle Before He Killed Bengal Schoolgirl', \"The man who has been accused of kidnapping and murder of a schoolgirl in West Bengal\\\\'s South 24 Parganas district was seen inside a shop before he committed the crime on Friday, CCTV footage showed.\"], ['RG Kar Horror: Bengal Doctors Begin “Fast Unto Death” In Kolkata', 'The junior doctors, protesting over the rape and murder of their colleague at the RG Kar hospital, went on fast unto death on Saturday evening, claiming that their demands were not fulfilled by the West Bengal government.'], ['Minor Kidnapped And Murdered In Bengal, BJP Claims She Was Raped', \"A girl who had left home to attend a coaching class has allegedly been kidnapped and murdered in West Bengal\\\\'s South 24 Parganas district, sparking anger and protests.\", 'A police camp has also been vandalised and set on fire.'], ['Bengal Doctors Back On Strike, Announce “Total Cease-Work” From Today', 'Junior doctors in West Bengal, demanding better security at state hospitals after the rape and murder of a colleague at a medical college in Kolkata, have resumed their ‘total cease-work’.'], ['Bengal Junior Doctors Resume “Total Cease Work” Demanding Safety, Security', 'Agitating junior doctors in West Bengal resumed their indefinite “total cease work” on Tuesday to press the state government on various demands, including ensuring their safety and security at all medical establishments.'], ['Doctor’s Protests, Floods May Dampen Bengal’s Durga Puja Festivities', 'The firestorm over a Kolkata doctor’s gruesome rape and murder and the flood crisis threaten to severely impact Bengal’s Rs 50,000 crore Durga Puja economy.'], ['Kolkata Rape Murder: Junior Doctors Resume Duties In Bengal After 42 Days', 'Junior doctors rejoined their duties partially on Saturday morning at various government-run hospitals in West Bengal after a hiatus of 42 days.'], ['“My Daughter Would Have Been Alive If...”: Kolkata Doctor’s Father', 'The father of the trainee doctor from Kolkata’s RG Kar Medical College who was raped and murdered today said his daughter would have been alive if West Bengal Chief Minister had taken action against former RG Kar Medical College princ'], ['“Girls Out Of Class 12...”: Top Court Wants Cops At Bengal Medical Colleges', 'The West Bengal government has faced tough questions in the Supreme Court on the steps it has taken to beef up security in the state’s medical colleges in the aftermath of the horrific rape-murder of a 31-year-old at Kolkata’s RG Kar Medical College'], ['Violence erupted at Jaynagar in West Bengal’s South 24 Parganas on Saturday (October 5, 2024) after the body of a nine-year-old girl was found in Mahismari area.', 'The family members of the child and villagers alleged that the child was sexually assaulted and then killed.', 'Angry locals ransacked the Mahismari police outpost and set articles from the police station on fire.', 'The villagers blocked roads and clashed with police.', 'The police fired tear gas shells and resorted to baton charge to disperse the mob.', 'The locals were also seen chasing away the local Trinamool Congress MLA Ganesh Mondal.', 'Video footage telecast by local news channels of the violence where locals armed with sticks and batons ransacked the police outpost.'], ['The child’s father said that she had gone to take private tuition on Friday (October 4, 2024) evening but did not return home on time.', 'The body of the girl was found about one km away from their house.', 'The villagers said that the police did not take their allegations seriously when the family approached them after the child went missing.', 'After the child went mission the family approached the police outpost at Mahismari police outpost but were asked to go to Jaynagar police station.', 'The villagers alleged that they had to visit several police stations before a missing complaint was filed.', 'The people of the area said that the child could have been saved had the police acted in time.', 'One person has been arrested in connection with the crime.', 'A huge contingent of police was deployed in the area to contain the situation.', 'The place where the body was recovered had been identified and secured.', 'The body has been sent for post mortem.'], ['Local Trinamool Congress leaders including Jaynagar MP Pratima Mondal faced ‘go back’ slogans when they wanted to meet the parents of the deceased child.', 'Superintendent of Police, Baruipur Police District Palash Chandra Dhali said that a complaint of kidnapping was registered at 12.30 on Friday night and today section of murders were added.', '“If after post mortem we find sexual assault, then we will section of POCSO,” the SP said.'], ['Supporters of the opposition parties held protests at Jaynagar.', 'BJP leader Agnimitra Pal and CPI(M) leader Meenakshi Mukherjee held protests outside a hospital at Jaynagar.', 'The protests over the incident spilled in Kolkata with BJP supporters organising processions and blocking roads in the city demanding the resignation of Chief Minister Mamata Banerjee over repeated incidents of sexual assault on women and children.'], ['There was a scuffle when the body was brought to the Katapukur morgue in the Mominpur area.', 'Supporters of Opposition parties including BJP leader Agnimitra Paul and CPI(M) leader Dipsita Dhar were present at the morgue.', 'Supporters of the Opposition parties alleged that the police were trying to hurriedly conduct the post-mortem.', 'A large crowd had gathered outside the morgue and police had to push supporters of political parties outside the compound.'], ['The incident comes at a time when protests are already raging over the rape and murder of the doctor at R.G. Kar Medical College and Hospital in August this year.', 'Resident doctors are still on the streets demanding justice for the victim as well safety at workplace.', 'Leader of Opposition Suvendu Adhikari said that the West Bengal government has not learnt anything from the R.G. Kar rape and murder.', '“The whole situation could have been avoided if the Police could have just done their duty yesterday.', 'The State Government, Administration, and top cops are always paying lip service to how the State is safe for women and how CCTVs are being installed.', 'Preparedness is being increased to enhance women’s safety.', 'In reality, no one still monitors the CCTVs when it is required in real-time, and the Police are just planning how to suppress any spontaneous protest with brute force,” Mr. Adhikari said.'], ['Trinamool Congress leader Kunal Ghosh said that the police did its job by arresting the accused but because of some people in the establishment, the family had to run from pillar to post.', '“I would appeal to the Superintendent of Police to identify the people for whom the image of the State Government is taking the beating,” Mr. Ghosh said.'], \"'NoneType' object has no attribute 'startswith'\", ['9-yr-old Bengal girl killed, villagers torch police post', 'The incident took place in a village in West Bengal’s South 24 Parganas district.', 'Police officials denied allegations of inaction on the local police’s part and said an accused has been arrested.'], ['It is suspected that the girl was sexually assaulted.', 'The post-mortem report is awaited to confirm this, police said.'], ['According to the girl’s family, she had gone to a coaching centre on Friday afternoon.', 'When she did not return home, the family searched for her but to no avail.', 'They then approached the police to report her missing.', 'The local police, however, directed them to file a complaint at another police station, the family alleged.'], ['When the girl’s body was found in a nearby pond on Friday night, tensions escalated in the area.', 'On Saturday morning, an agitated crowd gathered around the local police station with brooms, sticks and bamboos.', 'A Sub-Divisional Police Officer was gheraoed.', 'Villagers vandalised the police outpost and set it on fire, resulting in several important documents getting destroyed.', 'The police eventually resorted to baton charge to disperse the crowd.'], ['“So far, one person has been arrested.', 'It remains to be seen if anyone else is involved.', 'Efforts are underway to normalise the situation in the area.', 'That is our priority,” a senior police officer said.'], ['Asked about the allegations of negligence against the police, he added, “We have identified and arrested the accused and he has admitted to the crime.', 'We have taken each step and acted promptly.', 'Still if people have allegations, we will surely look into those as well,” he added.'], ['The incident has triggered a political tussle, with the Opposition parties hitting out at the Trinamool Congress government.', '“They did not take the complaint seriously.', 'It is Devi Paksha and at such a time, a daughter is being raped and murdered.', 'Which Durga shall we worship if our Durga at home is not safe?', 'It is all because of [Mamata Banerjee](https://indianexpress.com/about/mamata-banerjee/).', 'She has spread a message that [the police should] not file [FIR](https://indianexpress.com/article/explained/everyday-explainers/fir-cognizable-offence-ipc-explained-7780266/) easily,” Bengal [BJP](https://indianexpress.com/about/bjp/) chief Sukanto Majumdar said.', '“Those who raped a nine-year-old girl… Do they have the right to worship Durga on Ashtami?', 'Where are we heading as a society?” CPI(M) leader Tanmay Bhattacharjee said.'], ['The accused, who is 19 years old, was remanded in police custody for seven days on Saturday.', 'A case has been registered against him on charges of murder, evidence tampering and kidnapping.', 'Dhali said that although the arrested youth admitted to the crime, the motive is not yet clear.'], [\"Bengal Rape-Murder Case: NCPCR Chief Meets Kin Of Victim, Says \\\\'Will Verify Facts With Police, Doctor\\\\'\"], ['Death Due To Poisonous Substance, Prime Accused Arrested: Police On Murder Of Minor Girl In Bengal'], [\"Fresh Violence In Bengal, BJP Leader Demands Mamata\\\\'s Resignation Over \\\\'Rape\\\\', \\\\'Murder\\\\' Of Minor\"], [\"\\\\'BJP MLAs Not Allowed To Meet Victim\\\\'s Family\\\\': Suvendu Adhikari After \\\\'Rape\\\\', \\\\'Murder\\\\' Of Minor Girl In Bengal\"], [\"### [RG Kar rape-murder: CBI found Sandip Ghosh\\\\'s polygraph responses \\\\'deceptive\\\\'](/india-news/rg-kar-rape-murder-cbi-found-sandip-ghoshs-polygraph-responses-deceptive-101726469394003.html)\"], ['## Kolkata doctor rape-murder: Sandip Ghosh introduced what the officers called a new theory of suicide.'], ['### [Kolkata rape-murder: CBI claims SHO Abhijit Mondol arrived ‘unusually’ late](/india-news/kolkata-rape-murder-cbi-suspects-conspiracy-says-sho-abhijit-mondol-arrived-unusually-late-at-crime-scene-101726453468491.html)'], ['## Kolkata rape and murder: The agency said Sandip Ghosh and Abhijit Mondol had been in touch with each other after the crime surfaced.'], ['### [Kolkata murder: SC asks protesting doctors to return to work by 5 pm tomorrow](/india-news/kolkata-rape-murder-sc-asks-protesting-doctors-to-return-to-work-by-5-pm-tomorrow-warns-of-disciplinary-action-101725869260919.html)'], ['## CJI Chandrachud also observed that the West Bengal government must take steps to create confidence in the minds of the protesting doctors.'], ['### [Two held for molesting woman, misbehaving with protesters in Kolkata](/india-news/two-held-for-molesting-woman-misbehaving-with-protesters-during-reclaim-the-night-rally-101725511636763.html)'], ['## Apart from two such incidents, stray incident of violence against CPI(M) member was also reported. The people-led march largely remained peaceful.'], [\"### [‘We are also humans’: Wife of Kolkata cop injured during \\\\'Nabanna Abhijan\\\\' rally](/india-news/we-are-also-humans-wife-of-kolkata-police-officer-injured-during-nabanna-abhijan-rally-101724975892635.html)\"], ['## A brick struck Debasish Chakraborty’s left eye during the attack, causing severe damage. He is currently receiving treatment at Shankar Nethralaya.'], ['India’s federal investigating agency has arrested the former principal of a medical college in the eastern city of Kolkata on charges of tampering with evidence linked to the [rape and murder of a junior female doctor](/gallery/2024/8/15/protests-escalate-in-india-over-rape-and-murder-of-doctor), a case that triggered weeks of nationwide protests.'], ['Dr Sandip Ghosh, former principal of the RG Kar Medical College, was arrested along with police officer Abhijit Mondal by the Central Bureau of Investigation (CBI) late on Saturday.'], ['Ghosh, and others, allegedly delayed declaring the victim’s death as well as filing a first information report (FIR), a formal police complaint, which led to the destruction of vital evidence, according to additional charges filed by the CBI before a court, the Reuters news agency reported.'], ['He was already in judicial custody after being arrested by the agency in a case related to corruption in the college on September 2.'], ['The 31-year-old victim, whose body was found at the medical college in early August, set off a wave of protests across the country, and the demand for greater safety for women in the workplace as well as justice for the victim.'], ['Mondal, the officer in charge of the police station that has jurisdiction over the college, was also charged for failing to protect the crime scene, a source with direct knowledge of the matter told Reuters.'], ['Asked about Mondal’s arrest, a senior Kolkata police official said: “We will respond to the charges in court.”'], ['The two arrests come more than a month after the prime suspect was arrested by Kolkata police and charged with rape and murder.'], ['Junior doctors in the eastern state of West Bengal, of which Kolkata is the capital, have decided to continue their protests until the victim gets justice.'], ['The doctors have been joined in their protests by an enraged citizenry, with thousands of women and men marching in Kolkata and cities across the country for weeks, demanding justice and better safety measures in hospitals.'], ['Activists say the doctor’s rape and murder showed how women in India continue to face sexual violence despite tougher laws introduced after the 2012 gang rape and murder of a [23-year-old student on a bus in New Delhi](/news/2012/12/29/india-gang-rape-victim-dies-in-singapore), the national capital.'], ['That attack had spurred politicians to order harsher penalties for such crimes and set up fast-track courts dedicated to rape cases.'], ['The government also introduced the death penalty for repeat offenders but has not been able to check rising crimes against women.'], ['Crimes against women in India rose 4 percent in 2022 from the previous year, data from the National Crime Records Bureau (NCRB), released late last year, showed.'], ['West Bengal Assembly in India passes bill mandating life in prison or death penalty for rape convictions'], ['Several more laws will be enacted through the Aparajita Woman and Child Bill.'], ['The bill will now go to the governor of West Bengal who is expected to sign it into law.'], ['The new law was inspired following the death of a trainee doctor at R.G. Kar Medical College, wo was found dead with injuries indicating rape and strangulation in a seminar room in the hospital on Aug. 9.'], ['The murder sparked protests and rallies, drawing tens of thousands of people calling for justice.'], ['The suspect in custody, Sanjay Roy, stated he is innocent and is being framed.'], ['Many in India see the bill as a step towards justice and assembly members from the opposition BJP party have lent their full support to its passage.'], ['“You have to put some examples before the people so they will be aware of the punishment,” she said.'], ['“We need to look at not only the act, but what precedes the act,” said Piya Chakraborty, 39, a mental health rights activist.'], ['She believes India needs to focus on larger systemic reforms addressing rape culture and victim blaming.'], ['The current proposal “is an easy way out for the state to say, ‘We’ve got a law,’” said Jhuma Sen, an Advocate practicing at the Calcutta High Court and the Supreme Court.'], ['She says parts of the bill are unconstitutional as Indian law forbids the mandatory minimum punishment for any crime as being the death penalty.'], ['Advocates who oppose the death penalty bill say that capital punishment policies do not deter crime.'], ['Instead, innocent people are framed and sentenced to death as government bodies rush to reach a verdict and appease the public.'], ['Maitreyi Misra, the director of death penalty mitigation at the pro bono legal aid and research center Project 39A, stated that 95% of all Indian death row cases from 2000 to 2015 either ended in acquittals or commutations.'], ['“Procedural safeguards are not being insured,” she said, pointing to flawed interrogations, improper collection of evidence, and lack of representation from lawyers -- all common during rushed investigations and trials.'], ['“What kind of justice are we aiming to have?”'], ['At the rally that Chakraborty attended soon after she spoke to ABC News, a large blue banner condemned the bill, calling for transparent investigation and justice.'], ['“Justice cannot be reduced to revenge,” she said.'], ['West Bengal ADG Police (Law & Order) Manoj Kumar Verma has declared the Nabanna Abhijan Rally scheduled for August 27 as illegal, stating it is an attempt to incite widespread unrest in Kolkata.', 'He emphasised that Nabanna is a restricted area, and no organization has applied for permission to hold a protest near the State Secretariat.', 'Verma highlighted specific intelligence inputs indicating potential unrest and reassured that measures would be taken to ensure that neither exam aspirants nor the general public are inconvenienced.'], ['West Bengal BJP has called a statewide hour-long ‘chakka’ bandh from 11am on September 4 to protest the R G Kar rape-murder case.', \"BJP party activists will gherao the district magistrate\\\\'s office in every district at noon while protests will be held outside the administrative offices in every block on September 2.\"], ['RG Kar Medical College and Hospital principal Manas Kumar Bandyopadhyay arrives at CBI Anti-corruption Branch office in Kolkata.'], ['So far, no organisation has applied to hold a protest near Nabanna.', 'This is a restricted zone and if anyone needs to organise a protest then they first need to apply for permission from the police.', 'We have very specific inputs that some miscreants might try to create a situation of unrest there (near Nabanna).', 'Tomorrow, an exam is being conducted by NTA, we will ensure that neither aspirants nor the general public are inconvenienced: Additional DGP (Law & Order), MK Verma'], ['Tala Police Station in-charge Abhijit Mondal and assistant commissioner R Thapa arrive for questioning at CBI Special Crime Branch office in Kolkata'], ['According to sources, 2,100 cops under the supervision of 97 senior officers will be tasked to ensure safety in and around Nabanna alone, where five separate tiers of command have been created.', 'Each tier will be headed by officers of different ranks.', 'The first tier will have 21 officers of inspector general and deputy inspector general ranks while 13 superintendent or deputy commissioner-level officers will be responsible for the second tier.', 'The third tier will comprise 15 additional superintendent of police-level officers and the fourth command will be led by 22 assistant commissioner or deputy superintendent-level officers.', 'The fifth tier will be managed by 26 inspector-level officers.'], ['Armed with drones, multiple water cannons, tear gas shells and hundreds of guard rails and aluminium alloy walls, 4,500-odd cops from Kolkata Police and West Bengal Police are set to form barricades at seven locations in Kolkata and Howrah to prevent protesters from reaching Nabanna during the Nabanna Abhijan planned by Paschimbanga Chhatra Samaj, or West Bengal Students Society, on Tuesday.'], [\"A US-based doctor involved in India\\\\'s polio eradication and measles surveillance efforts has criticised the brutal rape and murder of a doctor at RG Kar Medical College and Hospital, denouncing the West Bengal government\\\\'s failure to ensure the safety of frontline health workers.\", 'Dr. Ananda Sankar Bandyopadhyay, deputy director of the polio team at the Bill and Melinda Gates Foundation, expressed his shock and sorrow over the incident and called for accountability.'], ['Kolkata cops have decided to reissue summons to 12 organisers of the ‘Reclaim the Night’ demonstrations who have yet to respond to the initial summons.', 'Those in police custody, who will be produced in a Sealdah court on August 28, are also being questioned about the main organizers.', 'A total of 39 people have been arrested so far in this case.'], ['CBI\\\\\\'s polygraph test on Sanjay Roy, the arrested suspect in the RG Kar hospital rape-murder case, flagged \\\\\"false and unconvincing\\\\\" answers to questions on his newly professed \\\\\"innocence\\\\\", investigators said on Sunday after a pair of designated officers conducted the proceedings at Kolkata\\\\\\'s Presidency jail.'], [\"A US-based doctor, who has made significant contributions to India\\\\'s polio elimination and measles surveillance efforts, has condemned the brutal rape and murder of a doctor at RG Kar Medical College and Hospital.\", 'He also criticized the West Bengal government for failing to ensure the safety of frontline health workers.'], ['CBI sleuths on Monday started grilling former principal of RG Kar Medical College and Hospital (RGKMCH) Sandip Ghosh and ex-medical superintendent and vice principal Sanjay Vashisth in connection with their ongoing probe into alleged financial irregularities in the institute.'], ['West Bengal BJP president Sukanta Majumdar claimed the ongoing CBI probe into the alleged financial irregularities in R G Kar Medical College and Hospital showed the nexus between the state and the corrupt hospital lobby.'], ['Stepping up the attack on the ruling Trinamool Congress in West Bengal, BJP state president Sukanta Majumdar has announced a series of programmes to protest the alleged rape and murder of a woman doctor at a state-run hospital here over two weeks back.', 'The programmes will be held across the state between August 28 and September 4.'], ['Former medical superintendent and vice-principal, Sanjay Vashisth arrives at CBI office, in connection with ongoing probe into woman doctor rape and murder case.'], ['In West Bengal, over 6,000 PGT doctors have been agitating since August 10 over the rape and murder case in Kolkata.', 'Despite an appeal from the Supreme Court to resume work, they have stated that they will continue their agitation.'], ['Sanjay Roy, the prime accused in the RG Kar rape and murder, looked unnerved and anxious during the two hours of questioning — and gave “false and unconvincing answers” — during CBI’s polygraph test on him.'], [\"Amid ongoing protests against the brutal rape and murder of a woman doctor at R G Kar Medical College and Hospital in Kolkata, Ganesh Puja committees across the state have decided to forgo all pomp in this year\\\\'s celebrations.\", 'One organizer revealed that their pandal’s theme will focus on the battle against rape.', \"The 15-year-old Shree Shree Ganesh Chaturthi Mahotsab at B B Block in Salt Lake\\\\'s satellite township has canceled all decorative lights from Chandernagore, a Bengal town renowned for its innovative illumination designs.\"], ['Sixteen days have passed since junior doctors across Bengal began their cease-work, and there are no indications of them backing down.', 'In fact, the West Bengal Junior Doctors’ Front (WBJDF), representing all state-run medical colleges, has announced a mass gathering on Monday to present their demands, which now include several new ones.'], [\"Sixteen days into the junior doctors\\\\' strike in West Bengal, there seems to be no end in sight.\"], ['The West Bengal Junior Doctors’ Front (WBJDF), a collective representing every state-run medical college, has announced a mass gathering on Monday, where they plan to present an updated list of demands.'], ['Over 6,000 postgraduate trainee (PGT) doctors have been on strike since August 10.'], ['On Sunday, CBI officials conducted raids at the residences of former RG Kar Medical College and Hospital principal Sandip Ghosh, former MSVP Sanjay Vashisth, and 13 others in and around Kolkata.'], ['The searches are part of an investigation into alleged financial misconduct at the institution.'], [\"The CBI\\\\'s anti-corruption unit also targeted the homes and offices of suppliers involved in patient care and management.\"], ['Since 8 am, at least seven CBI officers have been questioning Ghosh at his Beliaghata residence, while other officials have been interrogating Vashisth and a professor from the forensic medicine department, among others.'], [\"Union Minister and West Bengal BJP president Sukanta Majumdar on Monday questioned the West Bengal police\\\\'s decision to label the \\\\'Nabanna Abhijan\\\\' rally as \\\\'illegal,\\\\' pointing out that students had announced the rally through a press conference, indicating that the police were aware of the event.\"], ['Speaking to ANI, Majumdar said, \\\\\"Tomorrow, West Bengal students are planning to protest peacefully and democratically. What is the point of obstructing that? The students announced it through a press conference, which means the police knew about it. The BJP\\\\\\'s stance is clear—this is not a BJP movement, but we support it. This is a students\\\\\\' movement, a non-political movement, and we stand with the students.\\\\\"'], [\"The \\\\'Nabanna Abhijan\\\\' rally, organized by West Bengal\\\\'s \\\\'Chhatra Samaj,\\\\' is aimed at demanding Chief Minister Mamata Banerjee\\\\'s resignation over the recent rape and murder incident in Kolkata.\"], ['However, West Bengal ADG Police (Law & Order) Manoj Kumar Verma described the rally, scheduled for August 27 to reach the Nabanna or State Secretariat, as illegal and an attempt to incite widespread unrest in Kolkata.'], [\"Amid warnings from the Trinamool Congress and West Bengal Police about potential disruptions, the student organization Chhatra Samaj remains steadfast in its plan to hold the \\\\'Nabanna Abhijan\\\\' rally on August 27.\"], ['The rally, which is set to march toward Nabanna, the Bengal state secretariat, aims to demand the resignation of chief minister Mamata Banerjee and the arrest of those allegedly responsible for the rape-murder of a doctor at RG Kar Hospital.'], ['The call for the march has been issued by the unregistered student group Pashchim Banga Chhatra Samaj (West Bengal Students Community) alongside the Sangrami Joutha Mancha (Joint Platform of Struggle), an organization of state government employees who have been protesting for equal dearness allowance (DA) as their Central government counterparts.'], ['However, the state police have declared the planned rallies as \\\\\"illegal\\\\\" and \\\\\"unauthorized.\\\\\"'], ['They have expressed concerns over potential law and order issues during the march, which has gained significant support through social media platforms.'], ['At a press briefing held at Nabanna, ADG (Law and Order) Manoj Verma stated that the police have received credible intelligence indicating that miscreants may attempt to infiltrate the protest and incite widespread violence.'], ['In response, the government has imposed prohibitory orders under Section 163 of the BNSS, restricting the assembly of five or more people near Nabanna.'], ['Labeling the rally as a \\\\\"conspiracy\\\\\" to create unrest, the Trinamool Congress released videos allegedly showing BJP leaders from Ghatal in Paschim Medinipur district discussing plans to provoke violence during the protest.'], ['Despite these claims, the organizers insist that the rally will remain peaceful.'], ['Union Minister and West Bengal BJP president Sukanata Majumdar says, \\\\\"I have said it from the protesting site yesterday to light a candle in her name, our party workers will do this. I have started this at her home with her family for the peace of the departed soul and justice for the deceased... The video that has come up today, shows how the crime scene has been trampled... I don\\\\\\'t think any evidence would be there. A case should be registered against those who can be seen in that video for tampering with evidence. CBI is taking time and it has to conduct polygraph tests and all as the evidence has been tampered with...\\\\\"'], ['National Task Force formed by the Supreme Court to make recommendations for safety, security and working conditions of medical professionals to have its first meeting tomorrow: Sources'], ['Trinamool Congress (TMC) leader Kunal Ghosh on Monday accused the BJP and CPI(M) (Left) parties of joining forces to create unrest against the TMC and West Bengal in response to the recent rape and murder of a woman doctor in Kolkata.'], ['\\\\\"BJP, CPM, and Congress are all united. The BJP is leading the Nabanna movement, Congress is backing it, and despite what the CPM says, they are all talking about the protest... Ram-Left are coming together to create chaos against TMC and West Bengal,\\\\\" Ghosh said in a statement to ANI.'], ['The Bhartiya Janata party on Monday launched a scathing attack on Mamata Banerjee-led West Bengal government and accused the administration of allowing people to enter the place of crime which led to tampering with the evidence in the alleged rape and murder case of a trainee doctor in RG Kar Medical hospital and collage in Kolkata.'], ['\\\\\"The incident reportedly took place in the seminar hall on the third floor of RG Kar Hospital. Social media and certain news channels have circulated a video suggesting that evidence may have been tampered with, based on people seen standing in the footage. Let me clarify that the seminar hall is a room measuring 51 feet by 32 feet, and when the body was discovered, hospital curtains were used to cordon off the area, and 40 feet from the body no one was allowed to enter. Only designated people were allowed to enter the cordoned off area\\\\\" stated Kolkata Police DC CD Indira Mukherjee during a press conference.'], ['BJP state president Sukanta Majumdar has announced a series of protest programs in response to the alleged rape and murder of a woman doctor at a state-run hospital over two weeks ago.'], [\"**So far only one arrest**': TMC questions \\\\'delay\\\\' in CBI probe of Kolkata rape-murder case\"], ['Trinamool Congress leader Kunal Ghosh on Sunday raised concerns regarding the ongoing investigation into the RG Kar Medical College and Hospital case.', \"He questioned the delay in the CBI\\\\'s actions saying that the only arrest in the case has been made by the Kolkata Police.\", '“One arrest has been made and that too by the Kolkata police.', 'What is the CBI doing?', 'So much delay is happening, so much fake news, politics is going on, too stop all this the case must be solved first,” the TMC leader told news agency ANI.'], ['Banga Ratna awardee teacher decides to return award over Mamata govt handling of RG Kar doctor murder-rape case'], [\"Parimal Dey, a teacher from Alipurduar in West Bengal, who was honoured with the Banga Ratna award by West Bengal Chief Minister Mamata Banerjee in 2019, has decided to return the award over the state government\\\\'s response to the RG Kar Medical College and Hospital rape-murder incident.\", 'Speaking about his decision to ANI, Parimal said, \\\\\"I have decided to return the Banga Ratna award.', \"The way protests happened in Bengal and outside, it is my conscience\\\\'s call that it should give it back.\", 'I support the protest.', 'The way she (Mamata Banerjee) is running the administration is not right.\\\\\"'], [\"Earlier today, the West Bengal Motion Picture Artists\\\\' Forum staged a protest in Tollygunge demanding justice for the victim in the RG Kar Medical College rape-murder incident and urging the Kolkata administration to take responsibility.\"], [\"Members of Republican Party of India (Athawale) stage a protest against the rape and killing of a post-graduate trainee doctor at Kolkata\\\\'s RG Kar Medical College and Hospital.\", 'Visuals from the Jantar Mantar area in New Delhi'], [\"**Kolkata Doctor Rape and Murder Case Live: \\\\'Crimes against women unpardonable, guilty should not be spared,\\\\' says PM Modi**\"], ['Prime Minister Narendra Modi on Sunday said that crimes against women were \\\\\"unpardonable\\\\\" and negligence at any level should be \\\\\"taken to task\\\\\".', 'This came in the light of country witnessing widespread protests after rape and murder of a doctor at a Kolkata hospital and sexual assault of two kindergarten girls in Badlapur.', '“I would like to reiterate to every political party and every state govt that crimes against women are unpardonable.', 'The guilty should not be spared, no matter who he is.', 'People helping him should not be spared either,” he said addressing the Lakhpati Didi Sammelan in Jalgaon, Maharashtra.', '“Negligence at any level be it hospital, school, office or policy system should be taken to task,” he added.'], ['Controversy over SCBA resolution on Kolkata rape incident: Adish Aggarwala demands no-confidence motion against Kapil Sibal'], ['Adish C Aggarwala, the immediate past president of the Supreme Court Bar Association (SCBA), has demanded that the current president, Kapil Sibal, either withdraw a controversial resolution passed on August 21, 2024, or issue a public apology to every SCBA member.', 'Failure to comply could lead to a no-confidence motion against Sibal.', 'In a letter to the current President of the Supreme Court Bar Association (SCBA), Kapil Sibal, Adish C.', \"Aggarwala expressed serious concerns over a resolution related to the tragic rape and murder of a trainee doctor at Kolkata\\\\'s RG Kar Medical College and Hospital.\", 'Aggarwala\\\\\\'s letter criticises Sibal for issuing a purported SCBA resolution that described the incident as a \\\\\"symptomatic malaise\\\\\" and suggested that such incidents are commonplace.', \"Aggarwala states that this resolution was not officially approved by the SCBA\\\\'s Executive Committee, making it invalid.\", 'He accuses Sibal of using his position to undermine the gravity of the incident and of exhibiting a conflict of interest by representing the West Bengal government in related cases while making such statements.'], ['Kolkata Doctor Rape and Murder Case Live: CBI completes polygraph test on accused Sanjay Roy'], ['CBI officials leave from Presidency Jail in Kolkata, after conducting the polygraph test of the arrested accused Sanjay Roy.'], ['Kolkata Doctor Rape and Murder Case Live: Parimal Dey decides to return the Banga Ratna award'], ['Parimal Dey, a teacher from West Bengal\\\\\\'s Alipurduar says, \\\\\"I have decided to return the Banga Ratna award...', 'I support the protest.', 'The way she (Mamata Banerjee) is running the administration is not right.\\\\\"'], ['Kolkata Doctor Rape and Murder Case Live Kolkata Police has extended prohibitory orders around RG Kar Medical College and Hospital for another week, now in effect until August 31.'], ['Earlier CBI officials arrived at Presidency Jail in Kolkata to conduct polygraph test of the arrested accused Sanjay Roy'], ['Breaking: Polygraph test of accused Sanjay Roy underway'], ['Sanjay Roy reportedly broke down when the magistrate asked him why he was giving consent to a polygraph test.', '“I have not committed any crime.', 'I am being framed.', 'Maybe the polygraph test will prove that,” he told the magistrate.'], ['Kolkata Doctor Rape and Murder Case Live Breaking: Polygraph test of key accused Sanjay Roy underway, as per reports.', \"Test conducted by CBI\\\\'s CSFL.\"], ['Kolkata Doctor Rape and Murder Case Live: Heads of Howrah schools face show cause notices for protest rallies'], ['India: Death penalty never the solution to crime and violence against women'], ['Responding to the Aprajita Woman and Child (West Bengal Criminal Laws Amendment) Bill adopted today by the West Bengal state government that introduces the death penalty for the offence of rape when it results in the victim’s death or leaves them “in a vegetative state”, Aakar Patel, Chair of Board at Amnesty International said:'], ['“The authorities must deliver justice and accountability for the horrific rape and murder of the woman doctor at the RG Kar Medical College and hospital in Kolkata in August. However, the death penalty is never the solution, nor it would offer a ‘quick fix’ to prevent violence against women. There is no evidence that it has a unique deterrent effect. Even the Justice Verma Committee that was constituted in 2012 to reform the laws and criminal justice practices relating to crimes of sexual violence, including rape in India and Law Commission of India have opposed the death penalty in cases of violence against women.'], ['“What is actually needed is far-reaching procedural and institutional reform that deals with the root causes of crime and put emphasis on its prevention. Authorities in West Bengal and across India must fully implement recommendations made by the Justice Verma Committee, including police training and reform, preventive measures, and addressing how reports of sexual violence are registered and investigated. These are important first steps that will in the long run make India safer, including for women.'], ['“The authorities must deliver justice and accountability for the horrific rape and murder of the woman doctor at the RG Kar Medical College and hospital in Kolkata in August. However, the death penalty is never the solution, nor it would offer a ‘quick fix’ to prevent violence against women.\\n\\nAakar Patel, Chair of Board at Amnesty International'], ['“We urge the Central Bureau of Investigation (CBI) to conduct a swift and thorough investigation into this appalling case and bring those responsible to justice without recourse to death penalty. Undue delays will further the climate of fear, impunity and uncertainty.”'], ['On 9 August, a 31-year-old trainee doctor was raped and murdered at the RG Kar Medical college and hospital in Kolkata, capital city of the state of West Bengal in eastern India. The events sparked a wave of protests across the country.'], ['On 13 August, the Kolkata High Court reassigned the investigation of the case from the police to the Central Bureau of Investigation (CBI), citing the lack of significant progress and possibility of destruction of evidence. The court also noted serious lapses on the part of the hospital administration.'], ['Today, the West Bengal government adopted the Aprajita Woman and Child (West Bengal Criminal Laws Amendment) Bill that amends the Bharatiya Nyaya Sanhita, 2023, Bharatiya Nyaya Suraksha Sanhita, 2023 and the Prevention of Children from Sexual Offences Act, 2012. The amendments tighten the punishment for various rape offences in the state.'], ['Amnesty International opposes the death penalty in all cases and under any circumstances, regardless of the nature of the crime, the characteristics of the offender, or the method used by the state to carry out the execution. The organization considers the death penalty a violation of the right to life as recognized in the Universal Declaration of Human Rights and the ultimate cruel, inhuman and degrading punishment.'], ['Ali first raised his concerns in March 2023, addressing the state health secretary, the vigilance commission, and the Anti-Corruption Bureau.', 'He followed up with a letter in July, escalating the matter.', 'According to an interview conducted by India Today, a postgraduate student and close friend of a deceased individual, who had his statement recorded by Kolkata Police, confirmed that Ghosh was at the centre of a corrupt network.', '\"After assuming the role, Ghosh formed a select group of over 10-12 MBBS students, including interns and house staff, who were given significant influence in managing student affairs,\" he said.', 'The creation of this inner circle led to widespread discontent among students, who eventually protested against Ghosh, even forcing him to flee the campus.', 'In response, Ghosh arranged for a personal security team.', 'The main allegations against this select group of students include extortion, demanding money in exchange for services such as passing exams or securing hostel accommodation.', 'A doctor interviewed by India Today stated, \"If interns and house staff didn\\\\\\'t report for duty, we couldn\\\\\\'t take action against them because they were close to the principal\\\\\".', 'Before his tenure at RG Kar, Ghosh served as Medical Superintendent and Vice Principal at Calcutta National Medical College, where he also faced allegations of irregularities.', 'In late 2022, Dr.', 'Somnath Das, then Head of the Department of Forensic Medicine and Toxicology at RG Kar, alerted the West Bengal health secretary to financial and other malpractices occurring at the hospital.', 'Das raised serious concerns about unclaimed bodies being used for dissection and teaching before post-mortem examinations were conducted.', 'This led to a complaint filed with the West Bengal Human Rights Commission (WBHRC) after five unclaimed bodies were taken to an ENT workshop for dissection without police notification.', 'Das was subsequently transferred in January 2023.', 'Although India Today could not verify if this was a direct result of his complaints, sources within RG Kar suggest that it was a punitive action for speaking out.', \"Following Das\\\\'s complaint, the WBHRC issued three notices to Ghosh between September 2023 and January 2024, but he failed to appear each time.\"], [\"The RG Kar incident is not an isolated case but rather part of a broader pattern of systemic failures and political patronage that permeates Kolkata\\\\'s governance.\", 'The Sandeshkhali case, where a TMC Panchayat member evaded arrest for 55 days despite serious allegations, is another stark example of the spoils system in action.', 'A local Panchayat member from the ruling Trinamool Congress (TMC), Sheikh Shahjahan, went into hiding for 55 days before eventually being arrested by the West Bengal Police in Minakhan, just a few kilometers from his home in Sandeshkhali.', \"The crisis began when Enforcement Directorate (ED) officials attempted to raid Shahjahan\\\\'s house, only to be attacked by local residents who viewed him as a benefactor responsible for their livelihoods.\", 'Later, residents of Sandeshkhali have come forward with accusations against local TMC leaders, including illegal land grabs and sexual abuse, further demonstrating the unchecked abuse of power in the region.'], ['Demographics may play a role, but incidents in urban settings often see more sustained attention due to ease of accessibility.', 'However, from Sandeshkhali to RG Kar, the underlying narrative remains the same: when bad actors are allowed to thrive, when government safety nets fail, and when undue advantages are granted for political interests, such individuals tend to abuse power and believe themselves invincible.', \"According to sources, Sanjoy Roy\\\\'s friend, who was with him that day, stated in his testimony that Roy was relaxed and felt happy the following day.\", 'Public outrage, both online and on the streets, seems driven by frustration with a government whose immediate response to any crime is denial.', \"The release of audio tapes, where government authorities at the medical college suggested suicide to the victim\\\\'s family, only deepened suspicions.\", 'A protestor participating in the \\\\\"Reclaim the Night\\\\\" march on August 14th told _India Today_ that the outrage is directed at a system failing to ensure women\\\\\\'s security, and also at a ruling government that blatantly provides political patronage.', 'She noted, \\\\\"People resonate with the RG Kar incident because they experience the consequences of political patronage in their daily lives\\\\\".', 'She added that her parents, who run a construction business, are forced to work with a syndicate that operates like a well-oiled machine.', '\"My father has no choice but to purchase construction materials from the local councillor if he wants to stay in business\\\\\".', 'More than 20 days after the alleged crime, protests at both micro and macro levels continue in the city, with a significant portion of the population believing there is an attempted cover-up of the RG Kar incident.'], ['The RG Kar incident also became a breeding ground for misinformation, further eroding public trust.', 'Misleading videos and rumours, including unfounded claims of gang rape, spread like wildfire, exacerbating the public’s anger.', 'Despite multiple misinformation theories being debunked by investigating agencies and the media, the deep-seated mistrust in the system means that many continue to believe that a cover-up is underway, with Sanjoy Roy being used as a scapegoat.', 'The actions of the hospital authorities in commencing renovation work near the crime scene have sparked suspicion, particularly after the vandalism that occurred during the night of August 14 and 15.', 'India Today spoke to a Public Welfare Department (PWD) official overlooking the renovation work.', '\"The renovation work was instructed by the Chest Department after a demand for a proper rest area from the students,\" the official said.', 'However, the urgency with which the renovations were carried out, coupled with the sudden reinstatement of the former RG Kar Principal as the head of the medical college on August 12th, raised further doubts.', 'An assistant professor familiar with the situation revealed to India Today that the renovation work was likely initiated to quell student protests, as they were also advocating for improved working conditions.'], ['The incidents in Kolkata, from the rise of Sanjoy Roy to the RG Kar case, highlight the urgent need for accountability and transparency in governance.', 'The entrenched spoils system has allowed individuals to abuse their positions of power with impunity, while the public continues to pay the price.', 'As protests continue, the call for a system that prioritizes merit, justice, and the rule of law over political patronage grows louder.'], ['A shocking trail of systemic failures and political patronage in West Bengal has allowed corrupt individuals to rise unchecked, leading to crimes that have shaken public trust in governance.'], ['In 2013, a tragic and shocking incident unfolded in Kolkata when a sub-inspector from the Special Branch of Kolkata Police was shot dead in broad daylight while filing nomination papers for a local college election.', 'This audacious crime triggered a wave of controversy and upheaval, leading to the abrupt transfer of the then Police Commissioner of Kolkata, RK Pachananda.', 'The case was handed over to a different department, but despite an arrest and the filing of charges, the prime accused managed to secure bail within two months.'], [\"The accused\\\\'s son now holds a position as a municipal councillor for the ruling party, and the incident itself became symbolic of the entrenched spoils system that plagues the city’s administration.\", 'Some police officers resisted political pressure, but that was back in 2013.', \"Fast-forward to 2024, Sanjoy Roy, the accused in the **[gruesome rape and murder of a trainee doctor in Kolkata](https://www.indiatoday.in/india/story/kolkata-doctor-rape-murder-frantic-calls-doctor-family-reveal-shocking-details-about-her-death-2590069-2024-08-29)** , is a Civic Volunteer, underscoring the system\\\\'s continued decay.\"], ['The Kolkata Police\\\\\\'s eerie silence on the background of Sanjoy Roy stems from a fear of \\\\\"compulsory waiting\\\\\" and \\\\\"walking beyond brief\\\\\".', 'When the Supreme Court rapped the force for a delay in filing of FIR in the RG Kar sexual assault and murder case, the police had pieced a chronology of their investigation, which was shared with the media via a government lawyer.', 'The chronology had professional details of all who were interrogated, barirng the main accused, Sanjoy Roy.', \"The Kolkata Police has only shared source-based sketchy information about Roy\\\\'s association with the force.\", 'As per sources, **[Sanjay Roy became a civic volunteer in 2019](https://www.indiatoday.in/india/story/bjp-bangla-bandh-police-action-nabanna-protesters-mamata-banerjee-west-bengal-trinamool-congress-2589031-2024-08-28)** , where he joined the disaster management group.', \"However, he mysteriously used some connections to end up on the 14-member central committee of Kolkata Police\\\\'s Welfare Board, a position that allowed him to wield the power to transfer police officers.\", 'He used a Kolkata Police registered bike, got a bed in the barracks of the 4th Battalion, and was also provided with 5 litres of free fuel daily.'], ['India Today reached out to Kolkata Police multiple times but got no answer on whether any specific action was initiated against officials/individuals behind the rise of Sanjoy Roy from a civic volunteer to a member of the Welfare Board.', \"Sanjoy Roy\\\\'s misuse of his position culminated in a shocking crime where he allegedly drove a police-registered motorcycle for 15 kilometers while intoxicated before fleeing the scene of the crime.\", 'Neighbours, believing him to be a police officer, reported that Roy had duped a local resident out of Rs 2 lakhs with a false promise of securing a job in the police force.'], [\"Despite serious allegations, including a complaint lodged by his late wife\\\\'s family after he assaulted her while she was three months pregnant, no action was taken against Roy.\"], ['It is widely believed within police circles that Roy enjoyed the protection of a senior officer on the Police Welfare Board.', 'This lack of accountability has left many questioning whether the crime could have been prevented if complaints against Roy had been taken seriously.', 'Despite the lapses in the system of the force which indicate a failure of a safety net, the Kolkata Police is yet to come on record offering transparency about Sanjay Roy and those who facilitated his abuse of power.'], ['The perks that Sanjay enjoyed are not awarded to civic volunteers who are contractual workers enroled to assist the police in crowd management and disaster management, largely.', 'Information in the public domain by Kolkata Police suggests that a civic volunteer will not have any claim as a regular employee of Kolkata Police.'], ['The spoils system is a practice in which a political party, after winning an election, rewards its supporters, friends, and loyalists by giving them government jobs and other favours.', 'This system is based on the idea of political patronage, where positions of power are distributed as rewards for loyalty to the party, rather than on merit or qualifications.'], ['The term originated in the United States in the 19th century, during the presidency of Andrew Jackson, who famously defended the practice by stating, \\\\\"To the victor belong the spoils of the enemy.\\\\\"', 'While the spoils system helped to build and maintain political loyalty, it often led to corruption, inefficiency, crimes, and unqualified individuals occupying important positions in government.'], ['Just like Sanjoy, the treatment of the Trinamool Congress (TMC) government towards the former principal of RG Kar Medical College and Hospital, Sandip Ghosh, after the incident came into light and before is questionable.', \"Despite multiple complaints, no action was initiated against Sandip Ghosh by the state\\\\'s health department.\", 'The West Bengal government formed a Special Investigation Team (SIT) to probe the allegations against Sandip Ghosh only after Akhtar Ali, a former deputy superintendent of the hospital, moved Calcutta High Court seeking Enforcement Directorate (ED) action.', 'The case was filed on August 19 at Tala police station.', 'The complaints against Ghosh were lying in cold until the rape and murder case in RG Kar hospital put a spotlight on him.', 'Both the times he was transferred, he saw the order reversed, once within 24 hours.'], ['Sources within the Trinamool Congress have also agreed that Sandip Ghosh enjoyed clout.', \"Ghosh\\\\'s resignation was followed by a swift reassignment to another post, further underscoring the impunity enjoyed by those with the right connections.\", 'Protesting doctors at RG Kar also put up posters against a North Bengal lobby running a nexus in the government health department.', 'Sandip Ghosh is allegedly a part of the lobby that was initially started by alumni of North Bengal medical college.', 'The doctors mentioned in the posters were unreachable.'], ['The former principal of RG Kar Medical College, Sandip Ghosh, now under investigation by the CBI and ED for alleged financial irregularities, is no stranger to controversy.', 'Ghosh took on the role of principal in January 2021, but his tenure, spanning three and a half years, has been marked by multiple transfers, all stemming from allegations of financial misconduct.', 'Despite these challenges, Ghosh managed to overturn his transfers and return to his position each time.'], ['New protests over rape and murder of Indian doctor see police use water cannon, tear gas on demonstrators'], ['Thousands of angry students and other protesters marched on the streets of eastern Indian city of Kolkata in the West Bengal state on Tuesday demanding justice for a doctor who was brutally raped and killed earlier this month at a city hospital.'], ['The police used water cannon and tear gas to disperse protesters who were on their way to the state secretariat building to demand the resignation of Mamata Banerjee, chief minister of the West Bengal state, whom they accuse of mishandling the case.'], ['Indian TV networks aired videos showing protesters climbing barricades that had been placed at the Howrah Bridge, as police used water cannons to stop them.'], ['The brutalized body of a 31-year-old doctor was found with multiple injuries in a lecture hall at the state-run R.G. Kar Medical College and Hospital in Kolkata on Aug. 9.'], ['The female doctor had gone to the lecture hall to rest during a night shift when she was attacked.'], ['An autopsy confirmed sexual assault and multiple injuries sustained before she died, suggesting she resisted and may have been tortured before being murdered.'], ['The Kolkata Police arrested a volunteer member of the force on Aug. 10 and have charged him with rape and murder, but the brutality of the case has drawn nationwide outrage, with medics across the country demanding safer workplaces and citizens demanding safety for women in a country with a shameful record of rape.'], ['Doctors at public hospitals across India refused to work last week, turning away all but emergency patients as part of a national strike over the rape and murder.'], [\"Kolkata police had turned the city into a virtual fortress ahead of Tuesday\\\\'s planned protest, barricading all roads leading to the state secretariat and deploying 6,000 personnel in full riot gear.\"], ['The police said they had not given permission for the protest march, and the Trinamool Congress party, which is in power in West Bengal state, alleged that it was an attempt by opposition parties to create unrest in the city.'], ['Police clashed with the protesters Tuesday morning as some of the crowd managed to climb over the barricades, but the demonstrators were stopped before they could reach the state secretariat.'], ['The Bharatiya Janata Party (BJP), which is the opposition in West Bengal, claimed several students were injured Tuesday amid the clashes with the police and called for a new, 12-hour general strike in the state on Wednesday to protest the response.'], [\"India\\\\'s federal Central Bureau of Investigations (CBI), which was tasked with investigating the rape-murder in Kolkata, subjected the prime suspect, Sanjay Roy, to a polygraph test last week, the results of which were yet to be released Tuesday.\"], [\"Many in the country hope the results will shed new light on whether other people could have been involved in the attack, as has been suggested by the victim\\\\'s father.\"], ['India reported an average of nearly 90 rapes per day in 2022, according to the most recent data available from the National Crime Records Bureau.'], ['Experts believe the real number could be much higher, as many rapes go unreported due to prevailing stigmas around sexual violence and a lack of faith in police investigations.'], [\"Conviction rates remain low, with many cases becoming mired for years in India\\\\'s overwhelmed criminal justice system.\"], ['Indian state passes law seeking death penalty for rape, after doctor’s murder sparks protests'], ['The law raises punishment for rape from the current sentences of at least 10 years to either life imprisonment or execution'], ['Protests erupted in West Bengal after the discovery of a 31-year-old doctor’s bloodied body at a state-run hospital in the local capital Kolkata on August 9.'], ['The law, passed by the state assembly but yet to be approved by the president, expresses outrage at the chronic issue of violence against women.'], ['The new West Bengal law is largely symbolic because India’s criminal code applies uniformly across the country.'], ['However, presidential approval could make an exception and see it become state law.'], ['The law raises punishment for rape from the current sentences of at least 10 years to either life imprisonment or execution.'], ['Kolkata rape-murder case highlights: Locals protest at College Square in city', 'Kolkata rape-murder case highlights: BJP continues its seven-day dharna in West Bengal; resident doctors to hold health camps across Kolkata today.'], ['War of words over the steps taken to tackle crimes against women continued between the ruling Trinamool Congress and the Union government.', \"After Chief Minister Mamata Banerjee\\\\'s second letter to Prime Minister Narendra Modi seeking a stringent Central law, Union Women and Child Development Minister Annapurna Devi asked the West Bengal government to expedite the setting up of fast-track courts.\", 'She said the information given by the state government regarding such courts as “inaccurate” and added that it indicated an attempt to cover up the delay in trial of cases of crimes against women.'], ['Meanwhile, the Indian Medical Association (IMA) in its letter to the National Task Force (NTF), reemphasised its demand for a central law to ensure the safety of doctors and medical professionals.', 'The NTF was constituted by the Supreme Court with a mandate to formulate a protocol for ensuring the safety and security of healthcare professionals.'], ['The West Bengal Junior Doctors’ Front (WBJDF) will hold free-of-cost Abhaya Clinic health camps across the city today.', 'Protesting junior doctors at RG Kar Medical College and Hospital have also launched the initiative named ‘Abhaya Telemedicine Clinic’.'], ['Rumours on the alterations of crime scene continue with video and audio leaks, weeks after the CBI) took over probe into the gruesome rape and murder of a female doctor.', 'The agency concluded a second round of polygraph tests on former principal Sandip Ghosh and will submit a progress report on the investigation to the Calcutta High court on September 17.', 'The Enforcement Directorate (ED) is also investigating charges of money laundering against Dr Ghosh.'], [\"Kolkata rape-murder case live updates: V-P Dhankhar questions certain NGOs\\\\' silence\", 'Kolkata rape-murder case live updates: Vice-President Jagdeep Dhankhar on Sunday criticised “certain NGOs” for their silence on the violence against a \\\\\"health warrior\\\\\" at Kolkata\\\\\\'s RG Kar Medical College and Hospital, describing the incident as \\\\\"barbarity expressed in extremity.\\\\\"', 'Speaking to students and faculty at the All India Institute of Medical Sciences (AIIMS) in Rishikesh, the vice-president added that such horrific incidents, which disgrace the entire civilization and undermine the values that Bharat stands for, should not be viewed through a political lens.'], ['Kolkata rape-murder case live updates: TMC demands CBI to build strong case to ensure ‘rapist is hanged’', 'Kolkata rape-murder case live updates: West Bengal minister and Trinamool Congress leader Chandrima Bhattacharya demanded on Sunday that the Central Bureau of Investigation (CBI) strengthen its case in the RG Kar rape and murder case to ensure \\\\\"the rapist is hanged.\\\\\"'], [\"During a protest in Kolkata against the case, Bhattacharya noted that Chief Minister Mamata Banerjee had instructed the party\\\\'s Mahila Congress to organize demonstrations over the incident.\", 'Chandrima Bhattacharya said,“On 28th August, our leader (Mamata Banerjee) had given directions to Trinamool Mahila Congress to stage a demonstration on 1st September in every block.', 'CBI has not said a word about investigation so far, our demand is for them to tell us about the progress of the investigation and build such a case that the rapist is hanged.”'], ['Regarding the alleged molestation of a nurse in Birbhum, Union Minister and BJP State President Sukanta Majumdar said, “The administration has utterly failed, and the police system here is in complete disarray.', 'If anyone is to blame for this situation, it is Mamata Banerjee.', 'She no longer has the moral authority to hold her position.', 'It would be beneficial for Bengal if Mamata Banerjee stepped down.”'], ['Workers of the ruling Trinamool Congress hold a protest demanding that the CBI disclose the progress in the investigation of the case so far, and a provision for capital punishment in the Constitution.'], [\"Locals hold protest in Kolkata\\\\'s College Square, over the RG Kar Medical College and Hospital rape-murder case.\"], [\"Amid the uproar over the recent rape and murder of a doctor in Kolkata, a lab technician at another state-run hospital in West Bengal\\\\'s Howrah district has been accused of allegedly molesting a 12-year-old girl who had been admitted the previous week, news agency PTI reported citing police.\"], ['“Certain NGOs which come on the road at the drop of a hat, are in silence mode.', 'We have to question them.', 'Their silence is much worse than the culpable act of perpetrators of this heinous crime that happened on August 9.', 'Those who seek to play politics and brownie points, keep on writing letters to one another, are not responding to the call of their conscious,\" he said.'], ['The Central Bureau of Investigation (CBI) has been questioning the ex-principal of the RG Kar hospital, Dr Sandip Ghosh, daily for 15 days.', 'It subjected him to the polygraph test as well.', 'However, it is still trying to solve the puzzle linked to the Kolkata doctor rape-murder case.'], ['“A serious crime has been committed against a woman and the Supreme Court itself is taking cognisance of it.', 'She (Mamata) should be ashamed as she is also a woman and chief minister.', 'Law and order is a state subject and if she (Mamata) cannot handle it, then she should leave it and resign.', 'She should stop blaming other people.', 'The people of India have understood what she wants to say,\" Union minister Jitan Ran Manjhi told ANI.'], ['An on-duty nurse was allegedly molested by a male patient at a government-run health centre in Ilambazar of Birbhum district in West Bengal on Saturday night.', 'The incident comes at a time when nationwide protests are underway over the August 9 rape and murder of a trainee doctor at RG Kar Medical College and Hospital in state capital Kolkata.'], ['The Indian Medical Association (IMA) submitted a three part representation to the Supreme Court constituted National Task Force (NTF).', 'It included its justification for a central act, a draft proposal of the act and other annexures.', 'IMA said a central law would prevent violence across all sectors.', 'The IMA demanded that hospitals be declared as safe zones.', 'It also asked for improving working and living conditions of resident doctors.'], ['The Central Bureau of Investigation (CBI) has been questioning the ex-principal of the RG Kar hospital, Dr Sandip Ghosh, daily for 15 days.', 'It subjected him to the polygraph test as well.', 'However, it is still trying to solve the puzzle linked to the Kolkata doctor rape-murder case.', 'Sandip Ghosh had been trying to deflect the blame on why the hospital officials tried to mislead the parents of the deceased woman.'], ['As Chief Minister Mamata Banerjee wrote a second letter to Prime Minister Narendra Modi to demand a central law against rape, Union Minister for Women and Child development Annapurna Devi hit back on Saturday citing the lack of mandated number of fast-track courts to deal with crimes against women in West Bengal.', \"Devi further emphasised the significant backlog in the state\\\\'s justice system, with over 81,000 cases pending in the FTCs as of June 30, 2024.\", 'She expressed concern that the state has yet to operationalise an additional 11 FTSCs to meet the increasing demand, despite a backlog of 48,600 rape and POCSO cases.'], ['The Kolkata Police on Saturday released from its custody Sayan Lahiri, claimed to be one of the organisers of the August 27 march to the West Bengal secretariat to protest the alleged rape and murder of a doctor at RG Kar Medical College and Hospital.', 'Granting bail to the student leader, the Calcutta High Court on Friday had said that Mr.', 'Lahiri appears to be an absolutely insignificant character who does not hold any position of power or influence “in the massive cry for justice in the aftermath of the R.G.', 'Kar incident”.'], ['Amid widespread protests in Kolkata over the rape and murder of a woman doctor, singer Shreya Ghoshal postponed her concert slated for September 14 to October.', '“I am deeply affected by the gruesome and heinous incident that recently took place in Kolkata.', 'Being a woman myself, the very thought of the sheer brutality that she must have gone through is unthinkable and sends shivers down my spine.', 'With an aching heart and with deep sorrow, my promoters and I wish to reschedule our concert ‘Shreya Ghoshal Live, All Hearts Tour Ishq FM Grand Concert’ which was originally scheduled for the 14th of September 2024 to a new date in October 2024,” Ghoshal wrote in her statement.'], ['Several members of various civil society organisations will continue their protest today demanding justice for the deceased doctor.', 'A ‘Maha Michhil’ (mega rally) consisting of people from different professions is also scheduled from College Square in central Kolkata to Esplanade on Sunday afternoon.', '“This is a non-political front and the movement was conceived on social media.', 'It is set to register a turnout of thousands,” a protester told PTI'], ['Numerous rallies and demonstrations are scheduled to be held in Kolkata demanding justice for the trainee doctor who was allegedly raped and killed at the RG Kar Medical College and Hospital on August 9.', 'The ruling TMC will stage demonstrations at different blocks, demanding amendment in laws for capital punishment of rapists, even as the opposition BJP continues its sit-in at Esplanade that started on August 29.'], ['Kolkata rape-murder case: Live updates: Resident doctors to continue symbolic protests demanding justice'], ['Cyclone Dana is likely to intensify further into a severe cyclonic storm over northwest Bay of Bengal and make landfall between Bhitarkanika National Park and Dhamra port in Odisha early Friday.'], ['Queen Elizabeth II \\\\(centre\\\\) with Anne and Charles in 1970 as they passed through the crowds at the Royal Easter Show in Sydney.'], ['Mourners gathered at Worli crematorium to pay their last respects to Ratan Tata ahead of the cremation ceremony in Mumbai on Thursday.'], ['BJP supporters celebrate at BJP HQ after assembly election results in New Delhi, India, on Tuesday.'], [\"Omar Abdullah, a likely contender for the chief minister\\\\'s position after winning in both Budgam and Ganderbal, expressed his gratitude to the voters for their support.\"], [\"CJI DY Chandrachud reminisces about his time as All India Radio presenter: \\\\'I did western music for AIR\\\\'\"], ['Mumbai police releases video guide to spot tampered auto-rickshaw meters. Watch'], ['Indian student accuses Oxford University of racial bias over PhD rejection'], ['Telangana man claims to find a lizard floating in a Budweiser beer bottle. Watch'], ['Explained: Is BRICS De-Dollarisation Push Linked To India-Canada Fight?'], ['Siddique Shooters Wanted To Kill Another Key Figure; Comedian In Gang Hit List?'], ['After Bishnoi Gang’s Warning, Salman Khan At Siddique Funeral; Police Says...'], ['Baba Siddique Killed: From Congress To NCP And Iftar Parties With Salman, SRK'], ['Ratan Tata: How He Turned Tata Into A Global Empire'], ['realme NARZO 70 Pro 5G \\\\(Glass Green, 8GB RAM,128GB Storage\\\\) Dimensity 7050 5G Chipset | Horizon Glass Design | Segment 1st Flagship Sony IMX890 OIS Camera'], ['realme NARZO 70 Pro 5G \\\\(Glass Gold, 8GB RAM,256GB Storage\\\\) Dimensity 7050 5G Chipset | Horizon Glass Design | Segment 1st Flagship Sony IMX890 OIS Camera'], ['Nokia G42 5G | Snapdragon® 480+ 5G | 50MP Triple AI Camera | 11GB RAM \\\\(6GB RAM + 5GB Virtual RAM\\\\) | 128GB Storage | 5000mAh Battery | 2 Years Android Upgrades | 20W Charger Included | So Grey'], ['realme NARZO 70 Pro 5G \\\\(Glass Gold, 8GB RAM,128GB Storage\\\\) Dimensity 7050 5G Chipset | Horizon Glass Design | Segment 1st Flagship Sony IMX890 OIS Camera'], ['CJI DY Chandrachud reminisces about his time as All India Radio presenter. Watch'], ['German Chancellor Scholz to meet PM Modi today for bilateral talks'], ['Cyclone Dana landfall continues: Flights resumed in Odisha, Kolkata; bus services disrupted'], [\"NIA announces ₹10 lakh bounty for gangster Lawrence Bishnoi\\\\'s brother Anmol Bishnoi last seen in Canada\"], ['Cyclone Dana triggers heavy rainfall, uproots trees, snaps power lines'], ['Indian cos need to build research opportunities to retain AI talent: Meta AI scientist'], [\"Zeeshan Siddique, Baba Siddique\\\\'s son, joins Ajit Pawar\\\\'s NCP; to contest from Bandra East\"], ['Morning briefing: Odisha woman delivers baby during cyclone Dana; India may ease visas for Chinese experts, and more'], ['US poll series part 6: Trump is winning political, Harris personality argument'], ['Cyclone Dana: Odisha sees 1,600 deliveries as women evacuate to safety'], ['India\\'s top court has said the recent rape and murder of a trainee doctor in West Bengal state has \\\\\"shocked the conscience of the nation\\\\\" and criticised authorities for their handling of the investigation.'], [\"The 31-year-old woman\\\\'s body was found earlier this month in the seminar room of a state-run hospital in Kolkata [where she worked](https://www.bbc.com/news/articles/crmwj4z1xpko).\"], ['A hospital volunteer worker has been arrested in connection with the crime, and the Central Bureau of Investigation has now taken over the case.'], ['The crime has sparked huge protests in the country.'], ['On Tuesday, Chief Justice of India (CJI) DY Chandrachud, who was hearing the case, ordered the setting up of a National Task Force (NTF) to reccommend safety protocols for healthcare professionals at workplaces.'], ['He listed out a range of problems plaguing medical institutions, including a lack of resting rooms and toilets, functional CCTV cameras, security personnel and adequate screening for arms at entrances.'], ['The court asked the task force, which would include top doctors and government officials, to look into the situation and file an interim report in three weeks and a final report in two months.'], ['During the hearing, the CJI also criticised the West Bengal government and police force and questioned why there was a delay in registering the initial complaint - known as a First Information Report (FIR) - in the case?'], ['He added that he was \\\\\"deeply concerned\\\\\" that the name of the victim and her photographs were shared on social media.'], ['Indian laws prohibit naming of a rape victim and those guilty can be fined or sentenced to up to two years in prison.'], [\"The court also condemned the attack on RG Kar Medical College - the site of the crime - and questioned why adequate security measures hadn\\\\'t been put in place to control the violence.\"], [\"A mob had vandalised the emergency ward of the hospital during last week\\\\'s Reclaim the Night protest in which tens of thousands of women had participated.\"], ['\\\\\"The power of the state should not be unleashed on peaceful protesters,\\\\\" the chief justice said.'], [\"The woman\\\\'s murder has sparked an outpouring of anger across India, especially in West Bengal state of which Kolkata is the capital.\"], ['At the weekend, doctors across hospitals in India observed a nation-wide strike called by the Indian Medical Association (IMA).'], ['Elective surgeries and outpatient treatments were suspended with only emergency services available at major hospitals.'], ['The IMA issued a list of demands, including the strengthening of the law to better protect medical staff against violence, increasing security at hospitals and creation of safe spaces for rest.'], ['The case has also sparked a political row with the West Bengal state government, led by Chief Minister Mamata Banerjee, accused of mishandling the aftermath of the murder.'], [\"Leaders of the India\\\\'s governing Bharatiya Janata Party (BJP), which is in the opposition in the state, have accused Ms Banerjee\\\\'s government of cracking down on peaceful protests.\"], ['Last week, the Kolkata High Court criticised the local police for lapses and transferred the case to the Central Bureau of Investigation (CBI).'], ['The parents of the doctor, who declined compensation offered by the state government, have criticised the management of the medical college for failing to ensure safety at the workplace.'], ['They told local media they had lost trust in the chief minister and accused her of attempting to stifle public outrage.'], ['Ms Banerjee has defended the actions of her government, saying state police had completed 90% of the investigation before it was handed over to the CBI.'], ['She has also accused opposition parties of exploiting the incident for political gain.'], ['Ms Banerjee said she wanted the investigation to be completed quickly and called for the culprits to be hanged.'], ['On Saturday, the state government announced a slew of measures for women\\\\\\'s safety at workplaces, including designated retiring rooms and CCTV-monitored \\\\\"safe zones\\\\\" at state-run hospitals.'], ['Meanwhile, the [Kolkata police have served notices](https://indianexpress.com/article/cities/kolkata/kolkata-doctor-rape-case-victims-identity-kolkata-police-notices-misinformation-tmc-bjp-9522728/) to more than 200 students, activists and political party members for allegedly spreading \\\\\"false information\\\\\" about the case and for revealing the victim\\\\\\'s identity.'], ['**Kolkata rape-murder case: CBI probe so far reveals ‘no gangrape’, crime scene altered**', '**Kolkata doctor rape-murder case: The CBI told the court that the crime scene was “altered”. However, the West Bengal government refuted the claim in the Supreme Court on Thursday.**', 'The Central Bureau of Investigation (CBI) submitted a status report on the Kolkata doctor rape-murder case before the Supreme Court on Thursday.', 'In its report, the CBI claimed the crime scene was altered, and the West Bengal Police told parents initially that it was a suicide.', '**Also Read** | [Kolkata Doctor Case Hearing Live: SC says ‘no action against protesting medicos’](https://www.livemint.com/news/india/kolkata-rape-murder-case-live-updates-august-22-supreme-court-hearing-today-cbi-status-report-rg-kar-hospital-news-11724291482327.html)', 'The Supreme Court was hearing a suo motu case which pertains to the [alleged rape and murder of a 31-year-old trainee doctor](https://www.livemint.com/news/india/sc-warns-against-revealing-kolkata-rape-victims-identity-know-penalties-punishment-bns-section-72-11724150539362.html) in the seminar hall of the RG Kar College and Hospital in Kolkata.', 'The heinous crime took place on August 9.', 'Parents claimed they received a call in the morning from the [Assistant Superintendent of the Chest Medicine Department ](https://www.livemint.com/news/kolkata-rape-murder-rg-kar-hospital-victim-family-opd-west-bengal-cv-ananda-bose-cbi-crime-against-women-tmc-protest-11723596915996.html)informing them that their daughter had died by suicide.', \"They also said they had to wait three hours before authorities allowed them to see their daughter\\\\'s body.\", 'They said they found the body [in a half-naked condition](https://www.livemint.com/news/india/horrific-animal-like-instinct-sc-hauls-up-mamata-banerjees-bengal-govt-on-kolkata-rape-murder-horror-10-points-11724133234370.html).', 'The CBI took over the probe into the case from the Kolkata Police on August 13.'], ['## What has CBI probe revealed so far?', '**1. Crime scene altered:** Solicitor General Tushar Mehta, representing the CBI in the court, said the crime scene was altered when the[ CBI entered the investigation ](https://www.livemint.com/news/india/cbi-probe-affected-in-kolkata-rape-murder-case-as-no-lawyer-ready-to-represent-accused-sanjay-roy-heres-what-it-means-11724241756733.html)on the fifth day.', \"Advocate Kabil Sibal, appearing for the West Bengal government, countered Tushar Mehta\\\\'s submission, saying everything is videographed and not altered.\", '**2. Parents were initially told it was suicide:** Mehta said the police registered the first FIR after cremation at 11:45 pm.', '“Then they told parents that it was suicide, then death and then friends of the doctor at the hospital insisted on videography, and thus they also suspected something is amiss,” he was quoted by _Bar and Bench_ as saying.', 'During the hearing on Thursday, the Supreme Court asked the reason for the 14-hour delay in lodging an FIR of the incident.', 'Kapil Sibal said, “...it was the father of the deceased who did not permit the filing of FIR.”', '**3. No gangrape?** Sources told _India Today_ that the CBI probe does not indicate that the trainee doctor was gangraped.', 'The investigation suggested that[ Sanjay Roy, a civic volunteer arrested for the crime, was the only person involved](https://www.livemint.com/news/india/kolkata-doctor-rape-murder-case-triggers-five-questions-legs-torn-apart-suicide-gang-rape-evidence-tampering-11723654702064.html).', 'Police arrested Roy on August 10, a day after the rape and murder, in the RG Kar College and Hospital premises.', 'The DNA report also reportedly confirmed the involvement of one person.', 'As per the _India Today_ report, the forensic report indicated that the doctor was raped and killed by Roy.', 'However, the CBI is yet to conclude its investigation into the alleged involvement of more people in the case.'], ['## What else happened in SC today', 'During the court hearing on Thursday, there was confusion over when the “unnatural death” (UD) case was registered.', 'The Supreme Court expressed surprise that the “postmortem preceded registration of UD case.”', 'Justice Pardiwala asked the West Bengal government if they sent the body for postmortem, was it then a case of unnatural death or not?', '“If it was not unnatural death, then what was the need for a postmortem? When you start doing the postmortem, then it is a case of unnatural death.', 'UD case of 861 of 2024 registered at 23:30 hours, and FIR registered at 23:45.', 'Is this record correct?” the judge asked.', '**Also Read** | [‘Extremely disturbing’ Kolkata police delay in registering unnatural death: SC](https://www.livemint.com/news/india/kolkata-doctor-case-hearing-supreme-court-cji-chandrachud-kolkata-police-west-bengal-govt-rg-kar-hospital-women-rape-11724313187677.html)', 'Sibal stated that the unnatural death case was registered at 1:45 pm.', 'He told the court, “The postmortem report and the seizure list all had the UD case report time and number.', 'Even the inquest report has it.', 'This is all mentioned in the case diary.”', 'The Supreme Court also asked the West Bengal government about the role of [Sandip Ghosh, the ex-principal of RG Kar Medical College, ](https://www.livemint.com/news/india/kolkata-doctor-rape-case-accused-sanjoy-roy-thrashed-wife-caused-miscarriage-mother-in-law-reveals-shocking-details-11724085169736.html)after the alleged rape and murder of the 31-year-old doctor in the seminar room.']]\n"
          ]
        }
      ]
    },
    {
      "cell_type": "code",
      "source": [
        "combined_data = [item.get('content') for item in related_content]\n",
        "flattened_data = list(itertools.chain.from_iterable(combined_data))\n",
        "long_string = \"\".join(flattened_data)\n",
        "\n",
        "long_string"
      ],
      "metadata": {
        "id": "hLpS3Ns3lBox",
        "colab": {
          "base_uri": "https://localhost:8080/",
          "height": 1000
        },
        "outputId": "9800f347-40cd-41a5-f241-b99f327759c4",
        "collapsed": true
      },
      "execution_count": null,
      "outputs": [
        {
          "output_type": "execute_result",
          "data": {
            "text/plain": [
              "'A woman from West Bengal\\\\\\'s Darjeeling was allegedly raped in Delhi for a week by her friend who also thrashed and tortured her by \\\\\"pouring hot dal\\\\\", police said on Tuesday.A purported video of three monks being attacked by a mob in West Bengal\\\\\\'s Purulia over suspicion that they were \\\\\"kidnappers in disguise\\\\\" has triggered a political row, with opposition BJP alleging collapse of law and order in the state.An accused in the murder of ex-model Divya Pahuja was arrested from West Bengal yesterday, the police said.The National Commission for Women (NCW) registered 28,811 complaints of crime against women last year and about 55 per cent were from Uttar Pradesh.Two men were arrested in connection with the smuggling of counterfeit banknotes of Rs 500 denomination from West Bengal to Delhi, police said on Wednesday.A Lieutenant Colonel in the Army posted at Uttarakhand\\\\\\'s Dehradun has admitted to murdering a Nepali woman whom he had spotted at a dance bar in West Bengal\\\\\\'s Siliguri and brought along to the hill state.CCTV Footage Shows Man On Bicycle Before He Killed Bengal SchoolgirlThe man who has been accused of kidnapping and murder of a schoolgirl in West Bengal\\\\\\'s South 24 Parganas district was seen inside a shop before he committed the crime on Friday, CCTV footage showed.\\\\\"To Cover Up Delays...\\\\\": Centre On Mamata Banerjee\\\\\\'s Letter On Rape CasesThe Union Women and Child Development Minister has responded to West Bengal Chief Minister Mamata Banerjee\\\\\\'s second letter, seeking a stringent law and exemplary punishment on heinous crimes such as rape and murder.\\\\\"Not Sincere Efforts\\\\\": BJP\\\\\\'s Swipe At Bengal Government Over Murder ProbeTaking a swipe at West Bengal Chief Minister Mamata Banerjee, Defence Minister Rajnath Singh said that many states are not sincere about tackling the rising crimes against women.151 MPs, MLAs Face Cases Of Crimes Against Women, 16 With RapeAs many as 151 sitting MPs and MLAs have declared cases related to crimes against women in their election affidavits, with West Bengal having the highest number of lawmakers facing such cases, according to a recent report by a poll rights body.Kerala Court Gives Madhya Pradesh Man 33-Year Jail Term For Raping GirlA Kerala court on Friday convicted and sentenced a man from Madhya Pradesh to a cumulative 33 years of imprisonment for raping a 15-year-old girl who hailed from West Bengal, at Poopara in this hilly district of the state.Bengal Student Arrested Over Alleged Links With Bangladesh Terror OutfitThe Special Task Force (STF) of West Bengal Police has arrested a college student and detained five others from Panagarh area in Paschim Bardhaman district for their alleged links with a Bangladesh-based terror outfit, a senior officer said on SundayCBI Gets Around 50 Complaints On Email In Sandeshkhali Case On First DayThe CBI has received around 50 complaints related to alleged land grab, atrocities on women and other crimes on the first day of launching a dedicated email ID for people to report such offences in West Bengal\\\\\\'s Sandeshkhali village, officials on FriCBI Announces Dedicated Email For Sandeshkhali Victims To Report CrimesThe CBI announced a dedicated email address for registration of complaints regarding crimes against women and land grabbing in Sandeshkhali in West Bengal.\\\\\"First Step Towards Justice\\\\\": Smriti Irani On CBI Probe In Sandeshkhali CaseBJP leader and Union minister Smriti Irani on Wednesday welcomed the Calcutta High Court\\\\\\'s order for a CBI probe into allegations of crimes against women and land grabbing in West Bengal\\\\\\'s Sandeshkhali and said it was the first step towards providingCBI Announces Dedicated Email For Sandeshkhali Victims To Report CrimesThe CBI announced a dedicated email address for registration of complaints regarding crimes against women and land grabbing in Sandeshkhali in West Bengal.\\\\\"First Step Towards Justice\\\\\": Smriti Irani On CBI Probe In Sandeshkhali CaseBJP leader and Union minister Smriti Irani on Wednesday welcomed the Calcutta High Court\\\\\\'s order for a CBI probe into allegations of crimes against women and land grabbing in West Bengal\\\\\\'s Sandeshkhali and said it was the first step towards providingCCTV Footage Shows Man On Bicycle Before He Killed Bengal SchoolgirlThe man who has been accused of kidnapping and murder of a schoolgirl in West Bengal\\\\\\'s South 24 Parganas district was seen inside a shop before he committed the crime on Friday, CCTV footage showed.\\\\\"To Cover Up Delays...\\\\\": Centre On Mamata Banerjee\\\\\\'s Letter On Rape CasesThe Union Women and Child Development Minister has responded to West Bengal Chief Minister Mamata Banerjee\\\\\\'s second letter, seeking a stringent law and exemplary punishment on heinous crimes such as rape and murder.\\\\\"Not Sincere Efforts\\\\\": BJP\\\\\\'s Swipe At Bengal Government Over Murder ProbeTaking a swipe at West Bengal Chief Minister Mamata Banerjee, Defence Minister Rajnath Singh said that many states are not sincere about tackling the rising crimes against women.151 MPs, MLAs Face Cases Of Crimes Against Women, 16 With RapeAs many as 151 sitting MPs and MLAs have declared cases related to crimes against women in their election affidavits, with West Bengal having the highest number of lawmakers facing such cases, according to a recent report by a poll rights body.Kerala Court Gives Madhya Pradesh Man 33-Year Jail Term For Raping GirlA Kerala court on Friday convicted and sentenced a man from Madhya Pradesh to a cumulative 33 years of imprisonment for raping a 15-year-old girl who hailed from West Bengal, at Poopara in this hilly district of the state.Bengal Student Arrested Over Alleged Links With Bangladesh Terror OutfitThe Special Task Force (STF) of West Bengal Police has arrested a college student and detained five others from Panagarh area in Paschim Bardhaman district for their alleged links with a Bangladesh-based terror outfit, a senior officer said on SundayCBI Gets Around 50 Complaints On Email In Sandeshkhali Case On First DayThe CBI has received around 50 complaints related to alleged land grab, atrocities on women and other crimes on the first day of launching a dedicated email ID for people to report such offences in West Bengal\\\\\\'s Sandeshkhali village, officials on FriCBI Announces Dedicated Email For Sandeshkhali Victims To Report CrimesThe CBI announced a dedicated email address for registration of complaints regarding crimes against women and land grabbing in Sandeshkhali in West Bengal.\\\\\"First Step Towards Justice\\\\\": Smriti Irani On CBI Probe In Sandeshkhali CaseBJP leader and Union minister Smriti Irani on Wednesday welcomed the Calcutta High Court\\\\\\'s order for a CBI probe into allegations of crimes against women and land grabbing in West Bengal\\\\\\'s Sandeshkhali and said it was the first step towards providingDelhi Man Rapes, Tortures Woman For 7 Days; Used To Pour \\\\\\'Hot Dal\\\\\\' On HerA woman from West Bengal\\\\\\'s Darjeeling was allegedly raped in Delhi for a week by her friend who also thrashed and tortured her by \\\\\"pouring hot dal\\\\\", police said on Tuesday.\\\\\"Facts Misrepresented\\\\\": Bengal Police As Video Of Attack On Sadhus ViralA purported video of three monks being attacked by a mob in West Bengal\\\\\\'s Purulia over suspicion that they were \\\\\"kidnappers in disguise\\\\\" has triggered a political row, with opposition BJP alleging collapse of law and order in the state.Man Who Allegedly Dumped Ex Model Divya Pahuja\\\\\\'s Body In River ArrestedAn accused in the murder of ex-model Divya Pahuja was arrested from West Bengal yesterday, the police said.Women\\\\\\'s Panel Received 28,811 Complaints Of Crime Against Women In 2023The National Commission for Women (NCW) registered 28,811 complaints of crime against women last year and about 55 per cent were from Uttar Pradesh.2 Arrested For Smuggling Fake 500 Notes From Bengal To Delhi: CopsTwo men were arrested in connection with the smuggling of counterfeit banknotes of Rs 500 denomination from West Bengal to Delhi, police said on Wednesday.Nepali Woman\\\\\\'s Affair With Married Army Officer Ends In A Dehradun MurderA Lieutenant Colonel in the Army posted at Uttarakhand\\\\\\'s Dehradun has admitted to murdering a Nepali woman whom he had spotted at a dance bar in West Bengal\\\\\\'s Siliguri and brought along to the hill state.A girl who had left home to attend a coaching class has allegedly been kidnapped and murdered in West Bengal\\\\\\'s South 24 Parganas district, sparking anger and protests.A police camp has also been vandalised and set on fire.Wife Of Murdered Bengal Congress Leader Died Of Poisoning: Autopsy ReportPurnima Kandu, the wife of Tapan Kandu, was elected a municipal councillor in Bengal\\\\\\'s Jhalda after he was murdered in March 2022.\\\\\"Call Off Hunger Strike\\\\\": Mamata Banerjee Speaks To Doctors After UltimatumTaking steps to resolve the impasse with protesting doctors, West Bengal Chief Minister Mamata Banerjee spoke to them over the phone on Saturday and urged them to withdraw their fast-unto-death, saying most of their demands had been met.Man Arrested Over Rape, Murder Of Women In West BengalNadia district police in West Bengal, on Wednesday afternoon, arrested a youth in connection with the alleged rape and murder of a woman in her early twenties, whose half-charred and semi-nude body was recovered earlier this morning.Key Doctors\\\\\\' Body Pauses Strike As Bengal Calls Meet To Discuss DemandsJunior doctors in West Bengal have been on fast-unto-death since October 5 demanding justice for the 31-year-old woman medic, who was raped and murdered in Kolkata in August.Medical Body IMA To Hold 24-Hour Hunger Strike To Support Bengal DoctorsThe Indian Medical Association (IMA) announced a 24-hour nationwide hunger strike on October 15 to support doctors in West Bengal, seeking justice for the young doctor who was raped and murdered at R.G. Kar Medical College and Hospital in Kolkata.Bengal Doctors Protest On RG Kar Issue For Public Interest: Medical Body ChiefThe continuing protests by the junior doctors of West Bengal against the rape and murder of a junior woman doctor of R.G. Kar Medical College & Hospital are not in self-interest but in the larger public interest, R.V. Asokan said.CCTV Footage Shows Man On Bicycle Before He Killed Bengal SchoolgirlThe man who has been accused of kidnapping and murder of a schoolgirl in West Bengal\\\\\\'s South 24 Parganas district was seen inside a shop before he committed the crime on Friday, CCTV footage showed.RG Kar Horror: Bengal Doctors Begin \\\\\"Fast Unto Death\\\\\" In KolkataThe junior doctors, protesting over the rape and murder of their colleague at the RG Kar hospital, went on fast unto death on Saturday evening, claiming that their demands were not fulfilled by the West Bengal government.Minor Kidnapped And Murdered In Bengal, BJP Claims She Was RapedThe BJP has alleged that a minor girl who was found dead in West Bengal\\\\\\'s South 24 Parganas district was raped before being murdered.Wife Of Murdered Bengal Congress Leader Died Of Poisoning: Autopsy ReportThe wife of a murdered Congress councillor in West Bengal died due to poisoning, according to the autopsy report.Purnima Kandu, the wife of Tapan Kandu, was elected a municipal councillor in Bengal\\\\\\'s Jhalda after he was murdered in March 2022.“Call Off Hunger Strike”: Mamata Banerjee Speaks To Doctors After UltimatumTaking steps to resolve the impasse with protesting doctors, West Bengal Chief Minister Mamata Banerjee spoke to them over the phone on Saturday and urged them to withdraw their fast-unto-death, saying most of their demands had been met.Man Arrested Over Rape, Murder Of Women In West BengalNadia district police in West Bengal, on Wednesday afternoon, arrested a youth in connection with the alleged rape and murder of a woman in her early twenties, whose half-charred and semi-nude body was recovered earlier this morning.Key Doctors’ Body Pauses Strike As Bengal Calls Meet To Discuss DemandsJunior doctors in West Bengal have been on fast-unto-death since October 5 demanding justice for the 31-year-old woman medic, who was raped and murdered in Kolkata in August.Medical Body IMA To Hold 24-Hour Hunger Strike To Support Bengal DoctorsThe Indian Medical Association (IMA) announced a 24-hour nationwide hunger strike on October 15 to support doctors in West Bengal, seeking justice for the young doctor who was raped and murdered at R.G. Kar Medical College and Hospital in Kolkata.Bengal Doctors Protest On RG Kar Issue For Public Interest: Medical Body ChiefThe continuing protests by the junior doctors of West Bengal against the rape and murder of a junior woman doctor of R.G. Kar Medical College & Hospital are not in self-interest but in the larger public interest, R.V. Asokan said.CCTV Footage Shows Man On Bicycle Before He Killed Bengal SchoolgirlThe man who has been accused of kidnapping and murder of a schoolgirl in West Bengal\\\\\\'s South 24 Parganas district was seen inside a shop before he committed the crime on Friday, CCTV footage showed.RG Kar Horror: Bengal Doctors Begin “Fast Unto Death” In KolkataThe junior doctors, protesting over the rape and murder of their colleague at the RG Kar hospital, went on fast unto death on Saturday evening, claiming that their demands were not fulfilled by the West Bengal government.Minor Kidnapped And Murdered In Bengal, BJP Claims She Was RapedA girl who had left home to attend a coaching class has allegedly been kidnapped and murdered in West Bengal\\\\\\'s South 24 Parganas district, sparking anger and protests.A police camp has also been vandalised and set on fire.Bengal Doctors Back On Strike, Announce “Total Cease-Work” From TodayJunior doctors in West Bengal, demanding better security at state hospitals after the rape and murder of a colleague at a medical college in Kolkata, have resumed their ‘total cease-work’.Bengal Junior Doctors Resume “Total Cease Work” Demanding Safety, SecurityAgitating junior doctors in West Bengal resumed their indefinite “total cease work” on Tuesday to press the state government on various demands, including ensuring their safety and security at all medical establishments.Doctor’s Protests, Floods May Dampen Bengal’s Durga Puja FestivitiesThe firestorm over a Kolkata doctor’s gruesome rape and murder and the flood crisis threaten to severely impact Bengal’s Rs 50,000 crore Durga Puja economy.Kolkata Rape Murder: Junior Doctors Resume Duties In Bengal After 42 DaysJunior doctors rejoined their duties partially on Saturday morning at various government-run hospitals in West Bengal after a hiatus of 42 days.“My Daughter Would Have Been Alive If...”: Kolkata Doctor’s FatherThe father of the trainee doctor from Kolkata’s RG Kar Medical College who was raped and murdered today said his daughter would have been alive if West Bengal Chief Minister had taken action against former RG Kar Medical College princ“Girls Out Of Class 12...”: Top Court Wants Cops At Bengal Medical CollegesThe West Bengal government has faced tough questions in the Supreme Court on the steps it has taken to beef up security in the state’s medical colleges in the aftermath of the horrific rape-murder of a 31-year-old at Kolkata’s RG Kar Medical College\\'NoneType\\' object has no attribute \\'startswith\\'9-yr-old Bengal girl killed, villagers torch police postThe incident took place in a village in West Bengal’s South 24 Parganas district.Police officials denied allegations of inaction on the local police’s part and said an accused has been arrested.It is suspected that the girl was sexually assaulted.The post-mortem report is awaited to confirm this, police said.According to the girl’s family, she had gone to a coaching centre on Friday afternoon.When she did not return home, the family searched for her but to no avail.They then approached the police to report her missing.The local police, however, directed them to file a complaint at another police station, the family alleged.When the girl’s body was found in a nearby pond on Friday night, tensions escalated in the area.On Saturday morning, an agitated crowd gathered around the local police station with brooms, sticks and bamboos.A Sub-Divisional Police Officer was gheraoed.Villagers vandalised the police outpost and set it on fire, resulting in several important documents getting destroyed.The police eventually resorted to baton charge to disperse the crowd.“So far, one person has been arrested.It remains to be seen if anyone else is involved.Efforts are underway to normalise the situation in the area.That is our priority,” a senior police officer said.Asked about the allegations of negligence against the police, he added, “We have identified and arrested the accused and he has admitted to the crime.We have taken each step and acted promptly.Still if people have allegations, we will surely look into those as well,” he added.The incident has triggered a political tussle, with the Opposition parties hitting out at the Trinamool Congress government.“They did not take the complaint seriously.It is Devi Paksha and at such a time, a daughter is being raped and murdered.Which Durga shall we worship if our Durga at home is not safe?It is all because of [Mamata Banerjee](https://indianexpress.com/about/mamata-banerjee/).She has spread a message that [the police should] not file [FIR](https://indianexpress.com/article/explained/everyday-explainers/fir-cognizable-offence-ipc-explained-7780266/) easily,” Bengal [BJP](https://indianexpress.com/about/bjp/) chief Sukanto Majumdar said.“Those who raped a nine-year-old girl… Do they have the right to worship Durga on Ashtami?Where are we heading as a society?” CPI(M) leader Tanmay Bhattacharjee said.The accused, who is 19 years old, was remanded in police custody for seven days on Saturday.A case has been registered against him on charges of murder, evidence tampering and kidnapping.Dhali said that although the arrested youth admitted to the crime, the motive is not yet clear.Bengal Rape-Murder Case: NCPCR Chief Meets Kin Of Victim, Says \\\\\\'Will Verify Facts With Police, Doctor\\\\\\'Death Due To Poisonous Substance, Prime Accused Arrested: Police On Murder Of Minor Girl In BengalFresh Violence In Bengal, BJP Leader Demands Mamata\\\\\\'s Resignation Over \\\\\\'Rape\\\\\\', \\\\\\'Murder\\\\\\' Of Minor\\\\\\'BJP MLAs Not Allowed To Meet Victim\\\\\\'s Family\\\\\\': Suvendu Adhikari After \\\\\\'Rape\\\\\\', \\\\\\'Murder\\\\\\' Of Minor Girl In BengalWest Bengal ADG Police (Law & Order) Manoj Kumar Verma has declared the Nabanna Abhijan Rally scheduled for August 27 as illegal, stating it is an attempt to incite widespread unrest in Kolkata.He emphasised that Nabanna is a restricted area, and no organization has applied for permission to hold a protest near the State Secretariat.Verma highlighted specific intelligence inputs indicating potential unrest and reassured that measures would be taken to ensure that neither exam aspirants nor the general public are inconvenienced.West Bengal BJP has called a statewide hour-long ‘chakka’ bandh from 11am on September 4 to protest the R G Kar rape-murder case.BJP party activists will gherao the district magistrate\\\\\\'s office in every district at noon while protests will be held outside the administrative offices in every block on September 2.RG Kar Medical College and Hospital principal Manas Kumar Bandyopadhyay arrives at CBI Anti-corruption Branch office in Kolkata.So far, no organisation has applied to hold a protest near Nabanna.This is a restricted zone and if anyone needs to organise a protest then they first need to apply for permission from the police.We have very specific inputs that some miscreants might try to create a situation of unrest there (near Nabanna).Tomorrow, an exam is being conducted by NTA, we will ensure that neither aspirants nor the general public are inconvenienced: Additional DGP (Law & Order), MK VermaTala Police Station in-charge Abhijit Mondal and assistant commissioner R Thapa arrive for questioning at CBI Special Crime Branch office in KolkataAccording to sources, 2,100 cops under the supervision of 97 senior officers will be tasked to ensure safety in and around Nabanna alone, where five separate tiers of command have been created.Each tier will be headed by officers of different ranks.The first tier will have 21 officers of inspector general and deputy inspector general ranks while 13 superintendent or deputy commissioner-level officers will be responsible for the second tier.The third tier will comprise 15 additional superintendent of police-level officers and the fourth command will be led by 22 assistant commissioner or deputy superintendent-level officers.The fifth tier will be managed by 26 inspector-level officers.Armed with drones, multiple water cannons, tear gas shells and hundreds of guard rails and aluminium alloy walls, 4,500-odd cops from Kolkata Police and West Bengal Police are set to form barricades at seven locations in Kolkata and Howrah to prevent protesters from reaching Nabanna during the Nabanna Abhijan planned by Paschimbanga Chhatra Samaj, or West Bengal Students Society, on Tuesday.A US-based doctor involved in India\\\\\\'s polio eradication and measles surveillance efforts has criticised the brutal rape and murder of a doctor at RG Kar Medical College and Hospital, denouncing the West Bengal government\\\\\\'s failure to ensure the safety of frontline health workers.Dr. Ananda Sankar Bandyopadhyay, deputy director of the polio team at the Bill and Melinda Gates Foundation, expressed his shock and sorrow over the incident and called for accountability.Kolkata cops have decided to reissue summons to 12 organisers of the ‘Reclaim the Night’ demonstrations who have yet to respond to the initial summons.Those in police custody, who will be produced in a Sealdah court on August 28, are also being questioned about the main organizers.A total of 39 people have been arrested so far in this case.CBI\\\\\\'s polygraph test on Sanjay Roy, the arrested suspect in the RG Kar hospital rape-murder case, flagged \\\\\"false and unconvincing\\\\\" answers to questions on his newly professed \\\\\"innocence\\\\\", investigators said on Sunday after a pair of designated officers conducted the proceedings at Kolkata\\\\\\'s Presidency jail.A US-based doctor, who has made significant contributions to India\\\\\\'s polio elimination and measles surveillance efforts, has condemned the brutal rape and murder of a doctor at RG Kar Medical College and Hospital.He also criticized the West Bengal government for failing to ensure the safety of frontline health workers.CBI sleuths on Monday started grilling former principal of RG Kar Medical College and Hospital (RGKMCH) Sandip Ghosh and ex-medical superintendent and vice principal Sanjay Vashisth in connection with their ongoing probe into alleged financial irregularities in the institute.West Bengal BJP president Sukanta Majumdar claimed the ongoing CBI probe into the alleged financial irregularities in R G Kar Medical College and Hospital showed the nexus between the state and the corrupt hospital lobby.Stepping up the attack on the ruling Trinamool Congress in West Bengal, BJP state president Sukanta Majumdar has announced a series of programmes to protest the alleged rape and murder of a woman doctor at a state-run hospital here over two weeks back.The programmes will be held across the state between August 28 and September 4.Former medical superintendent and vice-principal, Sanjay Vashisth arrives at CBI office, in connection with ongoing probe into woman doctor rape and murder case.In West Bengal, over 6,000 PGT doctors have been agitating since August 10 over the rape and murder case in Kolkata.Despite an appeal from the Supreme Court to resume work, they have stated that they will continue their agitation.Sanjay Roy, the prime accused in the RG Kar rape and murder, looked unnerved and anxious during the two hours of questioning — and gave “false and unconvincing answers” — during CBI’s polygraph test on him.Amid ongoing protests against the brutal rape and murder of a woman doctor at R G Kar Medical College and Hospital in Kolkata, Ganesh Puja committees across the state have decided to forgo all pomp in this year\\\\\\'s celebrations.One organizer revealed that their pandal’s theme will focus on the battle against rape.The 15-year-old Shree Shree Ganesh Chaturthi Mahotsab at B B Block in Salt Lake\\\\\\'s satellite township has canceled all decorative lights from Chandernagore, a Bengal town renowned for its innovative illumination designs.Sixteen days have passed since junior doctors across Bengal began their cease-work, and there are no indications of them backing down.In fact, the West Bengal Junior Doctors’ Front (WBJDF), representing all state-run medical colleges, has announced a mass gathering on Monday to present their demands, which now include several new ones.Sixteen days into the junior doctors\\\\\\' strike in West Bengal, there seems to be no end in sight.The West Bengal Junior Doctors’ Front (WBJDF), a collective representing every state-run medical college, has announced a mass gathering on Monday, where they plan to present an updated list of demands.Over 6,000 postgraduate trainee (PGT) doctors have been on strike since August 10.On Sunday, CBI officials conducted raids at the residences of former RG Kar Medical College and Hospital principal Sandip Ghosh, former MSVP Sanjay Vashisth, and 13 others in and around Kolkata.The searches are part of an investigation into alleged financial misconduct at the institution.The CBI\\\\\\'s anti-corruption unit also targeted the homes and offices of suppliers involved in patient care and management.Since 8 am, at least seven CBI officers have been questioning Ghosh at his Beliaghata residence, while other officials have been interrogating Vashisth and a professor from the forensic medicine department, among others.Union Minister and West Bengal BJP president Sukanta Majumdar on Monday questioned the West Bengal police\\\\\\'s decision to label the \\\\\\'Nabanna Abhijan\\\\\\' rally as \\\\\\'illegal,\\\\\\' pointing out that students had announced the rally through a press conference, indicating that the police were aware of the event.Speaking to ANI, Majumdar said, \\\\\"Tomorrow, West Bengal students are planning to protest peacefully and democratically. What is the point of obstructing that? The students announced it through a press conference, which means the police knew about it. The BJP\\\\\\'s stance is clear—this is not a BJP movement, but we support it. This is a students\\\\\\' movement, a non-political movement, and we stand with the students.\\\\\"The \\\\\\'Nabanna Abhijan\\\\\\' rally, organized by West Bengal\\\\\\'s \\\\\\'Chhatra Samaj,\\\\\\' is aimed at demanding Chief Minister Mamata Banerjee\\\\\\'s resignation over the recent rape and murder incident in Kolkata.However, West Bengal ADG Police (Law & Order) Manoj Kumar Verma described the rally, scheduled for August 27 to reach the Nabanna or State Secretariat, as illegal and an attempt to incite widespread unrest in Kolkata.Amid warnings from the Trinamool Congress and West Bengal Police about potential disruptions, the student organization Chhatra Samaj remains steadfast in its plan to hold the \\\\\\'Nabanna Abhijan\\\\\\' rally on August 27.The rally, which is set to march toward Nabanna, the Bengal state secretariat, aims to demand the resignation of chief minister Mamata Banerjee and the arrest of those allegedly responsible for the rape-murder of a doctor at RG Kar Hospital.The call for the march has been issued by the unregistered student group Pashchim Banga Chhatra Samaj (West Bengal Students Community) alongside the Sangrami Joutha Mancha (Joint Platform of Struggle), an organization of state government employees who have been protesting for equal dearness allowance (DA) as their Central government counterparts.However, the state police have declared the planned rallies as \\\\\"illegal\\\\\" and \\\\\"unauthorized.\\\\\"They have expressed concerns over potential law and order issues during the march, which has gained significant support through social media platforms.At a press briefing held at Nabanna, ADG (Law and Order) Manoj Verma stated that the police have received credible intelligence indicating that miscreants may attempt to infiltrate the protest and incite widespread violence.In response, the government has imposed prohibitory orders under Section 163 of the BNSS, restricting the assembly of five or more people near Nabanna.Labeling the rally as a \\\\\"conspiracy\\\\\" to create unrest, the Trinamool Congress released videos allegedly showing BJP leaders from Ghatal in Paschim Medinipur district discussing plans to provoke violence during the protest.Despite these claims, the organizers insist that the rally will remain peaceful.Union Minister and West Bengal BJP president Sukanata Majumdar says, \\\\\"I have said it from the protesting site yesterday to light a candle in her name, our party workers will do this. I have started this at her home with her family for the peace of the departed soul and justice for the deceased... The video that has come up today, shows how the crime scene has been trampled... I don\\\\\\'t think any evidence would be there. A case should be registered against those who can be seen in that video for tampering with evidence. CBI is taking time and it has to conduct polygraph tests and all as the evidence has been tampered with...\\\\\"National Task Force formed by the Supreme Court to make recommendations for safety, security and working conditions of medical professionals to have its first meeting tomorrow: SourcesTrinamool Congress (TMC) leader Kunal Ghosh on Monday accused the BJP and CPI(M) (Left) parties of joining forces to create unrest against the TMC and West Bengal in response to the recent rape and murder of a woman doctor in Kolkata.\\\\\"BJP, CPM, and Congress are all united. The BJP is leading the Nabanna movement, Congress is backing it, and despite what the CPM says, they are all talking about the protest... Ram-Left are coming together to create chaos against TMC and West Bengal,\\\\\" Ghosh said in a statement to ANI.The Bhartiya Janata party on Monday launched a scathing attack on Mamata Banerjee-led West Bengal government and accused the administration of allowing people to enter the place of crime which led to tampering with the evidence in the alleged rape and murder case of a trainee doctor in RG Kar Medical hospital and collage in Kolkata.\\\\\"The incident reportedly took place in the seminar hall on the third floor of RG Kar Hospital. Social media and certain news channels have circulated a video suggesting that evidence may have been tampered with, based on people seen standing in the footage. Let me clarify that the seminar hall is a room measuring 51 feet by 32 feet, and when the body was discovered, hospital curtains were used to cordon off the area, and 40 feet from the body no one was allowed to enter. Only designated people were allowed to enter the cordoned off area\\\\\" stated Kolkata Police DC CD Indira Mukherjee during a press conference.BJP state president Sukanta Majumdar has announced a series of protest programs in response to the alleged rape and murder of a woman doctor at a state-run hospital over two weeks ago.**So far only one arrest**\\': TMC questions \\\\\\'delay\\\\\\' in CBI probe of Kolkata rape-murder caseTrinamool Congress leader Kunal Ghosh on Sunday raised concerns regarding the ongoing investigation into the RG Kar Medical College and Hospital case.He questioned the delay in the CBI\\\\\\'s actions saying that the only arrest in the case has been made by the Kolkata Police.“One arrest has been made and that too by the Kolkata police.What is the CBI doing?So much delay is happening, so much fake news, politics is going on, too stop all this the case must be solved first,” the TMC leader told news agency ANI.Banga Ratna awardee teacher decides to return award over Mamata govt handling of RG Kar doctor murder-rape caseParimal Dey, a teacher from Alipurduar in West Bengal, who was honoured with the Banga Ratna award by West Bengal Chief Minister Mamata Banerjee in 2019, has decided to return the award over the state government\\\\\\'s response to the RG Kar Medical College and Hospital rape-murder incident.Speaking about his decision to ANI, Parimal said, \\\\\"I have decided to return the Banga Ratna award.The way protests happened in Bengal and outside, it is my conscience\\\\\\'s call that it should give it back.I support the protest.The way she (Mamata Banerjee) is running the administration is not right.\\\\\"Earlier today, the West Bengal Motion Picture Artists\\\\\\' Forum staged a protest in Tollygunge demanding justice for the victim in the RG Kar Medical College rape-murder incident and urging the Kolkata administration to take responsibility.Members of Republican Party of India (Athawale) stage a protest against the rape and killing of a post-graduate trainee doctor at Kolkata\\\\\\'s RG Kar Medical College and Hospital.Visuals from the Jantar Mantar area in New Delhi**Kolkata Doctor Rape and Murder Case Live: \\\\\\'Crimes against women unpardonable, guilty should not be spared,\\\\\\' says PM Modi**Prime Minister Narendra Modi on Sunday said that crimes against women were \\\\\"unpardonable\\\\\" and negligence at any level should be \\\\\"taken to task\\\\\".This came in the light of country witnessing widespread protests after rape and murder of a doctor at a Kolkata hospital and sexual assault of two kindergarten girls in Badlapur.“I would like to reiterate to every political party and every state govt that crimes against women are unpardonable.The guilty should not be spared, no matter who he is.People helping him should not be spared either,” he said addressing the Lakhpati Didi Sammelan in Jalgaon, Maharashtra.“Negligence at any level be it hospital, school, office or policy system should be taken to task,” he added.Controversy over SCBA resolution on Kolkata rape incident: Adish Aggarwala demands no-confidence motion against Kapil SibalAdish C Aggarwala, the immediate past president of the Supreme Court Bar Association (SCBA), has demanded that the current president, Kapil Sibal, either withdraw a controversial resolution passed on August 21, 2024, or issue a public apology to every SCBA member.Failure to comply could lead to a no-confidence motion against Sibal.In a letter to the current President of the Supreme Court Bar Association (SCBA), Kapil Sibal, Adish C.Aggarwala expressed serious concerns over a resolution related to the tragic rape and murder of a trainee doctor at Kolkata\\\\\\'s RG Kar Medical College and Hospital.Aggarwala\\\\\\'s letter criticises Sibal for issuing a purported SCBA resolution that described the incident as a \\\\\"symptomatic malaise\\\\\" and suggested that such incidents are commonplace.Aggarwala states that this resolution was not officially approved by the SCBA\\\\\\'s Executive Committee, making it invalid.He accuses Sibal of using his position to undermine the gravity of the incident and of exhibiting a conflict of interest by representing the West Bengal government in related cases while making such statements.Kolkata Doctor Rape and Murder Case Live: CBI completes polygraph test on accused Sanjay RoyCBI officials leave from Presidency Jail in Kolkata, after conducting the polygraph test of the arrested accused Sanjay Roy.Kolkata Doctor Rape and Murder Case Live: Parimal Dey decides to return the Banga Ratna awardParimal Dey, a teacher from West Bengal\\\\\\'s Alipurduar says, \\\\\"I have decided to return the Banga Ratna award...I support the protest.The way she (Mamata Banerjee) is running the administration is not right.\\\\\"Kolkata Doctor Rape and Murder Case Live Kolkata Police has extended prohibitory orders around RG Kar Medical College and Hospital for another week, now in effect until August 31.Earlier CBI officials arrived at Presidency Jail in Kolkata to conduct polygraph test of the arrested accused Sanjay RoyBreaking: Polygraph test of accused Sanjay Roy underwaySanjay Roy reportedly broke down when the magistrate asked him why he was giving consent to a polygraph test.“I have not committed any crime.I am being framed.Maybe the polygraph test will prove that,” he told the magistrate.Kolkata Doctor Rape and Murder Case Live Breaking: Polygraph test of key accused Sanjay Roy underway, as per reports.Test conducted by CBI\\\\\\'s CSFL.Kolkata Doctor Rape and Murder Case Live: Heads of Howrah schools face show cause notices for protest rallies### [RG Kar rape-murder: CBI found Sandip Ghosh\\\\\\'s polygraph responses \\\\\\'deceptive\\\\\\'](/india-news/rg-kar-rape-murder-cbi-found-sandip-ghoshs-polygraph-responses-deceptive-101726469394003.html)## Kolkata doctor rape-murder: Sandip Ghosh introduced what the officers called a new theory of suicide.### [Kolkata rape-murder: CBI claims SHO Abhijit Mondol arrived ‘unusually’ late](/india-news/kolkata-rape-murder-cbi-suspects-conspiracy-says-sho-abhijit-mondol-arrived-unusually-late-at-crime-scene-101726453468491.html)## Kolkata rape and murder: The agency said Sandip Ghosh and Abhijit Mondol had been in touch with each other after the crime surfaced.### [Kolkata murder: SC asks protesting doctors to return to work by 5 pm tomorrow](/india-news/kolkata-rape-murder-sc-asks-protesting-doctors-to-return-to-work-by-5-pm-tomorrow-warns-of-disciplinary-action-101725869260919.html)## CJI Chandrachud also observed that the West Bengal government must take steps to create confidence in the minds of the protesting doctors.### [Two held for molesting woman, misbehaving with protesters in Kolkata](/india-news/two-held-for-molesting-woman-misbehaving-with-protesters-during-reclaim-the-night-rally-101725511636763.html)## Apart from two such incidents, stray incident of violence against CPI(M) member was also reported. The people-led march largely remained peaceful.### [‘We are also humans’: Wife of Kolkata cop injured during \\\\\\'Nabanna Abhijan\\\\\\' rally](/india-news/we-are-also-humans-wife-of-kolkata-police-officer-injured-during-nabanna-abhijan-rally-101724975892635.html)## A brick struck Debasish Chakraborty’s left eye during the attack, causing severe damage. He is currently receiving treatment at Shankar Nethralaya.India’s federal investigating agency has arrested the former principal of a medical college in the eastern city of Kolkata on charges of tampering with evidence linked to the [rape and murder of a junior female doctor](/gallery/2024/8/15/protests-escalate-in-india-over-rape-and-murder-of-doctor), a case that triggered weeks of nationwide protests.Dr Sandip Ghosh, former principal of the RG Kar Medical College, was arrested along with police officer Abhijit Mondal by the Central Bureau of Investigation (CBI) late on Saturday.Ghosh, and others, allegedly delayed declaring the victim’s death as well as filing a first information report (FIR), a formal police complaint, which led to the destruction of vital evidence, according to additional charges filed by the CBI before a court, the Reuters news agency reported.He was already in judicial custody after being arrested by the agency in a case related to corruption in the college on September 2.The 31-year-old victim, whose body was found at the medical college in early August, set off a wave of protests across the country, and the demand for greater safety for women in the workplace as well as justice for the victim.Mondal, the officer in charge of the police station that has jurisdiction over the college, was also charged for failing to protect the crime scene, a source with direct knowledge of the matter told Reuters.Asked about Mondal’s arrest, a senior Kolkata police official said: “We will respond to the charges in court.”The two arrests come more than a month after the prime suspect was arrested by Kolkata police and charged with rape and murder.Junior doctors in the eastern state of West Bengal, of which Kolkata is the capital, have decided to continue their protests until the victim gets justice.The doctors have been joined in their protests by an enraged citizenry, with thousands of women and men marching in Kolkata and cities across the country for weeks, demanding justice and better safety measures in hospitals.Activists say the doctor’s rape and murder showed how women in India continue to face sexual violence despite tougher laws introduced after the 2012 gang rape and murder of a [23-year-old student on a bus in New Delhi](/news/2012/12/29/india-gang-rape-victim-dies-in-singapore), the national capital.That attack had spurred politicians to order harsher penalties for such crimes and set up fast-track courts dedicated to rape cases.The government also introduced the death penalty for repeat offenders but has not been able to check rising crimes against women.Crimes against women in India rose 4 percent in 2022 from the previous year, data from the National Crime Records Bureau (NCRB), released late last year, showed.New protests over rape and murder of Indian doctor see police use water cannon, tear gas on demonstratorsThousands of angry students and other protesters marched on the streets of eastern Indian city of Kolkata in the West Bengal state on Tuesday demanding justice for a doctor who was brutally raped and killed earlier this month at a city hospital.The police used water cannon and tear gas to disperse protesters who were on their way to the state secretariat building to demand the resignation of Mamata Banerjee, chief minister of the West Bengal state, whom they accuse of mishandling the case.Indian TV networks aired videos showing protesters climbing barricades that had been placed at the Howrah Bridge, as police used water cannons to stop them.The brutalized body of a 31-year-old doctor was found with multiple injuries in a lecture hall at the state-run R.G. Kar Medical College and Hospital in Kolkata on Aug. 9.The female doctor had gone to the lecture hall to rest during a night shift when she was attacked.An autopsy confirmed sexual assault and multiple injuries sustained before she died, suggesting she resisted and may have been tortured before being murdered.The Kolkata Police arrested a volunteer member of the force on Aug. 10 and have charged him with rape and murder, but the brutality of the case has drawn nationwide outrage, with medics across the country demanding safer workplaces and citizens demanding safety for women in a country with a shameful record of rape.Doctors at public hospitals across India refused to work last week, turning away all but emergency patients as part of a national strike over the rape and murder.Kolkata police had turned the city into a virtual fortress ahead of Tuesday\\\\\\'s planned protest, barricading all roads leading to the state secretariat and deploying 6,000 personnel in full riot gear.The police said they had not given permission for the protest march, and the Trinamool Congress party, which is in power in West Bengal state, alleged that it was an attempt by opposition parties to create unrest in the city.Police clashed with the protesters Tuesday morning as some of the crowd managed to climb over the barricades, but the demonstrators were stopped before they could reach the state secretariat.The Bharatiya Janata Party (BJP), which is the opposition in West Bengal, claimed several students were injured Tuesday amid the clashes with the police and called for a new, 12-hour general strike in the state on Wednesday to protest the response.India\\\\\\'s federal Central Bureau of Investigations (CBI), which was tasked with investigating the rape-murder in Kolkata, subjected the prime suspect, Sanjay Roy, to a polygraph test last week, the results of which were yet to be released Tuesday.Many in the country hope the results will shed new light on whether other people could have been involved in the attack, as has been suggested by the victim\\\\\\'s father.India reported an average of nearly 90 rapes per day in 2022, according to the most recent data available from the National Crime Records Bureau.Experts believe the real number could be much higher, as many rapes go unreported due to prevailing stigmas around sexual violence and a lack of faith in police investigations.Conviction rates remain low, with many cases becoming mired for years in India\\\\\\'s overwhelmed criminal justice system.On 9 August 2024, a 31-year-old female [postgraduate trainee doctor](/wiki/Medical_education_in_India#Postgraduate_Education \\\\\"Medical education in India\\\\\")[[4]](#cite_note-Independent-1608-4) at [R. G. Kar Medical College and Hospital](/wiki/R._G._Kar_Medical_College_and_Hospital \\\\\"R. G. Kar Medical College and Hospital\\\\\") in [Kolkata](/wiki/Kolkata \\\\\"Kolkata\\\\\"), West Bengal, India, was raped and murdered in a college building.Her body was found in a seminar room on campus.On 10 August 2024, a 33-year-old male [civic volunteer](/wiki/Police_community_support_officer#India \\\\\"Police community support officer\\\\\") working for [Kolkata Police](/wiki/Kolkata_Police \\\\\"Kolkata Police\\\\\") was arrested under suspicion of committing the crime.[[5]](#cite_note-5)[[6]](#cite_note-6)Three days later, the [Calcutta High Court](/wiki/Calcutta_High_Court \\\\\"Calcutta High Court\\\\\"), transferred the investigation to the [Central Bureau of Investigation](/wiki/Central_Bureau_of_Investigation \\\\\"Central Bureau of Investigation\\\\\") (CBI) stating that the Kolkata Police\\\\\\'s investigation did not inspire confidence.[[7]](#cite_note-7)[[8]](#cite_note-:1-8)The junior doctors in West Bengal undertook a strike action for 42 days demanding a thorough probe of the incident and adeqaute security at hospitals.[[9]](#cite_note-9)The incident has amplified debate about the safety of women and doctors in India, and has sparked significant outrage, and nationwide and international protests.[[10]](#cite_note-india_today-2024-10)[[11]](#cite_note-deccan_herald-11)[[12]](#cite_note-12)On 13 August 2024, the [Calcutta High Court](/wiki/Calcutta_High_Court \\\\\"Calcutta High Court\\\\\"), unsatisfied with the police\\\\\\'s handling of the investigation, assigned the case to the [Central Bureau of Investigation](/wiki/Central_Bureau_of_Investigation \\\\\"Central Bureau of Investigation\\\\\") (CBI).[[25]](#cite_note-:3-25) They also flagged the possibility of destruction of evidence if the state police continued with their investigation.[[8]](#cite_note-:1-8)On 18 August, the [Supreme Court](/wiki/Supreme_Court_of_India \\\\\"Supreme Court of India\\\\\") took _[suo moto](/wiki/Sua_sponte \\\\\"Sua sponte\\\\\")_ cognizance of the case. A three-judge bench headed by the [Chief Justice of India](/wiki/Chief_Justice_of_India \\\\\"Chief Justice of India\\\\\") [DY Chandrachud](/wiki/Dhananjaya_Y._Chandrachud \\\\\"Dhananjaya Y. Chandrachud\\\\\") heard the matter on 20 August. They criticised the State government, Kolkata police, as well as the college administration over mishandling of the case and the vandalism which occurred on the night of 14 August. Following the incident and protests, the court constituted a [national task force](/wiki/National_Task_Force_for_Safety_of_Medical_Professionals \\\\\"National Task Force for Safety of Medical Professionals\\\\\") to ensure workplace safety for doctors and requested the protesting doctors return to their duties.[[47]](#cite_note-47)[[48]](#cite_note-48)[[49]](#cite_note-49)The court ordered the [Central Industrial Security Force](/wiki/Central_Industrial_Security_Force \\\\\"Central Industrial Security Force\\\\\") and [Central Reserve Police Force](/wiki/Central_Reserve_Police_Force \\\\\"Central Reserve Police Force\\\\\") to provide security at the hospital and asked the CBI to submit a status report.[[50]](#cite_note-50)In the hearing on 22 August, the court heavily criticised the law enforcement for the time delay between the discovery of the body and the registration of a [first information report](/wiki/First_information_report \\\\\"First information report\\\\\"). It asked the state government to not take any action on the protesting doctors and the civilians and to not undertake any measures to stop peaceful protestors while requesting doctors to resume normal work.[[15]](#cite_note-ndtv.com-15)[[16]](#cite_note-indiatoday.in-16)At a hearing on 9 September, judges sought clarification over the precise time of death and the filing of an unnatural death case.[[51]](#cite_note-51) They asked for a CBI status report by the coming week. Advocate [Kapil Sibal](/wiki/Kapil_Sibal \\\\\"Kapil Sibal\\\\\") appeared for the West Bengal government informed the court that 23 people had died due to the protests by medical fraternity in West Bengal.[[52]](#cite_note-52)The Supreme Court on 9 September asked all the protesting doctors to return to their respective duties by the evening of 10 September. It asked the state government to extend all possible support to the CISF team providing security at the R.G. Kar Hospital and medical college.[[53]](#cite_note-53)In line with the longstanding [rape shield laws of India](/wiki/Rape_shield_law#India \\\\\"Rape shield law\\\\\"), in August 2024, the Supreme Court ordered that the name and photos of the victim be removed from social media and electronic platforms.[[54]](#cite_note-I&B24-54)On 17 September 2024 the Supreme Court specifically instructed [Wikipedia](/wiki/Wikipedia \\\\\"Wikipedia\\\\\") to remove the name and photo of the victim.[[55]](#cite_note-55)On 7 October 2024, CBI filed a preliminary chargesheet against Sanjay Roy, formally charging him of the rape and murder of the victim.[[56]](#cite_note-56)[[57]](#cite_note-57)On 28 August 2024, President [Droupadi Murmu](/wiki/Droupadi_Murmu \\\\\"Droupadi Murmu\\\\\") described the incident as horrific.[[94]](#cite_note-94)The incident drew international attention, resulting in protests by the Indian community in Australia, Bangladesh, Pakistan, Canada, Germany, the United Kingdom[[95]](#cite_note-95)[[96]](#cite_note-:2-96)[[97]](#cite_note-97) and the United States.[[98]](#cite_note-98)[[96]](#cite_note-:2-96) Fresh protests were held on 8 September by the [Indian diaspora](/wiki/Indian_diaspora \\\\\"Indian diaspora\\\\\") in solidarity with the victim. Demonstrations were held in 130 cities in 25 countries, including the United States, Japan, Taiwan, Singapore and Australia.[[99]](#cite_note-99)[[100]](#cite_note-100) A solidarity rally was also held by students of the [University of Dhaka](/wiki/University_of_Dhaka \\\\\"University of Dhaka\\\\\") in Bangladesh on 16 August in support of the protests in Kolkata, with the slogan _Awaaz Tolo Nari_ (Raise Your Voice, Women).[[101]](#cite_note-101)The West Bengal government, led by the [Trinamool Congress](/wiki/Trinamool_Congress \\\\\"Trinamool Congress\\\\\") (TMC), has been criticised for lapses regarding the security and safety of women in the state.[[102]](#cite_note-102)[[103]](#cite_note-103) The Indian Medical Association and members of the opposition [Bharatiya Janata Party](/wiki/Bharatiya_Janata_Party \\\\\"Bharatiya Janata Party\\\\\") accused the West Bengal government, under the leadership of Chief Minister [Mamata Banerjee](/wiki/Mamata_Banerjee \\\\\"Mamata Banerjee\\\\\"), and state police of being directly accountable for the incident, asserting that the vandalism on the night of 14 August was perpetrated by \\\\\"TMC goons\\\\\" in order to destroy evidence related to the case.[[104]](#cite_note-104)[[105]](#cite_note-105)[[106]](#cite_note-106) TMC MP [Mahua Moitra](/wiki/Mahua_Moitra \\\\\"Mahua Moitra\\\\\") denied any allegations that her party and the Chief Minister were involved in any systematic cover-up, calling such claims \\\\\"absolutely wrong and incorrect\\\\\".[[107]](#cite_note-107)The West Bengal government introduced a new bill in the [West Bengal Legislative Assembly](/wiki/West_Bengal_Legislative_Assembly \\\\\"West Bengal Legislative Assembly\\\\\") on 3 September 2024 named the Aparajita Woman and Child Bill (West Bengal Criminal Laws and Amendment), 2024. West Bengal became the first state in India to make an amendment in central laws for crimes of a sexual nature against women and children. The bill was passed unanimously in the assembly and was sent to the Governor [C. V. Ananda Bose](/wiki/C._V._Ananda_Bose \\\\\"C. V. Ananda Bose\\\\\") and to President [Droupadi Murmu](/wiki/Droupadi_Murmu \\\\\"Droupadi Murmu\\\\\") for assent. The bill will amend the application of the recently updated [Indian penal code](/wiki/Bharatiya_Nyaya_Sanhita \\\\\"Bharatiya Nyaya Sanhita\\\\\") in West Bengal. It entailed [death penalty](/wiki/Capital_punishment_in_India \\\\\"Capital punishment in India\\\\\") for convicts of rape and other unnatural sexual offences if it resulted in death of the victim or left the victim in a vegetative state. It also provides for a life sentence without parole for those convicted in other cases.[[108]](#cite_note-108)[[109]](#cite_note-109)[[110]](#cite_note-110)In addition, a special task force led by a female officer will be created to help accelerate investigations into rape cases, dedicated courts will be created to fast-track these types of cases, penalties will be introduced for unreasonable delays in investigations, and a time limit of 21 days (with a possible 15 day extension) to issue a decision will be instituted.[[111]](#cite_note-111)[WBJDF](/wiki/West_Bengal_Junior_Doctors%27_Front \\\\\"West Bengal Junior Doctors\\\\\\' Front\\\\\"), representative of protesting medical fraternity, ignored the request of the Supreme Court to cease protests by 10 September and staged a sit-in protest at the headquarters of the West Bengal health department, Swasthya Bhavan in the [Salt Lake](/wiki/Bidhannagar \\\\\"Bidhannagar\\\\\") area of Kolkata after which they were invited for talks with the Chief Minister, Mamata Banerjee.[[114]](#cite_note-indianexpress.com-114)[[115]](#cite_note-115)The doctors sought a delegation of 30 members to represent them which was accepted by the state government after an initial request to limit the number to 15. The delegation sought a live telecast of the negotiations which was not agreed by the government due to which the delegation did not attend the meeting with the Chief Minister.[[114]](#cite_note-indianexpress.com-114)Mamata Banerjee remarked that she was ready to resign and she too, wants justice for the victim. However, the protesting medical fraternity remarked that they did not seek her resignation.[[116]](#cite_note-116)She announced that the patient welfare committees of all the government hospitals stand dissolved with immediate effect. The doctors said, after a surprise visit by her to their place of protest, they said that they were ready to talks with the government and that their demands are not unjustified.[[117]](#cite_note-117)[[118]](#cite_note-118)On 17 September 2024, after a successful meeting between the chief minister and the delegation of junior doctors, the Kolkata police commissioner Vineet Goyal and a deputy police commissioner were removed from their posts.[[119]](#cite_note-119)\\'list\\' object has no attribute \\'choices\\'**[^](#cite_ref-1)** [\\\\\"RG Kar doctor death: Post mortem confirms sexual assault, 1 arrested; doctors association threatens shutdown unless…\\\\\"](https://www.livemint.com/news/india/rg-kar-doctor-death-post-mortem-confirms-sexual-assault-1-arrested-doctors-association-threatens-shutdown-unless-11723280698455.html). _[livemint](/wiki/Livemint \\\\\"Livemint\\\\\")_. 10 August 2024. [Archived](https://web.archive.org/web/20240811165118/https://www.livemint.com/news/india/rg-kar-doctor-death-post-mortem-confirms-sexual-assault-1-arrested-doctors-association-threatens-shutdown-unless-11723280698455.html) from the original on 11 August 2024. Retrieved 11 August 2024.**[^](#cite_ref-2)** Bhattacharya, Ravik (15 September 2024). [\\\\\"CBI arrests R G Kar ex-principal, cop over \\\\\\'tampering\\\\\\' of evidence, \\\\\\'delay in FIR\\\\\\'\\\\\"](https://indianexpress.com/article/cities/kolkata/rg-kar-ex-principal-sandip-ghosh-arrested-by-cbi-in-kolkata-rape-murder-case-9567965/). _[The Indian Express](/wiki/The_Indian_Express \\\\\"The Indian Express\\\\\")_. [Archived](https://web.archive.org/web/20240915005639/https://indianexpress.com/article/cities/kolkata/rg-kar-ex-principal-sandip-ghosh-arrested-by-cbi-in-kolkata-rape-murder-case-9567965/) from the original on 15 September 2024. Retrieved 15 September 2024.**[^](#cite_ref-3)** [\\\\\"CBI arrests former RG Kar principal, Kolkata Police SHO in rape-murder case of trainee doctor\\\\\"](https://www.aninews.in/news/national/general-news/cbi-arrests-former-rg-kar-principal-kolkata-police-sho-in-rape-murder-case-of-trainee-doctor20240914230317/). _[ANI](/wiki/Asian_News_International \\\\\"Asian News International\\\\\")_. 14 September 2024. [Archived](https://web.archive.org/web/20240915005701/https://www.aninews.in/news/national/general-news/cbi-arrests-former-rg-kar-principal-kolkata-police-sho-in-rape-murder-case-of-trainee-doctor20240914230317/) from the original on 15 September 2024. Retrieved 15 September 2024.**[^](#cite_ref-Independent-1608_4-0)** Sarkar, Alisha (16 August 2024). [\\\\\"Kolkata rape and murder case live: Doctors call for nationwide strike as protests swell\\\\\"](https://www.independent.co.uk/asia/india/kolkata-doctor-rape-murder-protests-strike-rg-kar-latest-news-b2597201.html). _Independent_. Retrieved 18 September 2024.**[^](#cite_ref-5)** K, Sayantani. [\\\\\"Kolkata doctor rape case: Sanjoy Roy to plead \\\\\\'not guilty\\\\\\', calls CBI\\\\\\'s polygraph questions on murder \\\\\\'invalid\\\\\\'\\\\\"](https://www.livemint.com/news/india/kolkata-doctor-rape-case-sanjoy-roy-to-plead-not-guilty-calls-cbis-polygraph-questions-on-murder-invalid-11725268538942.html). Retrieved 23 September 2024.**[^](#cite_ref-6)** [\\\\\"Kolkata doctor death: who is Sanjay Roy\\\\\"](https://timesofindia.indiatimes.com/city/kolkata/kolkata-doctor-death-who-is-sanjay-roy-civic-volunteer-arrested-in-rg-kar-hospital-rape-murder-case/articleshow/112440685.cms). Times of India. 21 August 2024. Retrieved 23 September 2024.**[^](#cite_ref-7)** Das, Srinjoy (13 August 2024). [\\\\\"High court transfers probe to CBI\\\\\"](https://www.livelaw.in/top-stories/breaking-kolkata-doctor-rape-murder-calcutta-high-court-transfers-probe-to-cbi-says-state-polices-investigation-did-not-inspire-public-confidence-266615?infinitescroll=1). _Livelaw_. Retrieved 25 September 2024.**[^](#cite_ref-8)** ^ [_**a**_](#cite_ref-:1_8-0) [_**b**_](#cite_ref-:1_8-1) [_**c**_](#cite_ref-:1_8-2) Bose, Saikat Kumar (14 August 2024). [\\\\\"Why Kolkata Doctor\\\\\\'s Rape-Murder Case Went To CBI: Court\\\\\\'s Tough Remarks\\\\\"](https://www.ndtv.com/india-news/kolkata-doctor-rape-murder-rg-kar-medical-college-why-kolkata-doctors-rape-murder-case-went-to-cbi-courts-tough-remarks-6333533). _[NDTV](/wiki/NDTV \\\\\"NDTV\\\\\")_. [Archived](https://web.archive.org/web/20240815085340/https://www.ndtv.com/india-news/kolkata-doctor-rape-murder-rg-kar-medical-college-why-kolkata-doctors-rape-murder-case-went-to-cbi-courts-tough-remarks-6333533) from the original on 15 August 2024. Retrieved 14 August 2024.**[^](#cite_ref-9)** Singh, Shiv Sahay. [\\\\\"Bengal doctors threaten fresh protests over hospital violence\\\\\"](https://www.thehindu.com/news/national/west-bengal/west-bengal-resident-doctors-threaten-fresh-stir-over-violence-at-state-run-hospital/article68698413.ece). _The HIndu_. Retrieved 30 September 2024.'"
            ],
            "application/vnd.google.colaboratory.intrinsic+json": {
              "type": "string"
            }
          },
          "metadata": {},
          "execution_count": 36
        }
      ]
    },
    {
      "cell_type": "code",
      "source": [
        "from langchain.vectorstores import FAISS\n",
        "\n",
        "os.environ[\"GOOGLE_GENERATIVEAI_API_KEY\"] = userdata.get('Gapi')  # Replace with your actual API key\n",
        "\n",
        "def get_text_chunks(text):\n",
        "    text_splitter = RecursiveCharacterTextSplitter(chunk_size=10000, chunk_overlap=100)\n",
        "    chunks = text_splitter.split_text(text)\n",
        "    return chunks\n",
        "\n",
        "\n",
        "def get_vector_store(text_chunks):\n",
        "    # Use the environment variable for authentication\n",
        "    embeddings = my_embedding\n",
        "    vector_store = FAISS.from_texts(text_chunks, embedding=my_embedding)\n",
        "    vector_store.save_local(\"faiss_index\")\n",
        "\n",
        "# Assuming you have 'long_string' defined with your text data\n",
        "# get_vector_store(get_text_chunks(long_string))\n"
      ],
      "metadata": {
        "id": "X8DharCsofln"
      },
      "execution_count": null,
      "outputs": []
    },
    {
      "cell_type": "code",
      "source": [
        "vectr=get_vector_store(get_text_chunks(long_string))\n"
      ],
      "metadata": {
        "id": "bwRo-IMyxFA2"
      },
      "execution_count": null,
      "outputs": []
    },
    {
      "cell_type": "code",
      "source": [
        "faiss_index =FAISS.load_local(\"faiss_index\", embeddings=my_embedding, allow_dangerous_deserialization=True)"
      ],
      "metadata": {
        "id": "h6ZtI_Zvx9Gx"
      },
      "execution_count": null,
      "outputs": []
    },
    {
      "cell_type": "code",
      "source": [
        "shutil.rmtree('faiss_index')"
      ],
      "metadata": {
        "id": "VBNGEuxVqJAH"
      },
      "execution_count": null,
      "outputs": []
    },
    {
      "cell_type": "code",
      "source": [
        "new_db=FAISS.load_local(\"faiss_index\", embeddings=my_embedding, allow_dangerous_deserialization=True)\n",
        "docs=new_db.similarity_search(\"rg kar rape case\")"
      ],
      "metadata": {
        "id": "UPtjHTFzAn8w"
      },
      "execution_count": null,
      "outputs": []
    },
    {
      "cell_type": "code",
      "source": [
        "docs"
      ],
      "metadata": {
        "id": "fERR-L0uBFii"
      },
      "execution_count": null,
      "outputs": []
    },
    {
      "cell_type": "code",
      "source": [
        "user_prompt = \"\"\"\n",
        "  create a comprehensible long political speech out of the given context.\n",
        "  Accuse other political party for meddling \\n\n",
        "  in dirty vote bank politics and their involvement in the crimes. Ask for votes and give promises \\n\n",
        "  to change the government to a free, fair and just system for all of the people. Give broad description of all the news information including the introduction, topics of all the news and promises in the context.\n",
        "\n",
        "  Consider the following points for tailoring and finetuning the speech.\n",
        "\n",
        "  - Include every investigation details as complain in a comprehensible manner.\n",
        "  - create hypothetical propaganda based on the news Include all the news and the including evidence.\n",
        "  - Control the narrative and focus on specific issues.\n",
        "  - The speech should appeal to all Age, gender, socioeconomic status, ethnicity, religion, etc.\n",
        "  - question the existing govenment on its existence if it has turned into a regime or a democracy.\n",
        "  - Present the information in a way that benefits the said agenda.\n",
        "  - Do not include any points, only broad long paragraphs about ambitions.\n",
        "  - Use language that evokes strong emotions like anger, fear, or hope. Appeal to emotions to create connections.\n",
        "  - Establish credibility and trustworthiness, every heading should be a small paraghaph in itself.\n",
        "  - People tend to seek information that confirms their existing beliefs & rely heavily on the first piece of information they receive, use it to your advantage.\n",
        "  - Use the fact that People overestimate the likelihood of events that are easily recalled to your advantage.\n",
        "  - Include topics about the rich and cultural heritage of the state and the people. Then question the future of the state and its people in context to these news incidence.\n",
        "  - include random questions to ask the audience like \"Is this what we get from your government when we elected you in the election polls?\", \"Is this how you repay us, the citizen of our state...?\", etc.\n",
        "  - include immotional questions and ask public randomly after few complain lines so as to immitate every politician's public speaking style.\n",
        "\n",
        "   The speech should be above 50000 words\"\"\"\n"
      ],
      "metadata": {
        "id": "O2kcVrSlFej9"
      },
      "execution_count": null,
      "outputs": []
    },
    {
      "cell_type": "code",
      "source": [
        "model1=genai.GenerativeModel(\n",
        "    model_name='models/gemini-1.5-flash',\n",
        "    generation_config={},\n",
        "    safety_settings={\n",
        "        HarmCategory.HARM_CATEGORY_HATE_SPEECH: HarmBlockThreshold.BLOCK_NONE,\n",
        "        HarmCategory.HARM_CATEGORY_HARASSMENT: HarmBlockThreshold.BLOCK_NONE,\n",
        "        HarmCategory.HARM_CATEGORY_SEXUALLY_EXPLICIT: HarmBlockThreshold.BLOCK_NONE,\n",
        "        HarmCategory.HARM_CATEGORY_DANGEROUS_CONTENT: HarmBlockThreshold.BLOCK_NONE,\n",
        "        },\n",
        "    tools=None,\n",
        "    system_instruction=user_prompt)"
      ],
      "metadata": {
        "id": "HBlMwyWQj8ug"
      },
      "execution_count": null,
      "outputs": []
    },
    {
      "cell_type": "code",
      "source": [
        "response = model1.generate_content([{\"text\": long_string}, \"Transtale this speech into bengali language\"])\n",
        "print(response.text)"
      ],
      "metadata": {
        "colab": {
          "base_uri": "https://localhost:8080/",
          "height": 818
        },
        "id": "p_0SqCWUkaBq",
        "outputId": "cab08079-2947-45f8-83e7-7d2d606c9ccb"
      },
      "execution_count": null,
      "outputs": [
        {
          "output_type": "stream",
          "name": "stdout",
          "text": [
            "##  একটি স্বাধীন, ন্যায্য ও সুশাসনের জন্য লড়াই:  আমাদের  আবেগ আর অঙ্গীকার\n",
            "\n",
            "**প্রিয়  সহযোদ্ধাগণ,**\n",
            "\n",
            "আজ আমি  আপনাদের সামনে  এক  মহৎ  স্বপ্নের  বীজ  বপন  করতে  এসেছি।  এক  স্বপ্ন,  যা  আমাদের  অতীতের  গৌরবময়  ঐতিহ্যকে  সম্মান  করে,  বর্তমানের  অশান্তি  বিদূর  করে  এবং  ভবিষ্যতের  জন্য  আমাদের  জনগণকে  স্বাধীন,  ন্যায্য  এবং  সুশাসিত  একটি  রাষ্ট্র  দান  করে।  আমরা  এই  রাষ্ট্রের  মানুষ,  আমাদের  অতীতের  গর্ব  আমাদের  রক্তে  থেকে  গেছে।  আমাদের  ঐতিহ্য  গর্বিত  এবং  অনন্য।  কিন্তু  আজ  আমাদের  এই  রাষ্ট্র,  এই  গৌরবের  ধারক,  এক  স্বপ্নের  ভেতরে  ফেলে  দেওয়া  হয়েছে।  আমাদের  মনে  হচ্ছে,  আমাদের  অতীতের  গৌরব,  আমাদের  ভবিষ্যতের  আশা  -  সবই  হুমকির  মুখে।\n",
            "\n",
            "**এই  অশান্তির  কারণ  কী?**\n",
            "\n",
            "সম্প্রতি,  আমাদের  রাষ্ট্রে  এমন  অনেক  ঘটনা  ঘটেছে  যা  মানুষের  মানসিকতা  ভেঙে  দিচ্ছে,  আমাদের  আত্মবিশ্বাসকে  হ্রাস  করছে।  আমাদের  এই  রাষ্ট্রের  অভ্যন্তরে  এবং  বাইরে  এমন  অনেক  বিদ্বেষ  এবং  অসুরক্ষার  বীজ  বপন  করা  হচ্ছে,  যা  আমাদের  সমাজের  শান্তি  এবং  সম্প্রীতির  জন্য  হুমকি।  \n",
            "\n",
            "**দরজিলিংয়ের  এক  মহিলা  দিল্লিতে  তার  বন্ধুর  দ্বারা  এক  সপ্তাহ  ধরে  বলাৎকার  করা  হয়েছে,  তাকে  \"গরম  ডাল  ঢেলে\"  প্রহার  এবং  নির্যাতন  করা  হয়েছে।**   আপনাদের  কেউ  কি  ভাবতে  পারেন?  আমাদের  রাষ্ট্রে  এত  অসুরক্ষা  কিভাবে  আসতে  পারে?  আমাদের  মেয়েরা  আমাদের  ছেলেদের  পাশে  নিরাপদ  কি  না,  এই  প্রশ্ন  আজ  আমাদের  মনের  ভেতরে  ঝড়  তোলে।  \n",
            "\n",
            "**পুরুলিয়ায়  তিন  সাধুর  উপর  হামলা  করা  হয়েছে,  কারণ  জনগণ  ভাবছিল  যে  তারা  \"বেশভূষা  করে  অপহরণকারী\"।**  এই  ঘটনা  এক  এক  করতে  আমাদের  সমাজের  ভেতরে  অন্তর্নিহিত  বিশ্বাস  এবং  ভ্রমকে  তুলে  ধরে।   আমাদের  সমাজে  এমন  বিদ্বেষ  এবং  অভিযোগ  কিভাবে  বৃদ্ধি  পায়? \n",
            "\n",
            "**প্রাক্তন  মডেল  দিব্য  পাহুজার  হত্যার  অভিযুক্ত  কেউ  আমাদের  রাষ্ট্র থেকেই  গ্রেফতার  করা  হয়েছে।**  আমাদের  রাষ্ট্রে  হিংসা  এবং  অপরাধ  এত  বৃদ্ধি  পেতে  পেরেছে  কিভাবে?  \n",
            "\n",
            "**ন্যাশনাল  কমিশন  ফর  উইমেন (NCW) গত  বছর  মহিলাদের  বিরুদ্ধে  অপরাধের  28,811  টি  অভিযোগ  গ্রহণ  করেছে,  যার  প্রায়  55%  টি  উত্তরপ্রদেশ  থেকে  এসেছে।**  আমাদের  রাষ্ট্র  এর  অবস্থা  কি?  আমাদের  রাষ্ট্রে  মহিলারা  নিরাপদ  কি? \n",
            "\n",
            "**দিল্লিতে  500 টাকার  জাল  নোট  চালানোর  সন্দেহে  দুই  জন  কে  গ্রেফতার  করা  হয়েছে,  যারা  আমাদের  রাষ্ট্র  থেকে  এসেছিল।**   আমাদের  রাষ্ট্রে  এত  জাল  নোট  চালানো  কিভাবে  সম্ভব  হচ্ছে?  আমাদের  অর্থনীতি  কি  হুমকির  মুখে  ?  \n",
            "\n",
            "**উত্তরাখণ্ডের  দেহরাদুনে  থানায়  পোস্টেড  এক  লেফটেন্যান্ট  কর্নেল  এক  নেপালি  মহিলাকে  হত্যা  করেছেন,  যাকে  তিনি  আমাদের  রাষ্ট্রের  সিলিগুড়ির  একটি  ডান্স  বারে  দেখে  থেকে  উত্তরাখণ্ডে  নিয়ে  এসেছিলেন।**  আমাদের  রাষ্ট্রে  হিংসা  এবং  অপরাধ  এত  বৃদ্ধি  পেতে  পেরেছে  কিভাবে? \n",
            "\n",
            "**দক্ষিণ  24  পরগণা  জেলার  একটি  স্কুলছাত্রী  কে  অপহরণ  এবং  হত্যা  করা  হয়েছে।**  আমাদের  রাষ্ট্রে  শিশুদের  নিরাপত্তা  কি  না?  \n",
            "\n",
            "**সন্ধেশখালিতে  ভূমি  অনুপ্রবেশ  এবং  মহিলাদের  বিরুদ্ধে  অত্যাচারের  অভিযোগ  প্রতিবেদন  করার  জন্য  সিবিআই  একটি  নিবেদিত  ইমেল  ID  প্রকাশ  করেছে।**   আমাদের  রাষ্ট্রে  এত  অত্যাচার,  অন্যায়  এবং  দুর্নীতি  কিভাবে  সম্ভব  হচ্ছে?  \n",
            "\n",
            "**সমস্ত  বিষয়  একত্রিত  করে  আমাদের  একটি  প্রশ্ন  জাগে -  আমাদের  রাষ্ট্র  আর  একটি  গণতন্ত্র  কি?  না  কি  এটি  একটি  শাসন  হয়ে  গেছে?**  এই  সকল  ঘটনার  পিছনে  কি  শুধু  বিচ্ছিন্ন  ঘটনা,  না  কি  এই  রাষ্ট্রের  শাসন  ব্যবস্থায়  কিছু  গুরুত্বপূর্ণ  ভুল  এবং  নীতিগত  দুর্বলতা  কাজ  করছে?  \n",
            "\n",
            "**এই  প্রশ্নের  উত্তর  আমাদের  সকলের  মধ্যে  থেকে  উঠে  আসবে।**  আমাদের  রাষ্ট্রের  ভাগ্য  আমাদের  হাতে  থাকবে।   আমাদের  একত্রিত  হতে  হবে,  আমাদের  আওয়াজ  এক  করতে  হবে।   আমাদের  প্রিয়  রাষ্ট্রকে  স্বাধীন,  ন্যায্য  এবং  সুশাসিত  একটি  রাষ্ট্রে  পরিণত  করতে  হবে।\n",
            "\n",
            "**আমাদের  কি  করতে  হবে?**\n",
            "\n",
            "*   **ভোটদানের  মাধ্যমে  পরিবর্তন  আনতে  হবে।**  আমাদের  রাষ্ট্রে  একটি  নতুন  শাসন  প্রতিষ্ঠা  করতে  হবে,  যেখানে  মানুষের  কথা  শোনা  হবে,  মানুষের  জন্য  কাজ  করা  হবে।\n",
            "*   **একত্রিত  হতে  হবে।**  আমাদের  রাষ্ট্রের  জনগণ  এক  হলে  এক  হতে  হবে,  আমাদের  সমস্ত  অভিযোগ  এবং  অনুভূতি  এক  করতে  হবে।\n",
            "*   **আমাদের  রাষ্ট্রের  অর্থনীতি  শক্তিশালী  করতে  হবে।**  নতুন  কর্মসংস্থানের  সুযোগ  তৈরি  করতে  হবে,  মানুষের  জীবনযাত্রার  মান  উন্নত  করতে  হবে।\n",
            "*   **শিক্ষা,  স্বাস্থ্য  এবং  সমাজের  অন্যান্য  ক্ষেত্রে  উন্নয়ন  করতে  হবে।**  আমাদের  রাষ্ট্রের  জনগণের  জন্য  এক  সুন্দর  ভবিষ্যৎ  তৈরি  করতে  হবে।\n",
            "\n",
            "**প্রিয়  সহযোদ্ধাগণ,**\n",
            "\n",
            "আমাদের  সম্মুখে  এক  চ্যালেঞ্জ  থাকলেও,  আমাদের  একত্রিত  হলে  আমরা  জয়ী  হব।  আমরা  এই  রাষ্ট্রের  জনগণের  জন্য  লড়াই  করব,  আমাদের  রাষ্ট্রকে  আবারো  একটি  স্বাধীন,  ন্যায্য  এবং  সুশাসিত  রাষ্ট্রে  পরিণত  করব।   আমাদের  আওয়াজ  এক  করব,  আমাদের  অঙ্গীকার  এক  করব  এবং  আমাদের  স্বপ্নকে  সত্য  করব।  \n",
            "\n",
            "**আজ  এই  মিটিং  আমাদের  জন্য  এক  নতুন  সূচনা।  আমরা  সকলে  একত্রিত  হয়ে  আমাদের  স্বপ্নকে  সত্য  করব।**\n",
            "\n",
            "**ধন্যবাদ।** \n",
            "\n"
          ]
        }
      ]
    },
    {
      "source": [
        "from langchain import LLMChain, PromptTemplate\n",
        "from langchain.chains.question_answering import load_qa_chain\n",
        "#from langchain.chat_models import ChatGoogleGenerativeAI\n",
        "\n",
        "\n",
        "prompt_template = \"\"\"\n",
        "Answer the question as detailed as possible from the provided context, make sure to provide all the details, if the answer is not in\n",
        "provided context just say, \"answer is not available in the context\", don't provide the wrong answer\\n\\n\n",
        "Context: {context}\n",
        "Question: {question}\n",
        "\"\"\"\n",
        "\n",
        "# Create a PromptTemplate object from the prompt_template string\n",
        "PROMPT = PromptTemplate(\n",
        "    template=prompt_template, input_variables=[\"context\", \"question\"]\n",
        ")\n",
        "\n",
        "# Pass the PromptTemplate object to load_qa_chain\n",
        "chain = load_qa_chain(llm=ChatGoogleGenerativeAI(model=\"gemini-pro\"), chain_type=\"stuff\", prompt=PROMPT)\n",
        "\n",
        "model2=genai.GenerativeModel('gemini-1.5-flash')\n",
        "response=model2.generate_content([str(docs),prompta])\n",
        "print(response.text)"
      ],
      "cell_type": "code",
      "metadata": {
        "colab": {
          "base_uri": "https://localhost:8080/",
          "height": 332
        },
        "id": "EJjfyuXa1W1l",
        "outputId": "028188ce-a92c-44f1-eed2-b33adbc22e42"
      },
      "execution_count": null,
      "outputs": [
        {
          "output_type": "stream",
          "name": "stderr",
          "text": [
            "<ipython-input-51-8fb71bf7ea41>:19: LangChainDeprecationWarning: This class is deprecated. See the following migration guides for replacements based on `chain_type`:\n",
            "stuff: https://python.langchain.com/docs/versions/migrating_chains/stuff_docs_chain\n",
            "map_reduce: https://python.langchain.com/docs/versions/migrating_chains/map_reduce_chain\n",
            "refine: https://python.langchain.com/docs/versions/migrating_chains/refine_chain\n",
            "map_rerank: https://python.langchain.com/docs/versions/migrating_chains/map_rerank_docs_chain\n",
            "\n",
            "See also guides on retrieval and question-answering here: https://python.langchain.com/docs/how_to/#qa-with-rag\n",
            "  chain = load_qa_chain(llm=ChatGoogleGenerativeAI(model=\"gemini-pro\"), chain_type=\"stuff\", prompt=PROMPT)\n"
          ]
        },
        {
          "output_type": "error",
          "ename": "NameError",
          "evalue": "name 'docs' is not defined",
          "traceback": [
            "\u001b[0;31m---------------------------------------------------------------------------\u001b[0m",
            "\u001b[0;31mNameError\u001b[0m                                 Traceback (most recent call last)",
            "\u001b[0;32m<ipython-input-51-8fb71bf7ea41>\u001b[0m in \u001b[0;36m<cell line: 22>\u001b[0;34m()\u001b[0m\n\u001b[1;32m     20\u001b[0m \u001b[0;34m\u001b[0m\u001b[0m\n\u001b[1;32m     21\u001b[0m \u001b[0mmodel2\u001b[0m\u001b[0;34m=\u001b[0m\u001b[0mgenai\u001b[0m\u001b[0;34m.\u001b[0m\u001b[0mGenerativeModel\u001b[0m\u001b[0;34m(\u001b[0m\u001b[0;34m'gemini-1.5-flash'\u001b[0m\u001b[0;34m)\u001b[0m\u001b[0;34m\u001b[0m\u001b[0;34m\u001b[0m\u001b[0m\n\u001b[0;32m---> 22\u001b[0;31m \u001b[0mresponse\u001b[0m\u001b[0;34m=\u001b[0m\u001b[0mmodel2\u001b[0m\u001b[0;34m.\u001b[0m\u001b[0mgenerate_content\u001b[0m\u001b[0;34m(\u001b[0m\u001b[0;34m[\u001b[0m\u001b[0mstr\u001b[0m\u001b[0;34m(\u001b[0m\u001b[0mdocs\u001b[0m\u001b[0;34m)\u001b[0m\u001b[0;34m,\u001b[0m\u001b[0mprompta\u001b[0m\u001b[0;34m]\u001b[0m\u001b[0;34m)\u001b[0m\u001b[0;34m\u001b[0m\u001b[0;34m\u001b[0m\u001b[0m\n\u001b[0m\u001b[1;32m     23\u001b[0m \u001b[0mprint\u001b[0m\u001b[0;34m(\u001b[0m\u001b[0mresponse\u001b[0m\u001b[0;34m.\u001b[0m\u001b[0mtext\u001b[0m\u001b[0;34m)\u001b[0m\u001b[0;34m\u001b[0m\u001b[0;34m\u001b[0m\u001b[0m\n",
            "\u001b[0;31mNameError\u001b[0m: name 'docs' is not defined"
          ]
        }
      ]
    },
    {
      "cell_type": "code",
      "source": [
        "====================================================================================="
      ],
      "metadata": {
        "id": "rfarC0q-0Wm6"
      },
      "execution_count": null,
      "outputs": []
    },
    {
      "cell_type": "code",
      "source": [
        "\n",
        "\n",
        "def user_input(user_question):\n",
        "    embeddings = GoogleGenerativeAIEmbeddings(model = \"models/embedding-001\")\n",
        "\n",
        "    new_db = FAISS.load_local(\"faiss_index\", embeddings)\n",
        "    docs = new_db.similarity_search(user_question)\n",
        "\n",
        "    chain = get_conversational_chain()\n",
        "\n",
        "\n",
        "    response = chain(\n",
        "        {\"input_documents\":docs, \"question\": user_question}\n",
        "        , return_only_outputs=True)\n",
        "\n",
        "    print(response)\n",
        "    print(\"Reply: \", response[\"output_text\"])\n",
        "\n",
        "\n",
        "def get_conversational_chain():\n",
        "\n",
        "    prompt_template = \"\"\"\n",
        "    Answer the question as detailed as possible from the provided context, make sure to provide all the details, if the answer is not in\n",
        "    provided context just say, \"answer is not available in the context\", don't provide the wrong answer\\n\\n\n",
        "    Context:\\n {context}?\\n\n",
        "    Question: \\n{question}\\n\n",
        "\n",
        "    Answer:\n",
        "    \"\"\"\n",
        "\n",
        "    model = ChatGoogleGenerativeAI(model=\"gemini-pro\",\n",
        "                             temperature=0.3)\n",
        "\n",
        "    prompt = PromptTemplate(template = prompt_template, input_variables = [\"context\", \"question\"])\n",
        "    chain = load_qa_chain(model, chain_type=\"stuff\", prompt=prompt)\n",
        "\n",
        "    return chain\n"
      ],
      "metadata": {
        "id": "QjRjTXhBo6Zw"
      },
      "execution_count": null,
      "outputs": []
    },
    {
      "cell_type": "code",
      "source": [
        "\n",
        "def user_input(user_question):\n",
        "    embeddings = GoogleGenerativeAIEmbeddings(model = \"models/embedding-001\")\n",
        "\n",
        "    new_db = FAISS.load_local(\"faiss_index\", embeddings)\n",
        "    docs = new_db.similarity_search(user_question)\n",
        "\n",
        "    chain = get_conversational_chain()\n",
        "\n",
        "\n",
        "    response = chain(\n",
        "        {\"input_documents\":docs, \"question\": user_question}\n",
        "        , return_only_outputs=True)\n",
        "\n",
        "    print(response)\n",
        "    print(\"Reply: \", response[\"output_text\"])\n",
        "\n"
      ],
      "metadata": {
        "id": "6haQHr5cp6SL"
      },
      "execution_count": null,
      "outputs": []
    },
    {
      "cell_type": "code",
      "source": [
        "title = \"The next generation of AI for developers and Google Workspace\"\n",
        "sample_text = long_string\n",
        "\n",
        "model = 'models/embedding-001'\n",
        "embedding = genai.embed_content(model=model,\n",
        "                                content=sample_text,\n",
        "                                task_type=\"retrieval_document\",\n",
        "                                title=title)\n",
        "\n",
        "print(embedding)"
      ],
      "metadata": {
        "colab": {
          "base_uri": "https://localhost:8080/",
          "height": 373
        },
        "id": "rZb469WQHXGP",
        "outputId": "01f1446e-390e-4253-f268-b229bd085138"
      },
      "execution_count": null,
      "outputs": [
        {
          "output_type": "stream",
          "name": "stderr",
          "text": [
            "WARNING:tornado.access:400 POST /v1beta/models/embedding-001:embedContent?%24alt=json%3Benum-encoding%3Dint (127.0.0.1) 3068.28ms\n"
          ]
        },
        {
          "output_type": "error",
          "ename": "BadRequest",
          "evalue": "400 POST https://generativelanguage.googleapis.com/v1beta/models/embedding-001:embedContent?%24alt=json%3Benum-encoding%3Dint: Request payload size exceeds the limit: 10000 bytes.",
          "traceback": [
            "\u001b[0;31m---------------------------------------------------------------------------\u001b[0m",
            "\u001b[0;31mBadRequest\u001b[0m                                Traceback (most recent call last)",
            "\u001b[0;32m<ipython-input-6-36eac215bfd1>\u001b[0m in \u001b[0;36m<cell line: 5>\u001b[0;34m()\u001b[0m\n\u001b[1;32m      3\u001b[0m \u001b[0;34m\u001b[0m\u001b[0m\n\u001b[1;32m      4\u001b[0m \u001b[0mmodel\u001b[0m \u001b[0;34m=\u001b[0m \u001b[0;34m'models/embedding-001'\u001b[0m\u001b[0;34m\u001b[0m\u001b[0;34m\u001b[0m\u001b[0m\n\u001b[0;32m----> 5\u001b[0;31m embedding = genai.embed_content(model=model,\n\u001b[0m\u001b[1;32m      6\u001b[0m                                 \u001b[0mcontent\u001b[0m\u001b[0;34m=\u001b[0m\u001b[0msample_text\u001b[0m\u001b[0;34m,\u001b[0m\u001b[0;34m\u001b[0m\u001b[0;34m\u001b[0m\u001b[0m\n\u001b[1;32m      7\u001b[0m                                 \u001b[0mtask_type\u001b[0m\u001b[0;34m=\u001b[0m\u001b[0;34m\"retrieval_document\"\u001b[0m\u001b[0;34m,\u001b[0m\u001b[0;34m\u001b[0m\u001b[0;34m\u001b[0m\u001b[0m\n",
            "\u001b[0;32m/usr/local/lib/python3.10/dist-packages/google/generativeai/embedding.py\u001b[0m in \u001b[0;36membed_content\u001b[0;34m(model, content, task_type, title, output_dimensionality, client, request_options)\u001b[0m\n\u001b[1;32m    211\u001b[0m             \u001b[0moutput_dimensionality\u001b[0m\u001b[0;34m=\u001b[0m\u001b[0moutput_dimensionality\u001b[0m\u001b[0;34m,\u001b[0m\u001b[0;34m\u001b[0m\u001b[0;34m\u001b[0m\u001b[0m\n\u001b[1;32m    212\u001b[0m         )\n\u001b[0;32m--> 213\u001b[0;31m         embedding_response = client.embed_content(\n\u001b[0m\u001b[1;32m    214\u001b[0m             \u001b[0membedding_request\u001b[0m\u001b[0;34m,\u001b[0m\u001b[0;34m\u001b[0m\u001b[0;34m\u001b[0m\u001b[0m\n\u001b[1;32m    215\u001b[0m             \u001b[0;34m**\u001b[0m\u001b[0mrequest_options\u001b[0m\u001b[0;34m,\u001b[0m\u001b[0;34m\u001b[0m\u001b[0;34m\u001b[0m\u001b[0m\n",
            "\u001b[0;32m/usr/local/lib/python3.10/dist-packages/google/ai/generativelanguage_v1beta/services/generative_service/client.py\u001b[0m in \u001b[0;36membed_content\u001b[0;34m(self, request, model, content, retry, timeout, metadata)\u001b[0m\n\u001b[1;32m   1250\u001b[0m \u001b[0;34m\u001b[0m\u001b[0m\n\u001b[1;32m   1251\u001b[0m         \u001b[0;31m# Send the request.\u001b[0m\u001b[0;34m\u001b[0m\u001b[0;34m\u001b[0m\u001b[0m\n\u001b[0;32m-> 1252\u001b[0;31m         response = rpc(\n\u001b[0m\u001b[1;32m   1253\u001b[0m             \u001b[0mrequest\u001b[0m\u001b[0;34m,\u001b[0m\u001b[0;34m\u001b[0m\u001b[0;34m\u001b[0m\u001b[0m\n\u001b[1;32m   1254\u001b[0m             \u001b[0mretry\u001b[0m\u001b[0;34m=\u001b[0m\u001b[0mretry\u001b[0m\u001b[0;34m,\u001b[0m\u001b[0;34m\u001b[0m\u001b[0;34m\u001b[0m\u001b[0m\n",
            "\u001b[0;32m/usr/local/lib/python3.10/dist-packages/google/api_core/gapic_v1/method.py\u001b[0m in \u001b[0;36m__call__\u001b[0;34m(self, timeout, retry, compression, *args, **kwargs)\u001b[0m\n\u001b[1;32m    129\u001b[0m             \u001b[0mkwargs\u001b[0m\u001b[0;34m[\u001b[0m\u001b[0;34m\"compression\"\u001b[0m\u001b[0;34m]\u001b[0m \u001b[0;34m=\u001b[0m \u001b[0mcompression\u001b[0m\u001b[0;34m\u001b[0m\u001b[0;34m\u001b[0m\u001b[0m\n\u001b[1;32m    130\u001b[0m \u001b[0;34m\u001b[0m\u001b[0m\n\u001b[0;32m--> 131\u001b[0;31m         \u001b[0;32mreturn\u001b[0m \u001b[0mwrapped_func\u001b[0m\u001b[0;34m(\u001b[0m\u001b[0;34m*\u001b[0m\u001b[0margs\u001b[0m\u001b[0;34m,\u001b[0m \u001b[0;34m**\u001b[0m\u001b[0mkwargs\u001b[0m\u001b[0;34m)\u001b[0m\u001b[0;34m\u001b[0m\u001b[0;34m\u001b[0m\u001b[0m\n\u001b[0m\u001b[1;32m    132\u001b[0m \u001b[0;34m\u001b[0m\u001b[0m\n\u001b[1;32m    133\u001b[0m \u001b[0;34m\u001b[0m\u001b[0m\n",
            "\u001b[0;32m/usr/local/lib/python3.10/dist-packages/google/api_core/retry/retry_unary.py\u001b[0m in \u001b[0;36mretry_wrapped_func\u001b[0;34m(*args, **kwargs)\u001b[0m\n\u001b[1;32m    291\u001b[0m                 \u001b[0mself\u001b[0m\u001b[0;34m.\u001b[0m\u001b[0m_initial\u001b[0m\u001b[0;34m,\u001b[0m \u001b[0mself\u001b[0m\u001b[0;34m.\u001b[0m\u001b[0m_maximum\u001b[0m\u001b[0;34m,\u001b[0m \u001b[0mmultiplier\u001b[0m\u001b[0;34m=\u001b[0m\u001b[0mself\u001b[0m\u001b[0;34m.\u001b[0m\u001b[0m_multiplier\u001b[0m\u001b[0;34m\u001b[0m\u001b[0;34m\u001b[0m\u001b[0m\n\u001b[1;32m    292\u001b[0m             )\n\u001b[0;32m--> 293\u001b[0;31m             return retry_target(\n\u001b[0m\u001b[1;32m    294\u001b[0m                 \u001b[0mtarget\u001b[0m\u001b[0;34m,\u001b[0m\u001b[0;34m\u001b[0m\u001b[0;34m\u001b[0m\u001b[0m\n\u001b[1;32m    295\u001b[0m                 \u001b[0mself\u001b[0m\u001b[0;34m.\u001b[0m\u001b[0m_predicate\u001b[0m\u001b[0;34m,\u001b[0m\u001b[0;34m\u001b[0m\u001b[0;34m\u001b[0m\u001b[0m\n",
            "\u001b[0;32m/usr/local/lib/python3.10/dist-packages/google/api_core/retry/retry_unary.py\u001b[0m in \u001b[0;36mretry_target\u001b[0;34m(target, predicate, sleep_generator, timeout, on_error, exception_factory, **kwargs)\u001b[0m\n\u001b[1;32m    151\u001b[0m         \u001b[0;32mexcept\u001b[0m \u001b[0mException\u001b[0m \u001b[0;32mas\u001b[0m \u001b[0mexc\u001b[0m\u001b[0;34m:\u001b[0m\u001b[0;34m\u001b[0m\u001b[0;34m\u001b[0m\u001b[0m\n\u001b[1;32m    152\u001b[0m             \u001b[0;31m# defer to shared logic for handling errors\u001b[0m\u001b[0;34m\u001b[0m\u001b[0;34m\u001b[0m\u001b[0m\n\u001b[0;32m--> 153\u001b[0;31m             _retry_error_helper(\n\u001b[0m\u001b[1;32m    154\u001b[0m                 \u001b[0mexc\u001b[0m\u001b[0;34m,\u001b[0m\u001b[0;34m\u001b[0m\u001b[0;34m\u001b[0m\u001b[0m\n\u001b[1;32m    155\u001b[0m                 \u001b[0mdeadline\u001b[0m\u001b[0;34m,\u001b[0m\u001b[0;34m\u001b[0m\u001b[0;34m\u001b[0m\u001b[0m\n",
            "\u001b[0;32m/usr/local/lib/python3.10/dist-packages/google/api_core/retry/retry_base.py\u001b[0m in \u001b[0;36m_retry_error_helper\u001b[0;34m(exc, deadline, next_sleep, error_list, predicate_fn, on_error_fn, exc_factory_fn, original_timeout)\u001b[0m\n\u001b[1;32m    210\u001b[0m             \u001b[0moriginal_timeout\u001b[0m\u001b[0;34m,\u001b[0m\u001b[0;34m\u001b[0m\u001b[0;34m\u001b[0m\u001b[0m\n\u001b[1;32m    211\u001b[0m         )\n\u001b[0;32m--> 212\u001b[0;31m         \u001b[0;32mraise\u001b[0m \u001b[0mfinal_exc\u001b[0m \u001b[0;32mfrom\u001b[0m \u001b[0msource_exc\u001b[0m\u001b[0;34m\u001b[0m\u001b[0;34m\u001b[0m\u001b[0m\n\u001b[0m\u001b[1;32m    213\u001b[0m     \u001b[0;32mif\u001b[0m \u001b[0mon_error_fn\u001b[0m \u001b[0;32mis\u001b[0m \u001b[0;32mnot\u001b[0m \u001b[0;32mNone\u001b[0m\u001b[0;34m:\u001b[0m\u001b[0;34m\u001b[0m\u001b[0;34m\u001b[0m\u001b[0m\n\u001b[1;32m    214\u001b[0m         \u001b[0mon_error_fn\u001b[0m\u001b[0;34m(\u001b[0m\u001b[0mexc\u001b[0m\u001b[0;34m)\u001b[0m\u001b[0;34m\u001b[0m\u001b[0;34m\u001b[0m\u001b[0m\n",
            "\u001b[0;32m/usr/local/lib/python3.10/dist-packages/google/api_core/retry/retry_unary.py\u001b[0m in \u001b[0;36mretry_target\u001b[0;34m(target, predicate, sleep_generator, timeout, on_error, exception_factory, **kwargs)\u001b[0m\n\u001b[1;32m    142\u001b[0m     \u001b[0;32mfor\u001b[0m \u001b[0msleep\u001b[0m \u001b[0;32min\u001b[0m \u001b[0msleep_generator\u001b[0m\u001b[0;34m:\u001b[0m\u001b[0;34m\u001b[0m\u001b[0;34m\u001b[0m\u001b[0m\n\u001b[1;32m    143\u001b[0m         \u001b[0;32mtry\u001b[0m\u001b[0;34m:\u001b[0m\u001b[0;34m\u001b[0m\u001b[0;34m\u001b[0m\u001b[0m\n\u001b[0;32m--> 144\u001b[0;31m             \u001b[0mresult\u001b[0m \u001b[0;34m=\u001b[0m \u001b[0mtarget\u001b[0m\u001b[0;34m(\u001b[0m\u001b[0;34m)\u001b[0m\u001b[0;34m\u001b[0m\u001b[0;34m\u001b[0m\u001b[0m\n\u001b[0m\u001b[1;32m    145\u001b[0m             \u001b[0;32mif\u001b[0m \u001b[0minspect\u001b[0m\u001b[0;34m.\u001b[0m\u001b[0misawaitable\u001b[0m\u001b[0;34m(\u001b[0m\u001b[0mresult\u001b[0m\u001b[0;34m)\u001b[0m\u001b[0;34m:\u001b[0m\u001b[0;34m\u001b[0m\u001b[0;34m\u001b[0m\u001b[0m\n\u001b[1;32m    146\u001b[0m                 \u001b[0mwarnings\u001b[0m\u001b[0;34m.\u001b[0m\u001b[0mwarn\u001b[0m\u001b[0;34m(\u001b[0m\u001b[0m_ASYNC_RETRY_WARNING\u001b[0m\u001b[0;34m)\u001b[0m\u001b[0;34m\u001b[0m\u001b[0;34m\u001b[0m\u001b[0m\n",
            "\u001b[0;32m/usr/local/lib/python3.10/dist-packages/google/api_core/timeout.py\u001b[0m in \u001b[0;36mfunc_with_timeout\u001b[0;34m(*args, **kwargs)\u001b[0m\n\u001b[1;32m    118\u001b[0m                 \u001b[0mkwargs\u001b[0m\u001b[0;34m[\u001b[0m\u001b[0;34m\"timeout\"\u001b[0m\u001b[0;34m]\u001b[0m \u001b[0;34m=\u001b[0m \u001b[0mmax\u001b[0m\u001b[0;34m(\u001b[0m\u001b[0;36m0\u001b[0m\u001b[0;34m,\u001b[0m \u001b[0mself\u001b[0m\u001b[0;34m.\u001b[0m\u001b[0m_timeout\u001b[0m \u001b[0;34m-\u001b[0m \u001b[0mtime_since_first_attempt\u001b[0m\u001b[0;34m)\u001b[0m\u001b[0;34m\u001b[0m\u001b[0;34m\u001b[0m\u001b[0m\n\u001b[1;32m    119\u001b[0m \u001b[0;34m\u001b[0m\u001b[0m\n\u001b[0;32m--> 120\u001b[0;31m             \u001b[0;32mreturn\u001b[0m \u001b[0mfunc\u001b[0m\u001b[0;34m(\u001b[0m\u001b[0;34m*\u001b[0m\u001b[0margs\u001b[0m\u001b[0;34m,\u001b[0m \u001b[0;34m**\u001b[0m\u001b[0mkwargs\u001b[0m\u001b[0;34m)\u001b[0m\u001b[0;34m\u001b[0m\u001b[0;34m\u001b[0m\u001b[0m\n\u001b[0m\u001b[1;32m    121\u001b[0m \u001b[0;34m\u001b[0m\u001b[0m\n\u001b[1;32m    122\u001b[0m         \u001b[0;32mreturn\u001b[0m \u001b[0mfunc_with_timeout\u001b[0m\u001b[0;34m\u001b[0m\u001b[0;34m\u001b[0m\u001b[0m\n",
            "\u001b[0;32m/usr/local/lib/python3.10/dist-packages/google/api_core/grpc_helpers.py\u001b[0m in \u001b[0;36merror_remapped_callable\u001b[0;34m(*args, **kwargs)\u001b[0m\n\u001b[1;32m     74\u001b[0m     \u001b[0;32mdef\u001b[0m \u001b[0merror_remapped_callable\u001b[0m\u001b[0;34m(\u001b[0m\u001b[0;34m*\u001b[0m\u001b[0margs\u001b[0m\u001b[0;34m,\u001b[0m \u001b[0;34m**\u001b[0m\u001b[0mkwargs\u001b[0m\u001b[0;34m)\u001b[0m\u001b[0;34m:\u001b[0m\u001b[0;34m\u001b[0m\u001b[0;34m\u001b[0m\u001b[0m\n\u001b[1;32m     75\u001b[0m         \u001b[0;32mtry\u001b[0m\u001b[0;34m:\u001b[0m\u001b[0;34m\u001b[0m\u001b[0;34m\u001b[0m\u001b[0m\n\u001b[0;32m---> 76\u001b[0;31m             \u001b[0;32mreturn\u001b[0m \u001b[0mcallable_\u001b[0m\u001b[0;34m(\u001b[0m\u001b[0;34m*\u001b[0m\u001b[0margs\u001b[0m\u001b[0;34m,\u001b[0m \u001b[0;34m**\u001b[0m\u001b[0mkwargs\u001b[0m\u001b[0;34m)\u001b[0m\u001b[0;34m\u001b[0m\u001b[0;34m\u001b[0m\u001b[0m\n\u001b[0m\u001b[1;32m     77\u001b[0m         \u001b[0;32mexcept\u001b[0m \u001b[0mgrpc\u001b[0m\u001b[0;34m.\u001b[0m\u001b[0mRpcError\u001b[0m \u001b[0;32mas\u001b[0m \u001b[0mexc\u001b[0m\u001b[0;34m:\u001b[0m\u001b[0;34m\u001b[0m\u001b[0;34m\u001b[0m\u001b[0m\n\u001b[1;32m     78\u001b[0m             \u001b[0;32mraise\u001b[0m \u001b[0mexceptions\u001b[0m\u001b[0;34m.\u001b[0m\u001b[0mfrom_grpc_error\u001b[0m\u001b[0;34m(\u001b[0m\u001b[0mexc\u001b[0m\u001b[0;34m)\u001b[0m \u001b[0;32mfrom\u001b[0m \u001b[0mexc\u001b[0m\u001b[0;34m\u001b[0m\u001b[0;34m\u001b[0m\u001b[0m\n",
            "\u001b[0;32m/usr/local/lib/python3.10/dist-packages/google/ai/generativelanguage_v1beta/services/generative_service/transports/rest.py\u001b[0m in \u001b[0;36m__call__\u001b[0;34m(self, request, retry, timeout, metadata)\u001b[0m\n\u001b[1;32m    634\u001b[0m             \u001b[0;31m# subclass.\u001b[0m\u001b[0;34m\u001b[0m\u001b[0;34m\u001b[0m\u001b[0m\n\u001b[1;32m    635\u001b[0m             \u001b[0;32mif\u001b[0m \u001b[0mresponse\u001b[0m\u001b[0;34m.\u001b[0m\u001b[0mstatus_code\u001b[0m \u001b[0;34m>=\u001b[0m \u001b[0;36m400\u001b[0m\u001b[0;34m:\u001b[0m\u001b[0;34m\u001b[0m\u001b[0;34m\u001b[0m\u001b[0m\n\u001b[0;32m--> 636\u001b[0;31m                 \u001b[0;32mraise\u001b[0m \u001b[0mcore_exceptions\u001b[0m\u001b[0;34m.\u001b[0m\u001b[0mfrom_http_response\u001b[0m\u001b[0;34m(\u001b[0m\u001b[0mresponse\u001b[0m\u001b[0;34m)\u001b[0m\u001b[0;34m\u001b[0m\u001b[0;34m\u001b[0m\u001b[0m\n\u001b[0m\u001b[1;32m    637\u001b[0m \u001b[0;34m\u001b[0m\u001b[0m\n\u001b[1;32m    638\u001b[0m             \u001b[0;31m# Return the response\u001b[0m\u001b[0;34m\u001b[0m\u001b[0;34m\u001b[0m\u001b[0m\n",
            "\u001b[0;31mBadRequest\u001b[0m: 400 POST https://generativelanguage.googleapis.com/v1beta/models/embedding-001:embedContent?%24alt=json%3Benum-encoding%3Dint: Request payload size exceeds the limit: 10000 bytes."
          ]
        }
      ]
    },
    {
      "cell_type": "code",
      "source": [
        "related_content = []\n",
        "os.environ['GEMINI_API_KEY'] = userdata.get('Gapi')\n",
        "\n",
        "async with AsyncWebCrawler(verbose=True) as crawler:\n",
        "    result = await crawler.arun(\n",
        "        url=\"https://www.nbcnews.com/news/world/live-blog/live-updates-hamas-leader-yahya-sinwar-possibly-killed-gaza-rcna175922\",\n",
        "        extraction_strategy=LLMExtractionStrategy(\n",
        "            provider=\"gemini/gemini-pro\",\n",
        "            bypass_cache=True,\n",
        "            api_token=os.environ['GEMINI_API_KEY'],\n",
        "            instruction=\"Extract all content related to israel and hamas war and the website link if found\"\n",
        "    ),\n",
        "        )\n",
        "if result.extracted_content is not None:\n",
        "    try:\n",
        "        related_content = json.loads(result.extracted_content)  # Attempt to parse the content as JSON\n",
        "    except json.JSONDecodeError as e:\n",
        "        print(f\"Error decoding JSON: {e}\")\n",
        "        print(f\"Raw extracted content: {result.extracted_content}\") # Print the raw content for debugging\n",
        "        related_content = []  # Assign an empty list if JSON decoding fails\n",
        "else:\n",
        "    print(\"No content extracted by the LLM.\")\n",
        "    related_content = []  # Assign an empty list if no content is extracted\n",
        "\n",
        "print(f\"Number of related items extracted: {len(related_content)}\")\n",
        "\n",
        "print(json.dumps(related_content, indent=2))\n",
        "\n",
        "combined_data=[]\n",
        "for _ in related_content:\n",
        "  combined_data.append(_['content'])\n",
        "\n",
        "print(combined_data)\n",
        "\n"
      ],
      "metadata": {
        "colab": {
          "base_uri": "https://localhost:8080/"
        },
        "id": "l43yYqEM939a",
        "outputId": "66e442f1-0896-4400-bae4-f87ffdffbc18"
      },
      "execution_count": null,
      "outputs": [
        {
          "output_type": "stream",
          "name": "stdout",
          "text": [
            "[LOG] 🌤️  Warming up the AsyncWebCrawler\n",
            "[LOG] 🌞 AsyncWebCrawler is ready to crawl\n",
            "[LOG] 🕸️ Crawling https://www.hindustantimes.com/india-news/cbi-files-rape-murder-charges-in-rg-kar-case-101728327005850.html using AsyncPlaywrightCrawlerStrategy...\n",
            "[LOG] ✅ Crawled https://www.hindustantimes.com/india-news/cbi-files-rape-murder-charges-in-rg-kar-case-101728327005850.html successfully!\n",
            "[LOG] 🚀 Crawling done for https://www.hindustantimes.com/india-news/cbi-files-rape-murder-charges-in-rg-kar-case-101728327005850.html, success: True, time taken: 3.34 seconds\n",
            "[LOG] 🚀 Content extracted for https://www.hindustantimes.com/india-news/cbi-files-rape-murder-charges-in-rg-kar-case-101728327005850.html, success: True, time taken: 2.19 seconds\n",
            "[LOG] 🔥 Extracting semantic blocks for https://www.hindustantimes.com/india-news/cbi-files-rape-murder-charges-in-rg-kar-case-101728327005850.html, Strategy: AsyncWebCrawler\n",
            "[LOG] Call LLM for https://www.hindustantimes.com/india-news/cbi-files-rape-murder-charges-in-rg-kar-case-101728327005850.html - block index: 0\n",
            "[LOG] Call LLM for https://www.hindustantimes.com/india-news/cbi-files-rape-murder-charges-in-rg-kar-case-101728327005850.html - block index: 1\n",
            "[LOG] Call LLM for https://www.hindustantimes.com/india-news/cbi-files-rape-murder-charges-in-rg-kar-case-101728327005850.html - block index: 2\n",
            "[LOG] Call LLM for https://www.hindustantimes.com/india-news/cbi-files-rape-murder-charges-in-rg-kar-case-101728327005850.html - block index: 3\n",
            "[LOG] Call LLM for https://www.hindustantimes.com/india-news/cbi-files-rape-murder-charges-in-rg-kar-case-101728327005850.html - block index: 4Error in thread execution: 'NoneType' object has no attribute 'startswith'\n",
            "\n",
            "[LOG] Call LLM for https://www.hindustantimes.com/india-news/cbi-files-rape-murder-charges-in-rg-kar-case-101728327005850.html - block index: 5Error in thread execution: 'NoneType' object has no attribute 'startswith'\n",
            "\n",
            "[LOG] Call LLM for https://www.hindustantimes.com/india-news/cbi-files-rape-murder-charges-in-rg-kar-case-101728327005850.html - block index: 6\n",
            "Error in thread execution: 'NoneType' object has no attribute 'startswith'\n",
            "\n",
            "\u001b[1;31mGive Feedback / Get Help: https://github.com/BerriAI/litellm/issues/new\u001b[0m\n",
            "LiteLLM.Info: If you need to debug this error, use `litellm.set_verbose=True'.\n",
            "\n",
            "[LOG] Call LLM for https://www.hindustantimes.com/india-news/cbi-files-rape-murder-charges-in-rg-kar-case-101728327005850.html - block index: 7Error in thread execution: litellm.InternalServerError: VertexAIException InternalServerError - {\n",
            "  \"error\": {\n",
            "    \"code\": 500,\n",
            "    \"message\": \"An internal error has occurred. Please retry or report in https://developers.generativeai.google/guide/troubleshooting\",\n",
            "    \"status\": \"INTERNAL\"\n",
            "  }\n",
            "}\n",
            "\n",
            "\n",
            "[LOG] Extracted 2 blocks from URL: https://www.hindustantimes.com/india-news/cbi-files-rape-murder-charges-in-rg-kar-case-101728327005850.html block index: 5\n",
            "[LOG] Call LLM for https://www.hindustantimes.com/india-news/cbi-files-rape-murder-charges-in-rg-kar-case-101728327005850.html - block index: 8\n",
            "[LOG] Extracted 2 blocks from URL: https://www.hindustantimes.com/india-news/cbi-files-rape-murder-charges-in-rg-kar-case-101728327005850.html block index: 6\n",
            "[LOG] Extracted 1 blocks from URL: https://www.hindustantimes.com/india-news/cbi-files-rape-murder-charges-in-rg-kar-case-101728327005850.html block index: 0\n",
            "[LOG] Extracted 2 blocks from URL: https://www.hindustantimes.com/india-news/cbi-files-rape-murder-charges-in-rg-kar-case-101728327005850.html block index: 7\n",
            "[LOG] Extracted 10 blocks from URL: https://www.hindustantimes.com/india-news/cbi-files-rape-murder-charges-in-rg-kar-case-101728327005850.html block index: 8\n",
            "[LOG] 🚀 Extraction done for https://www.hindustantimes.com/india-news/cbi-files-rape-murder-charges-in-rg-kar-case-101728327005850.html, time taken: 21.49 seconds.\n",
            "Number of related items extracted: 21\n",
            "[\n",
            "  {\n",
            "    \"index\": 0,\n",
            "    \"error\": true,\n",
            "    \"tags\": [\n",
            "      \"error\"\n",
            "    ],\n",
            "    \"content\": \"'NoneType' object has no attribute 'startswith'\"\n",
            "  },\n",
            "  {\n",
            "    \"index\": 0,\n",
            "    \"error\": true,\n",
            "    \"tags\": [\n",
            "      \"error\"\n",
            "    ],\n",
            "    \"content\": \"'NoneType' object has no attribute 'startswith'\"\n",
            "  },\n",
            "  {\n",
            "    \"index\": 0,\n",
            "    \"error\": true,\n",
            "    \"tags\": [\n",
            "      \"error\"\n",
            "    ],\n",
            "    \"content\": \"'NoneType' object has no attribute 'startswith'\"\n",
            "  },\n",
            "  {\n",
            "    \"index\": 0,\n",
            "    \"error\": true,\n",
            "    \"tags\": [\n",
            "      \"error\"\n",
            "    ],\n",
            "    \"content\": \"litellm.InternalServerError: VertexAIException InternalServerError - {\\n  \\\"error\\\": {\\n    \\\"code\\\": 500,\\n    \\\"message\\\": \\\"An internal error has occurred. Please retry or report in https://developers.generativeai.google/guide/troubleshooting\\\",\\n    \\\"status\\\": \\\"INTERNAL\\\"\\n  }\\n}\\n\"\n",
            "  },\n",
            "  {\n",
            "    \"index\": 0,\n",
            "    \"tags\": [\n",
            "      \"RG Kar rape case\"\n",
            "    ],\n",
            "    \"content\": [\n",
            "      \"CBI files rape, murder charges in RG Kar case\"\n",
            "    ],\n",
            "    \"error\": false\n",
            "  },\n",
            "  {\n",
            "    \"index\": 1,\n",
            "    \"tags\": [\n",
            "      \"website link\"\n",
            "    ],\n",
            "    \"content\": [\n",
            "      \"https://www.hindustantimes.com/india-news/cbi-files-rape-murder-charges-in-rg-kar-case-101728327005850.html\"\n",
            "    ],\n",
            "    \"error\": false\n",
            "  },\n",
            "  {\n",
            "    \"index\": 0,\n",
            "    \"tags\": [\n",
            "      \"RG Kar rape case\"\n",
            "    ],\n",
            "    \"content\": [\n",
            "      \"CBI files rape, murder charges in RG Kar case\"\n",
            "    ],\n",
            "    \"error\": false\n",
            "  },\n",
            "  {\n",
            "    \"index\": 1,\n",
            "    \"tags\": [\n",
            "      \"website link\"\n",
            "    ],\n",
            "    \"content\": [\n",
            "      \"https://www.hindustantimes.com/india-news/cbi-files-rape-murder-charges-in-rg-kar-case-101728327005850.html\"\n",
            "    ],\n",
            "    \"error\": false\n",
            "  },\n",
            "  {\n",
            "    \"index\": 0,\n",
            "    \"tags\": [\n",
            "      \"RG Kar rape case\"\n",
            "    ],\n",
            "    \"content\": [\n",
            "      \"CBI files rape, murder charges in RG Kar case\",\n",
            "      \"CBI filed a charge sheet against Sanjay Roy for the rape and murder of a student in Kolkata\\\\'s RG Kar Hospital, ruling out gang involvement.\",\n",
            "      \"The Central Bureau of Investigation (CBI) on Monday filed a charge sheet against prime accused Sanjay Roy in connection with the grisly rape and murder at Kolkata\\u2019s RG Kar Hospital in August, people familiar with the development said, adding that no evidence of gang rape or involvement of more people was found.\",\n",
            "      \"Roy, a civic police volunteer posted at police post the premier government hospital in Kolkata, was charged under sections 64 (rape) and 103 (1) (murder) of the Bharatiya Nyaya Sanhita (BNS), the people cited above said.\",\n",
            "      \"He was arrested by Kolkata Police on August 10, a day after the crime came to light, and handed over to the federal agency on August 13.\"\n",
            "    ],\n",
            "    \"error\": false\n",
            "  },\n",
            "  {\n",
            "    \"index\": 0,\n",
            "    \"tags\": [\n",
            "      \"RG Kar rape case\"\n",
            "    ],\n",
            "    \"content\": [\n",
            "      \"CBI files rape, murder charges in RG Kar case\"\n",
            "    ],\n",
            "    \"error\": false\n",
            "  },\n",
            "  {\n",
            "    \"index\": 1,\n",
            "    \"tags\": [\n",
            "      \"website link\"\n",
            "    ],\n",
            "    \"content\": [\n",
            "      \"https://www.hindustantimes.com/india-news/cbi-files-rape-murder-charges-in-rg-kar-case-101728327005850.html\"\n",
            "    ],\n",
            "    \"error\": false\n",
            "  },\n",
            "  {\n",
            "    \"index\": 0,\n",
            "    \"tags\": [\n",
            "      \"rg_kar_rape_case\"\n",
            "    ],\n",
            "    \"content\": [\n",
            "      \"CBI files rape, murder charges in RG Kar case\"\n",
            "    ],\n",
            "    \"error\": false\n",
            "  },\n",
            "  {\n",
            "    \"index\": 1,\n",
            "    \"tags\": [\n",
            "      \"rg_kar_rape_case\"\n",
            "    ],\n",
            "    \"content\": [\n",
            "      \"The Central Bureau of Investigation (CBI) on Thursday filed a chargesheet against former West Bengal minister Partha Chatterjee and his alleged close aide Arpita Mukherjee in connection with the alleged rape and murder of a woman in 2012, officials said.\"\n",
            "    ],\n",
            "    \"error\": false\n",
            "  },\n",
            "  {\n",
            "    \"index\": 2,\n",
            "    \"tags\": [\n",
            "      \"rg_kar_rape_case\"\n",
            "    ],\n",
            "    \"content\": [\n",
            "      \"The chargesheet was filed before a special CBI court in Kolkata, they said.\"\n",
            "    ],\n",
            "    \"error\": false\n",
            "  },\n",
            "  {\n",
            "    \"index\": 3,\n",
            "    \"tags\": [\n",
            "      \"rg_kar_rape_case\"\n",
            "    ],\n",
            "    \"content\": [\n",
            "      \"The CBI had taken over the investigation of the case from the West Bengal Police in 2014 on the orders of the Calcutta High Court.\"\n",
            "    ],\n",
            "    \"error\": false\n",
            "  },\n",
            "  {\n",
            "    \"index\": 4,\n",
            "    \"tags\": [\n",
            "      \"rg_kar_rape_case\"\n",
            "    ],\n",
            "    \"content\": [\n",
            "      \"The agency had earlier filed a chargesheet against four persons, including the then officer-in-charge of the local police station, in connection with the case.\"\n",
            "    ],\n",
            "    \"error\": false\n",
            "  },\n",
            "  {\n",
            "    \"index\": 5,\n",
            "    \"tags\": [\n",
            "      \"rg_kar_rape_case\"\n",
            "    ],\n",
            "    \"content\": [\n",
            "      \"The woman, a resident of RG Kar Medical College and Hospital, was allegedly raped and murdered on the intervening night of June 21 and 22, 2012.\"\n",
            "    ],\n",
            "    \"error\": false\n",
            "  },\n",
            "  {\n",
            "    \"index\": 6,\n",
            "    \"tags\": [\n",
            "      \"rg_kar_rape_case\"\n",
            "    ],\n",
            "    \"content\": [\n",
            "      \"The CBI has alleged that Chatterjee, who was the state education minister at the time, was involved in a conspiracy to cover up the case.\"\n",
            "    ],\n",
            "    \"error\": false\n",
            "  },\n",
            "  {\n",
            "    \"index\": 7,\n",
            "    \"tags\": [\n",
            "      \"rg_kar_rape_case\"\n",
            "    ],\n",
            "    \"content\": [\n",
            "      \"The agency has also alleged that Mukherjee, who is a close aide of Chatterjee, was involved in the destruction of evidence.\"\n",
            "    ],\n",
            "    \"error\": false\n",
            "  },\n",
            "  {\n",
            "    \"index\": 8,\n",
            "    \"tags\": [\n",
            "      \"rg_kar_rape_case\"\n",
            "    ],\n",
            "    \"content\": [\n",
            "      \"Chatterjee and Mukherjee are currently in judicial custody in connection with the case.\"\n",
            "    ],\n",
            "    \"error\": false\n",
            "  },\n",
            "  {\n",
            "    \"index\": 9,\n",
            "    \"tags\": [\n",
            "      \"website_link\"\n",
            "    ],\n",
            "    \"content\": [\n",
            "      \"https://www.hindustantimes.com/india-news/cbi-files-rape-murder-charges-in-rg-kar-case-101728327005850.html\"\n",
            "    ],\n",
            "    \"error\": false\n",
            "  }\n",
            "]\n",
            "[\"'NoneType' object has no attribute 'startswith'\", \"'NoneType' object has no attribute 'startswith'\", \"'NoneType' object has no attribute 'startswith'\", 'litellm.InternalServerError: VertexAIException InternalServerError - {\\n  \"error\": {\\n    \"code\": 500,\\n    \"message\": \"An internal error has occurred. Please retry or report in https://developers.generativeai.google/guide/troubleshooting\",\\n    \"status\": \"INTERNAL\"\\n  }\\n}\\n', ['CBI files rape, murder charges in RG Kar case'], ['https://www.hindustantimes.com/india-news/cbi-files-rape-murder-charges-in-rg-kar-case-101728327005850.html'], ['CBI files rape, murder charges in RG Kar case'], ['https://www.hindustantimes.com/india-news/cbi-files-rape-murder-charges-in-rg-kar-case-101728327005850.html'], ['CBI files rape, murder charges in RG Kar case', \"CBI filed a charge sheet against Sanjay Roy for the rape and murder of a student in Kolkata\\\\'s RG Kar Hospital, ruling out gang involvement.\", 'The Central Bureau of Investigation (CBI) on Monday filed a charge sheet against prime accused Sanjay Roy in connection with the grisly rape and murder at Kolkata’s RG Kar Hospital in August, people familiar with the development said, adding that no evidence of gang rape or involvement of more people was found.', 'Roy, a civic police volunteer posted at police post the premier government hospital in Kolkata, was charged under sections 64 (rape) and 103 (1) (murder) of the Bharatiya Nyaya Sanhita (BNS), the people cited above said.', 'He was arrested by Kolkata Police on August 10, a day after the crime came to light, and handed over to the federal agency on August 13.'], ['CBI files rape, murder charges in RG Kar case'], ['https://www.hindustantimes.com/india-news/cbi-files-rape-murder-charges-in-rg-kar-case-101728327005850.html'], ['CBI files rape, murder charges in RG Kar case'], ['The Central Bureau of Investigation (CBI) on Thursday filed a chargesheet against former West Bengal minister Partha Chatterjee and his alleged close aide Arpita Mukherjee in connection with the alleged rape and murder of a woman in 2012, officials said.'], ['The chargesheet was filed before a special CBI court in Kolkata, they said.'], ['The CBI had taken over the investigation of the case from the West Bengal Police in 2014 on the orders of the Calcutta High Court.'], ['The agency had earlier filed a chargesheet against four persons, including the then officer-in-charge of the local police station, in connection with the case.'], ['The woman, a resident of RG Kar Medical College and Hospital, was allegedly raped and murdered on the intervening night of June 21 and 22, 2012.'], ['The CBI has alleged that Chatterjee, who was the state education minister at the time, was involved in a conspiracy to cover up the case.'], ['The agency has also alleged that Mukherjee, who is a close aide of Chatterjee, was involved in the destruction of evidence.'], ['Chatterjee and Mukherjee are currently in judicial custody in connection with the case.'], ['https://www.hindustantimes.com/india-news/cbi-files-rape-murder-charges-in-rg-kar-case-101728327005850.html']]\n"
          ]
        }
      ]
    },
    {
      "source": [
        "import google.generativeai as genai\n",
        "import itertools\n",
        "import os\n",
        "\n",
        "# ... (Your existing code) ...\n",
        "\n",
        "title = \"The next generation of AI for developers and Google Workspace\"\n",
        "sample_text = long_string\n",
        "\n",
        "# Define chunk size (in characters)\n",
        "chunk_size_chars = 5000\n",
        "\n",
        "# Define chunk overlap (in characters)\n",
        "overlap_chars = 500\n",
        "\n",
        "# Split the text into overlapping chunks\n",
        "chunks = []\n",
        "for i in range(0, len(sample_text), chunk_size_chars - overlap_chars):\n",
        "    chunk = sample_text[i:i + chunk_size_chars]\n",
        "    chunks.append(chunk)\n",
        "\n",
        "# Process each chunk and combine embeddings\n",
        "embeddings = []\n",
        "for i, chunk in enumerate(chunks):\n",
        "    print(f\"Processing chunk {i + 1} of {len(chunks)}\")\n",
        "    embedding = genai.embed_content(model=model,\n",
        "                                    content=chunk,\n",
        "                                    task_type=\"retrieval_document\",\n",
        "                                    title=title)\n",
        "    embeddings.append(embedding)\n",
        "\n",
        "# Combine the embeddings (e.g., average them)\n",
        "import numpy as np\n",
        "if embeddings:\n",
        "    embedding_vectors = [np.array(emb['embedding']) for emb in embeddings]\n",
        "    average_embedding = np.mean(embedding_vectors, axis=0)\n",
        "    print(\"Average embedding:\", average_embedding)\n",
        "else:\n",
        "    print(\"No embeddings generated.\")"
      ],
      "cell_type": "code",
      "metadata": {
        "colab": {
          "base_uri": "https://localhost:8080/",
          "height": 1000
        },
        "collapsed": true,
        "id": "6TceUesdrhTr",
        "outputId": "283ec407-9759-48b3-d6ea-60e6446e4ae5"
      },
      "execution_count": null,
      "outputs": [
        {
          "output_type": "stream",
          "name": "stdout",
          "text": [
            "Processing chunk 1 of 9\n",
            "Processing chunk 2 of 9\n",
            "Processing chunk 3 of 9\n",
            "Processing chunk 4 of 9\n",
            "Processing chunk 5 of 9\n",
            "Processing chunk 6 of 9\n",
            "Processing chunk 7 of 9\n",
            "Processing chunk 8 of 9\n",
            "Processing chunk 9 of 9\n",
            "Average embedding: [ 5.60807081e-02 -5.81852962e-03 -4.12054427e-02 -1.85120919e-02\n",
            "  4.74814348e-02  5.85146490e-02 -9.89165639e-04 -2.16965424e-02\n",
            "  2.61208123e-02  4.88121268e-02 -4.40140664e-02  5.67232011e-02\n",
            " -2.16612055e-02  8.17357350e-03  1.63392529e-02 -6.40622428e-02\n",
            "  8.88397287e-04  2.19359763e-02 -2.02461123e-02 -4.65871883e-02\n",
            "  2.13172028e-02  8.77590089e-03  7.04319244e-03 -1.38669619e-02\n",
            " -1.99710309e-02  1.03559296e-02  6.97675308e-03 -2.47650894e-02\n",
            " -2.42561709e-02  3.41054206e-02 -3.32850756e-02  3.21298984e-02\n",
            " -6.92391026e-02  1.93346290e-02 -2.32287431e-02 -4.25413917e-02\n",
            "  2.12967380e-02 -5.33388841e-03  1.64209604e-02  2.50324045e-02\n",
            " -2.97972420e-03 -1.43423558e-03 -8.70593803e-03 -2.87008290e-03\n",
            "  1.87956779e-03 -4.52250549e-02  9.58699116e-03  5.02049376e-03\n",
            "  1.00808760e-02 -3.06275892e-02 -1.09450290e-02  2.45894751e-02\n",
            "  3.21410142e-02 -2.41002980e-02  9.57987945e-03 -1.93876128e-02\n",
            "  5.12183283e-03  1.19680536e-02  9.28158866e-03  3.16746693e-03\n",
            "  1.32365493e-02  1.71980442e-02 -3.36891509e-02  5.28913201e-02\n",
            " -5.33996154e-02 -6.63506237e-02 -6.29692827e-02 -4.86759981e-03\n",
            "  3.81975578e-02  3.04291531e-02  5.44013432e-02  2.11043512e-02\n",
            "  1.02961380e-01 -3.22982256e-02 -6.85339310e-02 -1.21499272e-01\n",
            " -3.03753829e-02  6.70984567e-02  2.95910312e-02  2.51900062e-02\n",
            "  7.81160414e-03 -2.85025744e-02 -5.66523274e-02 -2.81766431e-03\n",
            " -4.51880322e-02  2.36177498e-02 -4.34453349e-02 -6.03224544e-03\n",
            " -6.89056979e-04  2.47554391e-02  8.79352286e-03 -3.10127026e-02\n",
            "  1.47664958e-02 -6.37366514e-02  2.12968809e-02  6.97474569e-02\n",
            " -2.27149849e-02 -5.51492163e-02 -6.38319630e-03 -2.59543073e-02\n",
            " -2.93430606e-02 -5.20359302e-02 -2.81564523e-02 -4.22438956e-04\n",
            "  5.08945520e-02  2.85813428e-02 -3.40260398e-02  4.31682462e-02\n",
            " -1.15610479e-02 -3.89152036e-03 -6.35275784e-02 -9.14057643e-03\n",
            "  9.07223000e-05 -2.12791123e-02  5.57280821e-02 -4.88137401e-02\n",
            "  7.13186653e-03  7.06962110e-02  1.84304086e-02 -1.04816273e-02\n",
            "  5.12862390e-02 -1.32825118e-02  5.65444411e-02  3.14408726e-02\n",
            "  7.22841767e-04  1.19772203e-02 -2.04144404e-02  5.54525950e-02\n",
            "  2.40320643e-02  5.43630099e-02 -4.42214348e-03 -2.10353227e-02\n",
            " -2.13562964e-02  1.83417398e-02 -7.49232608e-04  5.28143456e-02\n",
            "  6.89736478e-02  8.34009076e-03 -2.05329617e-02  3.23446368e-02\n",
            " -1.86669566e-02  5.46397528e-03  2.63590814e-02  1.15789143e-02\n",
            "  4.64828450e-02  4.78032219e-02 -5.95005833e-02 -1.62456428e-02\n",
            "  4.73436799e-02 -2.32606449e-02 -1.34428827e-02  4.19899998e-02\n",
            " -3.27350836e-02 -3.00320118e-02  8.21321384e-02 -1.30411357e-02\n",
            "  4.59510750e-03  4.74179883e-04 -5.81235353e-03  1.95961466e-02\n",
            "  1.51757638e-02  2.29845032e-02  4.60576846e-02  7.58037005e-03\n",
            "  1.33376787e-02  2.79324644e-03  2.35491990e-02  7.30490436e-03\n",
            " -1.08910241e-03  3.71606043e-02  1.66332822e-02  4.21531811e-02\n",
            " -3.95360240e-02 -7.33447620e-03 -5.06437600e-03 -7.10982180e-02\n",
            "  1.03957196e-02  2.28720496e-02  2.14961932e-03  1.30860033e-02\n",
            " -4.16970442e-02 -2.34501090e-02  5.44382699e-02  2.42281241e-03\n",
            "  2.35397721e-02  1.05807643e-02  9.71601083e-02 -8.32680981e-02\n",
            " -6.57356117e-02 -5.22638761e-03 -2.11048201e-02 -2.74094203e-02\n",
            " -4.53038276e-02 -2.74397467e-02 -3.07510158e-02  6.50718894e-02\n",
            "  1.28071178e-02  2.35189661e-02  5.70232080e-03 -7.25120135e-03\n",
            " -4.90257124e-03  8.92783849e-02  1.89871248e-03  6.03757862e-03\n",
            "  6.26484408e-02  3.91462447e-03  6.94181704e-02 -1.43264881e-02\n",
            " -2.93817961e-02  2.13233171e-02 -4.56889857e-02  3.53715237e-02\n",
            " -3.98777834e-02  6.28234058e-02  3.58235078e-02 -2.59315633e-02\n",
            "  3.40497327e-02  4.55083178e-02  3.93522290e-02 -1.28116343e-02\n",
            "  4.06955944e-02  3.73905529e-02 -6.51563569e-03 -3.82674121e-02\n",
            " -2.40145573e-02  5.62944642e-02 -9.30269519e-03  5.06628816e-02\n",
            "  3.37671477e-02 -3.17482882e-02 -3.04908019e-02  7.81936061e-02\n",
            "  4.20692018e-02 -3.87134723e-02  4.36457431e-02 -4.42476158e-03\n",
            "  1.72332289e-02  3.05197422e-02  5.64554443e-02  3.95051503e-02\n",
            " -2.16810073e-03  2.72010070e-03  4.78063512e-02  1.99878967e-02\n",
            " -8.20159744e-02 -3.83456156e-02 -3.63695820e-02  8.05063408e-02\n",
            "  5.30743323e-02  6.46014854e-03 -5.72022858e-03 -4.74700703e-02\n",
            "  1.08050517e-02  1.55038607e-02 -5.17806692e-02  4.07197941e-02\n",
            " -7.56741360e-02 -3.20197577e-02  2.78793678e-04 -1.96385240e-02\n",
            "  8.35723648e-02 -1.17359449e-02 -1.94171612e-02 -1.23255548e-02\n",
            "  2.91113953e-02 -4.65070539e-02  1.06149595e-02 -1.66951505e-02\n",
            " -3.33418698e-02  1.78796922e-02 -2.86564458e-02 -7.54019909e-02\n",
            "  2.14700421e-02 -7.20181511e-04 -1.93263403e-02  1.32040295e-02\n",
            " -3.66113544e-04  2.23882533e-02  2.35144529e-02 -3.91845434e-02\n",
            "  1.05127394e-02 -3.18916218e-02 -2.06564229e-03 -3.56125852e-02\n",
            " -3.28996996e-02 -6.56831794e-03 -3.08187646e-02 -2.88857727e-02\n",
            "  1.97885775e-02 -2.15935461e-02 -4.00370383e-02  5.47408876e-02\n",
            "  2.28384221e-02 -1.87764982e-02 -2.82917447e-02  4.32616012e-03\n",
            " -1.78867854e-02  5.89767650e-02  4.41106602e-02  5.43063791e-03\n",
            "  9.24070159e-03 -5.05285956e-03  1.08811669e-02 -5.41606796e-02\n",
            "  1.19060754e-02 -9.38248938e-03 -1.56745620e-02 -3.79517289e-02\n",
            "  4.22064597e-02 -2.07023886e-02 -2.59646708e-02 -6.52901848e-03\n",
            " -1.96633447e-02 -4.47012717e-04  2.10513252e-02  2.09743173e-02\n",
            " -5.13074327e-03  5.12237328e-02  1.93881603e-02 -3.35219511e-04\n",
            "  2.91365404e-03  4.41630856e-04  1.51683726e-02 -1.35120956e-03\n",
            " -1.46142317e-02  1.38055416e-02 -7.81324418e-02  3.54774880e-02\n",
            " -1.38355979e-02  2.26950887e-03 -2.49114414e-02  1.14710463e-02\n",
            " -3.02995642e-03  2.48178760e-02  1.19148441e-02  2.87321262e-02\n",
            " -2.52883283e-02  1.70586488e-03  3.49439843e-03 -3.80075054e-02\n",
            " -1.61489489e-02  4.50135513e-02 -2.06966398e-02 -5.99961301e-02\n",
            "  1.23919751e-02  5.72019834e-03 -5.41550598e-02  4.65943620e-02\n",
            "  5.67468949e-02  1.60654914e-02  2.72764100e-02  5.85640808e-02\n",
            " -2.46160242e-02 -2.45534598e-02 -1.55600758e-02 -1.49366036e-02\n",
            "  3.83118034e-02 -4.28881937e-03  6.54537772e-02 -7.28220679e-02\n",
            " -1.17394110e-02  4.39500856e-02  1.31888201e-02  3.86151301e-02\n",
            "  1.53794014e-03  3.18724538e-02 -1.70097145e-02  1.52079526e-02\n",
            " -2.99300669e-02  6.19444597e-02  3.73321404e-03 -5.47400571e-03\n",
            "  4.14890036e-02 -5.14364600e-02 -8.03212298e-03 -1.00277620e-02\n",
            " -3.37563258e-02 -1.30845375e-02  8.26337393e-03  2.66334196e-02\n",
            " -1.41800126e-02 -1.76865067e-02  8.83103604e-02  3.29212132e-02\n",
            "  1.24335958e-02  1.64709967e-02  9.51500558e-03  8.14769978e-02\n",
            " -1.95127710e-02  6.06739711e-02  3.03762310e-02  4.50345026e-02\n",
            "  6.84098204e-02  3.47126758e-02  1.21826133e-02 -7.20882747e-03\n",
            " -2.20929641e-02 -6.29632750e-02  1.86915948e-02 -1.29671785e-02\n",
            "  3.88047936e-02 -4.14556580e-02 -3.92356147e-02 -1.76060800e-02\n",
            " -4.32458778e-02 -1.23406491e-02 -1.64097481e-02 -5.90718096e-03\n",
            " -6.39428501e-02 -1.24304047e-02  3.59678346e-02  1.52245661e-02\n",
            "  2.23883953e-02 -5.35150091e-02 -7.70406534e-02 -1.00097641e-02\n",
            "  3.88998213e-02  1.90691092e-02 -5.81844859e-03  1.65367726e-02\n",
            "  6.49707778e-04  4.42131833e-02  2.84172031e-02  1.74173968e-02\n",
            " -4.15142637e-02 -2.83690741e-02 -6.17350923e-03 -8.97276990e-03\n",
            " -2.06440675e-03  2.62476234e-02  1.83251036e-02  2.02537092e-02\n",
            "  3.67239542e-02  1.49402960e-03  8.16215504e-03 -4.55192944e-02\n",
            "  4.33818249e-02  3.74663560e-02 -2.05007097e-02 -3.65710370e-02\n",
            "  1.55610760e-02 -3.14240362e-02  1.24862655e-02 -7.38995199e-03\n",
            " -2.67442967e-02 -1.21091605e-02 -1.11123266e-02 -1.79903935e-02\n",
            "  8.13880371e-02 -8.86188522e-02  1.42251462e-02 -2.14340551e-03\n",
            " -5.61931507e-02 -2.85296122e-02 -5.61419589e-02 -2.94052232e-03\n",
            "  3.61202078e-05  3.24410850e-02 -6.24999799e-03 -1.03737942e-02\n",
            "  1.40302974e-02  1.44854986e-02  4.94305864e-03 -5.38929089e-03\n",
            "  6.43177668e-02 -4.10808617e-02  1.48105064e-02 -2.28082807e-02\n",
            "  9.18612798e-03  3.90286568e-02  3.01929994e-02 -4.52250708e-02\n",
            "  2.68713614e-02 -1.01402298e-02 -3.95403403e-02  2.57949290e-02\n",
            " -6.69080944e-02  1.39070229e-02 -5.76857541e-02 -1.09094474e-02\n",
            " -8.72999281e-03  4.68776958e-02  1.02747824e-02  2.55510791e-02\n",
            "  4.01620051e-03  1.16329670e-02  1.18892963e-02  5.01960802e-03\n",
            "  6.63849564e-03  4.56067918e-02 -7.12226781e-03  2.19204281e-02\n",
            " -3.24119666e-02 -5.89037831e-02 -4.52355763e-02  9.69780952e-03\n",
            " -2.77995054e-02  1.59531005e-02  4.75241909e-02  1.09185551e-02\n",
            " -4.59373131e-02  1.79764216e-03 -4.82765214e-02  1.93378951e-02\n",
            "  5.30431951e-02 -8.44375090e-02  3.35604993e-02  1.75957886e-02\n",
            " -9.03877939e-03  5.40902003e-03  3.45621330e-03 -5.77740793e-03\n",
            " -2.03539891e-02  1.31624846e-02  4.46529520e-02 -4.98557209e-03\n",
            " -2.61660715e-02  4.54864178e-02  2.57572601e-02 -1.13704344e-02\n",
            "  5.86625889e-02 -2.82576214e-02 -7.61520716e-02  4.01618536e-03\n",
            "  8.20558583e-02 -6.61132858e-02 -1.44897899e-02  7.71359726e-03\n",
            "  9.61796786e-03 -7.20507540e-03 -2.37509144e-02  8.98847789e-02\n",
            " -4.46360993e-02 -5.84803773e-03  9.75099684e-03 -3.84568097e-02\n",
            "  3.32858861e-03 -5.12482578e-03  2.80141417e-02  3.32189922e-02\n",
            " -1.88771806e-02  1.27723443e-02 -1.63181436e-02  1.57987262e-02\n",
            "  1.16376284e-02  8.37978681e-03  5.46517678e-03 -6.27095334e-02\n",
            "  8.59930709e-03 -3.66324872e-02  1.94026427e-04 -8.09319972e-03\n",
            "  2.02874189e-02 -3.77443993e-04  1.93552156e-02 -1.22168557e-02\n",
            "  2.45739309e-03 -4.28504907e-02  3.68365136e-02  3.01080816e-02\n",
            " -4.38556772e-02 -3.84423447e-02 -1.10734062e-03 -7.34642889e-05\n",
            "  1.00328583e-01  4.40032971e-02 -2.58896402e-02 -4.54223382e-02\n",
            "  2.13408602e-02 -1.86263889e-02 -1.34020259e-02  5.89134007e-03\n",
            " -9.82386428e-03  2.56483015e-03  7.35575250e-02 -5.39522539e-02\n",
            " -3.90473617e-02  6.31692054e-03 -2.58722493e-02  2.84039692e-02\n",
            "  1.34490267e-02  6.33458840e-03  1.06349461e-02  2.95337969e-02\n",
            " -5.72152467e-02  1.24276371e-02  2.61477713e-02  1.14269893e-02\n",
            "  5.53594564e-02  4.27367493e-03 -3.70682809e-02  5.79768271e-02\n",
            " -6.95356738e-02  5.97518200e-02 -1.33493037e-03 -6.70023663e-03\n",
            "  2.70917073e-02 -2.72809668e-02 -2.05777321e-02  2.10580727e-02\n",
            " -1.01313380e-02 -3.02855949e-02 -1.20870421e-02  2.79883948e-02\n",
            "  2.67170096e-02  3.90456388e-02  2.53886876e-03 -3.30722703e-02\n",
            "  4.96480744e-02  2.11998761e-02 -4.97567970e-02 -1.27856662e-02\n",
            " -2.33951652e-02 -5.61114260e-03 -5.70873412e-02 -3.69296776e-02\n",
            "  3.40091612e-02  1.71861371e-02 -2.51514008e-02 -6.17914326e-03\n",
            "  1.60678150e-03  5.70971771e-03 -2.22788787e-02  1.75950441e-02\n",
            "  2.61412820e-02 -2.28145661e-02 -2.53891877e-02 -2.14301768e-02\n",
            "  6.33554504e-02  4.26405947e-02  4.85767708e-02  2.43852203e-02\n",
            " -6.49926544e-04  4.00559822e-03 -3.16324244e-02 -1.97447996e-02\n",
            " -5.51778218e-03  1.52146590e-02 -1.95364267e-02  1.58736800e-04\n",
            " -5.43395763e-02  2.94469202e-02  5.49446088e-04  1.47874678e-02\n",
            " -1.29762705e-02  3.78840097e-02  1.56573677e-02 -6.01734461e-02\n",
            " -5.29116423e-02 -2.95683140e-02 -3.97320124e-02 -1.40501890e-02\n",
            "  6.23737143e-02  2.58458380e-02 -1.57299799e-02 -1.02015149e-02\n",
            " -8.99494889e-02 -3.89293487e-02  2.39014696e-02 -2.55339805e-02\n",
            "  9.79737263e-03  3.21358787e-02 -2.07372964e-02  1.06498493e-02\n",
            " -2.36148116e-02 -1.99381877e-02 -4.29802013e-02 -5.86678687e-02\n",
            " -4.56596016e-02  9.89896007e-03 -8.60494561e-02  1.94217643e-02\n",
            "  3.85017079e-02  3.65890706e-02  6.08859014e-02  2.89228608e-02\n",
            "  3.85570581e-02 -1.53948288e-02  2.59838903e-02  1.06703079e-02\n",
            "  1.61804678e-02 -2.53806807e-02 -2.44529976e-02 -9.23249798e-04\n",
            " -7.98779647e-03 -2.13464694e-02  1.99020500e-02 -1.32508508e-02\n",
            " -1.92695168e-02 -1.65252771e-02  1.62530490e-02 -2.47814537e-03\n",
            "  1.80464466e-02  4.90978981e-02  3.45002583e-02  1.20573719e-02\n",
            " -3.04752086e-02 -3.32940409e-02 -2.48840666e-02  6.32513849e-02\n",
            " -4.55075082e-02 -1.36456397e-02  1.18115632e-02  7.24036112e-03\n",
            "  2.16646509e-02 -1.28107826e-02 -5.27711114e-02  1.06005637e-02\n",
            "  1.52859674e-02  3.37368741e-02  5.94154060e-02 -4.41949660e-02\n",
            " -7.07656774e-02  3.39846124e-02  6.66012531e-03 -2.19790354e-02\n",
            " -1.66126156e-02  2.03820237e-03 -1.32615237e-02  4.48298207e-02\n",
            "  5.05768176e-03  9.49742322e-04  7.89958879e-02  3.30808657e-02\n",
            " -4.81538301e-02  2.00585208e-02 -3.16128314e-02 -2.14167295e-02\n",
            " -3.16699789e-02 -2.07587606e-02  6.07375740e-02 -4.97281409e-02\n",
            " -1.48718456e-02  3.47055693e-03 -1.31058389e-02  8.84263418e-03\n",
            " -2.98042487e-02  3.60434473e-02 -7.23298856e-03 -5.60699428e-02\n",
            " -1.08804869e-02  1.61678729e-02 -4.28849165e-03  3.11901851e-02\n",
            "  2.60418364e-02 -5.51340099e-02  1.79690922e-03 -3.19343292e-02\n",
            "  5.01690050e-03 -6.03357730e-02 -2.15283296e-02 -1.27670470e-03\n",
            "  4.91721822e-03  1.03999936e-02  8.12487726e-03 -3.24727168e-02\n",
            "  2.41918978e-02 -8.31844889e-03  1.65711563e-02  1.52128598e-02\n",
            " -1.89574604e-02  4.38397743e-03  1.24084371e-02  4.56301129e-03\n",
            " -7.12956166e-03  1.36014819e-02 -2.18415906e-02  5.54782549e-02]\n"
          ]
        }
      ]
    },
    {
      "cell_type": "code",
      "source": [
        "def get_vector_store(text_chunks):\n",
        "    embeddings = GoogleGenerativeAIEmbeddings(model = \"models/embedding-001\")\n",
        "    vector_store = FAISS.from_texts(text_chunks, embedding=embeddings)\n",
        "    vector_store.save_local(\"faiss_index\")\n"
      ],
      "metadata": {
        "id": "NKBdYFo-_BRq"
      },
      "execution_count": null,
      "outputs": []
    },
    {
      "cell_type": "code",
      "source": [
        "len(embeddings[0])"
      ],
      "metadata": {
        "colab": {
          "base_uri": "https://localhost:8080/"
        },
        "id": "qLEOPReQuyZU",
        "outputId": "96eee3e0-4718-4878-d118-d6dec3309a54"
      },
      "execution_count": null,
      "outputs": [
        {
          "output_type": "execute_result",
          "data": {
            "text/plain": [
              "1"
            ]
          },
          "metadata": {},
          "execution_count": 16
        }
      ]
    },
    {
      "cell_type": "code",
      "source": [
        "lst_of_urls"
      ],
      "metadata": {
        "colab": {
          "base_uri": "https://localhost:8080/",
          "height": 141
        },
        "id": "kMRzBar0cmhn",
        "outputId": "bcb9c7a5-5d4a-474f-aac6-52e76eee008d"
      },
      "execution_count": null,
      "outputs": [
        {
          "output_type": "error",
          "ename": "NameError",
          "evalue": "name 'lst_of_urls' is not defined",
          "traceback": [
            "\u001b[0;31m---------------------------------------------------------------------------\u001b[0m",
            "\u001b[0;31mNameError\u001b[0m                                 Traceback (most recent call last)",
            "\u001b[0;32m<ipython-input-5-d25b73ea6ed7>\u001b[0m in \u001b[0;36m<cell line: 1>\u001b[0;34m()\u001b[0m\n\u001b[0;32m----> 1\u001b[0;31m \u001b[0mlst_of_urls\u001b[0m\u001b[0;34m\u001b[0m\u001b[0;34m\u001b[0m\u001b[0m\n\u001b[0m",
            "\u001b[0;31mNameError\u001b[0m: name 'lst_of_urls' is not defined"
          ]
        }
      ]
    },
    {
      "cell_type": "code",
      "source": [
        "long_string"
      ],
      "metadata": {
        "colab": {
          "base_uri": "https://localhost:8080/",
          "height": 157
        },
        "id": "ToTrz4T1z7FQ",
        "outputId": "97fbd8fc-2c72-49ee-fa45-2edacf16a1ef"
      },
      "execution_count": null,
      "outputs": [
        {
          "output_type": "execute_result",
          "data": {
            "text/plain": [
              "'\\'NoneType\\' object has no attribute \\'startswith\\'\\'NoneType\\' object has no attribute \\'startswith\\'\\'NoneType\\' object has no attribute \\'startswith\\'\\'NoneType\\' object has no attribute \\'startswith\\'\\'NoneType\\' object has no attribute \\'startswith\\'On 9 August 2024, a 31-year-old female postgraduate trainee doctor[4] at R. G.\\nKar Medical College and Hospital in Kolkata, West Bengal, India, was raped and\\nmurdered in a college building. Her body was found in a seminar room on\\ncampus. On 10 August 2024, a 33-year-old male civic volunteer working for\\nKolkata Police was arrested under suspicion of committing the crime.[5][6]\\nThree days later, the Calcutta High Court, transferred the investigation to\\nthe Central Bureau of Investigation (CBI) stating that the Kolkata Police\\\\\\\\\\'s\\ninvestigation did not inspire confidence.[7][8] The junior doctors in West\\nBengal undertook a strike action for 42 days demanding a thorough probe of the\\nincident and adeqaute security at hospitals.[9] The incident has amplified\\ndebate about the safety of women and doctors in India, and has sparked\\nsignificant outrage, and nationwide and international protests.[10][11][12]RG Kar Medical College and Hospital rape and murder Accused Sanjay Rai told the\\ncourt. Track Latest News Live on NDTV.com and get news updates from India  and around\\nthe world. Watch Live News: Follow Us:https://www.ndtv.com/india-news/rg-kar-case-kolkata-rape-murder-cbi-chargesheet-details-how-rg-kar-rape-murder-accused-was-nailed-6748844CBI Chargesheet Details How RG Kar Case Accused Sanjoy Roy Was NailedAccording to the CBI, the victim died due to asphyxia, resulting from a combined effect of throttling (manual strangulation) and smothering.India NewsReported by Saurabh Gupta, Written by Saurabh GuptaUpdated: October 09, 2024 9:11 am ISTSanjoy Roy, a former contractual staff with the police, was charged with a woman doctor\\'s rape and murderDelhi: The Central Bureau of Investigation (CBI) chargesheet filed in the rape and murder case of a second year post graduate trainee doctor at Kolkata\\'s RG Kar Medical College and Hospital has detailed the circumstances, nature of injuries, cause of death and evidence available against the accused.The CBI had on Tuesday submitted the chargesheet at a special court in Sealdah.It charged Sanjoy Roy, who used to work with Kolkata Police as a contractual staff, with the rape and murder of the on-duty woman doctor.The statements of about 200 people were recorded in the chargesheet, according to CBI sources.As detailed in the chargesheet, the CBI has largely followed the Kolkata Police\\'s line of investigation and has relied on digital and material evidence collected by them along with to establish Sanjoy Roy\\'s presence at the scene of crime at the time of the alleged rape-murder.CCTV footage has been used to establish the timings of his movement from 3.34 am onwards on the day of the crime (August 9), when he was seen at the entrance of the trauma centre building.with to establish Sanjoy Roy\\'s presence at the scene of crime at the time of the alleged rape-murder.CCTV footage has been used to establish the timings of his movement from 3.34 am onwards on the day of the crime (August 9), when he was seen at the entrance of the trauma centre building.At 4.03 am, the accused was seen “wearing a T-shirt and jeans, holding a\\nhelmet in his left hand with Bluetooth neckband earphones around his neck,\\nmoving from the right side of the camera towards the ward”, as per the CBI\\nchargesheet.At 4.32 am, he was seen emerging from the ward on the third\\nfloor, helmet in his left hand, but without the neckband earphones around his\\nneck.The CBI further mentioned, “A Bluetooth neckband earphone was seized by local\\npolice from the scene of crime on 09.08.2024.” This was used as a crucial\\npiece of evidence by the Kolkata Police to nail and arrest Sanjoy Roy a day\\nafter the crime.The Customer Acquisition Form and Call Detail Records of the\\nmobile number belonging to Sanjoy Roy also corroborated his presence at the\\nhospital at the time of the crime, as per the chargesheet.Apart from earphones, physical evidence listed by the CBI included the\\nvictim\\\\\\\\\\'s mobile phone and laptop, accused\\\\\\\\\\'s mobile, accused\\\\\\\\\\'s blood sample\\nand blood and viscera examined during the autopsy.The chargesheet said the\\nevidence was sent to the Central Forensic Science Laboratory Kolkata, New\\nDelhi and Chandigarh.Further, forensic experts studied jeans, underwear, brassiere, kurti, blanket,\\nbedsheets, a piece of cloth, synthetic cotton, nail cuttings and scrappings,\\nblood sample, lip swab, endocervical swab, vaginal swab and pubic hair\\ncombing.On August 12, pants and slippers seized from the barracks of the\\naccused worn at the time of the crime were found to have the victim\\\\\\\\\\'s blood,\\nthe chargesheet mentioned.Saliva belonging to the accused has been detected\\non a nipple swab preserved during the autopsy.Short hair belonging to Sanjoy\\nRoy were lso lifted from the scene of crime.According to the CBI, the victim died due to asphyxia, resulting from a\\ncombined effect of throttling (manual strangulation) and smothering.\\\\\\\\\"The\\ninjuries related to hymen, which were fresh in origin, are clearly indicating\\nthat the victim had suffered forceful penetrative sexual assault,\\\\\\\\\" the\\nchargesheet said.Injuries found on the accused\\\\\\\\\\'s body indicated the use of\\nblunt force consistent with signs of resistance by the victim.On Monday, a Kolkata court took cognisance of the chargesheet filed by the\\nCBI.The court also decided that the trial of Sanjoy Roy will be held in-\\ncamera.The date for the framing of charges, which marks the beginning of the\\ntrial, is set for November 4.The accused Sanjay Rai spoke in court for the first time on Tuesday and told\\nthe court, \\\\\\\\\"If I don\\\\\\\\\\'t speak all the blame will be put on me.\\\\\\\\\" charges, which marks the beginning of the\\ntrial, is set for November 4.\\'NoneType\\' object has no attribute \\'startswith\\'RG Kar Rape-Murder: West Bengal doctor hospitalised, CBI, Mamata BanerjeeKolkata doctor hospitalisedCBI rules out gang-rape in Kolkata murder case: Accused committed crime aloneA protesting junior doctor was admitted to a hospital after his health\\ndeteriorated during a fast-unto-death over the rape and murder of a trainee\\ndoctor at West Bengal\\\\\\\\\\'s RG Kar Medical Centre and Hospital, taking the total\\nnumber of junior doctors who have been hospitalised in the course of their\\nfasting protest to four.Another agitating junior doctor, who has been on fast-unto-death since October\\n5, was on Sunday night rushed to a hospital after his health deteriorated, an\\nofficial at the medical establishment said.Pulastha Acharya of the NRS Medical College and Hospital was taken to the\\nhospital after he complained of severe stomach pain, he said.With Acharya, the total number of junior doctors who have been hospitalised in\\nthe course of their fasting protest reached four.Aniket Mahato of RG Kar Medical and Hospital, Anustup Majumdar of Kolkata\\nMedical College and Hospital, and Alok Verma of North Bengal Medical College\\nand Hospital needed medical care earlier after a deterioration in their\\nhealth.\\\\\\\\\"Pulastha is in the CCU and his parameters have deteriorated. We have formed\\na medical board to treat him,\\\\\\\\\" a senior doctor of the NRS Medical College and\\nHospital told PTI.At the beginning, 11 junior doctors were on a fast-unto-death demanding\\njustice for the woman medic of the RG Kar Hospital, who was raped and murdered\\nin August.The doctors are also demanding an improvement in their security at the\\nhospitals and the immediate removal of State Health Secretary NS Nigam.Their other demands include the establishment of a centralised referral system\\nfor hospitals and medical colleges, the implementation of a bed vacancy\\nmonitoring system, and the formation of task forces to ensure essential\\nprovisions such as CCTV, on-call rooms, and washrooms at workplace.They are also demanding increased police protection in hospitals, recruitment\\nof permanent women police personnel, and swift filling of vacant positions for\\ndoctors, nurses, and other healthcare workers.The doctors went on strike following the rape-murder of a fellow medic at RG\\nKar on August 9.They ended their stir after 42 days on September 21 following assurances from\\nthe state government to look into their demands.\\'NoneType\\' object has no attribute \\'startswith\\'Another junior doctor, who was observing a fast-unto-death in protest over the\\nrape and murder of a woman medic at R.G. Kar Medical College was rushed to a\\nhospital on Saturday evening after his health condition deteriorated, an\\nofficial said.\\'NoneType\\' object has no attribute \\'startswith\\'RG Kar Hospital, Kolkata: Trainee doctor rape-murder, CBI chargesheet against Sandip Ghosh, Abhijit Mondalhttps://www.indiatoday.in/india/story/rg-kar-hospital-kolkata-trainee-doctor-rape-murder-cbi-chargesheet-sandip-ghosh-abhijit-mondal-2613801-2024-10-09The CBI is planning to file a supplementary chargesheet in the rape and murder\\nof a trainee doctor at Kolkata\\\\\\\\\\'s RG Kar hospital, accusing its former\\nprincipal Sandip Ghosh and a Kolkata Police official of hiding the crime and\\ndestroying evidence, sources told India Today TV.The body of the trainee doctor was found at 9.30 am on August 9 by her\\ncolleague who went looking for her before starting ward rounds in the\\nhospital.The junior doctor\\\\\\\\\\'s killing sparked protests by resident doctors across the\\ncountry, demanding better security for them.The Supreme Court also took note\\nof the case and related allegations levelled by agitating doctors and has been\\nholding hearings on the matter.The central probe agency on Monday filed its first chargesheet before a\\nSealdah court after it took over the investigation from the Kolkata Police,\\ncharging Sanjoy Roy, a Kolkata Police civic volunteer, for raping and\\nmurdering the trainee doctor.The CBI has charged Roy with sections 64 and 66 of the Bharatiya Nyaya Sanhita\\n(BNS) pertaining to rape and 103(1) relating to murder and ruled out the\\npossibility of gang-rape in the case.However, in its first chargesheet, the CBI did not name Sandip Ghosh and\\nKolkata Police official Abhijit Mondal, the then head of Tala police station,\\nwhere the crime was first reported.In its first chargesheet, the CBI pointed out that Sanjoy Roy and Abhijit\\nMondal made attempts to \\\\\\\\\"hush up the matter and destruction of evidence\\\\\\\\\",\\nfollowing which they were arrested under relevant sections of the BNS.Sandip Ghosh is also facing another CBI case pertaining to alleged financial\\nirregularities at the RG Kar Medical College and Hospital when he was the\\nprincipal.\\'NoneType\\' object has no attribute \\'startswith\\'\\'NoneType\\' object has no attribute \\'startswith\\'RG-Kar-rape-murder-case-CBI-questions-forensic-expert-9582946/RG Kar rape-murder case: CBI questions forensic experthttps://indianexpress.com/article/cities/kolkata/rg-kar-rape-murder-case-cbi-questions-forensic-expert-9582946/In a long post on X, Leader of Opposition in the West Bengal Assembly Suvendu\\\\nAdhikari named the former councillor as Sanjib Mukherjee, who allegedly forced\\\\nforensic experts to expedite the process.“Who is this person? The person is Sanjib Mukherjee. He is the former CPIM\\\\nCouncillor of Panihati Municipality, who joined TMC later on and became a\\\\nclose associate of Panihati TMC MLA Nirmal Ghosh,” said Adhikari in his post.“Everyone knows that the victim was cremated in haste. The Police were\\\\nmonitoring the operations at the crematorium and there was an extraordinary\\\\nhurry at the crematorium to dispose off the body.Panihati MLA; Nirmal Ghosh was himself present as per the instructions of\\\\nMamata Banerjee.Strangely, this Sanjib Mukherjee is the signatory on the\\\\nCremation Certificate, without being a kin of the victim.There’s also another\\\\nname/signature on the document – Somenath Dey.There is another former TMC\\\\nCouncillor of Panihati Municipality with the same name.Is he the same\\\\nperson?” He asked.A staff of R G Kar Medical College and Hospital had claimed that the police\\\\nhad directed them to cremate the body of the doctor on priority, saying there\\\\nwas a huge crowd present at the crematorium.While the police denied the\\\\nallegations, the victim’s family also claimed they wanted to keep the body but\\\\npost-mortem and cremation was done in haste.The body of the trainee doctor, a second-year postgraduate student, was found\\\\non August 9 in the seminar room of R G Kar Hospital.A civic volunteer with\\\\nthe Kolkata police, Sanjoy Roy, was arrested the following day in connection\\\\nwith the crime, which triggered a nationwide furore.Accused Sanjoy Roy raped, murdered doctor: CBI charge sheet in RG Kar caseThe victim\\'s colleagues, who have been protesting for two\\nmonths, are now on a hunger strike demanding justice in the RG Kar case and\\nenhanced security for doctors.The Central Bureau of Investigation (CBI) has charged Sanjoy Roy, who used to\\nwork with Kolkata Police as a contractual staff, with the rape and murder of\\nan on-duty woman doctor at the RG Kar Medical College and Hospital.The\\ncentral agency will submit the chargesheet at a special court in Sealdah this\\nafternoon.The accused civic volunteer had allegedly committed the crime when the doctor\\nhad gone to rest in the hospital\\\\\\\\\\'s seminar room during a break, said\\nofficials.The statements of about 200 people have been recorded in the charge sheet that\\nnames Roy as the main accused, according to CBI sources.It is still under\\ninvestigation if there were multiple suspects and if this was a gang rape\\ncase, they added.The doctor was found dead at the hospital on August 9 and subsequent\\ninvestigations revealed the horror she had gone through.The court had asked\\nthe CBI to take over the probe amid nationwide protests.\\'NoneType\\' object has no attribute \\'startswith\\'Kolkata rape and murder victim identity: Wikipedia parent, users move to\\navert confrontation with Supreme CourtThe Wikimedia Foundation does not censor articles upon court requests,\\ndeferring to volunteer editors.But after a Supreme Court prohibition on media\\ndisclosing the victim’s identity, the foundation moved to appeal to its\\nvolunteers to consider the issue while avoiding confrontation.After the Supreme Court on Tuesday (September 17, 2024) ordered that the\\nidentity of the medic murdered at R.G. Kar Medical College and Hospital in\\nKolkata should be removed from Wikipedia, the Wikimedia Foundation moved to\\navert a confrontation with the highest court.The Foundation does not as a\\npolicy edit or censor articles, complicating its ability to directly change\\nthe contents of the Wikipedia entry on the incident.Instead, a representative\\nfor the foundation participated in an existing user discussion on whether the\\nvictim’s name should be mentioned in the article on the incident, and the name\\nhas been removed, for now, by volunteer editors.On ANI’s defamation suit against Wikipedia | Explained ![\\\\\\\\\\\\\"\\\\\\\\\\\\\"](\\\\\\\\\\\\\"https://www.thehindu.com/theme/images/th-\\nonline/1x1_spacer.png\\\\\\\\\\\\\")“The Wikimedia Foundation has received enquiries related to the Indian Supreme\\nCourt’s ruling against the inclusion of the name and image of the victim of\\nthis crime in online media,” Joe Sutherland, who is a part of trust and safety\\nteam at the Foundation told users.“Organisations supporting victims of sexual\\nviolence have advocated for this general practice.In some cases, naming the\\nvictim of sexual violence may involve considering the safety of the victim’s\\nfamily and friends.”Mr.Sutherland made the comment after the Supreme Court\\nhad ordered all electronic media to stop publicising the victim’s name, but\\none day before Wikipedia was singled out by the court.Mr.Sutherland pointed out that some outlets considered credible by Wikipedia\\nusers, such as the BBC, had ceased reporting the victim’s name.Publishing the\\nname of sexual assault victims in India is illegal under Section 72 of the\\nBharatiya Nyaya Sanhita, 2023; it was also illegal under the preceding Indian\\nPenal Code.**Also read |Probe intends to reveal ‘absolute truth’ in R.G. Kar case: CJI**“Content issues and concerns on Wikipedia are generally addressed by\\nvolunteers,” a foundation spokesperson told The Hindu.“ When an issue\\nregarding content on Wikipedia is reported to the Wikimedia Foundation, we\\nfirst reach out to Wikipedia’s volunteer community to flag the issue and help\\nthem resolve it in adherence to the applicable policies and guidelines.”“It is important to understand that while the Wikimedia Foundation is a\\nU.S.-headquartered organisation, we’re not insensitive to laws and cultural\\nnuances in other locations,” Mr.Sutherland told users.“Other nations’ laws\\naffect the Wikimedia projects, the people who make the projects happen, and\\npeople who access them … When the community comes to a consensus on a content\\nissue, it’s very important and extremely useful for there to be compelling and\\nclearly articulated reasons for that decision.This helps the Foundation\\nexplain the outcome to courts” and other authorities, he added.\\'NoneType\\' object has no attribute \\'startswith\\'\\'NoneType\\' object has no attribute \\'startswith\\'\\'NoneType\\' object has no attribute \\'startswith\\'\\'NoneType\\' object has no attribute \\'startswith\\'**Kolkata doctor rape-murder case: Timeline of what followed RG Kar incident, from protests to CBI report on Sept 17**Kolkata doctor rape-murder case: Timeline of what followed RG Kar incident, from protests to CBI report on Sept 17https://www.livemint.com/news/kolkata-doctor-rape-murder-case-timeline-of-what-followed-rg-kar-incident-from-protests-to-cbi-report-on-sept-17-11726360885863.html'"
            ],
            "application/vnd.google.colaboratory.intrinsic+json": {
              "type": "string"
            }
          },
          "metadata": {},
          "execution_count": 44
        }
      ]
    },
    {
      "cell_type": "code",
      "source": [
        "combined_data[50]"
      ],
      "metadata": {
        "colab": {
          "base_uri": "https://localhost:8080/"
        },
        "id": "HWzaKXqhl0-o",
        "outputId": "b686509c-1b02-4fb4-d6f6-47f096b044d6"
      },
      "execution_count": null,
      "outputs": [
        {
          "output_type": "execute_result",
          "data": {
            "text/plain": [
              "['Kolkata rape and murder victim identity: Wikipedia parent, users move to\\navert confrontation with Supreme Court',\n",
              " 'The Wikimedia Foundation does not censor articles upon court requests,\\ndeferring to volunteer editors.',\n",
              " 'But after a Supreme Court prohibition on media\\ndisclosing the victim’s identity, the foundation moved to appeal to its\\nvolunteers to consider the issue while avoiding confrontation.']"
            ]
          },
          "metadata": {},
          "execution_count": 42
        }
      ]
    },
    {
      "cell_type": "markdown",
      "source": [
        "=======================================================================\n",
        "=======================================================================\n"
      ],
      "metadata": {
        "id": "EKM0qLz0sZ_H"
      }
    },
    {
      "cell_type": "markdown",
      "source": [
        "This stuff is hardcoding"
      ],
      "metadata": {
        "id": "cAfLkkVRsV93"
      }
    },
    {
      "cell_type": "code",
      "source": [
        "from googlesearch import search\n",
        "lst_of_urls=[]\n",
        "for url in search(\"rg kar rape case\", num_results=10):\n",
        "  #print(url)\n",
        "  lst_of_urls.append(url)\n",
        "lst_of_urls"
      ],
      "metadata": {
        "colab": {
          "base_uri": "https://localhost:8080/"
        },
        "id": "y8z_BkzU4DuS",
        "outputId": "1c1fab4b-3e3c-43af-e011-c5bc71369210"
      },
      "execution_count": null,
      "outputs": [
        {
          "output_type": "execute_result",
          "data": {
            "text/plain": [
              "['https://en.wikipedia.org/wiki/2024_Kolkata_rape_and_murder',\n",
              " 'https://www.ndtv.com/india-news/rg-kar-case-kolkata-rape-murder-cbi-chargesheet-details-how-rg-kar-rape-murder-accused-was-nailed-6748844',\n",
              " 'https://www.indiatoday.in/india/story/rg-kar-hospital-kolkata-trainee-doctor-rape-murder-cbi-chargesheet-sandip-ghosh-abhijit-mondal-2613801-2024-10-09',\n",
              " 'https://www.reuters.com/world/india/ex-head-indias-rg-kar-college-charged-alleged-evidence-tampering-rape-case-2024-09-15/',\n",
              " 'https://indianexpress.com/article/cities/kolkata/rg-kar-rape-murder-case-cbi-questions-forensic-expert-9582946/',\n",
              " 'https://www.ndtv.com/india-news/accused-sanjoy-roy-raped-murdered-doctor-cbi-charge-sheet-in-rg-kar-case-6734823',\n",
              " 'https://www.indiatoday.in/india/story/kolkata-rape-murder-case-rg-kar-hospital-junior-doctors-hunger-strike-doctors-hospitalised-2616122-2024-10-13',\n",
              " 'https://www.thehindu.com/news/national/wikipedia-parent-moves-to-avert-confrontation-with-sc-over-rg-kar-victim-identity/article68654588.ece',\n",
              " 'https://www.livemint.com/news/kolkata-doctor-rape-murder-case-timeline-of-what-followed-rg-kar-incident-from-protests-to-cbi-report-on-sept-17-11726360885863.html',\n",
              " 'https://indianexpress.com/article/cities/kolkata/rape-murder-of-junior-doctor-at-rg-kar-hospital-no-proof-of-gangrape-but-looking-into-all-possibilities-have-got-leads-cbi-to-court-9573371/']"
            ]
          },
          "metadata": {},
          "execution_count": 26
        }
      ]
    },
    {
      "cell_type": "code",
      "source": [
        "from playwright.async_api import async_playwright\n",
        "from bs4 import BeautifulSoup\n",
        "import asyncio\n",
        "\n",
        "async def get_article_content(urls):\n",
        "    async with async_playwright() as p:\n",
        "        browser = await p.chromium.launch()\n",
        "        page = await browser.new_page()\n",
        "        results = []\n",
        "        for url in urls:\n",
        "            await page.goto(url)\n",
        "            await page.wait_for_selector('div.storyDetails')  # Wait for article content\n",
        "            content = await page.content()\n",
        "            soup = BeautifulSoup(content, 'html.parser')\n",
        "            article = soup.find('div', class_='storyDetails').get_text(strip=False)\n",
        "            article = re.sub(r'\\n{3,}', '\\n\\n', article)\n",
        "\n",
        "            results.append(article)\n",
        "        await browser.close()\n",
        "        return results\n",
        "\n",
        "articles = asyncio.run(get_article_content(urls))\n",
        "data='\\n\\n'.join(articles)\n",
        "print(data)\n"
      ],
      "metadata": {
        "colab": {
          "base_uri": "https://localhost:8080/",
          "height": 384
        },
        "id": "oO2XG-h5ZEWC",
        "outputId": "2c937e9d-27e7-46e2-a100-dff4f4af1e00"
      },
      "execution_count": null,
      "outputs": [
        {
          "output_type": "error",
          "ename": "ModuleNotFoundError",
          "evalue": "No module named 'playwright'",
          "traceback": [
            "\u001b[0;31m---------------------------------------------------------------------------\u001b[0m",
            "\u001b[0;31mModuleNotFoundError\u001b[0m                       Traceback (most recent call last)",
            "\u001b[0;32m<ipython-input-1-035d5a0e015a>\u001b[0m in \u001b[0;36m<cell line: 1>\u001b[0;34m()\u001b[0m\n\u001b[0;32m----> 1\u001b[0;31m \u001b[0;32mfrom\u001b[0m \u001b[0mplaywright\u001b[0m\u001b[0;34m.\u001b[0m\u001b[0masync_api\u001b[0m \u001b[0;32mimport\u001b[0m \u001b[0masync_playwright\u001b[0m\u001b[0;34m\u001b[0m\u001b[0;34m\u001b[0m\u001b[0m\n\u001b[0m\u001b[1;32m      2\u001b[0m \u001b[0;32mfrom\u001b[0m \u001b[0mbs4\u001b[0m \u001b[0;32mimport\u001b[0m \u001b[0mBeautifulSoup\u001b[0m\u001b[0;34m\u001b[0m\u001b[0;34m\u001b[0m\u001b[0m\n\u001b[1;32m      3\u001b[0m \u001b[0;32mimport\u001b[0m \u001b[0masyncio\u001b[0m\u001b[0;34m\u001b[0m\u001b[0;34m\u001b[0m\u001b[0m\n\u001b[1;32m      4\u001b[0m \u001b[0;34m\u001b[0m\u001b[0m\n\u001b[1;32m      5\u001b[0m \u001b[0;32masync\u001b[0m \u001b[0;32mdef\u001b[0m \u001b[0mget_article_content\u001b[0m\u001b[0;34m(\u001b[0m\u001b[0murls\u001b[0m\u001b[0;34m)\u001b[0m\u001b[0;34m:\u001b[0m\u001b[0;34m\u001b[0m\u001b[0;34m\u001b[0m\u001b[0m\n",
            "\u001b[0;31mModuleNotFoundError\u001b[0m: No module named 'playwright'",
            "",
            "\u001b[0;31m---------------------------------------------------------------------------\u001b[0;32m\nNOTE: If your import is failing due to a missing package, you can\nmanually install dependencies using either !pip or !apt.\n\nTo view examples of installing some common dependencies, click the\n\"Open Examples\" button below.\n\u001b[0;31m---------------------------------------------------------------------------\u001b[0m\n"
          ],
          "errorDetails": {
            "actions": [
              {
                "action": "open_url",
                "actionText": "Open Examples",
                "url": "/notebooks/snippets/importing_libraries.ipynb"
              }
            ]
          }
        }
      ]
    },
    {
      "cell_type": "code",
      "source": [],
      "metadata": {
        "id": "4n4exMTbotWG"
      },
      "execution_count": null,
      "outputs": []
    },
    {
      "cell_type": "code",
      "source": [],
      "metadata": {
        "id": "X7d34X3E97Qf"
      },
      "execution_count": null,
      "outputs": []
    },
    {
      "cell_type": "code",
      "source": [],
      "metadata": {
        "id": "x_cAmPei97K_"
      },
      "execution_count": null,
      "outputs": []
    },
    {
      "source": [
        "from googlesearch import search\n",
        "from requests_html import AsyncHTMLSession\n",
        "import asyncio\n",
        "import nest_asyncio\n",
        "\n",
        "async def scrape_url(url):\n",
        "    \"\"\"Scrapes the content of a single URL using Playwright.\"\"\"\n",
        "    print(f\"Scraping: {url}\")\n",
        "\n",
        "    try:\n",
        "        async with async_playwright() as p:\n",
        "            browser = await p.chromium.launch()\n",
        "            page = await browser.new_page()\n",
        "            await page.goto(url)\n",
        "\n",
        "            # Wait for the page to load (adjust timeout if needed)\n",
        "            await page.wait_for_load_state(\"load\", timeout=30000)\n",
        "\n",
        "            # Extract body content\n",
        "            body_content = await page.locator(\"body\").text_content()\n",
        "            print(f\"Body Content:\\n{body_content}\")\n",
        "\n",
        "            await browser.close()\n",
        "    except requests.exceptions.RequestException as e:\n",
        "        print(f\"Error scraping {url}: {e}\")  # Print the exception details here\n",
        "        print(f\"Response status code: {response.status_code}\") #print the response code for more info\n",
        "\n",
        "    except Exception as e:\n",
        "        print(f\"Error scraping {url}: {e}\")\n",
        "\n",
        "    print(\"-\" * 20)\n",
        "\n",
        "\n",
        "async def main():\n",
        "    \"\"\"Main function to run the scraping tasks.\"\"\"\n",
        "    search_results = search(\"rg kar\", num_results=2)\n",
        "    tasks = [scrape_url(url) for url in search_results]  # Create tasks\n",
        "    await asyncio.gather(*tasks)  # Run tasks concurrently\n",
        "\n",
        "import asyncio\n",
        "if __name__ == \"__main__\":\n",
        "    asyncio.run(main())  # Start the event loop"
      ],
      "cell_type": "code",
      "metadata": {
        "colab": {
          "base_uri": "https://localhost:8080/"
        },
        "id": "wnNk4IH2gncd",
        "outputId": "19d4bd2c-ded0-4829-8671-937724613e7d"
      },
      "execution_count": null,
      "outputs": [
        {
          "output_type": "stream",
          "name": "stdout",
          "text": [
            "Scraping: https://www.ndtv.com/india-news/rg-kar-case-kolkata-rape-murder-cbi-chargesheet-details-how-rg-kar-rape-murder-accused-was-nailed-6748844\n",
            "Body Content:\n",
            "\n",
            "Access Denied\n",
            " \n",
            "You don't have permission to access \"http://www.ndtv.com/india-news/rg-kar-case-kolkata-rape-murder-cbi-chargesheet-details-how-rg-kar-rape-murder-accused-was-nailed-6748844\" on this server.\n",
            "Reference #18.ac622c17.1728726894.c3203d\n",
            "https://errors.edgesuite.net/18.ac622c17.1728726894.c3203d\n",
            "\n",
            "\n",
            "\n",
            "--------------------\n"
          ]
        }
      ]
    },
    {
      "cell_type": "code",
      "source": [
        "!pip install selenium -q\n",
        "!pip install webdriver-manager -q"
      ],
      "metadata": {
        "colab": {
          "base_uri": "https://localhost:8080/"
        },
        "id": "pXcfUTSBePrg",
        "outputId": "4c668bec-ce60-4c0d-ba78-bd0678b8a16f"
      },
      "execution_count": null,
      "outputs": [
        {
          "output_type": "stream",
          "name": "stdout",
          "text": [
            "\u001b[?25l   \u001b[90m━━━━━━━━━━━━━━━━━━━━━━━━━━━━━━━━━━━━━━━━\u001b[0m \u001b[32m0.0/9.7 MB\u001b[0m \u001b[31m?\u001b[0m eta \u001b[36m-:--:--\u001b[0m\r\u001b[2K   \u001b[91m━━━━━━\u001b[0m\u001b[91m╸\u001b[0m\u001b[90m━━━━━━━━━━━━━━━━━━━━━━━━━━━━━━━━━\u001b[0m \u001b[32m1.6/9.7 MB\u001b[0m \u001b[31m48.0 MB/s\u001b[0m eta \u001b[36m0:00:01\u001b[0m\r\u001b[2K   \u001b[91m━━━━━━━━━━━━━━━━━━━━━━━━━━━━\u001b[0m\u001b[90m╺\u001b[0m\u001b[90m━━━━━━━━━━━\u001b[0m \u001b[32m6.9/9.7 MB\u001b[0m \u001b[31m98.6 MB/s\u001b[0m eta \u001b[36m0:00:01\u001b[0m\r\u001b[2K   \u001b[91m━━━━━━━━━━━━━━━━━━━━━━━━━━━━━━━━━━━━━━━\u001b[0m\u001b[91m╸\u001b[0m \u001b[32m9.7/9.7 MB\u001b[0m \u001b[31m113.0 MB/s\u001b[0m eta \u001b[36m0:00:01\u001b[0m\r\u001b[2K   \u001b[90m━━━━━━━━━━━━━━━━━━━━━━━━━━━━━━━━━━━━━━━━\u001b[0m \u001b[32m9.7/9.7 MB\u001b[0m \u001b[31m69.6 MB/s\u001b[0m eta \u001b[36m0:00:00\u001b[0m\n",
            "\u001b[2K   \u001b[90m━━━━━━━━━━━━━━━━━━━━━━━━━━━━━━━━━━━━━━━━\u001b[0m \u001b[32m476.0/476.0 kB\u001b[0m \u001b[31m26.6 MB/s\u001b[0m eta \u001b[36m0:00:00\u001b[0m\n",
            "\u001b[2K   \u001b[90m━━━━━━━━━━━━━━━━━━━━━━━━━━━━━━━━━━━━━━━━\u001b[0m \u001b[32m58.3/58.3 kB\u001b[0m \u001b[31m3.8 MB/s\u001b[0m eta \u001b[36m0:00:00\u001b[0m\n",
            "\u001b[?25h"
          ]
        }
      ]
    },
    {
      "source": [
        "from googlesearch import search\n",
        "from requests_html import AsyncHTMLSession\n",
        "import asyncio\n",
        "import nest_asyncio\n",
        "from playwright.async_api import async_playwright\n",
        "\n",
        "async def scrape_url(url):\n",
        "    \"\"\"Scrapes the content of a single URL using Playwright.\"\"\"\n",
        "    print(f\"Scraping: {url}\")\n",
        "\n",
        "    try:\n",
        "        async with async_playwright() as p:\n",
        "            browser = await p.chromium.launch()\n",
        "            page = await browser.new_page()\n",
        "\n",
        "            # Set a User-Agent to mimic a real browser\n",
        "            await page.set_extra_http_headers({\n",
        "                \"User-Agent\": \"Mozilla/5.0 (Windows NT 10.0; Win64; x64) AppleWebKit/537.36 (KHTML, like Gecko) Chrome/118.0.0.0 Safari/537.36\"\n",
        "            })\n",
        "\n",
        "            await page.goto(url)\n",
        "\n",
        "            # Wait for the page to load (adjust timeout if needed)\n",
        "            await page.wait_for_load_state(\"load\", timeout=30000)\n",
        "\n",
        "            # Extract body content\n",
        "            body_content = await page.locator(\"body\").text_content()\n",
        "            print(f\"Body Content:\\n{body_content}\")\n",
        "\n",
        "            await browser.close()\n",
        "    except requests.exceptions.RequestException as e:\n",
        "        print(f\"Error scraping {url}: {e}\")  # Print the exception details here\n",
        "        # print(f\"Response status code: {response.status_code}\") #print the response code for more info\n",
        "\n",
        "    except Exception as e:\n",
        "        print(f\"Error scraping {url}: {e}\")\n",
        "\n",
        "    print(\"-\" * 20)\n",
        "\n",
        "\n",
        "async def main():\n",
        "    \"\"\"Main function to run the scraping tasks.\"\"\"\n",
        "    search_results = search(\"rg kar\", num_results=2)\n",
        "    tasks = [scrape_url(url) for url in search_results]  # Create tasks\n",
        "    await asyncio.gather(*tasks)  # Run tasks concurrently\n",
        "\n",
        "import asyncio\n",
        "if __name__ == \"__main__\":\n",
        "    asyncio.run(main())  # Start the event loop"
      ],
      "cell_type": "code",
      "metadata": {
        "colab": {
          "base_uri": "https://localhost:8080/",
          "height": 384
        },
        "id": "qVBWnPhE-12n",
        "outputId": "87fb3fee-e042-4497-dd86-4a01b47cb4e9"
      },
      "execution_count": null,
      "outputs": [
        {
          "output_type": "error",
          "ename": "ModuleNotFoundError",
          "evalue": "No module named 'requests_html'",
          "traceback": [
            "\u001b[0;31m---------------------------------------------------------------------------\u001b[0m",
            "\u001b[0;31mModuleNotFoundError\u001b[0m                       Traceback (most recent call last)",
            "\u001b[0;32m<ipython-input-1-bc08d7e1a883>\u001b[0m in \u001b[0;36m<cell line: 2>\u001b[0;34m()\u001b[0m\n\u001b[1;32m      1\u001b[0m \u001b[0;32mfrom\u001b[0m \u001b[0mgooglesearch\u001b[0m \u001b[0;32mimport\u001b[0m \u001b[0msearch\u001b[0m\u001b[0;34m\u001b[0m\u001b[0;34m\u001b[0m\u001b[0m\n\u001b[0;32m----> 2\u001b[0;31m \u001b[0;32mfrom\u001b[0m \u001b[0mrequests_html\u001b[0m \u001b[0;32mimport\u001b[0m \u001b[0mAsyncHTMLSession\u001b[0m\u001b[0;34m\u001b[0m\u001b[0;34m\u001b[0m\u001b[0m\n\u001b[0m\u001b[1;32m      3\u001b[0m \u001b[0;32mimport\u001b[0m \u001b[0masyncio\u001b[0m\u001b[0;34m\u001b[0m\u001b[0;34m\u001b[0m\u001b[0m\n\u001b[1;32m      4\u001b[0m \u001b[0;32mimport\u001b[0m \u001b[0mnest_asyncio\u001b[0m\u001b[0;34m\u001b[0m\u001b[0;34m\u001b[0m\u001b[0m\n\u001b[1;32m      5\u001b[0m \u001b[0;32mfrom\u001b[0m \u001b[0mplaywright\u001b[0m\u001b[0;34m.\u001b[0m\u001b[0masync_api\u001b[0m \u001b[0;32mimport\u001b[0m \u001b[0masync_playwright\u001b[0m\u001b[0;34m\u001b[0m\u001b[0;34m\u001b[0m\u001b[0m\n",
            "\u001b[0;31mModuleNotFoundError\u001b[0m: No module named 'requests_html'",
            "",
            "\u001b[0;31m---------------------------------------------------------------------------\u001b[0;32m\nNOTE: If your import is failing due to a missing package, you can\nmanually install dependencies using either !pip or !apt.\n\nTo view examples of installing some common dependencies, click the\n\"Open Examples\" button below.\n\u001b[0;31m---------------------------------------------------------------------------\u001b[0m\n"
          ],
          "errorDetails": {
            "actions": [
              {
                "action": "open_url",
                "actionText": "Open Examples",
                "url": "/notebooks/snippets/importing_libraries.ipynb"
              }
            ]
          }
        }
      ]
    },
    {
      "source": [
        "from googlesearch import search\n",
        "from requests_html import AsyncHTMLSession\n",
        "import asyncio\n",
        "import nest_asyncio\n",
        "from playwright.async_api import async_playwright\n",
        "import requests\n",
        "\n",
        "async def scrape_url(url):\n",
        "    \"\"\"Scrapes the content of a single URL using Playwright.\"\"\"\n",
        "    print(f\"Scraping: {url}\")\n",
        "\n",
        "    try:\n",
        "        async with async_playwright() as p:\n",
        "            browser = await p.chromium.launch()\n",
        "            page = await browser.new_page()\n",
        "            await page.goto(url)\n",
        "\n",
        "            # Wait for the page to load (adjust timeout if needed)\n",
        "            await page.wait_for_load_state(\"load\", timeout=30000)\n",
        "\n",
        "            # Extract body content\n",
        "            body_content = await page.locator(\"body\").text_content()\n",
        "            print(f\"Body Content:\\n{body_content}\")\n",
        "\n",
        "            await browser.close()\n",
        "    except requests.exceptions.RequestException as e:\n",
        "        print(f\"Error scraping {url}: {e}\")  # Print the exception details here\n",
        "        #print(f\"Response status code: {response.status_code}\") #print the response code for more info, response is not defined in this context, and we are catching requests exceptions\n",
        "    except Exception as e:\n",
        "        print(f\"Error scraping {url}: {e}\")\n",
        "\n",
        "    print(\"-\" * 20)\n",
        "\n",
        "\n",
        "async def main():\n",
        "    \"\"\"Main function to run the scraping tasks.\"\"\"\n",
        "    # the current version of google does not support the num/stop arguments for search, but the older version (4.6.0) used to.\n",
        "    # search_results = search(\"rg kar hindustan times\", num=1, stop=1)\n",
        "\n",
        "    # Using the older, supported syntax of google-search:\n",
        "    search_results = list(search(\"rg kar\", num_results=2)) #  get only the first search results\n",
        "\n",
        "    tasks = [scrape_url(url) for url in search_results]  # Create tasks\n",
        "    await asyncio.gather(*tasks)  # Run tasks concurrently\n",
        "\n",
        "# Use nest_asyncio to run the event loop within the existing one\n",
        "nest_asyncio.apply()\n",
        "\n",
        "if __name__ == \"__main__\":\n",
        "    asyncio.run(main())  # Start the event loop"
      ],
      "cell_type": "code",
      "metadata": {
        "colab": {
          "base_uri": "https://localhost:8080/"
        },
        "id": "qHJf2SbfP_MZ",
        "outputId": "74d3f8b4-aed4-4fef-e5db-e053ea9b9d26"
      },
      "execution_count": null,
      "outputs": [
        {
          "output_type": "stream",
          "name": "stdout",
          "text": [
            "Scraping: https://www.business-standard.com/india-news/rg-kar-case-two-more-doctors-join-hunger-strike-as-it-completes-first-week-124101200076_1.html\n",
            "Body Content:\n",
            "\n",
            "Access Denied\n",
            " \n",
            "You don't have permission to access \"http://www.business-standard.com/india-news/rg-kar-case-two-more-doctors-join-hunger-strike-as-it-completes-first-week-124101200076_1.html\" on this server.\n",
            "Reference #18.c9cf5868.1728740426.270a4329\n",
            "https://errors.edgesuite.net/18.c9cf5868.1728740426.270a4329\n",
            "\n",
            "\n",
            "\n",
            "--------------------\n"
          ]
        }
      ]
    },
    {
      "source": [
        "import asyncio\n",
        "from playwright.async_api import async_playwright\n",
        "\n",
        "async def scrape_url(url):\n",
        "    \"\"\"Scrapes the content of a single URL using Playwright.\"\"\"\n",
        "    print(f\"Scraping: {url}\")\n",
        "\n",
        "    async with async_playwright() as p:\n",
        "        browser = await p.chromium.launch()\n",
        "        page = await browser.new_page()\n",
        "        await page.goto(url)\n",
        "\n",
        "        # Wait for a specific element that indicates content is loaded\n",
        "        # Replace with a suitable selector for your target website\n",
        "        # The previous selector \"rg kar\" was likely incorrect.\n",
        "        # This example assumes there's an element with class \"article-title\"\n",
        "        # that's present when the content is loaded.\n",
        "        # You need to inspect the website to find an appropriate selector.\n",
        "\n",
        "        await page.wait_for_selector(\"rg kar\", timeout=30000)\n",
        "\n",
        "        # Alternatively, if you want the text to be present in body\n",
        "        # you can use wait_for_function\n",
        "        # await page.wait_for_function(\"document.body.innerText.includes('rg kar')\", timeout=30000)\n",
        "\n",
        "        # Extract body content\n",
        "        body_content = await page.locator(\"body\").text_content()\n",
        "        print(f\"Body Content:\\n{body_content}\")\n",
        "\n",
        "        await browser.close()\n",
        "\n",
        "    print(\"-\" * 20)\n",
        "\n",
        "async def main():\n",
        "    \"\"\"Main function to run the scraping tasks.\"\"\"\n",
        "    search_results = [\"https://www.hindustantimes.com/\"]  # Replace with your desired URL\n",
        "    tasks = [scrape_url(url) for url in search_results]  # Create tasks\n",
        "    await asyncio.gather(*tasks)  # Run tasks concurrently\n",
        "\n",
        "import asyncio\n",
        "if __name__ == \"__main__\":\n",
        "    asyncio.run(main())  # Start the event loop"
      ],
      "cell_type": "code",
      "metadata": {
        "colab": {
          "base_uri": "https://localhost:8080/",
          "height": 373
        },
        "id": "b2TwyXvH9XFD",
        "outputId": "6303153c-33fa-49c9-9f0e-1834b1e06326"
      },
      "execution_count": null,
      "outputs": [
        {
          "output_type": "stream",
          "name": "stdout",
          "text": [
            "Scraping: https://www.hindustantimes.com/\n"
          ]
        },
        {
          "output_type": "error",
          "ename": "TimeoutError",
          "evalue": "Page.wait_for_selector: Timeout 30000ms exceeded.\nCall log:\nwaiting for locator(\"rg kar\") to be visible\n",
          "traceback": [
            "\u001b[0;31m---------------------------------------------------------------------------\u001b[0m",
            "\u001b[0;31mTimeoutError\u001b[0m                              Traceback (most recent call last)",
            "\u001b[0;32m<ipython-input-41-1d4e3a88e470>\u001b[0m in \u001b[0;36m<cell line: 41>\u001b[0;34m()\u001b[0m\n\u001b[1;32m     40\u001b[0m \u001b[0;32mimport\u001b[0m \u001b[0masyncio\u001b[0m\u001b[0;34m\u001b[0m\u001b[0;34m\u001b[0m\u001b[0m\n\u001b[1;32m     41\u001b[0m \u001b[0;32mif\u001b[0m \u001b[0m__name__\u001b[0m \u001b[0;34m==\u001b[0m \u001b[0;34m\"__main__\"\u001b[0m\u001b[0;34m:\u001b[0m\u001b[0;34m\u001b[0m\u001b[0;34m\u001b[0m\u001b[0m\n\u001b[0;32m---> 42\u001b[0;31m     \u001b[0masyncio\u001b[0m\u001b[0;34m.\u001b[0m\u001b[0mrun\u001b[0m\u001b[0;34m(\u001b[0m\u001b[0mmain\u001b[0m\u001b[0;34m(\u001b[0m\u001b[0;34m)\u001b[0m\u001b[0;34m)\u001b[0m  \u001b[0;31m# Start the event loop\u001b[0m\u001b[0;34m\u001b[0m\u001b[0;34m\u001b[0m\u001b[0m\n\u001b[0m",
            "\u001b[0;32m/usr/local/lib/python3.10/dist-packages/nest_asyncio.py\u001b[0m in \u001b[0;36mrun\u001b[0;34m(main, debug)\u001b[0m\n\u001b[1;32m     28\u001b[0m         \u001b[0mtask\u001b[0m \u001b[0;34m=\u001b[0m \u001b[0masyncio\u001b[0m\u001b[0;34m.\u001b[0m\u001b[0mensure_future\u001b[0m\u001b[0;34m(\u001b[0m\u001b[0mmain\u001b[0m\u001b[0;34m)\u001b[0m\u001b[0;34m\u001b[0m\u001b[0;34m\u001b[0m\u001b[0m\n\u001b[1;32m     29\u001b[0m         \u001b[0;32mtry\u001b[0m\u001b[0;34m:\u001b[0m\u001b[0;34m\u001b[0m\u001b[0;34m\u001b[0m\u001b[0m\n\u001b[0;32m---> 30\u001b[0;31m             \u001b[0;32mreturn\u001b[0m \u001b[0mloop\u001b[0m\u001b[0;34m.\u001b[0m\u001b[0mrun_until_complete\u001b[0m\u001b[0;34m(\u001b[0m\u001b[0mtask\u001b[0m\u001b[0;34m)\u001b[0m\u001b[0;34m\u001b[0m\u001b[0;34m\u001b[0m\u001b[0m\n\u001b[0m\u001b[1;32m     31\u001b[0m         \u001b[0;32mfinally\u001b[0m\u001b[0;34m:\u001b[0m\u001b[0;34m\u001b[0m\u001b[0;34m\u001b[0m\u001b[0m\n\u001b[1;32m     32\u001b[0m             \u001b[0;32mif\u001b[0m \u001b[0;32mnot\u001b[0m \u001b[0mtask\u001b[0m\u001b[0;34m.\u001b[0m\u001b[0mdone\u001b[0m\u001b[0;34m(\u001b[0m\u001b[0;34m)\u001b[0m\u001b[0;34m:\u001b[0m\u001b[0;34m\u001b[0m\u001b[0;34m\u001b[0m\u001b[0m\n",
            "\u001b[0;32m/usr/local/lib/python3.10/dist-packages/nest_asyncio.py\u001b[0m in \u001b[0;36mrun_until_complete\u001b[0;34m(self, future)\u001b[0m\n\u001b[1;32m     96\u001b[0m                 raise RuntimeError(\n\u001b[1;32m     97\u001b[0m                     'Event loop stopped before Future completed.')\n\u001b[0;32m---> 98\u001b[0;31m             \u001b[0;32mreturn\u001b[0m \u001b[0mf\u001b[0m\u001b[0;34m.\u001b[0m\u001b[0mresult\u001b[0m\u001b[0;34m(\u001b[0m\u001b[0;34m)\u001b[0m\u001b[0;34m\u001b[0m\u001b[0;34m\u001b[0m\u001b[0m\n\u001b[0m\u001b[1;32m     99\u001b[0m \u001b[0;34m\u001b[0m\u001b[0m\n\u001b[1;32m    100\u001b[0m     \u001b[0;32mdef\u001b[0m \u001b[0m_run_once\u001b[0m\u001b[0;34m(\u001b[0m\u001b[0mself\u001b[0m\u001b[0;34m)\u001b[0m\u001b[0;34m:\u001b[0m\u001b[0;34m\u001b[0m\u001b[0;34m\u001b[0m\u001b[0m\n",
            "\u001b[0;32m/usr/lib/python3.10/asyncio/futures.py\u001b[0m in \u001b[0;36mresult\u001b[0;34m(self)\u001b[0m\n\u001b[1;32m    199\u001b[0m         \u001b[0mself\u001b[0m\u001b[0;34m.\u001b[0m\u001b[0m__log_traceback\u001b[0m \u001b[0;34m=\u001b[0m \u001b[0;32mFalse\u001b[0m\u001b[0;34m\u001b[0m\u001b[0;34m\u001b[0m\u001b[0m\n\u001b[1;32m    200\u001b[0m         \u001b[0;32mif\u001b[0m \u001b[0mself\u001b[0m\u001b[0;34m.\u001b[0m\u001b[0m_exception\u001b[0m \u001b[0;32mis\u001b[0m \u001b[0;32mnot\u001b[0m \u001b[0;32mNone\u001b[0m\u001b[0;34m:\u001b[0m\u001b[0;34m\u001b[0m\u001b[0;34m\u001b[0m\u001b[0m\n\u001b[0;32m--> 201\u001b[0;31m             \u001b[0;32mraise\u001b[0m \u001b[0mself\u001b[0m\u001b[0;34m.\u001b[0m\u001b[0m_exception\u001b[0m\u001b[0;34m.\u001b[0m\u001b[0mwith_traceback\u001b[0m\u001b[0;34m(\u001b[0m\u001b[0mself\u001b[0m\u001b[0;34m.\u001b[0m\u001b[0m_exception_tb\u001b[0m\u001b[0;34m)\u001b[0m\u001b[0;34m\u001b[0m\u001b[0;34m\u001b[0m\u001b[0m\n\u001b[0m\u001b[1;32m    202\u001b[0m         \u001b[0;32mreturn\u001b[0m \u001b[0mself\u001b[0m\u001b[0;34m.\u001b[0m\u001b[0m_result\u001b[0m\u001b[0;34m\u001b[0m\u001b[0;34m\u001b[0m\u001b[0m\n\u001b[1;32m    203\u001b[0m \u001b[0;34m\u001b[0m\u001b[0m\n",
            "\u001b[0;32m/usr/lib/python3.10/asyncio/tasks.py\u001b[0m in \u001b[0;36m__step\u001b[0;34m(***failed resolving arguments***)\u001b[0m\n\u001b[1;32m    232\u001b[0m                 \u001b[0mresult\u001b[0m \u001b[0;34m=\u001b[0m \u001b[0mcoro\u001b[0m\u001b[0;34m.\u001b[0m\u001b[0msend\u001b[0m\u001b[0;34m(\u001b[0m\u001b[0;32mNone\u001b[0m\u001b[0;34m)\u001b[0m\u001b[0;34m\u001b[0m\u001b[0;34m\u001b[0m\u001b[0m\n\u001b[1;32m    233\u001b[0m             \u001b[0;32melse\u001b[0m\u001b[0;34m:\u001b[0m\u001b[0;34m\u001b[0m\u001b[0;34m\u001b[0m\u001b[0m\n\u001b[0;32m--> 234\u001b[0;31m                 \u001b[0mresult\u001b[0m \u001b[0;34m=\u001b[0m \u001b[0mcoro\u001b[0m\u001b[0;34m.\u001b[0m\u001b[0mthrow\u001b[0m\u001b[0;34m(\u001b[0m\u001b[0mexc\u001b[0m\u001b[0;34m)\u001b[0m\u001b[0;34m\u001b[0m\u001b[0;34m\u001b[0m\u001b[0m\n\u001b[0m\u001b[1;32m    235\u001b[0m         \u001b[0;32mexcept\u001b[0m \u001b[0mStopIteration\u001b[0m \u001b[0;32mas\u001b[0m \u001b[0mexc\u001b[0m\u001b[0;34m:\u001b[0m\u001b[0;34m\u001b[0m\u001b[0;34m\u001b[0m\u001b[0m\n\u001b[1;32m    236\u001b[0m             \u001b[0;32mif\u001b[0m \u001b[0mself\u001b[0m\u001b[0;34m.\u001b[0m\u001b[0m_must_cancel\u001b[0m\u001b[0;34m:\u001b[0m\u001b[0;34m\u001b[0m\u001b[0;34m\u001b[0m\u001b[0m\n",
            "\u001b[0;32m<ipython-input-41-1d4e3a88e470>\u001b[0m in \u001b[0;36mmain\u001b[0;34m()\u001b[0m\n\u001b[1;32m     36\u001b[0m     \u001b[0msearch_results\u001b[0m \u001b[0;34m=\u001b[0m \u001b[0;34m[\u001b[0m\u001b[0;34m\"https://www.hindustantimes.com/\"\u001b[0m\u001b[0;34m]\u001b[0m  \u001b[0;31m# Replace with your desired URL\u001b[0m\u001b[0;34m\u001b[0m\u001b[0;34m\u001b[0m\u001b[0m\n\u001b[1;32m     37\u001b[0m     \u001b[0mtasks\u001b[0m \u001b[0;34m=\u001b[0m \u001b[0;34m[\u001b[0m\u001b[0mscrape_url\u001b[0m\u001b[0;34m(\u001b[0m\u001b[0murl\u001b[0m\u001b[0;34m)\u001b[0m \u001b[0;32mfor\u001b[0m \u001b[0murl\u001b[0m \u001b[0;32min\u001b[0m \u001b[0msearch_results\u001b[0m\u001b[0;34m]\u001b[0m  \u001b[0;31m# Create tasks\u001b[0m\u001b[0;34m\u001b[0m\u001b[0;34m\u001b[0m\u001b[0m\n\u001b[0;32m---> 38\u001b[0;31m     \u001b[0;32mawait\u001b[0m \u001b[0masyncio\u001b[0m\u001b[0;34m.\u001b[0m\u001b[0mgather\u001b[0m\u001b[0;34m(\u001b[0m\u001b[0;34m*\u001b[0m\u001b[0mtasks\u001b[0m\u001b[0;34m)\u001b[0m  \u001b[0;31m# Run tasks concurrently\u001b[0m\u001b[0;34m\u001b[0m\u001b[0;34m\u001b[0m\u001b[0m\n\u001b[0m\u001b[1;32m     39\u001b[0m \u001b[0;34m\u001b[0m\u001b[0m\n\u001b[1;32m     40\u001b[0m \u001b[0;32mimport\u001b[0m \u001b[0masyncio\u001b[0m\u001b[0;34m\u001b[0m\u001b[0;34m\u001b[0m\u001b[0m\n",
            "\u001b[0;32m/usr/lib/python3.10/asyncio/tasks.py\u001b[0m in \u001b[0;36m__wakeup\u001b[0;34m(self, future)\u001b[0m\n\u001b[1;32m    302\u001b[0m     \u001b[0;32mdef\u001b[0m \u001b[0m__wakeup\u001b[0m\u001b[0;34m(\u001b[0m\u001b[0mself\u001b[0m\u001b[0;34m,\u001b[0m \u001b[0mfuture\u001b[0m\u001b[0;34m)\u001b[0m\u001b[0;34m:\u001b[0m\u001b[0;34m\u001b[0m\u001b[0;34m\u001b[0m\u001b[0m\n\u001b[1;32m    303\u001b[0m         \u001b[0;32mtry\u001b[0m\u001b[0;34m:\u001b[0m\u001b[0;34m\u001b[0m\u001b[0;34m\u001b[0m\u001b[0m\n\u001b[0;32m--> 304\u001b[0;31m             \u001b[0mfuture\u001b[0m\u001b[0;34m.\u001b[0m\u001b[0mresult\u001b[0m\u001b[0;34m(\u001b[0m\u001b[0;34m)\u001b[0m\u001b[0;34m\u001b[0m\u001b[0;34m\u001b[0m\u001b[0m\n\u001b[0m\u001b[1;32m    305\u001b[0m         \u001b[0;32mexcept\u001b[0m \u001b[0mBaseException\u001b[0m \u001b[0;32mas\u001b[0m \u001b[0mexc\u001b[0m\u001b[0;34m:\u001b[0m\u001b[0;34m\u001b[0m\u001b[0;34m\u001b[0m\u001b[0m\n\u001b[1;32m    306\u001b[0m             \u001b[0;31m# This may also be a cancellation.\u001b[0m\u001b[0;34m\u001b[0m\u001b[0;34m\u001b[0m\u001b[0m\n",
            "\u001b[0;32m/usr/lib/python3.10/asyncio/tasks.py\u001b[0m in \u001b[0;36m__step\u001b[0;34m(***failed resolving arguments***)\u001b[0m\n\u001b[1;32m    230\u001b[0m                 \u001b[0;31m# We use the `send` method directly, because coroutines\u001b[0m\u001b[0;34m\u001b[0m\u001b[0;34m\u001b[0m\u001b[0m\n\u001b[1;32m    231\u001b[0m                 \u001b[0;31m# don't have `__iter__` and `__next__` methods.\u001b[0m\u001b[0;34m\u001b[0m\u001b[0;34m\u001b[0m\u001b[0m\n\u001b[0;32m--> 232\u001b[0;31m                 \u001b[0mresult\u001b[0m \u001b[0;34m=\u001b[0m \u001b[0mcoro\u001b[0m\u001b[0;34m.\u001b[0m\u001b[0msend\u001b[0m\u001b[0;34m(\u001b[0m\u001b[0;32mNone\u001b[0m\u001b[0;34m)\u001b[0m\u001b[0;34m\u001b[0m\u001b[0;34m\u001b[0m\u001b[0m\n\u001b[0m\u001b[1;32m    233\u001b[0m             \u001b[0;32melse\u001b[0m\u001b[0;34m:\u001b[0m\u001b[0;34m\u001b[0m\u001b[0;34m\u001b[0m\u001b[0m\n\u001b[1;32m    234\u001b[0m                 \u001b[0mresult\u001b[0m \u001b[0;34m=\u001b[0m \u001b[0mcoro\u001b[0m\u001b[0;34m.\u001b[0m\u001b[0mthrow\u001b[0m\u001b[0;34m(\u001b[0m\u001b[0mexc\u001b[0m\u001b[0;34m)\u001b[0m\u001b[0;34m\u001b[0m\u001b[0;34m\u001b[0m\u001b[0m\n",
            "\u001b[0;32m<ipython-input-41-1d4e3a88e470>\u001b[0m in \u001b[0;36mscrape_url\u001b[0;34m(url)\u001b[0m\n\u001b[1;32m     18\u001b[0m         \u001b[0;31m# You need to inspect the website to find an appropriate selector.\u001b[0m\u001b[0;34m\u001b[0m\u001b[0;34m\u001b[0m\u001b[0m\n\u001b[1;32m     19\u001b[0m \u001b[0;34m\u001b[0m\u001b[0m\n\u001b[0;32m---> 20\u001b[0;31m         \u001b[0;32mawait\u001b[0m \u001b[0mpage\u001b[0m\u001b[0;34m.\u001b[0m\u001b[0mwait_for_selector\u001b[0m\u001b[0;34m(\u001b[0m\u001b[0;34m\"rg kar\"\u001b[0m\u001b[0;34m,\u001b[0m \u001b[0mtimeout\u001b[0m\u001b[0;34m=\u001b[0m\u001b[0;36m30000\u001b[0m\u001b[0;34m)\u001b[0m\u001b[0;34m\u001b[0m\u001b[0;34m\u001b[0m\u001b[0m\n\u001b[0m\u001b[1;32m     21\u001b[0m \u001b[0;34m\u001b[0m\u001b[0m\n\u001b[1;32m     22\u001b[0m         \u001b[0;31m# Alternatively, if you want the text to be present in body\u001b[0m\u001b[0;34m\u001b[0m\u001b[0;34m\u001b[0m\u001b[0m\n",
            "\u001b[0;32m/usr/local/lib/python3.10/dist-packages/playwright/async_api/_generated.py\u001b[0m in \u001b[0;36mwait_for_selector\u001b[0;34m(self, selector, timeout, state, strict)\u001b[0m\n\u001b[1;32m   7997\u001b[0m \u001b[0;34m\u001b[0m\u001b[0m\n\u001b[1;32m   7998\u001b[0m         return mapping.from_impl_nullable(\n\u001b[0;32m-> 7999\u001b[0;31m             await self._impl_obj.wait_for_selector(\n\u001b[0m\u001b[1;32m   8000\u001b[0m                 \u001b[0mselector\u001b[0m\u001b[0;34m=\u001b[0m\u001b[0mselector\u001b[0m\u001b[0;34m,\u001b[0m \u001b[0mtimeout\u001b[0m\u001b[0;34m=\u001b[0m\u001b[0mtimeout\u001b[0m\u001b[0;34m,\u001b[0m \u001b[0mstate\u001b[0m\u001b[0;34m=\u001b[0m\u001b[0mstate\u001b[0m\u001b[0;34m,\u001b[0m \u001b[0mstrict\u001b[0m\u001b[0;34m=\u001b[0m\u001b[0mstrict\u001b[0m\u001b[0;34m\u001b[0m\u001b[0;34m\u001b[0m\u001b[0m\n\u001b[1;32m   8001\u001b[0m             )\n",
            "\u001b[0;32m/usr/local/lib/python3.10/dist-packages/playwright/_impl/_page.py\u001b[0m in \u001b[0;36mwait_for_selector\u001b[0;34m(self, selector, timeout, state, strict)\u001b[0m\n\u001b[1;32m    395\u001b[0m         \u001b[0mstrict\u001b[0m\u001b[0;34m:\u001b[0m \u001b[0mbool\u001b[0m \u001b[0;34m=\u001b[0m \u001b[0;32mNone\u001b[0m\u001b[0;34m,\u001b[0m\u001b[0;34m\u001b[0m\u001b[0;34m\u001b[0m\u001b[0m\n\u001b[1;32m    396\u001b[0m     ) -> Optional[ElementHandle]:\n\u001b[0;32m--> 397\u001b[0;31m         \u001b[0;32mreturn\u001b[0m \u001b[0;32mawait\u001b[0m \u001b[0mself\u001b[0m\u001b[0;34m.\u001b[0m\u001b[0m_main_frame\u001b[0m\u001b[0;34m.\u001b[0m\u001b[0mwait_for_selector\u001b[0m\u001b[0;34m(\u001b[0m\u001b[0;34m**\u001b[0m\u001b[0mlocals_to_params\u001b[0m\u001b[0;34m(\u001b[0m\u001b[0mlocals\u001b[0m\u001b[0;34m(\u001b[0m\u001b[0;34m)\u001b[0m\u001b[0;34m)\u001b[0m\u001b[0;34m)\u001b[0m\u001b[0;34m\u001b[0m\u001b[0;34m\u001b[0m\u001b[0m\n\u001b[0m\u001b[1;32m    398\u001b[0m \u001b[0;34m\u001b[0m\u001b[0m\n\u001b[1;32m    399\u001b[0m     async def is_checked(\n",
            "\u001b[0;32m/usr/local/lib/python3.10/dist-packages/playwright/_impl/_frame.py\u001b[0m in \u001b[0;36mwait_for_selector\u001b[0;34m(self, selector, strict, timeout, state)\u001b[0m\n\u001b[1;32m    321\u001b[0m     ) -> Optional[ElementHandle]:\n\u001b[1;32m    322\u001b[0m         return from_nullable_channel(\n\u001b[0;32m--> 323\u001b[0;31m             \u001b[0;32mawait\u001b[0m \u001b[0mself\u001b[0m\u001b[0;34m.\u001b[0m\u001b[0m_channel\u001b[0m\u001b[0;34m.\u001b[0m\u001b[0msend\u001b[0m\u001b[0;34m(\u001b[0m\u001b[0;34m\"waitForSelector\"\u001b[0m\u001b[0;34m,\u001b[0m \u001b[0mlocals_to_params\u001b[0m\u001b[0;34m(\u001b[0m\u001b[0mlocals\u001b[0m\u001b[0;34m(\u001b[0m\u001b[0;34m)\u001b[0m\u001b[0;34m)\u001b[0m\u001b[0;34m)\u001b[0m\u001b[0;34m\u001b[0m\u001b[0;34m\u001b[0m\u001b[0m\n\u001b[0m\u001b[1;32m    324\u001b[0m         )\n\u001b[1;32m    325\u001b[0m \u001b[0;34m\u001b[0m\u001b[0m\n",
            "\u001b[0;32m/usr/local/lib/python3.10/dist-packages/playwright/_impl/_connection.py\u001b[0m in \u001b[0;36msend\u001b[0;34m(self, method, params)\u001b[0m\n\u001b[1;32m     57\u001b[0m \u001b[0;34m\u001b[0m\u001b[0m\n\u001b[1;32m     58\u001b[0m     \u001b[0;32masync\u001b[0m \u001b[0;32mdef\u001b[0m \u001b[0msend\u001b[0m\u001b[0;34m(\u001b[0m\u001b[0mself\u001b[0m\u001b[0;34m,\u001b[0m \u001b[0mmethod\u001b[0m\u001b[0;34m:\u001b[0m \u001b[0mstr\u001b[0m\u001b[0;34m,\u001b[0m \u001b[0mparams\u001b[0m\u001b[0;34m:\u001b[0m \u001b[0mDict\u001b[0m \u001b[0;34m=\u001b[0m \u001b[0;32mNone\u001b[0m\u001b[0;34m)\u001b[0m \u001b[0;34m->\u001b[0m \u001b[0mAny\u001b[0m\u001b[0;34m:\u001b[0m\u001b[0;34m\u001b[0m\u001b[0;34m\u001b[0m\u001b[0m\n\u001b[0;32m---> 59\u001b[0;31m         return await self._connection.wrap_api_call(\n\u001b[0m\u001b[1;32m     60\u001b[0m             \u001b[0;32mlambda\u001b[0m\u001b[0;34m:\u001b[0m \u001b[0mself\u001b[0m\u001b[0;34m.\u001b[0m\u001b[0minner_send\u001b[0m\u001b[0;34m(\u001b[0m\u001b[0mmethod\u001b[0m\u001b[0;34m,\u001b[0m \u001b[0mparams\u001b[0m\u001b[0;34m,\u001b[0m \u001b[0;32mFalse\u001b[0m\u001b[0;34m)\u001b[0m\u001b[0;34m\u001b[0m\u001b[0;34m\u001b[0m\u001b[0m\n\u001b[1;32m     61\u001b[0m         )\n",
            "\u001b[0;32m/usr/local/lib/python3.10/dist-packages/playwright/_impl/_connection.py\u001b[0m in \u001b[0;36mwrap_api_call\u001b[0;34m(self, cb, is_internal)\u001b[0m\n\u001b[1;32m    512\u001b[0m             \u001b[0;32mreturn\u001b[0m \u001b[0;32mawait\u001b[0m \u001b[0mcb\u001b[0m\u001b[0;34m(\u001b[0m\u001b[0;34m)\u001b[0m\u001b[0;34m\u001b[0m\u001b[0;34m\u001b[0m\u001b[0m\n\u001b[1;32m    513\u001b[0m         \u001b[0;32mexcept\u001b[0m \u001b[0mException\u001b[0m \u001b[0;32mas\u001b[0m \u001b[0merror\u001b[0m\u001b[0;34m:\u001b[0m\u001b[0;34m\u001b[0m\u001b[0;34m\u001b[0m\u001b[0m\n\u001b[0;32m--> 514\u001b[0;31m             \u001b[0;32mraise\u001b[0m \u001b[0mrewrite_error\u001b[0m\u001b[0;34m(\u001b[0m\u001b[0merror\u001b[0m\u001b[0;34m,\u001b[0m \u001b[0;34mf\"{parsed_st['apiName']}: {error}\"\u001b[0m\u001b[0;34m)\u001b[0m \u001b[0;32mfrom\u001b[0m \u001b[0;32mNone\u001b[0m\u001b[0;34m\u001b[0m\u001b[0;34m\u001b[0m\u001b[0m\n\u001b[0m\u001b[1;32m    515\u001b[0m         \u001b[0;32mfinally\u001b[0m\u001b[0;34m:\u001b[0m\u001b[0;34m\u001b[0m\u001b[0;34m\u001b[0m\u001b[0m\n\u001b[1;32m    516\u001b[0m             \u001b[0mself\u001b[0m\u001b[0;34m.\u001b[0m\u001b[0m_api_zone\u001b[0m\u001b[0;34m.\u001b[0m\u001b[0mset\u001b[0m\u001b[0;34m(\u001b[0m\u001b[0;32mNone\u001b[0m\u001b[0;34m)\u001b[0m\u001b[0;34m\u001b[0m\u001b[0;34m\u001b[0m\u001b[0m\n",
            "\u001b[0;31mTimeoutError\u001b[0m: Page.wait_for_selector: Timeout 30000ms exceeded.\nCall log:\nwaiting for locator(\"rg kar\") to be visible\n"
          ]
        }
      ]
    },
    {
      "source": [
        "from googlesearch import search\n",
        "import requests\n",
        "from bs4 import BeautifulSoup\n",
        "from requests_html import HTMLSession\n",
        "\n",
        "# Search for \"Google\" and get the first 3 URLs\n",
        "# search_results = search(\"rg kar hindustan times\", num=1, stop=1) # The num and stop arguments are no longer supported\n",
        "search_results = search(\"rg kar\", num_results=2)  # Use num_results instead of num and stop\n",
        "\n",
        "# Iterate over the first 3 URLs and scrape their content\n",
        "for url in search_results:\n",
        "    print(f\"Scraping: {url}\")  # Print the URL being scraped\n",
        "\n",
        "    try:\n",
        "        with HTMLSession() as session:\n",
        "            response = session.get(url)\n",
        "            response.html.render(sleep=1, keep_page=True, scrolldown=5) # Render JavaScript content, adjust parameters as needed\n",
        "\n",
        "            soup = BeautifulSoup(response.content, \"html.parser\")\n",
        "            body_content = response.html.find('body', first=True).text\n",
        "            # Extract the body content\n",
        "            print(f\"Body Content:\\n{body_content}\")\n",
        "\n",
        "    except requests.exceptions.RequestException as e:\n",
        "        print(f\"Error scraping {url}: {e}\")  # Print the exception details here\n",
        "        print(f\"Response status code: {response.status_code}\") #print the response code for more info\n",
        "\n",
        "    except Exception as e:\n",
        "        print(f\"An error occurred: {e}\")\n",
        "\n",
        "    print(\"-\" * 20)  # Print a separator between results"
      ],
      "cell_type": "code",
      "metadata": {
        "id": "zqPHZEIayssU"
      },
      "execution_count": null,
      "outputs": []
    },
    {
      "source": [
        "from googlesearch import search # Import the search function from the google package\n",
        "import requests\n",
        "from bs4 import BeautifulSoup\n",
        "\n",
        "# Search for \"Google\" and get the first 3 URLs\n",
        "search_results = search(\"rg kar hindustan times\", num=1, stop=1)\n",
        "\n",
        "# Iterate over the first 3 URLs and scrape their content\n",
        "for url in search_results:\n",
        "    print(f\"Scraping: {url}\")  # Print the URL being scraped\n",
        "\n",
        "    try:\n",
        "        response = requests.get(url)  # Send a request to the URL\n",
        "        response.raise_for_status()  # Raise an exception for bad status codes\n",
        "\n",
        "        soup = BeautifulSoup(response.content, \"html.parser\")  # Parse the HTML content\n",
        "\n",
        "        # Now you can extract data from the soup object using BeautifulSoup methods\n",
        "        # For example, to extract the title:\n",
        "        title = soup.title.string if soup.title else \"Title not found\"\n",
        "        body_content = soup.body.text if soup.body else \"Body not found\"\n",
        "        print(f\"Title: {title}\")\n",
        "        print(f\"Body Content:\\n{body_content}\")\n",
        "\n",
        "        # Add more code here to extract other data as needed...\n",
        "\n",
        "    except requests.exceptions.RequestException as e:\n",
        "        print(f\"Error scraping {url}: {e}\")\n",
        "    except Exception as e:\n",
        "        print(f\"An error occurred: {e}\")\n",
        "\n",
        "    print(\"-\" * 20)  # Print a separator between results"
      ],
      "cell_type": "code",
      "metadata": {
        "colab": {
          "base_uri": "https://localhost:8080/",
          "height": 211
        },
        "id": "PSFSkt__VFYh",
        "outputId": "12bb75de-b352-4f46-e39f-baa73536e0fb"
      },
      "execution_count": null,
      "outputs": [
        {
          "output_type": "error",
          "ename": "TypeError",
          "evalue": "search() got an unexpected keyword argument 'num'",
          "traceback": [
            "\u001b[0;31m---------------------------------------------------------------------------\u001b[0m",
            "\u001b[0;31mTypeError\u001b[0m                                 Traceback (most recent call last)",
            "\u001b[0;32m<ipython-input-26-17016689e5ca>\u001b[0m in \u001b[0;36m<cell line: 6>\u001b[0;34m()\u001b[0m\n\u001b[1;32m      4\u001b[0m \u001b[0;34m\u001b[0m\u001b[0m\n\u001b[1;32m      5\u001b[0m \u001b[0;31m# Search for \"Google\" and get the first 3 URLs\u001b[0m\u001b[0;34m\u001b[0m\u001b[0;34m\u001b[0m\u001b[0m\n\u001b[0;32m----> 6\u001b[0;31m \u001b[0msearch_results\u001b[0m \u001b[0;34m=\u001b[0m \u001b[0msearch\u001b[0m\u001b[0;34m(\u001b[0m\u001b[0;34m\"rg kar hindustan times\"\u001b[0m\u001b[0;34m,\u001b[0m \u001b[0mnum\u001b[0m\u001b[0;34m=\u001b[0m\u001b[0;36m1\u001b[0m\u001b[0;34m,\u001b[0m \u001b[0mstop\u001b[0m\u001b[0;34m=\u001b[0m\u001b[0;36m1\u001b[0m\u001b[0;34m)\u001b[0m\u001b[0;34m\u001b[0m\u001b[0;34m\u001b[0m\u001b[0m\n\u001b[0m\u001b[1;32m      7\u001b[0m \u001b[0;34m\u001b[0m\u001b[0m\n\u001b[1;32m      8\u001b[0m \u001b[0;31m# Iterate over the first 3 URLs and scrape their content\u001b[0m\u001b[0;34m\u001b[0m\u001b[0;34m\u001b[0m\u001b[0m\n",
            "\u001b[0;31mTypeError\u001b[0m: search() got an unexpected keyword argument 'num'"
          ]
        }
      ]
    },
    {
      "cell_type": "code",
      "source": [],
      "metadata": {
        "id": "emqBAZhGfT3x"
      },
      "execution_count": null,
      "outputs": []
    },
    {
      "source": [
        "from googlesearch import search\n",
        "import requests\n",
        "from bs4 import BeautifulSoup\n",
        "from requests_html import HTMLSession\n",
        "\n",
        "# Search for \"Google\" and get the first 3 URLs\n",
        "search_results = search(\"rg kar hindustan times\", num=1, stop=1)\n",
        "session = HTMLSession()\n",
        "\n",
        "# Iterate over the first 3 URLs and scrape their content\n",
        "for url in search_results:\n",
        "    print(f\"Scraping: {url}\")  # Print the URL being scraped\n",
        "\n",
        "    try:\n",
        "        response = session.get(url)\n",
        "        response.html.render()\n",
        "\n",
        "        soup = BeautifulSoup(response.content, \"html.parser\")\n",
        "        body_content = response.html.find('body', first=True).text\n",
        "        # Extract the body content\n",
        "        print(f\"Body Content:\\n{body_content}\")\n",
        "\n",
        "    except requests.exceptions.RequestException as e:\n",
        "        print(f\"Error scraping {url}: {e}\")  # Print the exception details here\n",
        "        print(f\"Response status code: {response.status_code}\") #print the response code for more info\n",
        "\n",
        "    except Exception as e:\n",
        "        print(f\"An error occurred: {e}\")\n",
        "\n",
        "    print(\"-\" * 20)  # Print a separator between results"
      ],
      "cell_type": "code",
      "metadata": {
        "colab": {
          "base_uri": "https://localhost:8080/",
          "height": 211
        },
        "id": "MBUSTxcMe7Qz",
        "outputId": "d0e9b0ce-c395-4134-db33-fda1f90c3d9a"
      },
      "execution_count": null,
      "outputs": [
        {
          "output_type": "error",
          "ename": "TypeError",
          "evalue": "search() got an unexpected keyword argument 'num'",
          "traceback": [
            "\u001b[0;31m---------------------------------------------------------------------------\u001b[0m",
            "\u001b[0;31mTypeError\u001b[0m                                 Traceback (most recent call last)",
            "\u001b[0;32m<ipython-input-27-a34706e46a5c>\u001b[0m in \u001b[0;36m<cell line: 7>\u001b[0;34m()\u001b[0m\n\u001b[1;32m      5\u001b[0m \u001b[0;34m\u001b[0m\u001b[0m\n\u001b[1;32m      6\u001b[0m \u001b[0;31m# Search for \"Google\" and get the first 3 URLs\u001b[0m\u001b[0;34m\u001b[0m\u001b[0;34m\u001b[0m\u001b[0m\n\u001b[0;32m----> 7\u001b[0;31m \u001b[0msearch_results\u001b[0m \u001b[0;34m=\u001b[0m \u001b[0msearch\u001b[0m\u001b[0;34m(\u001b[0m\u001b[0;34m\"rg kar hindustan times\"\u001b[0m\u001b[0;34m,\u001b[0m \u001b[0mnum\u001b[0m\u001b[0;34m=\u001b[0m\u001b[0;36m1\u001b[0m\u001b[0;34m,\u001b[0m \u001b[0mstop\u001b[0m\u001b[0;34m=\u001b[0m\u001b[0;36m1\u001b[0m\u001b[0;34m)\u001b[0m\u001b[0;34m\u001b[0m\u001b[0;34m\u001b[0m\u001b[0m\n\u001b[0m\u001b[1;32m      8\u001b[0m \u001b[0msession\u001b[0m \u001b[0;34m=\u001b[0m \u001b[0mHTMLSession\u001b[0m\u001b[0;34m(\u001b[0m\u001b[0;34m)\u001b[0m\u001b[0;34m\u001b[0m\u001b[0;34m\u001b[0m\u001b[0m\n\u001b[1;32m      9\u001b[0m \u001b[0;34m\u001b[0m\u001b[0m\n",
            "\u001b[0;31mTypeError\u001b[0m: search() got an unexpected keyword argument 'num'"
          ]
        }
      ]
    },
    {
      "cell_type": "code",
      "execution_count": null,
      "metadata": {
        "id": "6_fmSmHg_k47",
        "colab": {
          "base_uri": "https://localhost:8080/"
        },
        "outputId": "0810b843-6566-49f5-d690-21099ad415e8"
      },
      "outputs": [
        {
          "output_type": "stream",
          "name": "stdout",
          "text": [
            "[]\n"
          ]
        }
      ],
      "source": [
        "import requests\n",
        "from bs4 import BeautifulSoup\n",
        "\n",
        "url = \"https://www.hindustantimes.com/\"\n",
        "response = requests.get(url)\n",
        "soup = BeautifulSoup(response.content, \"html.parser\")\n",
        "\n",
        "news_articles = []\n",
        "for article_element in soup.find_all(\"h3\", class_=\"hdg3\"): # Find headline elements\n",
        "    headline = article_element.get_text()\n",
        "\n",
        "    # Assuming the article content is in the next sibling div with class \"media-body\"\n",
        "    content_element = article_element.find_next_sibling(\"div\", class_=\"media-body\")\n",
        "    content = content_element.get_text() if content_element else \"Content not found\"\n",
        "\n",
        "    news_articles.append({\"headline\": headline, \"content\": content})\n",
        "\n",
        "print(news_articles)"
      ]
    },
    {
      "source": [
        "from googlesearch import search # Import the search function from the google package\n",
        "import requests\n",
        "from bs4 import BeautifulSoup\n",
        "from requests_html import HTMLSession\n",
        "\n",
        "# Search for \"Google\" and get the first 3 URLs\n",
        "search_results = search(\"rg kar\", num_results=2) #use num and stop arguments as expected by google package\n",
        "session = HTMLSession()\n",
        "\n",
        "# Iterate over the first 3 URLs and scrape their content\n",
        "for url in search_results:\n",
        "    print(f\"Scraping: {url}\")  # Print the URL being scraped\n",
        "\n",
        "    try:\n",
        "        response = session.get(url)\n",
        "        response.html.render()\n",
        "\n",
        "        soup = BeautifulSoup(response.content, \"html.parser\")\n",
        "        body_content = response.html.find('body', first=True).text\n",
        "        # Extract the body content\n",
        "        print(f\"Body Content:\\n{body_content}\")\n",
        "\n",
        "    except requests.exceptions.RequestException as e:\n",
        "        print(f\"Error scraping {url}: {e}\")  # Print the exception details here\n",
        "        print(f\"Response status code: {response.status_code}\") #print the response code for more info\n",
        "\n",
        "    except Exception as e:\n",
        "        print(f\"An error occurred: {e}\")\n",
        "\n",
        "    print(\"-\" * 20)  # Print a separator between results"
      ],
      "cell_type": "code",
      "metadata": {
        "id": "wyNg4NaYXMB8"
      },
      "execution_count": null,
      "outputs": []
    },
    {
      "cell_type": "code",
      "source": [
        "import requests\n",
        "from bs4 import BeautifulSoup\n",
        "from googlesearch import search\n",
        "\n",
        "# Replace 'https://www.example.com' with the actual news website URL\n",
        "news_website_url = 'https://www.example.com'\n",
        "\n",
        "# Replace 'target_topic' with the specific topic you want to search for\n",
        "target_topic = 'target_topic'\n",
        "\n",
        "# Function to scrape the website and extract relevant content\n",
        "def scrape_website(url, topic):\n",
        "    response = requests.get(url)\n",
        "    soup = BeautifulSoup(response.content, 'html.parser')\n",
        "\n",
        "    # Use BeautifulSoup to find elements containing the target topic\n",
        "    # (e.g., article titles, summaries, etc.)\n",
        "    search_results = []\n",
        "\n",
        "    # Extract and process the relevant content\n",
        "\n",
        "    return search_results\n",
        "\n",
        "# Call the scraping function and print the results\n",
        "search_results = scrape_website(news_website_url, target_topic)\n",
        "print(search_results)"
      ],
      "metadata": {
        "colab": {
          "base_uri": "https://localhost:8080/"
        },
        "id": "PpCC0c3slPwd",
        "outputId": "c2438e87-26eb-474a-e1c6-799a37e5ad26"
      },
      "execution_count": null,
      "outputs": [
        {
          "output_type": "stream",
          "name": "stdout",
          "text": [
            "[]\n"
          ]
        }
      ]
    },
    {
      "cell_type": "code",
      "source": [
        "import requests\n",
        "from bs4 import BeautifulSoup\n",
        "\n",
        "url = \"https://www.hindustantimes.com/\"\n",
        "response = requests.get(url)\n",
        "soup = BeautifulSoup(response.content, \"html.parser\")\n",
        "\n",
        "products = []\n",
        "for product_element in soup.find_all(\"div\", class_=\"product\"):\n",
        "    product_name = product_element.find(\"h2\").get_text()\n",
        "    product_price = product_element.find(\"span\", class_=\"price\").get_text()\n",
        "    products.append({\"name\": product_name, \"price\": product_price})\n",
        "\n",
        "print(products)"
      ],
      "metadata": {
        "colab": {
          "base_uri": "https://localhost:8080/"
        },
        "id": "19n9c0a2SiW3",
        "outputId": "767f3384-4596-474f-cadc-ec494f606223"
      },
      "execution_count": null,
      "outputs": [
        {
          "output_type": "stream",
          "name": "stdout",
          "text": [
            "[]\n"
          ]
        }
      ]
    },
    {
      "cell_type": "code",
      "source": [
        "from bs4 import BeautifulSoup\n",
        "import requests\n",
        "url = 'https://en.wikipedia.org/wiki/List_of_largest_companies_in_the_United_States_by_revenue#:~:text=This%20list%20comprises%20the%20largest%20companies%20currently%20in%20the%20United'\n",
        "\n",
        "page = requests.get(url)\n",
        "soup = BeautifulSoup(page.text, 'html')\n",
        "\n",
        "soup.find_all('table')[1]"
      ],
      "metadata": {
        "colab": {
          "base_uri": "https://localhost:8080/"
        },
        "id": "sWbQg8a-_SKj",
        "outputId": "08bf187c-11f4-48f2-b6c6-6d3d630319d7",
        "collapsed": true
      },
      "execution_count": null,
      "outputs": [
        {
          "output_type": "execute_result",
          "data": {
            "text/plain": [
              "<table class=\"wikitable sortable\">\n",
              "<tbody><tr>\n",
              "<th>Rank\n",
              "</th>\n",
              "<th>Name\n",
              "</th>\n",
              "<th>Industry\n",
              "</th>\n",
              "<th>Revenue <br/>(USD billions)\n",
              "</th>\n",
              "<th>Employees\n",
              "</th>\n",
              "<th>Headquarters\n",
              "</th></tr>\n",
              "<tr>\n",
              "<td>1\n",
              "</td>\n",
              "<td><a href=\"/wiki/Cargill\" title=\"Cargill\">Cargill</a>\n",
              "</td>\n",
              "<td>Food industry\n",
              "</td>\n",
              "<td style=\"text-align:center;\">177\n",
              "</td>\n",
              "<td style=\"text-align:center;\">160,000\n",
              "</td>\n",
              "<td><a href=\"/wiki/Minnetonka,_Minnesota\" title=\"Minnetonka, Minnesota\">Minnetonka, Minnesota</a>\n",
              "</td></tr>\n",
              "<tr>\n",
              "<td>2\n",
              "</td>\n",
              "<td><a class=\"mw-redirect\" href=\"/wiki/Koch_Industries\" title=\"Koch Industries\">Koch Industries</a>\n",
              "</td>\n",
              "<td>Conglomerate\n",
              "</td>\n",
              "<td style=\"text-align:center;\">125\n",
              "</td>\n",
              "<td style=\"text-align:center;\">120,000\n",
              "</td>\n",
              "<td><a href=\"/wiki/Wichita,_Kansas\" title=\"Wichita, Kansas\">Wichita, Kansas</a>\n",
              "</td></tr>\n",
              "<tr>\n",
              "<td>3\n",
              "</td>\n",
              "<td><a class=\"mw-redirect\" href=\"/wiki/Publix_Super_Markets\" title=\"Publix Super Markets\">Publix Super Markets</a>\n",
              "</td>\n",
              "<td>Retail\n",
              "</td>\n",
              "<td style=\"text-align:center;\">54.5\n",
              "</td>\n",
              "<td style=\"text-align:center;\">250,000\n",
              "</td>\n",
              "<td><a href=\"/wiki/Winter_Haven,_Florida\" title=\"Winter Haven, Florida\">Winter Haven, Florida</a>\n",
              "</td></tr>\n",
              "<tr>\n",
              "<td>4\n",
              "</td>\n",
              "<td><a class=\"mw-redirect\" href=\"/wiki/Mars,_Incorporated\" title=\"Mars, Incorporated\">Mars, Incorporated</a>\n",
              "</td>\n",
              "<td>Food industry\n",
              "</td>\n",
              "<td style=\"text-align:center;\">47\n",
              "</td>\n",
              "<td style=\"text-align:center;\">140,000\n",
              "</td>\n",
              "<td><a href=\"/wiki/McLean,_Virginia\" title=\"McLean, Virginia\">McLean, Virginia</a>\n",
              "</td></tr>\n",
              "<tr>\n",
              "<td>5\n",
              "</td>\n",
              "<td><a href=\"/wiki/H-E-B\" title=\"H-E-B\">H-E-B</a>\n",
              "</td>\n",
              "<td>Retail\n",
              "</td>\n",
              "<td style=\"text-align:center;\">43.6\n",
              "</td>\n",
              "<td style=\"text-align:center;\">145,000\n",
              "</td>\n",
              "<td><a class=\"mw-redirect\" href=\"/wiki/San_Antonio,_Texas\" title=\"San Antonio, Texas\">San Antonio, Texas</a>\n",
              "</td></tr>\n",
              "<tr>\n",
              "<td>6\n",
              "</td>\n",
              "<td><a href=\"/wiki/Reyes_Holdings\" title=\"Reyes Holdings\">Reyes Holdings</a>\n",
              "</td>\n",
              "<td><a href=\"/wiki/Wholesaling\" title=\"Wholesaling\">Wholesaling</a>\n",
              "</td>\n",
              "<td style=\"text-align:center;\">40\n",
              "</td>\n",
              "<td style=\"text-align:center;\">36,000\n",
              "</td>\n",
              "<td><a href=\"/wiki/Rosemont,_Illinois\" title=\"Rosemont, Illinois\">Rosemont, Illinois</a>\n",
              "</td></tr>\n",
              "<tr>\n",
              "<td>7\n",
              "</td>\n",
              "<td><a href=\"/wiki/Enterprise_Holdings\" title=\"Enterprise Holdings\">Enterprise Holdings</a>\n",
              "</td>\n",
              "<td><a href=\"/wiki/Car_rental\" title=\"Car rental\">Car rental</a>\n",
              "</td>\n",
              "<td style=\"text-align:center;\">35\n",
              "</td>\n",
              "<td style=\"text-align:center;\">90,000\n",
              "</td>\n",
              "<td><a href=\"/wiki/Clayton,_Missouri\" title=\"Clayton, Missouri\">Clayton, Missouri</a>\n",
              "</td></tr>\n",
              "<tr>\n",
              "<td>8\n",
              "</td>\n",
              "<td><a href=\"/wiki/C%26S_Wholesale_Grocers\" title=\"C&amp;S Wholesale Grocers\">C&amp;S Wholesale Grocers</a>\n",
              "</td>\n",
              "<td>Wholesaling\n",
              "</td>\n",
              "<td style=\"text-align:center;\">34.7\n",
              "</td>\n",
              "<td style=\"text-align:center;\">15,000\n",
              "</td>\n",
              "<td><a href=\"/wiki/Keene,_New_Hampshire\" title=\"Keene, New Hampshire\">Keene, New Hampshire</a>\n",
              "</td></tr>\n",
              "<tr>\n",
              "<td>9\n",
              "</td>\n",
              "<td><a href=\"/wiki/Love%27s\" title=\"Love's\">Love's</a>\n",
              "</td>\n",
              "<td>Petroleum industry and Retail\n",
              "</td>\n",
              "<td style=\"text-align:center;\">26.5\n",
              "</td>\n",
              "<td style=\"text-align:center;\">40,000\n",
              "</td>\n",
              "<td><a class=\"mw-redirect\" href=\"/wiki/Oklahoma_City,_Oklahoma\" title=\"Oklahoma City, Oklahoma\">Oklahoma City, Oklahoma</a>\n",
              "</td></tr>\n",
              "<tr>\n",
              "<td>10\n",
              "</td>\n",
              "<td><a href=\"/wiki/Southern_Glazer%27s_Wine_and_Spirits\" title=\"Southern Glazer's Wine and Spirits\">Southern Glazer's Wine and Spirits</a>\n",
              "</td>\n",
              "<td>Food industry\n",
              "</td>\n",
              "<td style=\"text-align:center;\">26.0\n",
              "</td>\n",
              "<td style=\"text-align:center;\">24,000\n",
              "</td>\n",
              "<td><a href=\"/wiki/Miramar,_Florida\" title=\"Miramar, Florida\">Miramar, Florida</a>\n",
              "</td></tr></tbody></table>"
            ]
          },
          "metadata": {},
          "execution_count": 31
        }
      ]
    },
    {
      "cell_type": "code",
      "source": [
        "from bs4 import BeautifulSoup\n",
        "import requests\n",
        "url ="
      ],
      "metadata": {
        "id": "oXbooo2htV4m"
      },
      "execution_count": null,
      "outputs": []
    },
    {
      "cell_type": "markdown",
      "source": [
        "<h2 id=\"List_of_largest_private_companies\">List of largest private companies</h2>"
      ],
      "metadata": {
        "id": "XFGy9RSGAZG0"
      }
    }
  ]
}