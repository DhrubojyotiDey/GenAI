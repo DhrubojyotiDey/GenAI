{
  "nbformat": 4,
  "nbformat_minor": 0,
  "metadata": {
    "colab": {
      "provenance": []
    },
    "kernelspec": {
      "name": "python3",
      "display_name": "Python 3"
    },
    "language_info": {
      "name": "python"
    }
  },
  "cells": [
    {
      "cell_type": "code",
      "execution_count": 1,
      "metadata": {
        "id": "4uaxOAepPXst"
      },
      "outputs": [],
      "source": [
        "import requests\n",
        "from bs4 import BeautifulSoup\n",
        "import pandas as pd\n",
        "import time"
      ]
    },
    {
      "cell_type": "code",
      "source": [
        "headers = {'user-agent':'Mozilla/5.0 \\\n",
        "            (Windows NT 10.0; Win64; x64) \\\n",
        "            AppleWebKit/537.36 (KHTML, like Gecko) \\\n",
        "            Chrome/84.0.4147.105 Safari/537.36'}\n",
        "\n"
      ],
      "metadata": {
        "id": "4toJnlUUPZFn"
      },
      "execution_count": 2,
      "outputs": []
    },
    {
      "cell_type": "code",
      "source": [
        "urls = [\n",
        "    'https://groww.in/us-stocks/nke',\n",
        "    'https://groww.in/us-stocks/ko',\n",
        "    'https://groww.in/us-stocks/msft',\n",
        "    'https://groww.in/stocks/m-india-ltd',\n",
        "    'https://groww.in/us-stocks/axp',\n",
        "    'https://groww.in/us-stocks/amgn',\n",
        "    'https://groww.in/us-stocks/aapl',\n",
        "    'https://groww.in/us-stocks/ba',\n",
        "    'https://groww.in/us-stocks/csco',\n",
        "    'https://groww.in/us-stocks/gs',\n",
        "    'https://groww.in/us-stocks/ibm',\n",
        "    'https://groww.in/us-stocks/intc',\n",
        "    'https://groww.in/us-stocks/jpm',\n",
        "    'https://groww.in/us-stocks/mcd',\n",
        "    'https://groww.in/us-stocks/crm',\n",
        "    'https://groww.in/us-stocks/vz',\n",
        "    'https://groww.in/us-stocks/v',\n",
        "    'https://groww.in/us-stocks/wmt',\n",
        "    'https://groww.in/us-stocks/dis'\n",
        "    ]\n"
      ],
      "metadata": {
        "id": "TCYKwbpmPZIK"
      },
      "execution_count": 3,
      "outputs": []
    },
    {
      "cell_type": "code",
      "source": [
        "# Empty list to store stock data\n",
        "stock_data = []"
      ],
      "metadata": {
        "id": "_HlMfynsPZKy"
      },
      "execution_count": 10,
      "outputs": []
    },
    {
      "cell_type": "code",
      "source": [
        "# Loop through each URL and scrape the stock data\n",
        "for url in urls:\n",
        "    response = requests.get(url, headers=headers)  # Get page content\n",
        "    soup = BeautifulSoup(response.text, 'html.parser')  # Parse HTML\n",
        "\n",
        "    try:\n",
        "        # Extract stock details using class names\n",
        "        company = soup.find('h1').text.strip()  # Company name\n",
        "        price = soup.find('span').text.strip()  # Stock price\n",
        "        change = soup.find('div').text.strip()  # Stock change\n",
        "        volume = soup.find_all('td')[1].text.strip()  # Stock volume\n",
        "\n",
        "        # Append the stock details to the list\n",
        "        stock_data.append([company, price, change, volume])\n",
        "\n",
        "    except AttributeError:\n",
        "        print(f\"Error scraping data from {url}\")\n",
        "\n",
        "    time.sleep(5)  # Add delay to prevent overloading the server"
      ],
      "metadata": {
        "id": "zED8QHSSPZNS"
      },
      "execution_count": 11,
      "outputs": []
    },
    {
      "cell_type": "code",
      "source": [
        "# Convert the stock data into a DataFrame\n",
        "df = pd.DataFrame(stock_data, columns=[\"Company\", \"Price\", \"Change\", \"Volume\"])"
      ],
      "metadata": {
        "id": "XvI22mWaPZPz"
      },
      "execution_count": 6,
      "outputs": []
    },
    {
      "cell_type": "code",
      "source": [
        "# Save the data to an Excel file\n",
        "df.to_excel('simplified_stocks.xlsx', index=False)\n",
        "\n"
      ],
      "metadata": {
        "id": "IEyPOoJ-PZTV"
      },
      "execution_count": 7,
      "outputs": []
    },
    {
      "cell_type": "code",
      "source": [
        "print(\"Stock data successfully scraped and saved to 'simplified_stocks.xlsx'.\")"
      ],
      "metadata": {
        "id": "YMZsc6iKP6fo"
      },
      "execution_count": 8,
      "outputs": []
    },
    {
      "cell_type": "code",
      "source": [],
      "metadata": {
        "id": "QNkx8-sOP6qi"
      },
      "execution_count": 9,
      "outputs": []
    },
    {
      "cell_type": "code",
      "source": [
        "\n",
        "# This code is modified by  DevuJ"
      ],
      "metadata": {
        "id": "Wcp7PsXMP69x"
      },
      "execution_count": null,
      "outputs": []
    }
  ]
}