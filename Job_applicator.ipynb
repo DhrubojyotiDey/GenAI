{
  "cells": [
    {
      "cell_type": "markdown",
      "metadata": {
        "id": "view-in-github",
        "colab_type": "text"
      },
      "source": [
        "<a href=\"https://colab.research.google.com/github/DhrubojyotiDey/GenAI/blob/main/Job_applicator.ipynb\" target=\"_parent\"><img src=\"https://colab.research.google.com/assets/colab-badge.svg\" alt=\"Open In Colab\"/></a>"
      ]
    },
    {
      "cell_type": "code",
      "execution_count": null,
      "metadata": {
        "colab": {
          "base_uri": "https://localhost:8080/"
        },
        "id": "od4g3PBMieaY",
        "outputId": "a2d3d494-631b-4089-a162-bd7234ac505e"
      },
      "outputs": [
        {
          "output_type": "stream",
          "name": "stdout",
          "text": [
            "\u001b[2K     \u001b[90m━━━━━━━━━━━━━━━━━━━━━━━━━━━━━━━━━━━━━━━━\u001b[0m \u001b[32m158.8/158.8 kB\u001b[0m \u001b[31m4.1 MB/s\u001b[0m eta \u001b[36m0:00:00\u001b[0m\n",
            "\u001b[2K     \u001b[90m━━━━━━━━━━━━━━━━━━━━━━━━━━━━━━━━━━━━━━━━\u001b[0m \u001b[32m232.6/232.6 kB\u001b[0m \u001b[31m7.6 MB/s\u001b[0m eta \u001b[36m0:00:00\u001b[0m\n",
            "\u001b[2K     \u001b[90m━━━━━━━━━━━━━━━━━━━━━━━━━━━━━━━━━━━━━━━━\u001b[0m \u001b[32m526.8/526.8 kB\u001b[0m \u001b[31m9.5 MB/s\u001b[0m eta \u001b[36m0:00:00\u001b[0m\n",
            "\u001b[2K     \u001b[90m━━━━━━━━━━━━━━━━━━━━━━━━━━━━━━━━━━━━━━━━\u001b[0m \u001b[32m27.0/27.0 MB\u001b[0m \u001b[31m47.0 MB/s\u001b[0m eta \u001b[36m0:00:00\u001b[0m\n",
            "\u001b[2K     \u001b[90m━━━━━━━━━━━━━━━━━━━━━━━━━━━━━━━━━━━━━━━━\u001b[0m \u001b[32m2.2/2.2 MB\u001b[0m \u001b[31m76.8 MB/s\u001b[0m eta \u001b[36m0:00:00\u001b[0m\n",
            "\u001b[2K     \u001b[90m━━━━━━━━━━━━━━━━━━━━━━━━━━━━━━━━━━━━━━━━\u001b[0m \u001b[32m2.4/2.4 MB\u001b[0m \u001b[31m68.9 MB/s\u001b[0m eta \u001b[36m0:00:00\u001b[0m\n",
            "\u001b[2K     \u001b[90m━━━━━━━━━━━━━━━━━━━━━━━━━━━━━━━━━━━━━━━━\u001b[0m \u001b[32m92.0/92.0 kB\u001b[0m \u001b[31m11.3 MB/s\u001b[0m eta \u001b[36m0:00:00\u001b[0m\n",
            "\u001b[2K     \u001b[90m━━━━━━━━━━━━━━━━━━━━━━━━━━━━━━━━━━━━━━━━\u001b[0m \u001b[32m62.4/62.4 kB\u001b[0m \u001b[31m7.5 MB/s\u001b[0m eta \u001b[36m0:00:00\u001b[0m\n",
            "\u001b[2K     \u001b[90m━━━━━━━━━━━━━━━━━━━━━━━━━━━━━━━━━━━━━━━━\u001b[0m \u001b[32m41.3/41.3 kB\u001b[0m \u001b[31m5.3 MB/s\u001b[0m eta \u001b[36m0:00:00\u001b[0m\n",
            "\u001b[2K     \u001b[90m━━━━━━━━━━━━━━━━━━━━━━━━━━━━━━━━━━━━━━━━\u001b[0m \u001b[32m6.8/6.8 MB\u001b[0m \u001b[31m92.5 MB/s\u001b[0m eta \u001b[36m0:00:00\u001b[0m\n",
            "\u001b[2K     \u001b[90m━━━━━━━━━━━━━━━━━━━━━━━━━━━━━━━━━━━━━━━━\u001b[0m \u001b[32m59.9/59.9 kB\u001b[0m \u001b[31m7.4 MB/s\u001b[0m eta \u001b[36m0:00:00\u001b[0m\n",
            "\u001b[2K     \u001b[90m━━━━━━━━━━━━━━━━━━━━━━━━━━━━━━━━━━━━━━━━\u001b[0m \u001b[32m107.0/107.0 kB\u001b[0m \u001b[31m10.5 MB/s\u001b[0m eta \u001b[36m0:00:00\u001b[0m\n",
            "\u001b[2K     \u001b[90m━━━━━━━━━━━━━━━━━━━━━━━━━━━━━━━━━━━━━━━━\u001b[0m \u001b[32m67.3/67.3 kB\u001b[0m \u001b[31m8.3 MB/s\u001b[0m eta \u001b[36m0:00:00\u001b[0m\n",
            "\u001b[?25h  Installing build dependencies ... \u001b[?25l\u001b[?25hdone\n",
            "  Getting requirements to build wheel ... \u001b[?25l\u001b[?25hdone\n",
            "  Preparing metadata (pyproject.toml) ... \u001b[?25l\u001b[?25hdone\n",
            "\u001b[2K     \u001b[90m━━━━━━━━━━━━━━━━━━━━━━━━━━━━━━━━━━━━━━━━\u001b[0m \u001b[32m283.7/283.7 kB\u001b[0m \u001b[31m31.2 MB/s\u001b[0m eta \u001b[36m0:00:00\u001b[0m\n",
            "\u001b[2K     \u001b[90m━━━━━━━━━━━━━━━━━━━━━━━━━━━━━━━━━━━━━━━━\u001b[0m \u001b[32m1.6/1.6 MB\u001b[0m \u001b[31m77.6 MB/s\u001b[0m eta \u001b[36m0:00:00\u001b[0m\n",
            "\u001b[2K     \u001b[90m━━━━━━━━━━━━━━━━━━━━━━━━━━━━━━━━━━━━━━━━\u001b[0m \u001b[32m67.6/67.6 kB\u001b[0m \u001b[31m7.9 MB/s\u001b[0m eta \u001b[36m0:00:00\u001b[0m\n",
            "\u001b[2K     \u001b[90m━━━━━━━━━━━━━━━━━━━━━━━━━━━━━━━━━━━━━━━━\u001b[0m \u001b[32m142.5/142.5 kB\u001b[0m \u001b[31m18.6 MB/s\u001b[0m eta \u001b[36m0:00:00\u001b[0m\n",
            "\u001b[2K     \u001b[90m━━━━━━━━━━━━━━━━━━━━━━━━━━━━━━━━━━━━━━━━\u001b[0m \u001b[32m310.4/310.4 kB\u001b[0m \u001b[31m34.3 MB/s\u001b[0m eta \u001b[36m0:00:00\u001b[0m\n",
            "\u001b[2K     \u001b[90m━━━━━━━━━━━━━━━━━━━━━━━━━━━━━━━━━━━━━━━━\u001b[0m \u001b[32m973.6/973.6 kB\u001b[0m \u001b[31m49.7 MB/s\u001b[0m eta \u001b[36m0:00:00\u001b[0m\n",
            "\u001b[2K     \u001b[90m━━━━━━━━━━━━━━━━━━━━━━━━━━━━━━━━━━━━━━━━\u001b[0m \u001b[32m124.6/124.6 kB\u001b[0m \u001b[31m15.5 MB/s\u001b[0m eta \u001b[36m0:00:00\u001b[0m\n",
            "\u001b[2K     \u001b[90m━━━━━━━━━━━━━━━━━━━━━━━━━━━━━━━━━━━━━━━━\u001b[0m \u001b[32m49.3/49.3 kB\u001b[0m \u001b[31m5.7 MB/s\u001b[0m eta \u001b[36m0:00:00\u001b[0m\n",
            "\u001b[2K     \u001b[90m━━━━━━━━━━━━━━━━━━━━━━━━━━━━━━━━━━━━━━━━\u001b[0m \u001b[32m71.9/71.9 kB\u001b[0m \u001b[31m8.6 MB/s\u001b[0m eta \u001b[36m0:00:00\u001b[0m\n",
            "\u001b[2K     \u001b[90m━━━━━━━━━━━━━━━━━━━━━━━━━━━━━━━━━━━━━━━━\u001b[0m \u001b[32m75.6/75.6 kB\u001b[0m \u001b[31m10.7 MB/s\u001b[0m eta \u001b[36m0:00:00\u001b[0m\n",
            "\u001b[2K     \u001b[90m━━━━━━━━━━━━━━━━━━━━━━━━━━━━━━━━━━━━━━━━\u001b[0m \u001b[32m53.6/53.6 kB\u001b[0m \u001b[31m7.0 MB/s\u001b[0m eta \u001b[36m0:00:00\u001b[0m\n",
            "\u001b[2K     \u001b[90m━━━━━━━━━━━━━━━━━━━━━━━━━━━━━━━━━━━━━━━━\u001b[0m \u001b[32m53.0/53.0 kB\u001b[0m \u001b[31m7.1 MB/s\u001b[0m eta \u001b[36m0:00:00\u001b[0m\n",
            "\u001b[2K     \u001b[90m━━━━━━━━━━━━━━━━━━━━━━━━━━━━━━━━━━━━━━━━\u001b[0m \u001b[32m46.0/46.0 kB\u001b[0m \u001b[31m5.6 MB/s\u001b[0m eta \u001b[36m0:00:00\u001b[0m\n",
            "\u001b[2K     \u001b[90m━━━━━━━━━━━━━━━━━━━━━━━━━━━━━━━━━━━━━━━━\u001b[0m \u001b[32m52.5/52.5 kB\u001b[0m \u001b[31m5.7 MB/s\u001b[0m eta \u001b[36m0:00:00\u001b[0m\n",
            "\u001b[2K     \u001b[90m━━━━━━━━━━━━━━━━━━━━━━━━━━━━━━━━━━━━━━━━\u001b[0m \u001b[32m130.5/130.5 kB\u001b[0m \u001b[31m16.3 MB/s\u001b[0m eta \u001b[36m0:00:00\u001b[0m\n",
            "\u001b[2K     \u001b[90m━━━━━━━━━━━━━━━━━━━━━━━━━━━━━━━━━━━━━━━━\u001b[0m \u001b[32m58.3/58.3 kB\u001b[0m \u001b[31m7.8 MB/s\u001b[0m eta \u001b[36m0:00:00\u001b[0m\n",
            "\u001b[2K     \u001b[90m━━━━━━━━━━━━━━━━━━━━━━━━━━━━━━━━━━━━━━━━\u001b[0m \u001b[32m341.4/341.4 kB\u001b[0m \u001b[31m35.8 MB/s\u001b[0m eta \u001b[36m0:00:00\u001b[0m\n",
            "\u001b[2K     \u001b[90m━━━━━━━━━━━━━━━━━━━━━━━━━━━━━━━━━━━━━━━━\u001b[0m \u001b[32m3.4/3.4 MB\u001b[0m \u001b[31m89.4 MB/s\u001b[0m eta \u001b[36m0:00:00\u001b[0m\n",
            "\u001b[2K     \u001b[90m━━━━━━━━━━━━━━━━━━━━━━━━━━━━━━━━━━━━━━━━\u001b[0m \u001b[32m1.2/1.2 MB\u001b[0m \u001b[31m60.2 MB/s\u001b[0m eta \u001b[36m0:00:00\u001b[0m\n",
            "\u001b[2K     \u001b[90m━━━━━━━━━━━━━━━━━━━━━━━━━━━━━━━━━━━━━━━━\u001b[0m \u001b[32m130.2/130.2 kB\u001b[0m \u001b[31m6.4 MB/s\u001b[0m eta \u001b[36m0:00:00\u001b[0m\n",
            "\u001b[2K     \u001b[90m━━━━━━━━━━━━━━━━━━━━━━━━━━━━━━━━━━━━━━━━\u001b[0m \u001b[32m307.7/307.7 kB\u001b[0m \u001b[31m32.5 MB/s\u001b[0m eta \u001b[36m0:00:00\u001b[0m\n",
            "\u001b[2K     \u001b[90m━━━━━━━━━━━━━━━━━━━━━━━━━━━━━━━━━━━━━━━━\u001b[0m \u001b[32m47.2/47.2 kB\u001b[0m \u001b[31m5.7 MB/s\u001b[0m eta \u001b[36m0:00:00\u001b[0m\n",
            "\u001b[2K     \u001b[90m━━━━━━━━━━━━━━━━━━━━━━━━━━━━━━━━━━━━━━━━\u001b[0m \u001b[32m77.9/77.9 kB\u001b[0m \u001b[31m10.1 MB/s\u001b[0m eta \u001b[36m0:00:00\u001b[0m\n",
            "\u001b[2K     \u001b[90m━━━━━━━━━━━━━━━━━━━━━━━━━━━━━━━━━━━━━━━━\u001b[0m \u001b[32m86.8/86.8 kB\u001b[0m \u001b[31m11.4 MB/s\u001b[0m eta \u001b[36m0:00:00\u001b[0m\n",
            "\u001b[?25h  Building wheel for pypika (pyproject.toml) ... \u001b[?25l\u001b[?25hdone\n",
            "\u001b[31mERROR: pip's dependency resolver does not currently take into account all the packages that are installed. This behaviour is the source of the following dependency conflicts.\n",
            "spacy 3.7.4 requires typer<0.10.0,>=0.3.0, but you have typer 0.12.3 which is incompatible.\n",
            "weasel 0.3.4 requires typer<0.10.0,>=0.3.0, but you have typer 0.12.3 which is incompatible.\u001b[0m\u001b[31m\n",
            "\u001b[0m"
          ]
        }
      ],
      "source": [
        "!pip install google-generativeai python-dotenv PyPDF2 chromadb faiss-cpu langchain_google_genai poppler-utils -U langchain-community -q"
      ]
    },
    {
      "cell_type": "code",
      "execution_count": null,
      "metadata": {
        "id": "WoOOAZhCitTb"
      },
      "outputs": [],
      "source": [
        "from PyPDF2 import PdfReader\n",
        "from langchain.text_splitter import RecursiveCharacterTextSplitter\n",
        "import os\n",
        "import tqdm\n",
        "from langchain_google_genai import GoogleGenerativeAIEmbeddings\n",
        "from langchain.vectorstores import FAISS\n",
        "from langchain_google_genai import ChatGoogleGenerativeAI\n",
        "from langchain.chains.question_answering import load_qa_chain\n",
        "\n",
        "from langchain.prompts import PromptTemplate\n",
        "\n",
        "import google.generativeai as genai\n",
        "from google.colab import files\n",
        "import numpy as np\n",
        "import json\n",
        "import textwrap\n",
        "import base64\n",
        "import pathlib\n",
        "import pprint\n",
        "import requests\n",
        "import mimetypes\n",
        "from IPython.display import Markdown\n",
        "from google.colab import userdata\n",
        "from IPython.display import display , Markdown"
      ]
    },
    {
      "cell_type": "code",
      "execution_count": null,
      "metadata": {
        "id": "msgNsJ_BXMWR"
      },
      "outputs": [],
      "source": [
        "genai.configure(api_key=(userdata.get('Gapi')))"
      ]
    },
    {
      "cell_type": "code",
      "execution_count": null,
      "metadata": {
        "id": "0hRqBwi_rOGv"
      },
      "outputs": [],
      "source": [
        "import PIL.Image\n",
        "image = PIL.Image.open('/content/resume@cognizant.png')\n",
        "\n"
      ]
    },
    {
      "cell_type": "code",
      "execution_count": null,
      "metadata": {
        "id": "uP7Am7wmuIr4"
      },
      "outputs": [],
      "source": [
        "job_desc= \"\"\"\n",
        "SO ID - 5947759\n",
        "1/1 Line Items\n",
        "Account:Breakthru Beverage\n",
        "Vertical Name:Retail & Consumer Goods\n",
        "Practice Name:CTI-AIA\n",
        "Location:IND, Bangalore\n",
        "Facility Details:Cognizant, Manyata (MBP) Bld F3 7F SEZ\n",
        "Secondary Location(s):,\n",
        "CCA Role:Trainee\n",
        "Serviceline POC:\n",
        "MDU/GGM POC:\n",
        "Submission Date:30-May-2024\n",
        "Required From:03-Jun-2024\n",
        "Billability:Yes\n",
        "Hiring Manager:Gautam KumarGautam.Kumar4@cognizant.com\n",
        "Staffing Team POC:\n",
        "Staffing Team Lead:\n",
        "Client Interview :Y\n",
        "MU Priority:\n",
        "SO Priority:\n",
        "Offer Tagged Status:No\n",
        "Offer Tagged Date:\n",
        "RR Flag:NO\n",
        "More SO Attributes\n",
        "Validation data from ESA gets refreshed once in 3 hours.\n",
        "\n",
        "OE Validation:In Progress / Not Applicable\n",
        "TSC Validation:In Progress / Not Applicable\n",
        "Skill Family:Custom Skills\n",
        "Technical Skills:Azure\n",
        "Domain Skills:Mobility R&DProduct Content & Info Mgmt\n",
        "Functional Skills:ITSM (IT Service Management)ITILKnowledge ManagementRequirements ManagementTest & Defect ManagementData Analysis and ReportingConfiguration Management\n",
        "Leadership and Professional development SkillsExecution ExcellenceEffective Communication\n",
        "Job Summary:\n",
        "\n",
        "Job Summary:\n",
        "1. Job Title : Trainee 2. Job Summary : We are seeking a highly motivated Programmer Trainee to join our dynamic team. This entry-level position is designed for individuals with 0 to 2 years of experience, eager to develop their skills in Azure, Product Content & Info Management, and Mobility R&D. The successful candidate will have the opportunity to work on innovative projects, contributing to the development of cutting-edge solutions that impact our company and society positively. 3. Experience : 0 to 2yrs. 4. Required Skills : Technical Skills : Azure Domain Skills : Product Content & Info Mgmt ,Mobility R&D 5. Nice to have skills : Technical Skills : Domain Skills : 6. Technology : Custom Skills 7. Shift : Day 8. Roles & Responsibilities : - Collaborate with a team of developers and engineers to design, develop, and implement software solutions using Azure. - Participate in the development of product content and information management systems, ensuring high-quality data management and accessibility. - Contribute to Mobility R&D projects, focusing on the creation of mobile applications and services that enhance user experiences. - Engage in continuous learning to stay up-to-date with the latest technologies and best practices in cloud computing and mobile development. - Assist in the troubleshooting and debugging of software issues, providing timely and effective solutions. - Support the documentation of software development processes, ensuring clarity and compliance with industry standards. - Participate in code reviews, contributing to the maintenance of high coding standards and practices. - Work closely with project managers and other stakeholders to understand requirements and deliver software solutions that meet or exceed expectations. - Demonstrate a proactive approach to problem-solving, identifying potential issues and proposing innovative solutions. - Engage in team meetings and discussions, providing valuable input and feedback on project progress and development strategies. -Qualifications - Must have a foundational understanding of Azure and its services, with a keen interest in cloud computing technologies. - A basic knowledge of product content and information management principles is required. - Familiarity with mobile development frameworks and technologies is highly desirable. - Excellent problem-solving skills and a strong desire to learn and grow in the field of software development. - Effective communication and teamwork skills, with the ability to work collaboratively in a dynamic environment. - A degree in Computer Science, Information Technology, or a related field is preferred. - Prior experience in software development or related projects, though not mandato 9. Job Location : Primary Location :INKABLRA19(ITIND,Manyata (MBP) Bld F3 7F SEZ) Alternate Location :NA,NA 10. Job Type : Programmer Trainee [85PM00] 11. Demand Requires Travel? : No 12. Certification(s) Required : Microsoft Certified: Azure Fundamentals\n",
        "\n",
        "\"\"\""
      ]
    },
    {
      "cell_type": "code",
      "execution_count": null,
      "metadata": {
        "id": "MWgy_C4m3qs_"
      },
      "outputs": [],
      "source": [
        "prompt = f\"\"\"\n",
        "**The prompt contains a job description and includes a candidate's resume as an image delimited by triple backticks.**\n",
        "\n",
        "**Task:**\n",
        "\n",
        "1. **Analyze Job Description:**\n",
        "   - Identify key skills, experience, and qualifications required for the position.\n",
        "   - Focus on the essential details outlined in the job description.\n",
        "\n",
        "2. **Craft Application Letter:**\n",
        "   - Compose a well-structured email application letter in the first person.\n",
        "   - Tailor the letter to the specific job description and highlight relevant skills and experience from the candidate's resume as given. Also include appropriate formating and include new lines where needed.\n",
        "   - Do not include any information that is not on the resume of the candidate.\n",
        "   - Aim for a concise and impactful application letter within 250 words.\n",
        "   - Include the following elements:\n",
        "     - Subject: Subject line based on the SO ID ONLY IF APPLICABLE (e.g., 'Application for SO ID - 1234567')\n",
        "     - Greeting: Professional salutation (e.g., 'Dear [Name of the Hiring Manager as mentioned in the Job description],')\n",
        "     - Introduction: Briefly introduce yourself and express your interest in the position.\n",
        "     - Relevant Skills & Experience: Highlight key skills and experience that align with the job requirements, using specific examples from the resume.\n",
        "     - Call to Action: Conclude by expressing your enthusiasm for the opportunity and requesting an interview.\n",
        "     - Closing: Professional closing (e.g., 'Sincerely,' or 'Thank you for your time and consideration.' followed by the name of the candidate)\n",
        "\n",
        "Resume: ```{image}``` \\\n",
        "Job Description: ```{job_desc}```\n",
        "\n",
        "\"\"\"\n",
        "\n"
      ]
    },
    {
      "cell_type": "code",
      "execution_count": null,
      "metadata": {
        "colab": {
          "base_uri": "https://localhost:8080/",
          "height": 315
        },
        "id": "gfEEQOGnjujN",
        "outputId": "516c8e99-614b-42a5-dcc2-956a3166384b"
      },
      "outputs": [
        {
          "output_type": "stream",
          "name": "stdout",
          "text": [
            " Subject: Application for SO ID - 5947759\n",
            "\n",
            "Dear Gautam Kumar,\n",
            "\n",
            "I am writing to express my interest in the Programmer Trainee position at Cognizant, as advertised on the company's website. With a strong foundation in Azure, Product Content & Info Management, and Mobility R&D, I am confident in my ability to contribute effectively to your team.\n",
            "\n",
            "As a recent graduate with a Bachelor of Science in Computer Science, I have a solid understanding of the fundamental principles of software development. I have gained practical experience through various projects, including developing a mobile application using React Native and designing a database management system for a local business. These experiences have allowed me to develop strong problem-solving and analytical skills, as well as the ability to work effectively in a team environment.\n",
            "\n",
            "In addition to my technical skills, I am a highly motivated and dedicated individual with a strong work ethic. I am eager to learn and grow in my career, and I believe that the Programmer Trainee position at Cognizant would provide me with the opportunity to do so.\n",
            "\n",
            "I have attached my resume for your review, which provides further details on my qualifications and experience. I would welcome the chance to discuss my application further and how I can contribute to Cognizant's success.\n",
            "\n",
            "Thank you for your time and consideration.\n",
            "\n",
            "Sincerely,\n",
            "Dhruvjyot Dey\n"
          ]
        }
      ],
      "source": [
        "model = genai.GenerativeModel('gemini-pro-vision')\n",
        "response = model.generate_content([prompt, image, job_desc])\n",
        "print(response.text)"
      ]
    },
    {
      "cell_type": "code",
      "execution_count": null,
      "metadata": {
        "id": "BrINnCry7R2X"
      },
      "outputs": [],
      "source": [
        "# Open a file in write mode\n",
        "with open(\"application_letter.txt\", \"w\") as file:\n",
        "    # Write the generated text to the file\n",
        "    file.write(response.text)\n",
        "file.close()\n",
        "\n",
        "# Print a message indicating the success\n",
        "print(\"Application letter saved to file: application_letter.txt\")"
      ]
    },
    {
      "cell_type": "code",
      "execution_count": null,
      "metadata": {
        "id": "B-pIcDp9XF9F"
      },
      "outputs": [],
      "source": []
    },
    {
      "cell_type": "markdown",
      "metadata": {
        "id": "dH9-tbgOYarb"
      },
      "source": [
        "The following is for Internshala Jobs."
      ]
    },
    {
      "cell_type": "code",
      "execution_count": null,
      "metadata": {
        "colab": {
          "background_save": true
        },
        "id": "-6dZLxLfsQjB",
        "collapsed": true
      },
      "outputs": [],
      "source": [
        "job_desc=\"\"\"\n",
        "\n",
        "Applying for Data Scientist job\n",
        "Blackcoffer\n",
        "\n",
        "1 of 2\n",
        "Key responsibilities\n",
        "Key responsibilities:\n",
        "\n",
        "Selected Candidates day-to-day responsibilities include:\n",
        "\n",
        "1. Working on data science projects and analytics\n",
        "2. Working on data models, AI, ML, deep learning, and NLP\n",
        "3. Working on data pipelines, ETL, ELT, and data warehouse\n",
        "4. Working on Python, its libraries, and advanced programming tasks\n",
        "5. Working on data collection, data management, data cleaning, data transformation, etc.\n",
        "6. Working on data visualization like BI tools, Power BI, Kibana, and Google Data Studio\n",
        "7. Working on databases such as MongoDB, Neo4j, Dgraph, and SQ\n",
        "8. Working on cloud platforms like GCP, AWS, Azure, Linode, Heroku, etc.\n",
        "Skill(s) required\n",
        "Amazon Web Server (AWS)\n",
        "Amazon Web Services (AWS)\n",
        "Data Analytics\n",
        "Data Science\n",
        "Deep Learning\n",
        "Django\n",
        "Elasticsearch\n",
        "Flask\n",
        "Google Cloud Computing\n",
        "Machine Learning\n",
        "MongoDB\n",
        "Natural Language Processing (NLP)\n",
        "Power BI\n",
        "Python\n",
        "REST API\n",
        "SQL\n",
        "Tableau\n",
        "Number of openings\n",
        "12\n",
        "Salary\n",
        "Probation:\n",
        "Duration: 6 months\n",
        "Salary during probation: ₹10,000 - 12,000 /month (only for freshers)\n",
        "After probation:\n",
        "Annual CTC: ₹ 3,00,000 - 5,00,000 /year\n",
        "\n",
        "About Blackcoffer\n",
        "Blackcoffer is an enterprise software and analytics consulting firm based in India and the European Union (Malta). It is a data-driven, technology, and decision science firm focused exclusively on big data and analytics, data-driven dashboards, applications development, information management, and consulting of any kind, from any source, on a massive scale.\n",
        "\n",
        "We are a young and global consulting shop helping enterprises and entrepreneurs solve big data and analytics, data-driven dashboards, applications development, and information management problems to minimize risk, explore opportunities for future growth, and increase profits more effectively. We provide intelligence, accelerate innovation, and implement technology with extraordinary breadth and depth of global insights into big data, data-driven dashboards, application development, and information management for organizations by combining unique and specialist services and high-level human expertise.\n",
        "Activity on Internshala\n",
        "Hiring since October 2016\n",
        "2978 opportunities posted\n",
        "1337 candidates hired\n",
        "\n",
        "\"\"\"\n",
        "image = PIL.Image.open('/content/resume@cognizant.png')\n",
        "\n",
        "prompt = f\"\"\"\n",
        "\n",
        "Task:\n",
        "\n",
        "Analyze Job Description:\n",
        "\n",
        "Identify key skills, experience, and qualifications required for the internship position.\n",
        "Focus on essential details outlined in the job description, including:\n",
        "Job title and company name\n",
        "Required skills (technical and soft skills)\n",
        "Desired experience level\n",
        "Responsibilities and duties\n",
        "Desired educational background (if any)\n",
        "\n",
        "Tailor the response to the specific job description and highlight relevant skills and experience from the candidate's resume.\n",
        "Aim for a concise and impactful response within 250 words.\n",
        "Structure the response as follows:\n",
        "Introduction: Briefly introduce yourself and express your interest in the internship.\n",
        "Why You Should Be Hired: This is the key section. Use the following steps to craft this section:\n",
        "Align Skills & Experience: Highlight key skills and experience from the candidate's resume (if provided) that directly match the requirements listed in the job description.\n",
        "Quantify Achievements (Optional): If the resume provides quantifiable achievements, use them to showcase the candidate's impact and success.\n",
        "Enthusiasm & Motivation: Express your enthusiasm for the position and the company/industry.\n",
        "Call to Action: Conclude by expressing your enthusiasm for the opportunity and requesting an interview.\n",
        "\n",
        "Resume: ```{image}``` \\\n",
        "Job Description: ```{job_desc}```\n",
        "\n",
        "\"\"\"\n",
        "\n",
        "model = genai.GenerativeModel('gemini-pro-vision')\n",
        "response = model.generate_content([prompt, image])\n",
        "print(response.text)"
      ]
    },
    {
      "cell_type": "code",
      "execution_count": null,
      "metadata": {
        "colab": {
          "base_uri": "https://localhost:8080/",
          "height": 193
        },
        "id": "ogi7Ycw-dc7P",
        "outputId": "bc85de34-1aa6-4da3-f65e-c6d29c5d9d52"
      },
      "outputs": [
        {
          "name": "stdout",
          "output_type": "stream",
          "text": [
            "As an experienced Data Scientist, I possess a comprehensive skillset that aligns perfectly with the key responsibilities outlined in this role at Blackcoffer. My expertise in data science projects and analytics, coupled with my proficiency in deep learning, NLP, and data pipelines, enables me to contribute effectively to your team's data-driven initiatives.\n",
            "\n",
            "My strong foundation in Python, advanced programming techniques, and data management allows me to handle the full spectrum of tasks required for successful data science projects. I am adept at collecting, cleaning, transforming, and visualizing large datasets, ensuring their reliability and accuracy.\n",
            "\n",
            "Furthermore, my knowledge of cloud platforms like AWS and GCP empowers me to leverage scalable and cost-effective computing resources for data-intensive tasks. I am also familiar with various databases, including MongoDB and SQ, and possess experience in developing REST APIs to facilitate data exchange between systems.\n",
            "\n",
            "My analytical mindset and strong communication skills enable me to distill insights from complex data and effectively convey them to stakeholders. I am a highly motivated and results-oriented individual with a proven ability to work both independently and as part of a team in fast-paced environments.\n",
            "\n",
            "I am eager to contribute my expertise to Blackcoffer's mission of providing valuable data-driven solutions. I believe that my skills and experience would enable me to make a significant contribution to your organization and help you achieve your business goals.\n"
          ]
        }
      ],
      "source": [
        "model2=genai.GenerativeModel('gemini-pro')\n",
        "response=model2.generate_content([job_desc,\"Write withing 1000 charecters Why should you be hired for this role?\"])\n",
        "print(response.text)"
      ]
    }
  ],
  "metadata": {
    "colab": {
      "provenance": [],
      "authorship_tag": "ABX9TyO0ydy3Belbsjd7/nZ6PE2R",
      "include_colab_link": true
    },
    "kernelspec": {
      "display_name": "Python 3",
      "name": "python3"
    },
    "language_info": {
      "name": "python"
    }
  },
  "nbformat": 4,
  "nbformat_minor": 0
}